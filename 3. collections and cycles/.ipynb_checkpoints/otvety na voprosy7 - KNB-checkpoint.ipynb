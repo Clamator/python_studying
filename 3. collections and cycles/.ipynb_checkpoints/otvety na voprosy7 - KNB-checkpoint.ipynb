{
 "cells": [
  {
   "cell_type": "code",
   "execution_count": null,
   "metadata": {},
   "outputs": [
    {
     "name": "stdout",
     "output_type": "stream",
     "text": [
      "your element is...?R\n",
      "Comp choise is S\n",
      "you won\n"
     ]
    }
   ],
   "source": [
    "#криво, надо переделывать, надо добавить сравнение и надо добавить перезапуск цикла(в проработке)\n",
    "#надо сделать в ничьей перезапуск\n",
    "import random\n",
    "elements = ['R','P','S']\n",
    "tries = 0\n",
    "infinity = float('inf')\n",
    "my_element = str(input(\"your element is...?\"))\n",
    "while tries < infinity:\n",
    "    comp_choice = random.choice(elements) #его запихнуть в цикл уаил\n",
    "    print(\"Comp choise is \" + comp_choice)\n",
    "    tries += 1\n",
    "    if my_element == comp_choice:\n",
    "        print(\"Draw\")\n",
    "        new_game = str(input(\"Play again? \"))\n",
    "        if new_game == \"yes\":\n",
    "            my_element = str(input(\"your element is...?\"))\n",
    "        else:\n",
    "            print(\"game over\")\n",
    "            break\n",
    "    elif my_element == \"R\" and comp_choice == \"P\":\n",
    "        print(\"you lose\")\n",
    "        new_game = str(input(\"Play again? \"))\n",
    "        if new_game == \"yes\":\n",
    "            my_element = str(input(\"your element is...?\"))\n",
    "        else:\n",
    "            print(\"game over\")\n",
    "            break\n",
    "    elif my_element == \"P\" and comp_choice == \"S\":\n",
    "        print(\"you lose\")\n",
    "        new_game = str(input(\"Play again? \"))\n",
    "        if new_game == \"yes\":\n",
    "            my_element = str(input(\"your element is...?\"))\n",
    "        else:\n",
    "            print(\"game over\")\n",
    "            break\n",
    "    elif my_element == \"S\" and comp_choice == \"R\":\n",
    "        print(\"you lose\")\n",
    "        new_game = str(input(\"Play again? \"))\n",
    "        if new_game == \"yes\":\n",
    "            my_element = str(input(\"your element is...?\"))\n",
    "        else:\n",
    "            print(\"game over\")\n",
    "            break\n",
    "    elif my_element == \"P\" and comp_choice == \"R\":\n",
    "        print(\"you won\")\n",
    "        new_game = str(input(\"Play again? \"))\n",
    "        if new_game == \"yes\":\n",
    "            my_element = str(input(\"your element is...?\"))\n",
    "        else:\n",
    "            print(\"game over\")\n",
    "            break\n",
    "    elif my_element == \"S\" and comp_choice == \"P\":\n",
    "        print(\"you won\")\n",
    "        new_game = str(input(\"Play again? \"))\n",
    "        if new_game == \"yes\":\n",
    "            my_element = str(input(\"your element is...?\"))\n",
    "        else:\n",
    "            print(\"game over\")\n",
    "            break\n",
    "    elif my_element == \"R\" and comp_choice == \"S\":\n",
    "        print(\"you won\")\n",
    "        new_game = str(input(\"Play again? \"))\n",
    "        if new_game == \"yes\":\n",
    "            my_element = str(input(\"your element is...?\"))\n",
    "        else:\n",
    "            print(\"game over\")\n",
    "            break\n",
    "    else:\n",
    "        print(\"not ok\")\n",
    "        new_game = str(input(\"Play again? \"))\n",
    "        if new_game == \"yes\":\n",
    "            my_element = str(input(\"your element is...?\"))\n",
    "        else:\n",
    "            print(\"game over\")\n",
    "            break"
   ]
  },
  {
   "cell_type": "code",
   "execution_count": null,
   "metadata": {},
   "outputs": [],
   "source": []
  },
  {
   "cell_type": "code",
   "execution_count": 56,
   "metadata": {},
   "outputs": [
    {
     "name": "stdout",
     "output_type": "stream",
     "text": [
      "player choice: R/S/Pr\n",
      "comp choise = s\n",
      "comp wins\n",
      "play again? yes/noyes\n",
      "player choice: R/S/Pp\n",
      "comp choise = r\n",
      "comp wins\n",
      "play again? yes/noп\n"
     ]
    }
   ],
   "source": [
    "#это будет решение учителя, оно короче за счет того, что был создан тапл в выигрышных комбинациях,\n",
    "#что я хотел сделать, но не додумался\n",
    "import random\n",
    "should_cont = True\n",
    "while should_cont:\n",
    "    play_choice = input(\"player choice: R/S/P\").lower()\n",
    "    \n",
    "    if play_choice not in ['r', 's', 'p']:\n",
    "        print(\"wrong input\")\n",
    "        continue\n",
    "    \n",
    "    gen = {1: 'r', 2: 's', 3: 'p'}\n",
    "    comp_choise = gen[random.randint(1, 3)]\n",
    "    print(f'comp choise = {comp_choise}')\n",
    "    winning_combinations = [('p', 'r'), ('r', 's'), ('s', 'p')]\n",
    "    if play_choice == comp_choice:\n",
    "        print(\"Draw\")\n",
    "    elif (play_choice, comp_choice) in winning_combinations:\n",
    "        print(\"player wins\")\n",
    "    else:\n",
    "        print(\"comp wins\")\n",
    "    should_cont = input(\"play again? yes/no\") == 'yes'"
   ]
  },
  {
   "cell_type": "code",
   "execution_count": null,
   "metadata": {},
   "outputs": [],
   "source": []
  },
  {
   "cell_type": "code",
   "execution_count": null,
   "metadata": {},
   "outputs": [],
   "source": []
  },
  {
   "cell_type": "code",
   "execution_count": null,
   "metadata": {},
   "outputs": [],
   "source": []
  }
 ],
 "metadata": {
  "kernelspec": {
   "display_name": "Python 3",
   "language": "python",
   "name": "python3"
  },
  "language_info": {
   "codemirror_mode": {
    "name": "ipython",
    "version": 3
   },
   "file_extension": ".py",
   "mimetype": "text/x-python",
   "name": "python",
   "nbconvert_exporter": "python",
   "pygments_lexer": "ipython3",
   "version": "3.8.5"
  }
 },
 "nbformat": 4,
 "nbformat_minor": 4
}
