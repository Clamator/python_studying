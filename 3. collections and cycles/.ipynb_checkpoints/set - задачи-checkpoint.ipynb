{
 "cells": [
  {
   "cell_type": "code",
   "execution_count": null,
   "metadata": {},
   "outputs": [],
   "source": [
    "#потом надо посмотреть, надо ли несколько списков или сетов создавать создавать или нет\n",
    "#попробовать сначала в одном первом цикле создать первый сет, \n",
    "#а потом запустить вложенный цикл, который будет считывать другие данные и сравнивать с первым и каждый раз обновляться\n",
    "#known_langs надо будет вывести через сет, чтобы выполнить второе условие и len(set(known_langs))\n",
    "#нужна функция, мб"
   ]
  },
  {
   "cell_type": "code",
   "execution_count": null,
   "metadata": {},
   "outputs": [],
   "source": []
  },
  {
   "cell_type": "code",
   "execution_count": 23,
   "metadata": {},
   "outputs": [
    {
     "name": "stdout",
     "output_type": "stream",
     "text": [
      "3\n",
      "3\n",
      "рус\n",
      "англ\n",
      "яп\n",
      "2\n",
      "рус\n",
      "англ\n",
      "1\n",
      "англ\n"
     ]
    }
   ],
   "source": [
    "num_of_students = int(input())\n",
    "known_langs = set()\n",
    "for i in range(num_of_students):\n",
    "    num_of_known_langs = int(input())\n",
    "    for j in range(num_of_known_langs):\n",
    "        j = input()\n",
    "        known_langs.append(j)"
   ]
  },
  {
   "cell_type": "code",
   "execution_count": 24,
   "metadata": {},
   "outputs": [
    {
     "name": "stdout",
     "output_type": "stream",
     "text": [
      "3\n",
      "англ\n",
      "яп\n",
      "рус\n"
     ]
    }
   ],
   "source": [
    "print(len(known_langs))\n",
    "for i in known_langs:\n",
    "    print(i)"
   ]
  },
  {
   "cell_type": "code",
   "execution_count": null,
   "metadata": {},
   "outputs": [],
   "source": [
    "    "
   ]
  },
  {
   "cell_type": "code",
   "execution_count": null,
   "metadata": {},
   "outputs": [],
   "source": []
  },
  {
   "cell_type": "code",
   "execution_count": 27,
   "metadata": {},
   "outputs": [],
   "source": [
    "a = {1, 2}\n",
    "b = {1, 3}\n",
    "c = {1, 4}"
   ]
  },
  {
   "cell_type": "code",
   "execution_count": 28,
   "metadata": {},
   "outputs": [
    {
     "name": "stdout",
     "output_type": "stream",
     "text": [
      "{1}\n"
     ]
    }
   ],
   "source": [
    "print(a & b & c)"
   ]
  },
  {
   "cell_type": "code",
   "execution_count": null,
   "metadata": {},
   "outputs": [],
   "source": [
    "students = [{input() for j in range(int(input()))} for i in range(int(input()))]\n",
    "known_by_everyone, known_by_someone = set.intersection(*students), set.union(*students)\n",
    "print(len(known_by_everyone), *sorted(known_by_everyone), sep='\\n')\n",
    "print(len(known_by_someone), *sorted(known_by_someone), sep='\\n')"
   ]
  },
  {
   "cell_type": "code",
   "execution_count": null,
   "metadata": {},
   "outputs": [],
   "source": [
    "#вторая задача\n",
    "num = 10\n",
    "\n",
    "set1 = 1 2 3 4 5 # девка задает этот список\n",
    "#и поц отвечает, что среди этих чисел есть, \n",
    "set2 = 2 4 6 8 10 #это второе множество,  что нам нужно сделать\n",
    "#сначала мы просто получаем данные, каждый раз, получая их, мы должны их добавлять в пустой сет или список, там по ходу поймем,\n",
    "#если А отвечает да, "
   ]
  }
 ],
 "metadata": {
  "kernelspec": {
   "display_name": "Python 3",
   "language": "python",
   "name": "python3"
  },
  "language_info": {
   "codemirror_mode": {
    "name": "ipython",
    "version": 3
   },
   "file_extension": ".py",
   "mimetype": "text/x-python",
   "name": "python",
   "nbconvert_exporter": "python",
   "pygments_lexer": "ipython3",
   "version": "3.8.5"
  }
 },
 "nbformat": 4,
 "nbformat_minor": 4
}
