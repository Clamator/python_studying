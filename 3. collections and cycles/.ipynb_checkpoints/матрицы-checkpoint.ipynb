{
 "cells": [
  {
   "cell_type": "code",
   "execution_count": 1,
   "metadata": {},
   "outputs": [
    {
     "name": "stdout",
     "output_type": "stream",
     "text": [
      "3\n"
     ]
    }
   ],
   "source": [
    "a = [[0,2,4,6],[1,5,9,13],[3,10,17,19]]\n",
    "print(len(a))"
   ]
  },
  {
   "cell_type": "code",
   "execution_count": 5,
   "metadata": {},
   "outputs": [
    {
     "name": "stdout",
     "output_type": "stream",
     "text": [
      "4\n",
      "17\n",
      "1\n"
     ]
    }
   ],
   "source": [
    "print(len(a[2]))\n",
    "print(a[2][2])\n",
    "print(a[1][0])"
   ]
  },
  {
   "cell_type": "code",
   "execution_count": null,
   "metadata": {},
   "outputs": [],
   "source": []
  },
  {
   "cell_type": "code",
   "execution_count": 6,
   "metadata": {},
   "outputs": [
    {
     "name": "stdout",
     "output_type": "stream",
     "text": [
      "99\n"
     ]
    }
   ],
   "source": [
    "b = [[0,2,4,6],[1,5,9,13],[3,10,[99,88,77],17,19]]\n",
    "print(b[2][2][0])"
   ]
  },
  {
   "cell_type": "code",
   "execution_count": 7,
   "metadata": {},
   "outputs": [
    {
     "name": "stdout",
     "output_type": "stream",
     "text": [
      "h\n"
     ]
    }
   ],
   "source": [
    "c = ['kesha', 'sasha']\n",
    "print(c[0][3])"
   ]
  },
  {
   "cell_type": "code",
   "execution_count": 8,
   "metadata": {},
   "outputs": [
    {
     "name": "stdout",
     "output_type": "stream",
     "text": [
      "0 2 4 6 \n",
      "1 5 9 13 \n",
      "3 10 17 19 \n"
     ]
    }
   ],
   "source": [
    "a = [[0,2,4,6],[1,5,9,13],[3,10,17,19]]\n",
    "for i in a:\n",
    "    for j in i:\n",
    "        print(j, end = ' ')\n",
    "    print()"
   ]
  },
  {
   "cell_type": "code",
   "execution_count": 7,
   "metadata": {},
   "outputs": [
    {
     "name": "stdout",
     "output_type": "stream",
     "text": [
      "10 12 14 16 \n",
      "11 15 19 23 \n",
      "13 20 27 29 \n",
      "[[0, 2, 4, 6], [1, 5, 9, 13], [3, 10, 17, 19]]\n"
     ]
    }
   ],
   "source": [
    "#тут мы видим, что элементы в конечном итоге не увеличились, они был увеличены единожда в теле цикла, но не в глобальном \n",
    "a = [[0,2,4,6],[1,5,9,13],[3,10,17,19]]\n",
    "for i in a:\n",
    "    for j in i:\n",
    "        j += 10\n",
    "        print(j, end = ' ')\n",
    "    print()\n",
    "print(a)"
   ]
  },
  {
   "cell_type": "code",
   "execution_count": 11,
   "metadata": {},
   "outputs": [
    {
     "name": "stdout",
     "output_type": "stream",
     "text": [
      "10 12 14 16 \n",
      "11 15 19 23 \n",
      "13 20 27 29 \n",
      "[[10, 12, 14, 16], [11, 15, 19, 23], [13, 20, 27, 29]]\n"
     ]
    }
   ],
   "source": [
    "#можно сделать так, чтобы они менялись и в глобальном, нужно просто пройтись  по индексам\n",
    "a = [[0,2,4,6],[1,5,9,13],[3,10,17,19]]\n",
    "for i in range(3):\n",
    "    for j in range(4):\n",
    "        a[i][j] += 10\n",
    "        print(a[i][j], end = ' ')\n",
    "    print()\n",
    "print(a)"
   ]
  },
  {
   "cell_type": "code",
   "execution_count": 13,
   "metadata": {},
   "outputs": [
    {
     "name": "stdout",
     "output_type": "stream",
     "text": [
      "0 1 3 \n",
      "2 5 10 \n",
      "4 9 17 \n",
      "6 13 19 \n"
     ]
    }
   ],
   "source": [
    "#можно проходить в разные стороны, тут строки выводятся в столбик \n",
    "a = [[0,2,4,6],[1,5,9,13],[3,10,17,19]]\n",
    "for j in range(4):\n",
    "    for i in range(3):\n",
    "        print(a[i][j], end = ' ')\n",
    "    print()"
   ]
  },
  {
   "cell_type": "code",
   "execution_count": 15,
   "metadata": {},
   "outputs": [
    {
     "name": "stdout",
     "output_type": "stream",
     "text": [
      "19 17 10 3 \n",
      "13 9 5 1 \n",
      "6 4 2 0 \n"
     ]
    }
   ],
   "source": [
    "#тут строки выводятся справа снизу в вверх и влево\n",
    "a = [[0,2,4,6],[1,5,9,13],[3,10,17,19]]\n",
    "for i in range(2, -1, -1):\n",
    "    for j in range(3, -1, -1):\n",
    "        print(a[i][j], end = ' ')\n",
    "    print()"
   ]
  },
  {
   "cell_type": "code",
   "execution_count": 16,
   "metadata": {},
   "outputs": [
    {
     "name": "stdout",
     "output_type": "stream",
     "text": [
      "19 13 6 \n",
      "17 9 4 \n",
      "10 5 2 \n",
      "3 1 0 \n"
     ]
    }
   ],
   "source": [
    "#ну и тут 4-й вариант вывода\n",
    "a = [[0,2,4,6],[1,5,9,13],[3,10,17,19]]\n",
    "for j in range(3, -1, -1):\n",
    "    for i in range(2, -1, -1):\n",
    "        print(a[i][j], end = ' ')\n",
    "    print()"
   ]
  },
  {
   "cell_type": "code",
   "execution_count": 26,
   "metadata": {},
   "outputs": [
    {
     "name": "stdout",
     "output_type": "stream",
     "text": [
      "12\n",
      "28\n",
      "49\n"
     ]
    }
   ],
   "source": [
    "#сумма построчно\n",
    "a = [[0,2,4,6],[1,5,9,13],[3,10,17,19]]\n",
    "for i in range(3):\n",
    "    s = 0\n",
    "    for j in range(4):\n",
    "        s+=a[i][j]\n",
    "    print(s)"
   ]
  },
  {
   "cell_type": "code",
   "execution_count": 30,
   "metadata": {},
   "outputs": [
    {
     "name": "stdout",
     "output_type": "stream",
     "text": [
      "3\n",
      "4\n",
      "[0, 0, 0, 0]\n",
      "[0, 0, 0, 0]\n",
      "[0, 0, 0, 0]\n"
     ]
    }
   ],
   "source": [
    "#если создавать список из одного числа\n",
    "a = []\n",
    "x = int(input())\n",
    "y = int(input())\n",
    "for i in range(x):\n",
    "    a.append([0]*y)\n",
    "for i in a:\n",
    "    print(i)"
   ]
  },
  {
   "cell_type": "code",
   "execution_count": 31,
   "metadata": {},
   "outputs": [
    {
     "name": "stdout",
     "output_type": "stream",
     "text": [
      "2\n",
      "3\n",
      "1\n",
      "2\n",
      "3\n",
      "4\n",
      "5\n",
      "6\n",
      "[1, 2, 3]\n",
      "[4, 5, 6]\n"
     ]
    }
   ],
   "source": [
    "#а если создавать список из тех чисел, которые ты сам хочешь\n",
    "a = []\n",
    "x = int(input())\n",
    "y = int(input())\n",
    "for i in range(x):\n",
    "    b = []\n",
    "    for i in range(y):\n",
    "        b.append(int(input()))\n",
    "    a.append(b)\n",
    "for i in a:\n",
    "    print(i)"
   ]
  },
  {
   "cell_type": "code",
   "execution_count": 32,
   "metadata": {},
   "outputs": [],
   "source": [
    "#обычно матрицы все бывают квадратными, что следует помнить\n",
    "#в центральной диагонали номер столбца равен номеру строки, 0*0, 1*1, 2*2 и т.д\n",
    "#все, что лежит выше главной диагонали - номер строки меньше номера столбца, 0*1, 0,2, \n",
    "#а что ниже центральной диагонали, там наоборот номер строки больше номера столбца"
   ]
  },
  {
   "cell_type": "code",
   "execution_count": 39,
   "metadata": {},
   "outputs": [
    {
     "name": "stdout",
     "output_type": "stream",
     "text": [
      "5\n",
      "[0, 1, 1, 1, 1]\n",
      "[-1, 0, 1, 1, 1]\n",
      "[-1, -1, 0, 1, 1]\n",
      "[-1, -1, -1, 0, 1]\n",
      "[-1, -1, -1, -1, 0]\n"
     ]
    }
   ],
   "source": [
    "#попробуем заполнить ее красиво, сначала попробуем создать простую матрицу\n",
    "a = []\n",
    "x = int(input())\n",
    "for i in range(x): #цикл для заполнения\n",
    "    a.append([0]*x)\n",
    "for i in range(x): #цикл для обработки\n",
    "    for j in range(x):\n",
    "        if i == j:\n",
    "            a[i][j] = 0\n",
    "        elif i > j:\n",
    "            a[i][j] = -1\n",
    "        elif i < j:\n",
    "            a[i][j] = 1\n",
    "for i in a: #цикл для вывода\n",
    "    print(i)"
   ]
  },
  {
   "cell_type": "code",
   "execution_count": 1,
   "metadata": {},
   "outputs": [
    {
     "name": "stdout",
     "output_type": "stream",
     "text": [
      "5\n",
      "1 1 1 1 0 \n",
      "1 1 1 0 -1 \n",
      "1 1 0 -1 -1 \n",
      "1 0 -1 -1 -1 \n",
      "0 -1 -1 -1 -1 \n"
     ]
    }
   ],
   "source": [
    "a = []\n",
    "x = int(input())\n",
    "for i in range(x): #цикл для заполнения\n",
    "    a.append([0]*x)\n",
    "for i in range(x): #цикл для обработки\n",
    "    for j in range(x):\n",
    "        if i == j:\n",
    "            a[i][j] = 0\n",
    "        elif i > j:\n",
    "            a[i][j] = -1\n",
    "        elif i < j:\n",
    "            a[i][j] = 1\n",
    "for i in a: #цикл для вывода\n",
    "    i = i[::-1]\n",
    "    for j in i:\n",
    "        print(j, end = ' ')\n",
    "    print()"
   ]
  },
  {
   "cell_type": "code",
   "execution_count": null,
   "metadata": {},
   "outputs": [],
   "source": []
  }
 ],
 "metadata": {
  "kernelspec": {
   "display_name": "Python 3",
   "language": "python",
   "name": "python3"
  },
  "language_info": {
   "codemirror_mode": {
    "name": "ipython",
    "version": 3
   },
   "file_extension": ".py",
   "mimetype": "text/x-python",
   "name": "python",
   "nbconvert_exporter": "python",
   "pygments_lexer": "ipython3",
   "version": "3.8.5"
  }
 },
 "nbformat": 4,
 "nbformat_minor": 4
}
