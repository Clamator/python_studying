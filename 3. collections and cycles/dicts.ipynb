{
 "cells": [
  {
   "cell_type": "code",
   "execution_count": 2,
   "metadata": {},
   "outputs": [
    {
     "name": "stdout",
     "output_type": "stream",
     "text": [
      "{'Alex': 1000, 'Alena': 990, 'Boris': 950, 'Vlad': 930, 'Grisha': 900}\n",
      "{'Alex': 1000, 'Alena': 990, 'Boris': 950, 'Vlad': 930, 'Grisha': 900}\n"
     ]
    }
   ],
   "source": [
    "#dictionary- это список пар \"ключ-значение\", например, записная книга. Ключ - имя, значение - телефонные номера. \n",
    "#Они дб уникальны, невозможно добавить уже существующий ключ, запрет\n",
    "#это можно было бы сделать и списком, но смысл словаря в том, чтобы обеспечить очень быстрое нахождение значения по ключу,\n",
    "#это работает быстрее, чем поиск по списку, но естьусловие - вы должны знать ключ\n",
    "#отделяются запятой, у последней пары зарятой нет\n",
    "players =   {\n",
    "                'Alex' : 1000,\n",
    "                'Alena' : 990,\n",
    "                'Boris' : 950,\n",
    "                'Vlad' : 930,\n",
    "                'Grisha' : 900\n",
    "            }\n",
    "\n",
    "print(players)\n",
    "players= dict(Alex=1000, Alena=990, Boris=950, Vlad = 930, Grisha=900)\n",
    "print(players)"
   ]
  },
  {
   "cell_type": "code",
   "execution_count": 7,
   "metadata": {},
   "outputs": [
    {
     "name": "stdout",
     "output_type": "stream",
     "text": [
      "1000\n",
      "Alex's rating is 1000\n"
     ]
    }
   ],
   "source": [
    "top_1 = players['Alex']\n",
    "print(top_1)\n",
    "print(f\"Alex's rating is {top_1}\")"
   ]
  },
  {
   "cell_type": "code",
   "execution_count": 9,
   "metadata": {},
   "outputs": [
    {
     "name": "stdout",
     "output_type": "stream",
     "text": [
      "Alena's rating is 990\n"
     ]
    }
   ],
   "source": [
    "top_2 = players.get('Alena') #можно воспользоваться функцией get для поиска значения по ключу\n",
    "print(f\"Alena's rating is {top_2}\")"
   ]
  },
  {
   "cell_type": "code",
   "execution_count": 10,
   "metadata": {},
   "outputs": [
    {
     "data": {
      "text/plain": [
       "{'Alex': 1000,\n",
       " 'Alena': 990,\n",
       " 'Boris': 950,\n",
       " 'Vlad': 930,\n",
       " 'Grisha': 900,\n",
       " 'Dima': 980}"
      ]
     },
     "execution_count": 10,
     "metadata": {},
     "output_type": "execute_result"
    }
   ],
   "source": [
    "#добавление в словарь (его окончание) происходит следующим образом:\n",
    "players['Dima'] = 980\n",
    "players"
   ]
  },
  {
   "cell_type": "code",
   "execution_count": 11,
   "metadata": {},
   "outputs": [
    {
     "data": {
      "text/plain": [
       "{'Alex': 1000,\n",
       " 'Alena': 990,\n",
       " 'Boris': 950,\n",
       " 'Vlad': 930,\n",
       " 'Grisha': 968,\n",
       " 'Dima': 985}"
      ]
     },
     "execution_count": 11,
     "metadata": {},
     "output_type": "execute_result"
    }
   ],
   "source": [
    "#используя этот же систаксис можно внести изменения в текущий словарь\n",
    "players[\"Dima\"] = 985\n",
    "players[\"Grisha\"] = 968\n",
    "players"
   ]
  },
  {
   "cell_type": "code",
   "execution_count": 12,
   "metadata": {},
   "outputs": [
    {
     "data": {
      "text/plain": [
       "{'Alex': 1000, 'Alena': 990, 'Boris': 950, 'Vlad': 930, 'Dima': 985}"
      ]
     },
     "execution_count": 12,
     "metadata": {},
     "output_type": "execute_result"
    }
   ],
   "source": [
    "#удаление через функцию del (возможно и через pop, 32 строка)\n",
    "del players['Grisha']\n",
    "players"
   ]
  },
  {
   "cell_type": "code",
   "execution_count": 13,
   "metadata": {},
   "outputs": [
    {
     "name": "stdout",
     "output_type": "stream",
     "text": [
      "<class 'dict_keys'>\n",
      "dict_keys(['Alex', 'Alena', 'Boris', 'Vlad', 'Dima'])\n"
     ]
    }
   ],
   "source": [
    "#чтобы посмотреть на ключи этого словаря, делаем так\n",
    "keys = players.keys()\n",
    "print(type(keys))\n",
    "print(keys)"
   ]
  },
  {
   "cell_type": "code",
   "execution_count": 18,
   "metadata": {},
   "outputs": [
    {
     "name": "stdout",
     "output_type": "stream",
     "text": [
      "<class 'list'>\n",
      "['Alex', 'Alena', 'Boris', 'Vlad', 'Dima']\n"
     ]
    }
   ],
   "source": [
    "#чтобы работать со списком ключей: \n",
    "lists = list(players.keys())\n",
    "print(type(lists))\n",
    "print(lists)"
   ]
  },
  {
   "cell_type": "code",
   "execution_count": 19,
   "metadata": {},
   "outputs": [
    {
     "data": {
      "text/plain": [
       "['Alena', 'Alex', 'Boris', 'Dima', 'Vlad']"
      ]
     },
     "execution_count": 19,
     "metadata": {},
     "output_type": "execute_result"
    }
   ],
   "source": [
    "#сортировка внутри словаря данным методом сортирует и переводит в список!\n",
    "sorted(players.keys())\n"
   ]
  },
  {
   "cell_type": "code",
   "execution_count": 21,
   "metadata": {},
   "outputs": [
    {
     "name": "stdout",
     "output_type": "stream",
     "text": [
      "True\n",
      "False\n",
      "True\n"
     ]
    }
   ],
   "source": [
    "#для проверки начилия ключа в словаре можно использовать in и not in\n",
    "#в первом случае выдает True, т.к. Алекс есть, во втором - False, т.к. Алена есть, но мы проверяли ее отсутствие\n",
    "#и 3 - тут Кеши нет, мы проверяли отсутствие, оно подтвердилось - вернулось True\n",
    "print('Alex' in players)\n",
    "print('Alena' not in players)\n",
    "print('Kesha' not in players)"
   ]
  },
  {
   "cell_type": "code",
   "execution_count": 22,
   "metadata": {},
   "outputs": [
    {
     "name": "stdout",
     "output_type": "stream",
     "text": [
      "<class 'dict_values'>\n",
      "dict_values([1000, 990, 950, 930, 985])\n"
     ]
    }
   ],
   "source": [
    "#можно искать значения при помощи функции values\n",
    "vals = players.values()\n",
    "print(type(vals))\n",
    "print(vals)"
   ]
  },
  {
   "cell_type": "code",
   "execution_count": 25,
   "metadata": {},
   "outputs": [
    {
     "data": {
      "text/plain": [
       "[930, 950, 985, 990, 1000]"
      ]
     },
     "execution_count": 25,
     "metadata": {},
     "output_type": "execute_result"
    }
   ],
   "source": [
    "#сортировка\n",
    "sorted(players.values())\n"
   ]
  },
  {
   "cell_type": "code",
   "execution_count": 27,
   "metadata": {},
   "outputs": [
    {
     "name": "stdout",
     "output_type": "stream",
     "text": [
      "<class 'dict_values'>\n",
      "[1000, 990, 950, 930, 985]\n"
     ]
    }
   ],
   "source": [
    "#перевод в список\n",
    "vals_2 = list(players.values())\n",
    "print(type(vals))\n",
    "print(vals_2)"
   ]
  },
  {
   "cell_type": "code",
   "execution_count": 28,
   "metadata": {},
   "outputs": [
    {
     "name": "stdout",
     "output_type": "stream",
     "text": [
      "{'Alex': 1000, 'Alena': 990, 'Boris': 950, 'Vlad': 930, 'Dima': 985}\n"
     ]
    }
   ],
   "source": [
    "#копирование\n",
    "players_copy = players.copy()\n",
    "print(players_copy)"
   ]
  },
  {
   "cell_type": "code",
   "execution_count": 30,
   "metadata": {},
   "outputs": [
    {
     "name": "stdout",
     "output_type": "stream",
     "text": [
      "Alex 1000\n",
      "Alena 990\n",
      "Boris 950\n",
      "Vlad 930\n",
      "Dima 985\n"
     ]
    }
   ],
   "source": [
    "#можно пробедаться циклом по словарю, буквы А и Б могут быть и другими, например, k и v, они значат ключ и значение\n",
    "for a, b in players.items():\n",
    "    print(a, b)"
   ]
  },
  {
   "cell_type": "code",
   "execution_count": 31,
   "metadata": {},
   "outputs": [
    {
     "name": "stdout",
     "output_type": "stream",
     "text": [
      "<class 'dict_items'>\n"
     ]
    }
   ],
   "source": [
    "items = players.items()\n",
    "print(type(items))"
   ]
  },
  {
   "cell_type": "code",
   "execution_count": 32,
   "metadata": {},
   "outputs": [
    {
     "name": "stdout",
     "output_type": "stream",
     "text": [
      "{'Alex': 1000, 'Alena': 990, 'Boris': 950, 'Dima': 985}\n"
     ]
    }
   ],
   "source": [
    "#удаление любого по ключу- второй способ\n",
    "players.pop('Vlad')\n",
    "print(players)"
   ]
  },
  {
   "cell_type": "code",
   "execution_count": 33,
   "metadata": {},
   "outputs": [
    {
     "name": "stdout",
     "output_type": "stream",
     "text": [
      "{'Alex': 1000, 'Alena': 990, 'Boris': 950}\n"
     ]
    }
   ],
   "source": [
    "#удаление последнего элемента\n",
    "players.popitem()\n",
    "print(players)"
   ]
  },
  {
   "cell_type": "code",
   "execution_count": 35,
   "metadata": {},
   "outputs": [
    {
     "data": {
      "text/plain": [
       "3"
      ]
     },
     "execution_count": 35,
     "metadata": {},
     "output_type": "execute_result"
    }
   ],
   "source": [
    "#количество элементов\n",
    "len(players)"
   ]
  },
  {
   "cell_type": "code",
   "execution_count": 39,
   "metadata": {},
   "outputs": [
    {
     "name": "stdout",
     "output_type": "stream",
     "text": [
      "{'Alex': 1000, 'Alena': 990, 'Boris': 950, 'Balin': None}\n"
     ]
    }
   ],
   "source": [
    "#setdefault - она ищет запрашиваемый элемент, если его нет, она добавляет недостающий элемент со значением None\n",
    "#в этом случае сортировка уже невозможна\n",
    "players.setdefault(\"Boris\")\n",
    "players.setdefault(\"Balin\")\n",
    "print(players)"
   ]
  },
  {
   "cell_type": "code",
   "execution_count": null,
   "metadata": {},
   "outputs": [],
   "source": []
  },
  {
   "cell_type": "code",
   "execution_count": null,
   "metadata": {},
   "outputs": [],
   "source": [
    "#задача выборы в США\n",
    "cycles = int(input())\n",
    "dct = {}\n",
    "for i in range(cycles):\n",
    "    k, v = input().split()\n",
    "    dct[k] = dct.get(k, 0) + int(v)\n",
    "\n",
    "for i in sorted(dct):\n",
    "    print(i, dct[i])"
   ]
  },
  {
   "cell_type": "code",
   "execution_count": null,
   "metadata": {},
   "outputs": [],
   "source": [
    "#второй вариант\n",
    "z = dict()\n",
    "for i in range(int(input())):\n",
    "    a,b = [s for s in input().split()]\n",
    "    int(b)\n",
    "    if a in z:\n",
    "        z[a] += int(b)\n",
    "    else:\n",
    "        z[a] = int(b)\n",
    "for a,b in sorted(z.items()):\n",
    "    print(a, b)"
   ]
  },
  {
   "cell_type": "code",
   "execution_count": 12,
   "metadata": {},
   "outputs": [
    {
     "data": {
      "text/plain": [
       "'Moscow'"
      ]
     },
     "execution_count": 12,
     "metadata": {},
     "output_type": "execute_result"
    }
   ],
   "source": [
    "Capitals = dict(Russia = 'Moscow', Ukraine = 'Kiev', USA = 'Washington')\n",
    "Capitals.get('Russia', 'Moscow')"
   ]
  },
  {
   "cell_type": "code",
   "execution_count": null,
   "metadata": {},
   "outputs": [],
   "source": [
    "#задача про взломанный пароль, в процессе\n",
    "num_of_acts = int(input())\n",
    "dct = {}\n",
    "for i in range(num_of_acts):\n",
    "    acts = input().split()\n",
    "    for k in acts[1:]:\n",
    "        dct[k] = acts[0]\n",
    "\n"
   ]
  },
  {
   "cell_type": "code",
   "execution_count": null,
   "metadata": {},
   "outputs": [],
   "source": [
    "#предоставление доступа\n",
    "actions = dict(read = 'R', write = 'W', execute = 'X') #создаем словарь с разрешениями\n",
    "files_and_perms = {} #пустой словарь, куда будем добавлять файлы и их разрешения\n",
    "for i in range(int(input())): \n",
    "    file, *perms = input().split() #запрашиваем файлы и их разрешения\n",
    "    files_and_perms[file] = set(perms) #а тут добавляем в словарь и присваиваем значения\n",
    "for j in range(int(input())):\n",
    "    action, file = input().split() #здесь мы запрашиваем конкретное действие и еще раз имя файла\n",
    "    if actions[action] in files_and_perms[file]: # если действие из словаря разрешений есть в словаре файлов и разрешений и с конкретным именем файла, то ок\n",
    "        print('OK')\n",
    "    else: #иначе не ок\n",
    "        print('Access denied')"
   ]
  },
  {
   "cell_type": "code",
   "execution_count": null,
   "metadata": {},
   "outputs": [],
   "source": []
  },
  {
   "cell_type": "code",
   "execution_count": null,
   "metadata": {},
   "outputs": [],
   "source": [
    "#к какой стране относится город\n",
    "motherland = {}\n",
    "for i in range(int(input())):\n",
    "    country, *cities = input().split()\n",
    "    for city in cities:\n",
    "        motherland[city] = country\n",
    "         \n",
    "for i in range(int(input())):\n",
    "    print(motherland[input()])"
   ]
  },
  {
   "cell_type": "code",
   "execution_count": null,
   "metadata": {},
   "outputs": [],
   "source": []
  },
  {
   "cell_type": "code",
   "execution_count": null,
   "metadata": {},
   "outputs": [],
   "source": [
    "#англо-латинский словарь\n",
    "#наверное, сначала надо разделить слова по дефису, потом остаток после дефиса поделить по запятой\n",
    "#все так и было, но оказывается там нужно было импортировать модуль\n",
    "from collections import defaultdict\n",
    " \n",
    "dct = defaultdict(list)\n",
    "for i in range(int(input())):\n",
    "    eng_word, meaning = input().split(' - ')\n",
    "    lat_words = meaning.split(', ')\n",
    "    for sep_lat_word in lat_words:\n",
    "        dct[sep_lat_word].append(eng_word)\n",
    "print(len(dct))\n",
    "for sep_lat_word, eng_mean in sorted(dct.items()):\n",
    "    print(sep_lat_word + ' - ' + ', '.join(eng_mean))"
   ]
  },
  {
   "cell_type": "code",
   "execution_count": null,
   "metadata": {},
   "outputs": [],
   "source": [
    "#кто-то решил так\n",
    "e_l = {}\n",
    "l_e = {}\n",
    "for i in range(int(input())):\n",
    "    eng, *lats = input().replace(',', '').split()\n",
    "    e_l[eng] = lats\n",
    "    for lat in lats:\n",
    "        if lat in lats:\n",
    "            l_e[lat] = l_e.get(lat, []) + [eng] #создаем значения латинско-английского словаря\n",
    "            l_e.pop(\"-\", None)\n",
    "print(len(l_e))\n",
    "for lat in sorted(l_e.keys()):\n",
    "    print(lat, end=\" - \")\n",
    "    print(*l_e[lat], sep=\", \")"
   ]
  },
  {
   "cell_type": "code",
   "execution_count": 13,
   "metadata": {},
   "outputs": [
    {
     "name": "stdout",
     "output_type": "stream",
     "text": [
      "ab, ar, yt, e - gtg\n"
     ]
    }
   ],
   "source": [
    "a = 'ab, ar, yt, e - gtg'\n",
    "a.replace(',', '-').split()\n",
    "print(a)"
   ]
  },
  {
   "cell_type": "code",
   "execution_count": null,
   "metadata": {},
   "outputs": [],
   "source": [
    "import json\n",
    "string = \"\"\"\n",
    "{\n",
    "\"response\": {\n",
    "\"count\": 277,\n",
    "\"items\": [{\n",
    "\"first_name\": \"Александръ\",\n",
    "\"id\": 209886677,\n",
    "\"last_name\": \"Хайбуллинъ\",\n",
    "\"can_access_closed\": true,\n",
    "\"is_closed\": false,\n",
    "\"photo_50\": \"https://sun1-15.u...c65/iLGOw_7ZC9A.jpg\"\n",
    "}, {\n",
    "\"first_name\": \"Оксана\",\n",
    "\"id\": 14510834,\n",
    "\"last_name\": \"Козлова\",\n",
    "\"can_access_closed\": true,\n",
    "\"is_closed\": false,\n",
    "\"photo_50\": \"https://sun1-56.u...1382,1382&ava=1\"\n",
    "}, {\n",
    "\"first_name\": \"Ольга\",\n",
    "\"id\": 65127354,\n",
    "\"last_name\": \"Чернова\",\n",
    "\"can_access_closed\": true,\n",
    "\"is_closed\": false,\n",
    "\"photo_50\": \"https://sun1-21.u...5,789,789&ava=1\"\n",
    "}]\n",
    "}\n",
    "}\n",
    "\"\"\"\n",
    "\n",
    "json_data = json.loads(string)\n",
    "print(type(json_data))\n",
    "\n",
    "with open('json1', 'w') as file:\n",
    "    json.dump(json_data, file, indent=4)\n",
    "\n",
    "for el in json_data['response']['items']:\n",
    "    for k, v in el.items():\n",
    "        print(k, v)"
   ]
  }
 ],
 "metadata": {
  "kernelspec": {
   "display_name": "Python 3",
   "language": "python",
   "name": "python3"
  },
  "language_info": {
   "codemirror_mode": {
    "name": "ipython",
    "version": 3
   },
   "file_extension": ".py",
   "mimetype": "text/x-python",
   "name": "python",
   "nbconvert_exporter": "python",
   "pygments_lexer": "ipython3",
   "version": "3.8.5"
  }
 },
 "nbformat": 4,
 "nbformat_minor": 4
}
