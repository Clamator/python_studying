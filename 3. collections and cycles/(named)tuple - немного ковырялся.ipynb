{
 "cells": [
  {
   "cell_type": "code",
   "execution_count": 2,
   "metadata": {},
   "outputs": [
    {
     "data": {
      "text/plain": [
       "','"
      ]
     },
     "execution_count": 2,
     "metadata": {},
     "output_type": "execute_result"
    }
   ],
   "source": [
    "greeting = \"Hello, my name is Alex\"\n",
    "greeting[5]"
   ]
  },
  {
   "cell_type": "code",
   "execution_count": 6,
   "metadata": {},
   "outputs": [
    {
     "name": "stdout",
     "output_type": "stream",
     "text": [
      "Player's 0 name is Alex\n"
     ]
    }
   ],
   "source": [
    "from collections import namedtuple\n",
    "player = namedtuple(\"Player\", \"name year age\")\n",
    "players = [player(\"Alex\", 1993, 27), player(\"Alena\", 1994, 26), player(\"Kesha\", 1995, 25)]\n",
    "p0n = players[0].name\n",
    "p1n = players[1].name\n",
    "p2n = players[2].name\n",
    "print(f\"Player's 0 name is {p0n}\")"
   ]
  },
  {
   "cell_type": "code",
   "execution_count": 11,
   "metadata": {},
   "outputs": [
    {
     "name": "stdout",
     "output_type": "stream",
     "text": [
      "I won\n"
     ]
    }
   ],
   "source": [
    "me = 'b'\n",
    "other = 'c'\n",
    "w_c = [('a', 'b'),('b', 'c'),('c', 'd')]\n",
    "if (me, other) in w_c:\n",
    "    print(\"I won\")\n",
    "else:\n",
    "    print(\"other won\")"
   ]
  },
  {
   "cell_type": "code",
   "execution_count": null,
   "metadata": {},
   "outputs": [],
   "source": []
  }
 ],
 "metadata": {
  "kernelspec": {
   "display_name": "Python 3",
   "language": "python",
   "name": "python3"
  },
  "language_info": {
   "codemirror_mode": {
    "name": "ipython",
    "version": 3
   },
   "file_extension": ".py",
   "mimetype": "text/x-python",
   "name": "python",
   "nbconvert_exporter": "python",
   "pygments_lexer": "ipython3",
   "version": "3.8.5"
  }
 },
 "nbformat": 4,
 "nbformat_minor": 4
}
