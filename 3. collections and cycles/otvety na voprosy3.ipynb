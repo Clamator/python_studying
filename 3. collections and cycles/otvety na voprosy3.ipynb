{
 "cells": [
  {
   "cell_type": "code",
   "execution_count": 18,
   "metadata": {},
   "outputs": [
    {
     "name": "stdout",
     "output_type": "stream",
     "text": [
      "5\n",
      "3\n",
      "5\n",
      "8\n"
     ]
    }
   ],
   "source": [
    "summa = 0\n",
    "x = int(input())\n",
    "numbers = range(1, x+1)\n",
    "for x in numbers:\n",
    "    if x % 3==0 or x % 5 == 0:\n",
    "        print(x)\n",
    "        summa += x\n",
    "print(summa)"
   ]
  },
  {
   "cell_type": "code",
   "execution_count": 41,
   "metadata": {},
   "outputs": [
    {
     "name": "stdout",
     "output_type": "stream",
     "text": [
      "10\n",
      "23\n"
     ]
    }
   ],
   "source": [
    "summa = 0\n",
    "limit = input()\n",
    "numbers = range(0, int(limit))\n",
    "for x in numbers:\n",
    "    if x % 3==0 or x % 5 == 0:\n",
    "        summa += x\n",
    "print(summa)"
   ]
  },
  {
   "cell_type": "code",
   "execution_count": 8,
   "metadata": {},
   "outputs": [
    {
     "name": "stdout",
     "output_type": "stream",
     "text": [
      "Enter the limit: 10\n",
      "33\n"
     ]
    }
   ],
   "source": [
    "#первая же задача, делается с Л-К\n",
    "limit = int(input(\"Enter the limit: \"))\n",
    "total_sum = sum([x for x in range(0, limit+1) if x % 3==0 or x % 5 == 0])\n",
    "print(total_sum)"
   ]
  },
  {
   "cell_type": "raw",
   "metadata": {},
   "source": []
  },
  {
   "cell_type": "code",
   "execution_count": 16,
   "metadata": {},
   "outputs": [
    {
     "name": "stdout",
     "output_type": "stream",
     "text": [
      "[2, 4, 6, 8, 0, 1, 3, 5, 7, 9]\n"
     ]
    }
   ],
   "source": [
    "#можно сделать одну переменную х, а не х и у\n",
    "joined_list = []\n",
    "first_lst = [1,2,3,4,5,6,7,8,9,0]\n",
    "second_lst = [1,2,3,4,5,6,7,8,9,0]\n",
    "for x in second_lst:\n",
    "    if x % 2 == 0:\n",
    "        joined_list.append(x)\n",
    "for y in first_lst:\n",
    "    if y % 2 != 0:\n",
    "        joined_list.append(y)\n",
    "print(joined_list)\n",
    "        "
   ]
  },
  {
   "cell_type": "code",
   "execution_count": 13,
   "metadata": {},
   "outputs": [
    {
     "name": "stdout",
     "output_type": "stream",
     "text": [
      "[1, 3, 5, 7, 9, 2, 4, 6, 8, 0]\n"
     ]
    }
   ],
   "source": [
    "#если делать Л-К , то так, я сначала думал, что можно в одну строку уместить, используя and, но нет, нельзя\n",
    "joined_list = []\n",
    "first_lst = [1,2,3,4,5,6,7,8,9,0]\n",
    "second_lst = [1,2,3,4,5,6,7,8,9,0]\n",
    "evens = [x for x in first_lst if x % 2 == 0]\n",
    "odds = [x for x in second_lst if x % 2 != 0]\n",
    "joined_list = odds + evens\n",
    "print(joined_list)"
   ]
  },
  {
   "cell_type": "code",
   "execution_count": null,
   "metadata": {},
   "outputs": [],
   "source": []
  },
  {
   "cell_type": "code",
   "execution_count": 31,
   "metadata": {},
   "outputs": [
    {
     "name": "stdout",
     "output_type": "stream",
     "text": [
      "0\n"
     ]
    }
   ],
   "source": [
    "#работает!, но тут не получилось посчитать, если использовать current_hand = [2, 5, 6, 8, \"K\", \"Q\"]\n",
    "dict1 =   {\n",
    "                2 : 1,\n",
    "                3 : 1,\n",
    "                4 : 1,\n",
    "                5 : 1,\n",
    "                6 : 1,\n",
    "                7 : 0,\n",
    "                8 : 0,\n",
    "                9 : 0,\n",
    "                10 : -1,\n",
    "                \"j\" : -1,\n",
    "                \"Q\" : -1,\n",
    "                \"K\" : -1,\n",
    "                \"A\" : -1\n",
    "            }\n",
    "list1 = list(dict1)\n",
    "cards_sum = sum(dict1.values())\n",
    "print(cards_sum) #работает"
   ]
  },
  {
   "cell_type": "code",
   "execution_count": null,
   "metadata": {},
   "outputs": [],
   "source": []
  },
  {
   "cell_type": "code",
   "execution_count": null,
   "metadata": {},
   "outputs": [],
   "source": []
  },
  {
   "cell_type": "code",
   "execution_count": 34,
   "metadata": {},
   "outputs": [
    {
     "name": "stdout",
     "output_type": "stream",
     "text": [
      "2\n"
     ]
    }
   ],
   "source": [
    "#решение есть, но какое-то некрасивое\n",
    "current_hand = {\n",
    "    2: 1,\n",
    "    3: 1,\n",
    "    4: 1,\n",
    "    10: -1,\n",
    "    \"Q\": -1,\n",
    "    5: 1\n",
    "}\n",
    " \n",
    "cards_sum = []\n",
    "for key, values in current_hand.items():\n",
    "    if key == range(0, 6):\n",
    "        cards_sum.append(values)\n",
    "    elif key == 10:\n",
    "        cards_sum.append(values)\n",
    "    else:\n",
    "        cards_sum.append(values)\n",
    " \n",
    "cards_sum = sum(cards_sum)\n",
    "print(cards_sum)"
   ]
  },
  {
   "cell_type": "code",
   "execution_count": 37,
   "metadata": {},
   "outputs": [
    {
     "name": "stdout",
     "output_type": "stream",
     "text": [
      "1\n"
     ]
    }
   ],
   "source": [
    "current_hand = [2, 5, 6, 8, \"K\", \"Q\"]\n",
    "cards = {2 : 1, 3 : 1, 4 : 1, 5 : 1, 6 : 1, 7 : 0, 8 : 0, 9 : 0, 10 : -1, \"j\" : -1, \"Q\" : -1, \"K\" : -1, \"A\" : -1}\n",
    "cards_sum = 0\n",
    "for x in current_hand:\n",
    "    cards_sum += cards[x]\n",
    "print(cards_sum)\n",
    "\n",
    "#в чем тут смысл, первой переменной я задаю набор карт, которые потребуются,\n",
    "# во второй переменной я создаю словать с парами ключ-значение, которые будут использованы потом\n",
    "#создаю нулевую переменную\n",
    "#и далее пошло - для х в текущей руке: берем cards_sum и к нему добавляем переменную из cards по ее ключу - это х, видим, что это хорошо - повторяем\n",
    "# и так до тех пор, пока из текущей руки не пройдут все элементы,\n",
    "#+=\tПрибавит значение правого операнда к левому и присвоит эту сумму левому операнду - и так он прибавляет несколько раз\n",
    "#как элементы закончатся - выводит сумму"
   ]
  },
  {
   "cell_type": "code",
   "execution_count": 20,
   "metadata": {},
   "outputs": [
    {
     "name": "stdout",
     "output_type": "stream",
     "text": [
      "1\n"
     ]
    }
   ],
   "source": [
    "#второй вариант решения через Л-К\n",
    "current_hand = [2, 5, 6, 8, \"K\", \"Q\"]\n",
    "cards = {2 : 1, 3 : 1, 4 : 1, 5 : 1, 6 : 1, 7 : 0, 8 : 0, 9 : 0, 10 : -1, \"j\" : -1, \"Q\" : -1, \"K\" : -1, \"A\" : -1}\n",
    "cards_sum = 0\n",
    "cards_sum = sum(cards[x] for x in current_hand)\n",
    "print(cards_sum)\n",
    "#тут что - как и ранее, у нас есть пары, используя Л-К, мы суммируем все, и в левой части перед for -\n",
    "#что происходит - мы обращаемся к переменной cards по ключу х, чтобы получить то значение, которое принадлежит ключу\n",
    "#тоже хороший вариант"
   ]
  },
  {
   "cell_type": "code",
   "execution_count": null,
   "metadata": {},
   "outputs": [],
   "source": []
  }
 ],
 "metadata": {
  "kernelspec": {
   "display_name": "Python 3",
   "language": "python",
   "name": "python3"
  },
  "language_info": {
   "codemirror_mode": {
    "name": "ipython",
    "version": 3
   },
   "file_extension": ".py",
   "mimetype": "text/x-python",
   "name": "python",
   "nbconvert_exporter": "python",
   "pygments_lexer": "ipython3",
   "version": "3.8.5"
  }
 },
 "nbformat": 4,
 "nbformat_minor": 4
}
