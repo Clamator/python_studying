{
 "cells": [
  {
   "cell_type": "code",
   "execution_count": 1,
   "metadata": {},
   "outputs": [
    {
     "data": {
      "text/plain": [
       "tuple"
      ]
     },
     "execution_count": 1,
     "metadata": {},
     "output_type": "execute_result"
    }
   ],
   "source": [
    "#tuple - это неизменяемый набор данных в отличие от списка (tuple также называется кортежем ), \n",
    "#они не именованны, обращение по индексу\n",
    "person = ('John', 'Smith', 27)\n",
    "type(person)"
   ]
  },
  {
   "cell_type": "code",
   "execution_count": 2,
   "metadata": {},
   "outputs": [
    {
     "name": "stdout",
     "output_type": "stream",
     "text": [
      "3\n"
     ]
    }
   ],
   "source": [
    "#при попытке заменить элемент по индексу будет возникать ошибка о невозможности данного действия\n",
    "#это и не хорошо, и не плохо, это данность\n",
    "#применяются чуть ли не все функции к нему, все как со списками\n",
    "print(len(person))"
   ]
  },
  {
   "cell_type": "code",
   "execution_count": 3,
   "metadata": {},
   "outputs": [
    {
     "name": "stdout",
     "output_type": "stream",
     "text": [
      "Smith\n"
     ]
    }
   ],
   "source": [
    "print(person[1])"
   ]
  },
  {
   "cell_type": "code",
   "execution_count": 4,
   "metadata": {},
   "outputs": [
    {
     "name": "stdout",
     "output_type": "stream",
     "text": [
      "['Kesha', ' The Popugai', 4]\n"
     ]
    }
   ],
   "source": [
    "#а вот списки\n",
    "person_2 = ['Kesha', ' The Popugai', 3]\n",
    "person_2[2] = 4\n",
    "print(person_2)\n",
    "#возраст Кеши изменился, в tuple такое невозможно, еще раз"
   ]
  },
  {
   "cell_type": "code",
   "execution_count": 5,
   "metadata": {},
   "outputs": [
    {
     "data": {
      "text/plain": [
       "1"
      ]
     },
     "execution_count": 5,
     "metadata": {},
     "output_type": "execute_result"
    }
   ],
   "source": [
    "person.count('John')"
   ]
  },
  {
   "cell_type": "code",
   "execution_count": 6,
   "metadata": {},
   "outputs": [
    {
     "data": {
      "text/plain": [
       "1"
      ]
     },
     "execution_count": 6,
     "metadata": {},
     "output_type": "execute_result"
    }
   ],
   "source": [
    "person.index('Smith')\n",
    "#на каком индексе находится Фамилия"
   ]
  },
  {
   "cell_type": "code",
   "execution_count": 8,
   "metadata": {},
   "outputs": [
    {
     "data": {
      "text/plain": [
       "('Alex', 1993, 65000)"
      ]
     },
     "execution_count": 8,
     "metadata": {},
     "output_type": "execute_result"
    }
   ],
   "source": [
    "#namedTuple - представляет собой тапл, \n",
    "#он не изменяем, но в дополнение дает возможность проименовать элементы, которые он содержит\n",
    "#пример внизу - обычный тапл\n",
    "players = [(\"Alex\", 1993, 65000), (\"Alena\", 1994, 55000), (\"Boris\", 1992, 54000)]\n",
    "players[0]"
   ]
  },
  {
   "cell_type": "code",
   "execution_count": 9,
   "metadata": {},
   "outputs": [],
   "source": [
    "from collections import namedtuple"
   ]
  },
  {
   "cell_type": "code",
   "execution_count": 11,
   "metadata": {},
   "outputs": [],
   "source": [
    "Player = namedtuple(\"Player\", \"name year salary\")\n",
    "Players = [Player(\"Alex\", 1993, 65000), Player(\"Alena\", 1994, 55000), Player(\"Boris\", 1992, 54000)]"
   ]
  },
  {
   "cell_type": "code",
   "execution_count": 12,
   "metadata": {},
   "outputs": [
    {
     "data": {
      "text/plain": [
       "Player(name='Alena', year=1994, salary=55000)"
      ]
     },
     "execution_count": 12,
     "metadata": {},
     "output_type": "execute_result"
    }
   ],
   "source": [
    "#выбор по индексу\n",
    "Players[1]"
   ]
  },
  {
   "cell_type": "code",
   "execution_count": 13,
   "metadata": {},
   "outputs": [
    {
     "data": {
      "text/plain": [
       "55000"
      ]
     },
     "execution_count": 13,
     "metadata": {},
     "output_type": "execute_result"
    }
   ],
   "source": [
    "#выбор по индексу и конкретному атрибуту\n",
    "#тут типа получается класс Player с атрибутами, которые не могут быть изменены\n",
    "Players[1].salary"
   ]
  },
  {
   "cell_type": "code",
   "execution_count": 14,
   "metadata": {},
   "outputs": [
    {
     "name": "stdout",
     "output_type": "stream",
     "text": [
      "Kesha\n",
      "1964\n",
      "120\n"
     ]
    }
   ],
   "source": [
    "#с этим можно работать как с классом, позволяет сократить написываемый текст, но в нем нет методов, просто является контейнером\n",
    "#данных, которые не могут быть изменены\n",
    "p1 = Player(\"Kesha\", 1964, 120)\n",
    "print(p1.name)\n",
    "print(p1.year)\n",
    "print(p1.salary)"
   ]
  },
  {
   "cell_type": "code",
   "execution_count": 1,
   "metadata": {},
   "outputs": [],
   "source": [
    "#Класс является шаблоном или формальным описанием объекта, а объект представляет экземпляр этого класса, его реальное воплощение. \n",
    "#Можно провести следующую аналогию: у всех у нас есть некоторое представление о человеке - наличие двух рук, двух ног, \n",
    "#головы, пищеварительной, нервной системы, головного мозга и т.д. Есть некоторый шаблон - этот шаблон можно назвать классом. \n",
    "#Реально же существующий человек (фактически экземпляр данного класса) является объектом этого класса."
   ]
  },
  {
   "cell_type": "code",
   "execution_count": null,
   "metadata": {},
   "outputs": [],
   "source": []
  },
  {
   "cell_type": "code",
   "execution_count": 4,
   "metadata": {},
   "outputs": [
    {
     "name": "stdout",
     "output_type": "stream",
     "text": [
      "Alex\n",
      "27\n",
      "Male\n"
     ]
    }
   ],
   "source": [
    "#такое красиво работает только с одним тюплом, если будет список - то работает иначе\n",
    "user = (\"Alex\", 27, \"Male\")\n",
    "user = name, age, sex\n",
    "print(name)\n",
    "print(age)\n",
    "print(sex)"
   ]
  },
  {
   "cell_type": "code",
   "execution_count": 15,
   "metadata": {},
   "outputs": [
    {
     "name": "stdout",
     "output_type": "stream",
     "text": [
      "('Alex', 27, 'Male')\n",
      "('Kesha', 26, 'Male')\n",
      "('Boris', 27, 'Male')\n"
     ]
    }
   ],
   "source": [
    "#вот так, он из списка тюплов присваивает первый тюпл к имени, второй к возрасту и тд, а не распаковывает их как в пред. примере\n",
    "#то же самое, если у нас будет слишком много или мало переменных типа имени, пола, возраста\n",
    "users = [(\"Alex\", 27, \"Male\"), (\"Kesha\", 26, \"Male\"), (\"Boris\", 27, \"Male\")]\n",
    "name, age, sex = users\n",
    "print(name)\n",
    "print(age)\n",
    "print(sex)\n",
    "#тут он каждый отдельный тапл пихает и с возрастом, и с полом в только либо имя, либо пол"
   ]
  },
  {
   "cell_type": "code",
   "execution_count": 1,
   "metadata": {},
   "outputs": [
    {
     "name": "stdout",
     "output_type": "stream",
     "text": [
      "Alex\n",
      "27\n",
      "Male\n",
      "['Music', 'Russia']\n",
      "<class 'list'>\n"
     ]
    }
   ],
   "source": [
    "#но есть вариант, как при работе с одним тюплом избежать перебора\n",
    "user = (\"Alex\", 27, \"Male\", \"Music\", \"Russia\")\n",
    "name, age, sex, *other = user\n",
    "print(name)\n",
    "print(age)\n",
    "print(sex)\n",
    "print(other)\n",
    "print(type(other))"
   ]
  },
  {
   "cell_type": "code",
   "execution_count": 2,
   "metadata": {},
   "outputs": [
    {
     "name": "stdout",
     "output_type": "stream",
     "text": [
      "Alex\n",
      "27\n",
      "Male\n"
     ]
    }
   ],
   "source": []
  },
  {
   "cell_type": "code",
   "execution_count": 2,
   "metadata": {},
   "outputs": [
    {
     "name": "stdout",
     "output_type": "stream",
     "text": [
      "Tesla\n",
      "Wolga\n",
      "WAZ\n"
     ]
    }
   ],
   "source": [
    "#ВАЖНО\n",
    "from collections import namedtuple\n",
    "car = namedtuple('car', 'model price color')\n",
    "cars = [car(\"Tesla\", 19000, \"yellow\"), car(\"Wolga\", 9000, \"Grey\"), car(\"WAZ\", 5000, \"Red\")]\n",
    "\n",
    "for x, y, z in cars:\n",
    "    print(x)"
   ]
  },
  {
   "cell_type": "raw",
   "metadata": {},
   "source": []
  },
  {
   "cell_type": "code",
   "execution_count": 2,
   "metadata": {},
   "outputs": [
    {
     "name": "stdout",
     "output_type": "stream",
     "text": [
      "Alex\n",
      "27\n",
      "Str\n"
     ]
    }
   ],
   "source": [
    "def get_user():\n",
    "    name = \"Alex\"\n",
    "    age = 27\n",
    "    city = \"Str\"\n",
    "    return name, age, city\n",
    "user = get_user()\n",
    "print(user[0])\n",
    "print(user[1])\n",
    "print(user[2])"
   ]
  },
  {
   "cell_type": "code",
   "execution_count": 8,
   "metadata": {},
   "outputs": [
    {
     "name": "stdout",
     "output_type": "stream",
     "text": [
      "Alex\n",
      "27\n",
      "Str\n"
     ]
    }
   ],
   "source": [
    "#перебор элементов\n",
    "#можно это делать через for, можно и так:\n",
    "user = (\"Alex\", 27, \"Str\")\n",
    "i = 0\n",
    "\n",
    "while i < len(user):\n",
    "    print(user[i])\n",
    "    i += 1"
   ]
  },
  {
   "cell_type": "code",
   "execution_count": 10,
   "metadata": {},
   "outputs": [
    {
     "name": "stdout",
     "output_type": "stream",
     "text": [
      "ok\n"
     ]
    }
   ],
   "source": [
    "user = (\"Alex\", 27, \"Str\")\n",
    "name = \"Alex\"\n",
    "if name in user:\n",
    "    print(\"ok\")\n",
    "else:\n",
    "    print(\"not ok\")"
   ]
  },
  {
   "cell_type": "code",
   "execution_count": null,
   "metadata": {},
   "outputs": [],
   "source": []
  }
 ],
 "metadata": {
  "kernelspec": {
   "display_name": "Python 3",
   "language": "python",
   "name": "python3"
  },
  "language_info": {
   "codemirror_mode": {
    "name": "ipython",
    "version": 3
   },
   "file_extension": ".py",
   "mimetype": "text/x-python",
   "name": "python",
   "nbconvert_exporter": "python",
   "pygments_lexer": "ipython3",
   "version": "3.8.5"
  }
 },
 "nbformat": 4,
 "nbformat_minor": 4
}
