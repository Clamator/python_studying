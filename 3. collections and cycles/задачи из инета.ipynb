{
 "cells": [
  {
   "cell_type": "code",
   "execution_count": 14,
   "metadata": {},
   "outputs": [
    {
     "name": "stdout",
     "output_type": "stream",
     "text": [
      "1. 00000\n",
      "2. 00000\n",
      "3. 00000\n",
      "4. 00000\n",
      "5. 00000\n"
     ]
    }
   ],
   "source": [
    "x = 0\n",
    "while x < 5:\n",
    "    x += 1\n",
    "    print(x, '00000', sep = '. ')"
   ]
  },
  {
   "cell_type": "code",
   "execution_count": 29,
   "metadata": {},
   "outputs": [
    {
     "data": {
      "text/plain": [
       "[5050]"
      ]
     },
     "execution_count": 29,
     "metadata": {},
     "output_type": "execute_result"
    }
   ],
   "source": [
    "rng = range(1, 101)\n",
    "[sum(x for x in rng)]"
   ]
  },
  {
   "cell_type": "code",
   "execution_count": 32,
   "metadata": {},
   "outputs": [
    {
     "name": "stdout",
     "output_type": "stream",
     "text": [
      "248\n"
     ]
    }
   ],
   "source": [
    "spisok = []\n",
    "diapazon = range(1, 497)\n",
    "for x in diapazon:\n",
    "    if x % 2 == 0:\n",
    "        spisok.append(x)\n",
    "print(len(spisok))"
   ]
  },
  {
   "cell_type": "code",
   "execution_count": 43,
   "metadata": {},
   "outputs": [
    {
     "name": "stdout",
     "output_type": "stream",
     "text": [
      "105\n"
     ]
    }
   ],
   "source": [
    "summa = list()\n",
    "spisok2 = range(15)\n",
    "for g in spisok2:\n",
    "    summa.append(g)\n",
    "    \n",
    "print(sum(summa))"
   ]
  },
  {
   "cell_type": "code",
   "execution_count": 56,
   "metadata": {},
   "outputs": [
    {
     "name": "stdout",
     "output_type": "stream",
     "text": [
      "[35, 40, 45, 50, 55, 60, 65, 70, 75, 80, 85, 90]\n"
     ]
    }
   ],
   "source": [
    "massive = []\n",
    "diapazon2 = range(34, 95)\n",
    "for v in diapazon2:\n",
    "    if v % 5 == 0:\n",
    "        massive.append(v)\n",
    "\n",
    "print(massive)"
   ]
  },
  {
   "cell_type": "code",
   "execution_count": 57,
   "metadata": {},
   "outputs": [
    {
     "name": "stdout",
     "output_type": "stream",
     "text": [
      "0\n",
      "2\n",
      "4\n",
      "6\n",
      "8\n",
      "10\n",
      "12\n",
      "14\n",
      "16\n",
      "18\n",
      "20\n",
      "22\n",
      "24\n",
      "26\n",
      "28\n",
      "30\n",
      "32\n",
      "34\n",
      "36\n",
      "38\n",
      "40\n",
      "42\n",
      "44\n",
      "46\n"
     ]
    }
   ],
   "source": [
    "for m in range(48):\n",
    "    if m % 2 == 0:\n",
    "        print(m)"
   ]
  },
  {
   "cell_type": "code",
   "execution_count": 90,
   "metadata": {},
   "outputs": [
    {
     "name": "stdout",
     "output_type": "stream",
     "text": [
      "no\n"
     ]
    }
   ],
   "source": [
    "spisok3 = (1, 2, 3)\n",
    "setspisok3 = set(spisok3)\n",
    "\n",
    "if len(spisok3) == len(setspisok3):\n",
    "    print('no')\n",
    "else:\n",
    "    print('yes')"
   ]
  },
  {
   "cell_type": "code",
   "execution_count": null,
   "metadata": {},
   "outputs": [],
   "source": []
  },
  {
   "cell_type": "code",
   "execution_count": 1,
   "metadata": {},
   "outputs": [
    {
     "name": "stdout",
     "output_type": "stream",
     "text": [
      "5\n",
      "8\n",
      "4\n",
      "6\n",
      "5\n",
      "8\n",
      "31\n"
     ]
    }
   ],
   "source": [
    "#если числа идут по порядку по возрастанию\n",
    "#а нужен ввод рандомных чисел\n",
    "summa = 0\n",
    "numbers = int(input())\n",
    "for x in range(numbers):\n",
    "    x = int(input())\n",
    "    summa += x\n",
    "print(summa)"
   ]
  },
  {
   "cell_type": "code",
   "execution_count": 9,
   "metadata": {},
   "outputs": [
    {
     "name": "stdout",
     "output_type": "stream",
     "text": [
      "5\n",
      "100\n"
     ]
    }
   ],
   "source": [
    "#сумма кубов\n",
    "summa = 0\n",
    "numbers = int(input())\n",
    "for x in range(numbers+1):\n",
    "    summa += x**3\n",
    "print(summa)"
   ]
  },
  {
   "cell_type": "code",
   "execution_count": 52,
   "metadata": {},
   "outputs": [
    {
     "name": "stdout",
     "output_type": "stream",
     "text": [
      "4\n",
      "24\n"
     ]
    }
   ],
   "source": [
    "#факториал, именно так,  сначала мы вводим число значений\n",
    "#в диапазон мы ставим начало с 1, потому что в теле цикла мы начинаем перемножать, а там в начале стоит 0\n",
    "numbers = int(input())\n",
    "diapazon = range(1, numbers+1) \n",
    "itog = 1\n",
    "for x in diapazon:\n",
    "    itog *= x\n",
    "\n",
    "print(itog)  "
   ]
  },
  {
   "cell_type": "code",
   "execution_count": 59,
   "metadata": {},
   "outputs": [
    {
     "name": "stdout",
     "output_type": "stream",
     "text": [
      "4\n",
      "24\n",
      "33\n"
     ]
    }
   ],
   "source": [
    "#сумма факториалов\n",
    "#мне нужно запустить цикл, который будет высчитывать факториал для каждого числа в  последовательности\n",
    "#нужно, чтобы цикл, проходясь по последовательности, уже высчитывал факториал\n",
    "numbers = int(input())\n",
    "diapazon = range(1, numbers+1)\n",
    "summa = 0\n",
    "itog = 1\n",
    "for x in diapazon:\n",
    "    itog *= x\n",
    "    summa += itog\n",
    "\n",
    "print(itog)\n",
    "print(summa)"
   ]
  },
  {
   "cell_type": "code",
   "execution_count": null,
   "metadata": {},
   "outputs": [],
   "source": []
  },
  {
   "cell_type": "code",
   "execution_count": null,
   "metadata": {},
   "outputs": [],
   "source": [
    "def multiply(lst):\n",
    "    answer = 1\n",
    "    for i in lst:\n",
    "        answer *= i\n",
    "    return answer\n",
    " \n",
    "    \n",
    "print(multiply([1, 2, 3, 4]))\n"
   ]
  },
  {
   "cell_type": "code",
   "execution_count": 11,
   "metadata": {},
   "outputs": [
    {
     "name": "stdout",
     "output_type": "stream",
     "text": [
      "5\n",
      "2\n",
      "2\n",
      "5\n",
      "4\n",
      "5\n",
      "[2, 2, 5, 4, 5]\n"
     ]
    }
   ],
   "source": [
    "lst = []\n",
    "numbers = int(input())\n",
    "for x in range(numbers):\n",
    "    x = int(input())\n",
    "    lst.append(x)\n",
    "\n",
    "\n",
    "print(lst.count(0))"
   ]
  },
  {
   "cell_type": "code",
   "execution_count": 12,
   "metadata": {},
   "outputs": [
    {
     "name": "stdout",
     "output_type": "stream",
     "text": [
      "3\n"
     ]
    }
   ],
   "source": [
    "lst1 = [1,2,3,4,5,5,5,6,6]\n",
    "print(lst1.count(5))"
   ]
  },
  {
   "cell_type": "code",
   "execution_count": 20,
   "metadata": {},
   "outputs": [
    {
     "name": "stdout",
     "output_type": "stream",
     "text": [
      "5\n",
      "*****\n",
      "*****\n",
      "*****\n",
      "*****\n"
     ]
    }
   ],
   "source": [
    "x=int(input())\n",
    "for i in range(1, x):\n",
    "    print('*'*x)"
   ]
  },
  {
   "cell_type": "code",
   "execution_count": 1,
   "metadata": {},
   "outputs": [
    {
     "name": "stdout",
     "output_type": "stream",
     "text": [
      "5\n",
      "1\n",
      "2\n",
      "3\n",
      "4\n",
      "5\n",
      "15\n"
     ]
    }
   ],
   "source": [
    "summa = 0\n",
    "numbers = int(input())\n",
    "for x in range(numbers):\n",
    "    x = int(input())\n",
    "    summa += x\n",
    "print(summa)"
   ]
  },
  {
   "cell_type": "code",
   "execution_count": 10,
   "metadata": {},
   "outputs": [
    {
     "name": "stdout",
     "output_type": "stream",
     "text": [
      "5\n",
      "+\n",
      "++\n",
      "+++\n",
      "++++\n",
      "+++++\n"
     ]
    }
   ],
   "source": [
    "l1 = int(input())\n",
    "for x in range(1, l1+1):\n",
    "    print('+' *x)"
   ]
  },
  {
   "cell_type": "code",
   "execution_count": null,
   "metadata": {},
   "outputs": [],
   "source": [
    "#шахматы\n",
    "x1 = int(input())\n",
    "y1 = int(input())\n",
    "x2 = int(input())\n",
    "y2 = int(input())\n",
    "if (x1 + y1 + x2 + y2) % 2 == 0:\n",
    "    print('YES')\n",
    "else:\n",
    "    print('NO')\n"
   ]
  },
  {
   "cell_type": "code",
   "execution_count": null,
   "metadata": {},
   "outputs": [],
   "source": [
    "#шоколадка\n",
    "#дается 2 числа, А и В, и дается третье, которое говорит, сколько долек мы берем\n",
    "\n",
    "a = int(input())\n",
    "b = int(input())\n",
    "c = int(input())\n",
    "if c < a or c < b:\n",
    "    print('NO')\n",
    "        \n",
    "elif c % a == 0 or c % b == 0:\n",
    "    if c > a*b:\n",
    "        print('NO')\n",
    "    else:\n",
    "        print(\"YES\")\n",
    "else:\n",
    "    print(\"NO\")\n",
    "    \n",
    "    \n"
   ]
  },
  {
   "cell_type": "code",
   "execution_count": null,
   "metadata": {},
   "outputs": [],
   "source": [
    "#решение разработчика\n",
    "n = int(input())\n",
    "m = int(input())\n",
    "k = int(input())\n",
    "if k < n * m and ((k % n == 0) or (k % m == 0)):\n",
    "    print('YES')\n",
    "else:\n",
    "    print('NO')"
   ]
  },
  {
   "cell_type": "code",
   "execution_count": null,
   "metadata": {},
   "outputs": [],
   "source": []
  },
  {
   "cell_type": "code",
   "execution_count": 39,
   "metadata": {},
   "outputs": [
    {
     "name": "stdout",
     "output_type": "stream",
     "text": [
      "1\n",
      "1\n",
      "1\n",
      "8\n",
      "NO\n"
     ]
    }
   ],
   "source": [
    "#задача ход ладьи, пока не полная\n",
    "x1 = int(input())\n",
    "y1 = int(input())\n",
    "x2 = int(input())\n",
    "y2 = int(input())\n",
    "\n",
    "if (x2-x1 <= 1 and x2-x1 >=-1) and (x1-x2 <= 1 and x1-x2 >=-1) and (y2-y1 <= 1 and y2-y1>= -1) and (y1-y2 <= 1 and y1-y2>= -1):\n",
    "    print(\"YES\")\n",
    "else:\n",
    "    print(\"NO\")\n"
   ]
  },
  {
   "cell_type": "code",
   "execution_count": null,
   "metadata": {},
   "outputs": [],
   "source": [
    "#тоже ход ладьи, от разраба\n",
    "x1 = int(input())\n",
    "y1 = int(input())\n",
    "x2 = int(input())\n",
    "y2 = int(input())\n",
    "if abs(x1 - x2) <= 1 and abs(y1 - y2) <= 1:\n",
    "    print('YES')\n",
    "else:\n",
    "    print('NO')"
   ]
  },
  {
   "cell_type": "code",
   "execution_count": 3,
   "metadata": {},
   "outputs": [
    {
     "name": "stdout",
     "output_type": "stream",
     "text": [
      "1\n",
      "1\n",
      "5\n",
      "5\n",
      "YES\n"
     ]
    }
   ],
   "source": [
    "#задача ход слона, в итоге не до конца решена\n",
    "x1 = int(input())\n",
    "y1 = int(input())\n",
    "x2 = int(input())\n",
    "y2 = int(input())\n",
    "if x1 == x2 or y1 == y2:\n",
    "    print(\"NO\")\n",
    "elif abs((x1 + x2)%2) == abs((y1 + y2)%2):\n",
    "    print('YES')\n",
    "else:\n",
    "    print(\"NO\")\n",
    "\n",
    "#а вот решение создателя\n",
    "x1 = int(input())\n",
    "y1 = int(input())\n",
    "x2 = int(input())\n",
    "y2 = int(input())\n",
    "if abs(x1 - x2) == abs(y1 - y2):\n",
    "    print('YES')\n",
    "else:\n",
    "    print('NO')\n"
   ]
  },
  {
   "cell_type": "code",
   "execution_count": 5,
   "metadata": {},
   "outputs": [
    {
     "data": {
      "text/plain": [
       "1"
      ]
     },
     "execution_count": 5,
     "metadata": {},
     "output_type": "execute_result"
    }
   ],
   "source": [
    "#ход ферзя\n",
    "x1 = int(input())\n",
    "y1 = int(input())\n",
    "x2 = int(input())\n",
    "y2 = int(input())\n",
    "if x1==x2 or y1 == y2:\n",
    "    print(\"YES\")\n",
    "elif abs(x1 - x2) == abs(y1 - y2):\n",
    "    print('YES')\n",
    "else:\n",
    "    print('NO')\n",
    "\n",
    "#решение разрабов\n",
    "x1 = int(input())\n",
    "y1 = int(input())\n",
    "x2 = int(input())\n",
    "y2 = int(input())\n",
    "if abs(x1 - x2) == abs(y1 - y2) or x1 == x2 or y1 == y2:\n",
    "    print('YES')\n",
    "else:\n",
    "    print('NO')"
   ]
  },
  {
   "cell_type": "code",
   "execution_count": null,
   "metadata": {},
   "outputs": [],
   "source": []
  },
  {
   "cell_type": "code",
   "execution_count": 26,
   "metadata": {},
   "outputs": [
    {
     "name": "stdout",
     "output_type": "stream",
     "text": [
      "3\n",
      "11 35\n"
     ]
    }
   ],
   "source": [
    "#задача - во сколько кончается урок?\n",
    "start = 9\n",
    "kolvo_urokov = int(input())\n",
    "minut_vsego = kolvo_urokov * 45\n",
    "peremena1 = 5\n",
    "peremena2 = 15\n",
    "\n",
    "for x in range(kolvo_urokov-1):\n",
    "    \n",
    "    if x%2 == 0:\n",
    "        minut_vsego += peremena1\n",
    "    else:\n",
    "        minut_vsego += peremena2\n",
    "\n",
    "chas = minut_vsego//60\n",
    "minut_vsego = minut_vsego%60\n",
    "  \n",
    "print(start + chas, minut_vsego)"
   ]
  },
  {
   "cell_type": "code",
   "execution_count": null,
   "metadata": {},
   "outputs": [],
   "source": []
  },
  {
   "cell_type": "code",
   "execution_count": 28,
   "metadata": {},
   "outputs": [
    {
     "name": "stdout",
     "output_type": "stream",
     "text": [
      "5\n",
      "2\n",
      "1\n",
      "4\n"
     ]
    }
   ],
   "source": [
    "#улитка\n",
    "h = int(input())\n",
    "a = int(input())\n",
    "b = int(input())\n",
    "days = 0\n",
    "h2 = 0\n",
    "while days <=h:\n",
    "    days += 1\n",
    "    h2 += a\n",
    "    if h2 >= h:\n",
    "        print(days)\n",
    "        break\n",
    "    elif h2 <= h:\n",
    "        h2 -= b\n",
    "    else:\n",
    "        continue"
   ]
  },
  {
   "cell_type": "code",
   "execution_count": 31,
   "metadata": {},
   "outputs": [
    {
     "name": "stdout",
     "output_type": "stream",
     "text": [
      "789\n",
      "8\n"
     ]
    }
   ],
   "source": [
    "#десятки\n",
    "h = str(input())\n",
    "print(h[-2] if len(h)>=2 else 0)"
   ]
  },
  {
   "cell_type": "code",
   "execution_count": 39,
   "metadata": {},
   "outputs": [
    {
     "name": "stdout",
     "output_type": "stream",
     "text": [
      "179\n",
      "17\n"
     ]
    }
   ],
   "source": [
    "#сумма цифр\n",
    "h = int(input())\n",
    "print((h%10) +(h//100) +(h // 10 % 10))"
   ]
  },
  {
   "cell_type": "raw",
   "metadata": {},
   "source": []
  },
  {
   "cell_type": "code",
   "execution_count": null,
   "metadata": {},
   "outputs": [],
   "source": [
    "R = (rubl * kolvo) + (kopeika * kolvo // 100)\n",
    "K = kopeika * kolvo %100"
   ]
  },
  {
   "cell_type": "code",
   "execution_count": null,
   "metadata": {},
   "outputs": [],
   "source": [
    "202 27/////////////13 179 0 "
   ]
  },
  {
   "cell_type": "code",
   "execution_count": 169,
   "metadata": {},
   "outputs": [
    {
     "name": "stdout",
     "output_type": "stream",
     "text": [
      "13\n",
      "179\n",
      "0\n",
      "202 27\n"
     ]
    }
   ],
   "source": [
    "p = int(input())\n",
    "rub = int(input())\n",
    "kop = int(input())\n",
    "rub_new = ((rub * p)/100)//1 #только рубли\n",
    "kop_new = round(((rub * p))%100, 3) #только копейки\n",
    "print(int(rub + rub_new), kop_new)"
   ]
  },
  {
   "cell_type": "code",
   "execution_count": 135,
   "metadata": {},
   "outputs": [
    {
     "data": {
      "text/plain": [
       "20.41"
      ]
     },
     "execution_count": 135,
     "metadata": {},
     "output_type": "execute_result"
    }
   ],
   "source": [
    "((157 * 13)/100)"
   ]
  },
  {
   "cell_type": "code",
   "execution_count": 133,
   "metadata": {},
   "outputs": [
    {
     "data": {
      "text/plain": [
       "20.0"
      ]
     },
     "execution_count": 133,
     "metadata": {},
     "output_type": "execute_result"
    }
   ],
   "source": [
    "((157 * 13)/100)//1"
   ]
  },
  {
   "cell_type": "code",
   "execution_count": 167,
   "metadata": {},
   "outputs": [
    {
     "data": {
      "text/plain": [
       "27"
      ]
     },
     "execution_count": 167,
     "metadata": {},
     "output_type": "execute_result"
    }
   ],
   "source": [
    "round(((179 * 13))%100, 3)"
   ]
  },
  {
   "cell_type": "code",
   "execution_count": null,
   "metadata": {},
   "outputs": [],
   "source": []
  },
  {
   "cell_type": "code",
   "execution_count": null,
   "metadata": {},
   "outputs": [],
   "source": [
    "print(money_after // 100, money_after % 100)"
   ]
  },
  {
   "cell_type": "code",
   "execution_count": 180,
   "metadata": {},
   "outputs": [
    {
     "name": "stdout",
     "output_type": "stream",
     "text": [
      "13\n",
      "179\n",
      "0\n",
      "17900\n",
      "20227\n",
      "202 27\n"
     ]
    }
   ],
   "source": [
    "p = int(input())\n",
    "x = int(input())\n",
    "y = int(input())\n",
    "money_before = 100 * x + y #количество в копейках\n",
    "money_after = int(money_before * (100 + p) / 100)\n",
    "\n",
    "print(money_before)\n",
    "print(money_after)\n",
    "print(money_after // 100, money_after % 100)"
   ]
  },
  {
   "cell_type": "code",
   "execution_count": null,
   "metadata": {},
   "outputs": [],
   "source": []
  },
  {
   "cell_type": "code",
   "execution_count": 12,
   "metadata": {},
   "outputs": [
    {
     "name": "stdout",
     "output_type": "stream",
     "text": [
      "1\n",
      "12\n",
      "123\n",
      "1234\n",
      "12345\n",
      "123456\n"
     ]
    }
   ],
   "source": [
    "#вывод лесенкой\n",
    "l1 = 6\n",
    "y = 0\n",
    "for x in range(1, l1+1):\n",
    "    y = y*10+x\n",
    "    print(y)\n",
    "    \n",
    "    "
   ]
  },
  {
   "cell_type": "code",
   "execution_count": 13,
   "metadata": {},
   "outputs": [
    {
     "name": "stdout",
     "output_type": "stream",
     "text": [
      "4\n",
      "1\n",
      "12\n",
      "123\n",
      "1234\n"
     ]
    }
   ],
   "source": [
    "#решение лесенки от разрабов\n",
    "n = int(input())\n",
    "for i in range(1, n + 1): #здесь берется число\n",
    "    for j in range(1, i + 1): #здесь оно подставляется в диапазон, и этот диапазон печатается\n",
    "        print(j, sep='', end='')\n",
    "    print()"
   ]
  },
  {
   "cell_type": "code",
   "execution_count": null,
   "metadata": {},
   "outputs": [],
   "source": []
  },
  {
   "cell_type": "code",
   "execution_count": 57,
   "metadata": {},
   "outputs": [
    {
     "name": "stdout",
     "output_type": "stream",
     "text": [
      "5\n",
      "4\n",
      "1\n",
      "5\n",
      "2\n",
      "[4, 1, 5, 2]\n",
      "[1, 2, 3, 4, 5]\n"
     ]
    }
   ],
   "source": [
    "#потерянная карточка\n",
    "lst = []\n",
    "x = int(input())\n",
    "lst_mine = list(range(1, x+1))\n",
    "for i in range(x-1):\n",
    "    i = int(input())\n",
    "    lst.append(i)\n",
    "U = set(lst)\n",
    "O = set(lst_mine)\n",
    "ZZZ = U.symmetric_difference(O)\n",
    "YYY = ZZZ.pop()\n",
    "print(YYY)"
   ]
  },
  {
   "cell_type": "code",
   "execution_count": null,
   "metadata": {},
   "outputs": [],
   "source": []
  },
  {
   "cell_type": "code",
   "execution_count": 107,
   "metadata": {},
   "outputs": [
    {
     "name": "stdout",
     "output_type": "stream",
     "text": [
      "aaawhwaaa\n"
     ]
    }
   ],
   "source": [
    "s = input()\n",
    "s1 = s.replace('h', '')"
   ]
  },
  {
   "cell_type": "code",
   "execution_count": 108,
   "metadata": {},
   "outputs": [
    {
     "data": {
      "text/plain": [
       "'aaawwaaa'"
      ]
     },
     "execution_count": 108,
     "metadata": {},
     "output_type": "execute_result"
    }
   ],
   "source": [
    "s1"
   ]
  },
  {
   "cell_type": "code",
   "execution_count": null,
   "metadata": {},
   "outputs": [],
   "source": [
    "z = 0\n",
    "lst = []\n",
    "while True:\n",
    "    x = input()\n",
    "    lst.append(x)\n",
    "    z += 1\n",
    "    if z == 8:\n",
    "        break\n",
    "for i in lst:\n",
    "    if i != i[::-1] or (int(i[0]) + int(i[-1])) %10 != 4:\n",
    "        \n",
    "        print(\"NO\")\n",
    "    else:\n",
    "        print(\"YES\")"
   ]
  },
  {
   "cell_type": "code",
   "execution_count": null,
   "metadata": {},
   "outputs": [],
   "source": [
    "#если а, б == б, а или а == б\n",
    "#только тут суть в том, что я получаю 8 пар, поэтому а == а[::-1] или а[0] == a[1]\n",
    "z = 0\n",
    "lst = []\n",
    "while True:\n",
    "    x = input()\n",
    "    lst.append(x)\n",
    "    z += 1\n",
    "    if z == 8:\n",
    "        break\n",
    "for i in lst:\n",
    "    if i != i[::-1] or i[0] != i[1]:\n",
    "        print(\"YES\")\n",
    "        break\n",
    "    else:\n",
    "        print(\"NO\")"
   ]
  },
  {
   "cell_type": "code",
   "execution_count": 5,
   "metadata": {},
   "outputs": [
    {
     "ename": "SyntaxError",
     "evalue": "invalid syntax (<ipython-input-5-725d4e5b7205>, line 14)",
     "output_type": "error",
     "traceback": [
      "\u001b[1;36m  File \u001b[1;32m\"<ipython-input-5-725d4e5b7205>\"\u001b[1;36m, line \u001b[1;32m14\u001b[0m\n\u001b[1;33m    else:\u001b[0m\n\u001b[1;37m    ^\u001b[0m\n\u001b[1;31mSyntaxError\u001b[0m\u001b[1;31m:\u001b[0m invalid syntax\n"
     ]
    }
   ],
   "source": []
  },
  {
   "cell_type": "code",
   "execution_count": 11,
   "metadata": {},
   "outputs": [
    {
     "data": {
      "text/plain": [
       "1"
      ]
     },
     "execution_count": 11,
     "metadata": {},
     "output_type": "execute_result"
    }
   ],
   "source": []
  },
  {
   "cell_type": "code",
   "execution_count": null,
   "metadata": {},
   "outputs": [],
   "source": []
  }
 ],
 "metadata": {
  "kernelspec": {
   "display_name": "Python 3",
   "language": "python",
   "name": "python3"
  },
  "language_info": {
   "codemirror_mode": {
    "name": "ipython",
    "version": 3
   },
   "file_extension": ".py",
   "mimetype": "text/x-python",
   "name": "python",
   "nbconvert_exporter": "python",
   "pygments_lexer": "ipython3",
   "version": "3.8.5"
  }
 },
 "nbformat": 4,
 "nbformat_minor": 4
}
