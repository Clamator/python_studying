{
 "cells": [
  {
   "cell_type": "code",
   "execution_count": 2,
   "metadata": {},
   "outputs": [
    {
     "name": "stdout",
     "output_type": "stream",
     "text": [
      "x = 0\n",
      "x = 1\n",
      "x = 2\n",
      "x = 3\n",
      "x = 4\n",
      "x = 5\n",
      "x = 6\n",
      "x = 7\n",
      "all done\n"
     ]
    }
   ],
   "source": [
    "#тут печатается вплотную до указанной цифры\n",
    "x = 0\n",
    "while x <= 7:\n",
    "    print(f\"x = {x}\")\n",
    "    x+=1\n",
    "else:\n",
    "    print('all done')"
   ]
  },
  {
   "cell_type": "code",
   "execution_count": null,
   "metadata": {},
   "outputs": [],
   "source": []
  },
  {
   "cell_type": "code",
   "execution_count": 10,
   "metadata": {},
   "outputs": [
    {
     "name": "stdout",
     "output_type": "stream",
     "text": [
      "16\n"
     ]
    }
   ],
   "source": [
    "#break используется чтоыб выйти из цикла преждевременно\n",
    "#continue - чтобы перейти к следующей итерации и не доходить до конца исполняемого блока в цикле\n",
    "#pass - заполнитель, чтобы ничего не делать\n",
    "vals = [1,2,3,4,5,6,7,8,9]\n",
    "sum = 0 #переменная, которая будет накапливать сумму\n",
    "for v in vals:\n",
    "    if v % 2 == 0:\n",
    "        continue\n",
    "    else:\n",
    "        sum += v\n",
    "    if sum >10:\n",
    "        break\n",
    "print(sum)"
   ]
  },
  {
   "cell_type": "code",
   "execution_count": null,
   "metadata": {},
   "outputs": [],
   "source": [
    "#если на данный момент в цикл ничего пока не хочется пихать, но  удалять нет смысла, т.к. он потом понадобится, ставим pass\n",
    "for v in vals:\n",
    "    pass\n",
    "#всё"
   ]
  },
  {
   "cell_type": "code",
   "execution_count": 26,
   "metadata": {},
   "outputs": [
    {
     "name": "stdout",
     "output_type": "stream",
     "text": [
      "50\n",
      "1\n",
      "4\n",
      "9\n",
      "16\n",
      "25\n",
      "36\n",
      "49\n"
     ]
    }
   ],
   "source": [
    "#вывод квадратов не больше введенного числа\n",
    "x = int(input())\n",
    "rng = 0\n",
    "while rng <=x:\n",
    "    rng+=1\n",
    "    if rng**2 <x:\n",
    "        print(rng**2)\n",
    "    else:\n",
    "        break"
   ]
  },
  {
   "cell_type": "code",
   "execution_count": null,
   "metadata": {},
   "outputs": [],
   "source": [
    "#но так лаконичнее\n",
    "n = int(input())\n",
    "i = 1\n",
    "while i ** 2 <= n:\n",
    "    print(i ** 2)\n",
    "    i += 1"
   ]
  },
  {
   "cell_type": "code",
   "execution_count": 28,
   "metadata": {},
   "outputs": [
    {
     "data": {
      "text/plain": [
       "0"
      ]
     },
     "execution_count": 28,
     "metadata": {},
     "output_type": "execute_result"
    }
   ],
   "source": [
    "#минимальный делитель,мое решение\n",
    "n = int(input())\n",
    "i = 1\n",
    "while i< n:\n",
    "    i+=1\n",
    "    if n%i == 0:\n",
    "        print(i)\n",
    "        break\n",
    "    else:\n",
    "        continue"
   ]
  },
  {
   "cell_type": "code",
   "execution_count": 29,
   "metadata": {},
   "outputs": [
    {
     "name": "stdout",
     "output_type": "stream",
     "text": [
      "179\n",
      "179\n"
     ]
    }
   ],
   "source": [
    "#решение разрабов\n",
    "n = int(input())\n",
    "i = 2\n",
    "while n % i != 0:\n",
    "    i += 1\n",
    "print(i)\n"
   ]
  },
  {
   "cell_type": "code",
   "execution_count": null,
   "metadata": {},
   "outputs": [],
   "source": [
    "#степень двойки, но меньше введенного числа\n",
    "n = int(input())\n",
    "i = 0\n",
    "while 2**i <=n:\n",
    "    i += 1\n",
    "print(i-1, 2**(i-1))"
   ]
  },
  {
   "cell_type": "code",
   "execution_count": null,
   "metadata": {},
   "outputs": [],
   "source": [
    "#решение разрабов\n",
    "n = int(input())\n",
    "two_in_power = 2\n",
    "power = 1\n",
    "while two_in_power <= n:\n",
    "    two_in_power *= 2\n",
    "    power += 1\n",
    "print(power - 1, two_in_power // 2)"
   ]
  },
  {
   "cell_type": "code",
   "execution_count": 31,
   "metadata": {},
   "outputs": [
    {
     "data": {
      "text/plain": [
       "1"
      ]
     },
     "execution_count": 31,
     "metadata": {},
     "output_type": "execute_result"
    }
   ],
   "source": [
    "int(10*0.1)"
   ]
  },
  {
   "cell_type": "code",
   "execution_count": 1,
   "metadata": {},
   "outputs": [
    {
     "name": "stdout",
     "output_type": "stream",
     "text": [
      "15\n",
      "100\n",
      "21\n"
     ]
    }
   ],
   "source": [
    "#сколько дней понадобится, чтобы пробежать энное число км, прибавляя к исходному расстоянию 10%\n",
    "start_day = int(input())\n",
    "last_day = int(input())\n",
    "vsego_dney = 1\n",
    "if start_day == last_day:\n",
    "    print('1')\n",
    "    \n",
    "elif start_day >  last_day:\n",
    "    print('1')\n",
    "    \n",
    "elif start_day < last_day:\n",
    "    while start_day <= last_day:\n",
    "        vsego_dney+=1\n",
    "        start_day += (start_day*0.1)\n",
    "        if start_day >= last_day:\n",
    "            print(vsego_dney)\n",
    "            break"
   ]
  },
  {
   "cell_type": "code",
   "execution_count": 3,
   "metadata": {},
   "outputs": [
    {
     "name": "stdout",
     "output_type": "stream",
     "text": [
      "15\n",
      "10\n",
      "1\n"
     ]
    }
   ],
   "source": [
    "#от разрабов\n",
    "x = int(input())\n",
    "y = int(input())\n",
    "i = 1\n",
    "while x < y:\n",
    "    x *= 1.1\n",
    "    i += 1\n",
    "print(i)"
   ]
  },
  {
   "cell_type": "code",
   "execution_count": null,
   "metadata": {},
   "outputs": [],
   "source": [
    "#задача, где надо подсчитывать количество символов до тех пор пор, пока не будет передан 0\n",
    "lst = []\n",
    "while True:\n",
    "    x = int(input())\n",
    "    lst.append(x)\n",
    "    if x == 0:\n",
    "        dlina = len(lst)\n",
    "        print(dlina-1)\n",
    "        break"
   ]
  },
  {
   "cell_type": "code",
   "execution_count": 40,
   "metadata": {},
   "outputs": [
    {
     "name": "stdout",
     "output_type": "stream",
     "text": [
      "1\n",
      "2\n",
      "5\n",
      "7\n",
      "0\n",
      "4\n"
     ]
    }
   ],
   "source": [
    "#от разрабов\n",
    "len_ = 0\n",
    "while int(input()) != 0:\n",
    "    len_ += 1\n",
    "print(len_)\n"
   ]
  },
  {
   "cell_type": "code",
   "execution_count": 43,
   "metadata": {},
   "outputs": [
    {
     "name": "stdout",
     "output_type": "stream",
     "text": [
      "1\n",
      "7\n",
      "5\n",
      "2\n",
      "0\n",
      "15\n"
     ]
    }
   ],
   "source": [
    "#сумма чисел до 0\n",
    "summa = 0\n",
    "x = None\n",
    "while x != 0:\n",
    "    x = int(input())\n",
    "    summa += x\n",
    "print(summa)"
   ]
  },
  {
   "cell_type": "code",
   "execution_count": null,
   "metadata": {},
   "outputs": [],
   "source": [
    "#среднее значение в последовательности\n",
    "summa = 0\n",
    "dlina = 0\n",
    "x = None\n",
    "while x != 0:\n",
    "    x = int(input())\n",
    "    summa += x\n",
    "    dlina +=1\n",
    "print(summa/(dlina-1))\n"
   ]
  },
  {
   "cell_type": "code",
   "execution_count": null,
   "metadata": {},
   "outputs": [],
   "source": [
    "#максимум последовательности\n",
    "lst = []\n",
    "x = None\n",
    "while x != 0:\n",
    "    x = int(input())\n",
    "    lst.append(x)\n",
    "    maxi = max(lst)\n",
    "print(maxi)"
   ]
  },
  {
   "cell_type": "code",
   "execution_count": null,
   "metadata": {},
   "outputs": [],
   "source": [
    "S.find(\"e\")"
   ]
  },
  {
   "cell_type": "code",
   "execution_count": null,
   "metadata": {},
   "outputs": [],
   "source": [
    "#найти индекс наибольшего числа\n",
    "max = 0\n",
    "index_of_max = -1\n",
    "element = -1\n",
    "len = 0\n",
    "while element != 0:\n",
    "    element = int(input())\n",
    "    if element > max:\n",
    "        max = element\n",
    "        index_of_max = len\n",
    "    len += 1\n",
    "print(index_of_max)"
   ]
  },
  {
   "cell_type": "code",
   "execution_count": null,
   "metadata": {},
   "outputs": [],
   "source": [
    "#количество элементов, равных максимуму\n",
    "lst = []\n",
    "x = None\n",
    "while x != 0:\n",
    "    x = int(input())\n",
    "    lst.append(x)\n",
    "    maxi = max(lst)\n",
    "lnmx = lst.count(maxi)\n",
    "print(lnmx)\n"
   ]
  },
  {
   "cell_type": "code",
   "execution_count": 71,
   "metadata": {},
   "outputs": [],
   "source": []
  },
  {
   "cell_type": "code",
   "execution_count": 1,
   "metadata": {},
   "outputs": [
    {
     "name": "stdout",
     "output_type": "stream",
     "text": [
      "1\n",
      "4\n",
      "8\n",
      "5\n",
      "7\n",
      "0\n",
      "3\n"
     ]
    }
   ],
   "source": [
    "#сколько элементов больше предыдущего\n",
    "prev = int(input())\n",
    "answer = 0\n",
    "while prev != 0:\n",
    "    next = int(input())\n",
    "    if next != 0 and prev < next:\n",
    "        answer += 1\n",
    "    prev = next\n",
    "print(answer)"
   ]
  },
  {
   "cell_type": "code",
   "execution_count": null,
   "metadata": {},
   "outputs": [],
   "source": [
    "#второй максимум\n",
    "lst = []\n",
    "max1 = 0\n",
    "index_of_max = -1\n",
    "element = -1\n",
    "len1 = 0\n",
    "while element != 0:\n",
    "    element = int(input())\n",
    "    if element > max1:\n",
    "        max1 = element\n",
    "        index_of_max = len1\n",
    "    len1 += 1\n",
    "    lst.append(element)\n",
    "    \n",
    "del lst[index_of_max]\n",
    "print(max(lst))\n"
   ]
  },
  {
   "cell_type": "code",
   "execution_count": null,
   "metadata": {},
   "outputs": [],
   "source": [
    "#колво элементов, равных максимуму\n",
    "lst = []\n",
    "x = None\n",
    "while x != 0:\n",
    "    x = int(input())\n",
    "    lst.append(x)\n",
    "    maxi = max(lst)\n",
    "lnmx = lst.count(maxi)\n",
    "print(lnmx)\n"
   ]
  },
  {
   "cell_type": "code",
   "execution_count": null,
   "metadata": {},
   "outputs": [],
   "source": [
    "#задача фибоначчи\n",
    "n = int(input()) #получаемое число\n",
    "x = 0 #сюда мы будем добавлять по 1 за каждую итерацию цикла\n",
    "f1 = 0\n",
    "f2 = 1\n",
    "while x <= n:\n",
    "    x +=1\n",
    "    f1, f2 = f2, (f1 + f2)\n",
    "    if x ==n:\n",
    "        print(f1)\n",
    "    elif n == 0:\n",
    "        print(0)\n"
   ]
  },
  {
   "cell_type": "code",
   "execution_count": null,
   "metadata": {},
   "outputs": [],
   "source": [
    "#номер числа фибоначчи\n",
    "n = int(input()) #получаемое число\n",
    "x = 2 #сюда мы будем добавлять по 1 за каждую итерацию цикла, искомый рез-т\n",
    "summa = 0\n",
    "f1 = 0\n",
    "f2 = 1\n",
    "while summa <= n:\n",
    "    x +=1\n",
    "    summa = 0\n",
    "    f1, f2 = f2, (f1 + f2)\n",
    "    summa += (f1 + f2)\n",
    "    if summa ==n:\n",
    "        print(x)\n",
    "        break\n",
    "    elif summa > n:\n",
    "        print(-1)\n"
   ]
  },
  {
   "cell_type": "code",
   "execution_count": null,
   "metadata": {},
   "outputs": [],
   "source": [
    "#макс число идущих подряд элементов\n",
    "prev = -1\n",
    "curr_rep_len = 0\n",
    "max_rep_len = 0\n",
    "element = int(input())\n",
    "while element != 0:\n",
    "    if prev == element:\n",
    "        curr_rep_len += 1\n",
    "    else:\n",
    "        prev = element\n",
    "        max_rep_len = max(max_rep_len, curr_rep_len)\n",
    "        curr_rep_len = 1\n",
    "    element = int(input())\n",
    "max_rep_len = max(max_rep_len, curr_rep_len)\n",
    "print(max_rep_len)\n"
   ]
  }
 ],
 "metadata": {
  "kernelspec": {
   "display_name": "Python 3",
   "language": "python",
   "name": "python3"
  },
  "language_info": {
   "codemirror_mode": {
    "name": "ipython",
    "version": 3
   },
   "file_extension": ".py",
   "mimetype": "text/x-python",
   "name": "python",
   "nbconvert_exporter": "python",
   "pygments_lexer": "ipython3",
   "version": "3.8.5"
  }
 },
 "nbformat": 4,
 "nbformat_minor": 4
}
