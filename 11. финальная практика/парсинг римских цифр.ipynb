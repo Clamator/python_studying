{
 "cells": [
  {
   "cell_type": "code",
   "execution_count": 1,
   "metadata": {},
   "outputs": [
    {
     "name": "stdout",
     "output_type": "stream",
     "text": [
      "14\n"
     ]
    }
   ],
   "source": [
    "romans = dict(I=1, V=5, X=10, L=50, C=100, D=500, M=1000)\n",
    "\n",
    "def parse_roman(roman):\n",
    "    result = 0\n",
    "    for i, c in enumerate(roman):\n",
    "        if i + 1 < len(roman) and romans[roman[i]] < romans[roman[i + 1]]:\n",
    "            result -= romans[roman[i]]\n",
    "        else:\n",
    "            result += romans[roman[i]]\n",
    "\n",
    "    return result\n",
    "\n",
    "print(parse_roman('XIV'))"
   ]
  },
  {
   "cell_type": "code",
   "execution_count": null,
   "metadata": {},
   "outputs": [],
   "source": []
  }
 ],
 "metadata": {
  "kernelspec": {
   "display_name": "Python 3",
   "language": "python",
   "name": "python3"
  },
  "language_info": {
   "codemirror_mode": {
    "name": "ipython",
    "version": 3
   },
   "file_extension": ".py",
   "mimetype": "text/x-python",
   "name": "python",
   "nbconvert_exporter": "python",
   "pygments_lexer": "ipython3",
   "version": "3.8.5"
  }
 },
 "nbformat": 4,
 "nbformat_minor": 4
}
