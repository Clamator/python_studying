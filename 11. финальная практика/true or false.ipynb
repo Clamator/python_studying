{
 "cells": [
  {
   "cell_type": "raw",
   "metadata": {},
   "source": [
    "что будет происходить при реализации:\n",
    "1. клиент сам задает количество ошибок\n",
    "2. клиент сам запрашивает следующий вопрос. Вывод первого вопроса можно сделать также по запросу следующего\n",
    "3. клиент передает ответ на вопрос, а мы считываем его\n",
    "3.1. сверяем правильность и выводим пояснение\n",
    "4. запрос следующего вопроса\n",
    "5. клиент может запросить статус игры"
   ]
  },
  {
   "cell_type": "raw",
   "metadata": {},
   "source": [
    "из указанной локации нам надо построчно принимать инфу, мб надо будет через йилд делать\n",
    "надо эти строки делить на три темы: вопрос, ответ, пояснение,"
   ]
  },
  {
   "cell_type": "raw",
   "metadata": {},
   "source": [
    "есть файл,\n",
    "мы разбиваем его на строки, получается список списков\n",
    "затем мы этот список списков преобразуем в список тюплов, чтобы можно было брать поименно вопрос, ответ, пояснение\n",
    "затем мы должны каждый список разбить на эти самые вопросы, ответы, пояснения\n",
    "и как-то сделать так, чтобы поочередно выводились вопросы и тд"
   ]
  },
  {
   "cell_type": "raw",
   "metadata": {},
   "source": [
    "какие должны быть атрибуты у экземпляра класса:\n",
    "    количество попыток\n",
    "    вопрос\n",
    "    ответ\n",
    "    пояснение\n",
    "    статус игры"
   ]
  },
  {
   "cell_type": "code",
   "execution_count": null,
   "metadata": {},
   "outputs": [],
   "source": [
    "! когда мы запускаем игру, \n",
    "    игро должна вывести количество ошибок\n",
    "    игра должна спросить: задать вопрос?\n",
    "    клиент должен ответить, да или нет\n",
    "    если да, то задавать, если нет, то закрывать игру, что нибудь писать"
   ]
  },
  {
   "cell_type": "code",
   "execution_count": null,
   "metadata": {},
   "outputs": [],
   "source": [
    "свойства:\n",
    "    победа ли?\n",
    "    статус игры\n",
    "    вопрос\n",
    "    счетчик попыток\n",
    "    оставшиеся попытки"
   ]
  },
  {
   "cell_type": "code",
   "execution_count": 75,
   "metadata": {},
   "outputs": [],
   "source": [
    "def generate_quest(lst2):\n",
    "    for quest, ans, descr in lst2:\n",
    "        yield quest\n",
    "\n",
    "with open(r'C:\\Questions.csv', mode='r', encoding='utf-8') as lst:\n",
    "    read_quest_lst = lst.readlines()\n",
    "    lst = []\n",
    "    for el in read_quest_lst:\n",
    "        lst.append(el.split(';'))\n",
    "\n",
    "lst2 = [tuple(i) for i in lst]"
   ]
  },
  {
   "cell_type": "code",
   "execution_count": 76,
   "metadata": {},
   "outputs": [],
   "source": [
    "ask_quest = generate_quest(lst)"
   ]
  },
  {
   "cell_type": "code",
   "execution_count": 74,
   "metadata": {},
   "outputs": [
    {
     "name": "stdout",
     "output_type": "stream",
     "text": [
      "Did sumerman always fly?\n"
     ]
    }
   ],
   "source": [
    "print(next(ask_quest))"
   ]
  },
  {
   "cell_type": "code",
   "execution_count": 84,
   "metadata": {},
   "outputs": [],
   "source": [
    "filename = \"C:\\Questions.csv\"  # это сам файл непосредственно\n",
    "lines = []\n",
    "lst = []\n",
    "with open(filename, encoding='utf-8') as file:  # тут мы просто открываем файл, считываем построчно и доюавляем в список\n",
    "    for line in file:\n",
    "        lines.append(line.strip('\\n'))\n",
    "    \n",
    "    for el in lines:\n",
    "        lst.append(el.split(';'))\n",
    "lst2 = [tuple(i) for i in lst]"
   ]
  },
  {
   "cell_type": "code",
   "execution_count": 85,
   "metadata": {},
   "outputs": [
    {
     "name": "stdout",
     "output_type": "stream",
     "text": [
      "[('Did sumerman always fly?', 'No', 'The original comic book Superman could only leap tall buildings in a single bound.'), ('The First Computer Was Invented in the 1940s', 'Yes', 'Originally built at the University of Pennsylvania’s School of Engineering, in 1946, ENIAC weighed 60,000 pounds and took up a room larger than most studio apartments (1,500 square feet).'), ('Space Smells Like Seared Steak', 'Yes', 'According to some former astronauts, space does have a distinct odor that hangs around when they come back in the ship after a spacewalk. They’ve described it as “hot metal” or “searing steak.”'), ('The Loch Ness is the national animal of Scotland', 'No', 'While Scotland proudly boasts the Loch Ness Monster, one of the world’s most famous fabled creatures, the country opted to make another mythical beast its national animal: the unicorn.'), ('Do bees sometimes sting other bees?', 'Yes', 'In protecting their hives from outsiders, some “guard bees” will stay by the entrance and sniff the bees that come in.')]\n"
     ]
    }
   ],
   "source": [
    "print(lst2)"
   ]
  },
  {
   "cell_type": "code",
   "execution_count": 112,
   "metadata": {},
   "outputs": [],
   "source": [
    " # тоже может пригодиться\n",
    "def generate_quest(lst):\n",
    "    for que, ans, desc in lst:\n",
    "        yield que, ans, desc\n",
    "\n",
    "filename = \"C:\\Questions.csv\"  # это сам файл непосредственно\n",
    "lines = []\n",
    "lst = []\n",
    "with open(filename,\n",
    "          encoding='utf-8') as file:  # тут мы просто открываем файл, считываем построчно и доюавляем в список\n",
    "    for line in file:\n",
    "        lines.append(line.strip('\\n'))\n",
    "\n",
    "    for el in lines:\n",
    "        lst.append(el.split(';'))\n",
    "lst2 = [tuple(i) for i in lst]"
   ]
  },
  {
   "cell_type": "code",
   "execution_count": 113,
   "metadata": {},
   "outputs": [
    {
     "name": "stdout",
     "output_type": "stream",
     "text": [
      "Did sumerman always fly?\n",
      "The First Computer Was Invented in the 1940s\n",
      "Space Smells Like Seared Steak\n",
      "The Loch Ness is the national animal of Scotland\n",
      "Do bees sometimes sting other bees?\n"
     ]
    }
   ],
   "source": [
    "for que, ans, desc in generate_quest(lst2):\n",
    "    print(que)"
   ]
  },
  {
   "cell_type": "code",
   "execution_count": 114,
   "metadata": {},
   "outputs": [
    {
     "name": "stdout",
     "output_type": "stream",
     "text": [
      "('Did sumerman always fly?', 'No', 'The original comic book Superman could only leap tall buildings in a single bound.')\n"
     ]
    }
   ],
   "source": [
    "print(next(generate_quest(lst2)))"
   ]
  },
  {
   "cell_type": "code",
   "execution_count": 2,
   "metadata": {},
   "outputs": [],
   "source": [
    "filename = \"C:\\Questions.csv\"  # это сам файл непосредственно\n",
    "lines = []\n",
    "lst = []\n",
    "with open(filename, encoding='utf-8') as file:  # тут мы просто открываем файл, считываем построчно и доюавляем в список\n",
    "    for line in file:\n",
    "        lines.append(line.strip('\\n'))\n",
    "\n",
    "    for el in lines:\n",
    "        lst.append(el.split(';'))\n",
    "tup_lst = [tuple(i) for i in lst]"
   ]
  },
  {
   "cell_type": "code",
   "execution_count": null,
   "metadata": {},
   "outputs": [],
   "source": []
  },
  {
   "cell_type": "code",
   "execution_count": 19,
   "metadata": {},
   "outputs": [],
   "source": [
    "kort = [('1', '2', '3'), ('10', '20', '30'), ('100', '200', '300')]"
   ]
  },
  {
   "cell_type": "code",
   "execution_count": 20,
   "metadata": {},
   "outputs": [],
   "source": [
    "a=''\n",
    "b=''\n",
    "c=''"
   ]
  },
  {
   "cell_type": "code",
   "execution_count": 21,
   "metadata": {},
   "outputs": [],
   "source": [
    "for x, y, z in kort:\n",
    "    x = a\n",
    "    y = b\n",
    "    z = c"
   ]
  },
  {
   "cell_type": "code",
   "execution_count": 24,
   "metadata": {},
   "outputs": [
    {
     "name": "stdout",
     "output_type": "stream",
     "text": [
      "\n"
     ]
    }
   ],
   "source": [
    "print(a)"
   ]
  },
  {
   "cell_type": "code",
   "execution_count": null,
   "metadata": {},
   "outputs": [],
   "source": []
  },
  {
   "cell_type": "code",
   "execution_count": null,
   "metadata": {},
   "outputs": [],
   "source": []
  }
 ],
 "metadata": {
  "kernelspec": {
   "display_name": "Python 3",
   "language": "python",
   "name": "python3"
  },
  "language_info": {
   "codemirror_mode": {
    "name": "ipython",
    "version": 3
   },
   "file_extension": ".py",
   "mimetype": "text/x-python",
   "name": "python",
   "nbconvert_exporter": "python",
   "pygments_lexer": "ipython3",
   "version": "3.8.5"
  }
 },
 "nbformat": 4,
 "nbformat_minor": 4
}
