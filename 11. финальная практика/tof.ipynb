{
 "cells": [
  {
   "cell_type": "code",
   "execution_count": null,
   "metadata": {},
   "outputs": [],
   "source": []
  },
  {
   "cell_type": "code",
   "execution_count": null,
   "metadata": {},
   "outputs": [],
   "source": [
    "from tof.status_game import StatusGame\n",
    "\n",
    "\n",
    "class Game:\n",
    "\n",
    "    def __init__(self, allowed_misses: int = 6):\n",
    "        if allowed_misses < 5 or allowed_misses > 8:\n",
    "            raise ValueError('a number should be between 5 and 8')\n",
    "        self.__tup_lst = []\n",
    "        self.__quest = ''\n",
    "        self.__ans = ''\n",
    "        self.__desc = ''\n",
    "        self.__iter_list = []\n",
    "        self.__allowed_misses = allowed_misses  # возможные ошибки\n",
    "        self.__line = []  # это строка с в/о/п\n",
    "        self.__status_game = StatusGame.NOT_STARTED\n",
    "\n",
    "    def create_tup_lst(self):  # эта ф-я просто генерирует список кортежей, как если бы я хотел просто передать файл\n",
    "        filename = \"data\\\\Questions.csv\"  # это сам файл непосредственно\n",
    "        lines = []\n",
    "        lst = []\n",
    "        with open(filename,\n",
    "                  encoding='utf-8') as file:  # тут мы просто открываем файл, считываем построчно и доюавляем в список\n",
    "            for line in file:\n",
    "                lines.append(line.strip('\\n'))\n",
    "\n",
    "            for el in lines:\n",
    "                lst.append(el.split(';'))\n",
    "        self.__tup_lst = [tuple(i) for i in lst]  # список кортежей\n",
    "        print('Tuple list was created')\n",
    "        return self.__tup_lst\n",
    "\n",
    "    def generate_next_qad(self):  # эта ф-я будет принимать список кортежей и йилдить три элемента, а мб сделать так, чтобы делил на линии\n",
    "        print('quest line was created')  # тут мы получаем список кортежей\n",
    "\n",
    "        self.__allowed_misses = int(input('pick a number of mistakes: '))\n",
    "        self.__status_game = StatusGame.IN_PROGRESS\n",
    "        mistakes = 0\n",
    "        for _ in range(self.__allowed_misses):\n",
    "            self.__iter_list = iter(self.__tup_lst)\n",
    "            for quest, ans, desc in self.__tup_lst:\n",
    "                self.__quest = quest\n",
    "                self.__ans = ans\n",
    "                self.__desc = desc\n",
    "\n",
    "                ready = input(\"are you ready for the next question?: \")\n",
    "                if ready != \"Yes\":\n",
    "                    continue\n",
    "                print(self.__quest)\n",
    "                print(\"your answer is?: \")\n",
    "                answer = input()\n",
    "                if answer == self.__ans:\n",
    "                    print(\"right\")\n",
    "                    print(self.__desc)\n",
    "                    next(self.__iter_list)\n",
    "                elif answer != self.__ans:\n",
    "                    mistakes += 1\n",
    "                    print(\"wrong answer\")\n",
    "                    print(self.__desc)\n",
    "                    next(self.__iter_list)\n",
    "\n",
    "                if mistakes == self.__allowed_misses:\n",
    "                    self.__status_game = StatusGame.LOST\n",
    "                    print('\\n you are loser, game over')\n",
    "                    break\n"
   ]
  },
  {
   "cell_type": "code",
   "execution_count": null,
   "metadata": {},
   "outputs": [],
   "source": []
  },
  {
   "cell_type": "code",
   "execution_count": null,
   "metadata": {},
   "outputs": [],
   "source": []
  },
  {
   "cell_type": "code",
   "execution_count": null,
   "metadata": {},
   "outputs": [],
   "source": []
  },
  {
   "cell_type": "code",
   "execution_count": null,
   "metadata": {},
   "outputs": [],
   "source": []
  },
  {
   "cell_type": "code",
   "execution_count": null,
   "metadata": {},
   "outputs": [],
   "source": []
  },
  {
   "cell_type": "code",
   "execution_count": null,
   "metadata": {},
   "outputs": [],
   "source": [
    "#for quest, ans, desc in line1:\n",
    "        #    self.__quest = quest\n",
    "        #    self.__ans = ans\n",
    "        #    self.__desc = desc\n",
    "        print(line1)\n",
    "        #print(self.__quest, self.__ans, self.__desc)"
   ]
  },
  {
   "cell_type": "code",
   "execution_count": 23,
   "metadata": {},
   "outputs": [],
   "source": [
    "x = [('Did sumerman always fly?', 'No', 'The original comic book Superman could only leap tall buildings in a single bound.'), \n",
    "     ('The First Computer Was Invented in the 1940s', 'Yes', 'Originally built at the University of Pennsylvania’s School of Engineering, in 1946, ENIAC weighed 60,000 pounds and took up a room larger than most studio apartments (1,500 square feet).'), \n",
    "     ('Space Smells Like Seared Steak', 'Yes', 'According to some former astronauts, space does have a distinct odor that hangs around when they come back in the ship after a spacewalk. They’ve described it as “hot metal” or “searing steak.”'), \n",
    "     ('The Loch Ness is the national animal of Scotland', 'No', 'While Scotland proudly boasts the Loch Ness Monster, one of the world’s most famous fabled creatures, the country opted to make another mythical beast its national animal: the unicorn.'), \n",
    "     ('Do bees sometimes sting other bees?', 'Yes', 'In protecting their hives from outsiders, some “guard bees” will stay by the entrance and sniff the bees that come in.')]\n"
   ]
  },
  {
   "cell_type": "code",
   "execution_count": null,
   "metadata": {},
   "outputs": [],
   "source": []
  },
  {
   "cell_type": "code",
   "execution_count": 25,
   "metadata": {},
   "outputs": [],
   "source": [
    "iterX = iter(x)"
   ]
  },
  {
   "cell_type": "code",
   "execution_count": 26,
   "metadata": {},
   "outputs": [
    {
     "name": "stdout",
     "output_type": "stream",
     "text": [
      "Originally built at the University of Pennsylvania’s School of Engineering, in 1946, ENIAC weighed 60,000 pounds and took up a room larger than most studio apartments (1,500 square feet).\n",
      "According to some former astronauts, space does have a distinct odor that hangs around when they come back in the ship after a spacewalk. They’ve described it as “hot metal” or “searing steak.”\n",
      "In protecting their hives from outsiders, some “guard bees” will stay by the entrance and sniff the bees that come in.\n"
     ]
    }
   ],
   "source": [
    "for q, a, d in iterX:\n",
    "    if a == 'Yes':\n",
    "        print(d)"
   ]
  },
  {
   "cell_type": "code",
   "execution_count": 21,
   "metadata": {},
   "outputs": [
    {
     "name": "stdout",
     "output_type": "stream",
     "text": [
      "1\n",
      "none\n",
      "3\n",
      "none\n",
      "5\n",
      "none\n"
     ]
    }
   ],
   "source": [
    "for el in range(len(x)-1):\n",
    "    if el % 2 == 0:\n",
    "        print(next(iterX))\n",
    "    elif el % 2 != 0:\n",
    "        next(iterX)\n",
    "        print('none')"
   ]
  },
  {
   "cell_type": "markdown",
   "metadata": {},
   "source": []
  },
  {
   "cell_type": "code",
   "execution_count": null,
   "metadata": {},
   "outputs": [],
   "source": []
  },
  {
   "cell_type": "code",
   "execution_count": null,
   "metadata": {},
   "outputs": [],
   "source": []
  }
 ],
 "metadata": {
  "kernelspec": {
   "display_name": "Python 3",
   "language": "python",
   "name": "python3"
  },
  "language_info": {
   "codemirror_mode": {
    "name": "ipython",
    "version": 3
   },
   "file_extension": ".py",
   "mimetype": "text/x-python",
   "name": "python",
   "nbconvert_exporter": "python",
   "pygments_lexer": "ipython3",
   "version": "3.8.5"
  }
 },
 "nbformat": 4,
 "nbformat_minor": 4
}
