{
 "cells": [
  {
   "cell_type": "code",
   "execution_count": 1,
   "metadata": {},
   "outputs": [],
   "source": [
    "from random import random\n",
    "import random\n",
    "\n",
    "\n",
    "class Hangman:\n",
    "    def __init__(self, mistakes=10):\n",
    "        self.board = []\n",
    "        self.rand_word = ''\n",
    "        self.mistakes = mistakes\n",
    "        self.alphabet = list('abcdefghijklmnopqrstuvwxyz')\n",
    "\n",
    "\n",
    "    def mistakes_num(self):\n",
    "        self.mistakes = int(input('\\nenter a number of available mistakes: '))\n",
    "        return self.mistakes\n",
    "\n",
    "    def mistakes_left(self):\n",
    "        return self.mistakes\n",
    "\n",
    "    def import_word(self):\n",
    "        with open(r\"C:\\Users\\User\\JupyterRoot\\WordsStockRus.txt\", mode='r', encoding='utf-8') as self.word_lst:\n",
    "            read_word_lst = self.word_lst.readlines()\n",
    "            print('the word is conceived')\n",
    "        self.rand_word = random.choice(read_word_lst).strip('\\n')\n",
    "        splitted_word = list(self.rand_word)\n",
    "        self.board = ['_' for i in splitted_word]\n",
    "        for i in self.board:\n",
    "            print(i, end=' ')\n",
    "        return self.board, self.rand_word\n",
    "\n",
    "    def ask_for_letter(self):\n",
    "        char = input('inter a char: ')\n",
    "        if char in self.rand_word:\n",
    "            for i, c in enumerate(self.rand_word):\n",
    "                if c == char:\n",
    "                    self.board[i] = char\n",
    "                    print(f'число ошибок: {self.mistakes}')\n",
    "                    for el in self.board:\n",
    "                        print(el, end=' ')\n",
    "                    if '_' not in self.board:\n",
    "                        print('\\nYou win')\n",
    "                        break\n",
    "        else:\n",
    "            self.mistakes -= 1\n",
    "            print(f'число ошибок: {self.mistakes}')\n",
    "            for el in self.board:\n",
    "                print(el, end=' ')\n",
    "        if self.mistakes == 0:\n",
    "            print('user has failed')\n",
    "            print(self.rand_word)\n",
    "# C:\\Users\\User\\JupyterRoot\\WordsStockRus.txt\n"
   ]
  },
  {
   "cell_type": "code",
   "execution_count": 2,
   "metadata": {},
   "outputs": [],
   "source": [
    "game = Hangman()"
   ]
  },
  {
   "cell_type": "code",
   "execution_count": 3,
   "metadata": {},
   "outputs": [
    {
     "name": "stdout",
     "output_type": "stream",
     "text": [
      "the word is conceived\n",
      "_ _ _ _ _ _ "
     ]
    },
    {
     "data": {
      "text/plain": [
       "(['_', '_', '_', '_', '_', '_'], 'имение')"
      ]
     },
     "execution_count": 3,
     "metadata": {},
     "output_type": "execute_result"
    }
   ],
   "source": [
    "game.import_word()"
   ]
  },
  {
   "cell_type": "code",
   "execution_count": 4,
   "metadata": {},
   "outputs": [
    {
     "name": "stdout",
     "output_type": "stream",
     "text": [
      "inter a char: и\n",
      "число ошибок: 10\n",
      "и _ _ _ _ _ число ошибок: 10\n",
      "и _ _ _ и _ "
     ]
    }
   ],
   "source": [
    "game.ask_for_letter()"
   ]
  },
  {
   "cell_type": "code",
   "execution_count": 6,
   "metadata": {},
   "outputs": [
    {
     "data": {
      "text/plain": [
       "10"
      ]
     },
     "execution_count": 6,
     "metadata": {},
     "output_type": "execute_result"
    }
   ],
   "source": [
    "game.mistakes_left()"
   ]
  },
  {
   "cell_type": "code",
   "execution_count": 7,
   "metadata": {},
   "outputs": [
    {
     "name": "stdout",
     "output_type": "stream",
     "text": [
      "inter a char: м\n",
      "число ошибок: 10\n",
      "и м _ _ и _ "
     ]
    }
   ],
   "source": [
    "game.ask_for_letter()"
   ]
  },
  {
   "cell_type": "code",
   "execution_count": 8,
   "metadata": {},
   "outputs": [
    {
     "name": "stdout",
     "output_type": "stream",
     "text": [
      "inter a char: е\n",
      "число ошибок: 10\n",
      "и м е _ и _ число ошибок: 10\n",
      "и м е _ и е "
     ]
    }
   ],
   "source": [
    "game.ask_for_letter()"
   ]
  },
  {
   "cell_type": "code",
   "execution_count": 9,
   "metadata": {},
   "outputs": [
    {
     "name": "stdout",
     "output_type": "stream",
     "text": [
      "inter a char: н\n",
      "число ошибок: 10\n",
      "и м е н и е \n",
      "You win\n"
     ]
    }
   ],
   "source": [
    "game.ask_for_letter()"
   ]
  },
  {
   "cell_type": "code",
   "execution_count": null,
   "metadata": {},
   "outputs": [],
   "source": []
  }
 ],
 "metadata": {
  "kernelspec": {
   "display_name": "Python 3",
   "language": "python",
   "name": "python3"
  },
  "language_info": {
   "codemirror_mode": {
    "name": "ipython",
    "version": 3
   },
   "file_extension": ".py",
   "mimetype": "text/x-python",
   "name": "python",
   "nbconvert_exporter": "python",
   "pygments_lexer": "ipython3",
   "version": "3.8.5"
  }
 },
 "nbformat": 4,
 "nbformat_minor": 4
}
