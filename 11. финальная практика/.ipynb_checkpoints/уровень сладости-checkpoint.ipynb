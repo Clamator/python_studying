{
 "cells": [
  {
   "cell_type": "code",
   "execution_count": null,
   "metadata": {},
   "outputs": [],
   "source": [
    "для элементов из списка, который передается в функцию:\n",
    "    если элемент есть с словаре:\n",
    "        берем значение элемента из этого словаря"
   ]
  },
  {
   "cell_type": "code",
   "execution_count": null,
   "metadata": {},
   "outputs": [],
   "source": []
  },
  {
   "cell_type": "code",
   "execution_count": null,
   "metadata": {},
   "outputs": [],
   "source": [
    "class IceCream:\n",
    "    def __init__(self, flavor, sprinkles):\n",
    "        self.flavor = flavor\n",
    "        self.sprinkles = sprinkles\n",
    "ice1 = IceCream('Chocolate', 13)\n",
    "ice2 = IceCream('Plain', 18)\n",
    "ice3 = IceCream('Vanilla', 0)\n",
    "ice4 = IceCream('Strawberry', 7)\n",
    "ice5 = IceCream('ChocolateChip', 3)\n",
    "\n",
    "def sweetest_icecream(lst):\n",
    "    lst2 = []\n",
    "    for el in lst:\n",
    "\n",
    "        dct = {'Chocolate': 10, 'Plain': 0, 'Vanilla': 5, 'Strawberry': 10, 'ChocolateChip': 5}\n",
    "        if el.flavor in dct.keys():\n",
    "            lst2.append(dct[el.flavor] + el.sprinkles)\n",
    "    return max(lst2)\n",
    "\n",
    "sweetest_icecream([ice2, ice5])"
   ]
  }
 ],
 "metadata": {
  "kernelspec": {
   "display_name": "Python 3",
   "language": "python",
   "name": "python3"
  },
  "language_info": {
   "codemirror_mode": {
    "name": "ipython",
    "version": 3
   },
   "file_extension": ".py",
   "mimetype": "text/x-python",
   "name": "python",
   "nbconvert_exporter": "python",
   "pygments_lexer": "ipython3",
   "version": "3.8.5"
  }
 },
 "nbformat": 4,
 "nbformat_minor": 4
}
