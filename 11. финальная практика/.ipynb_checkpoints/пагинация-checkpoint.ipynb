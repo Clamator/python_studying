{
 "cells": [
  {
   "cell_type": "code",
   "execution_count": null,
   "metadata": {},
   "outputs": [],
   "source": [
    "# вывод элементов построчно\n",
    "alphabetList = list('abcdefghijklmnopqrstuvwxyz')\n",
    "lol = lambda lst, sz: [lst[i:i+sz] for i in range(0, len(lst), sz)]\n",
    "spisok = list(lol(alphabetList, 4))"
   ]
  },
  {
   "cell_type": "code",
   "execution_count": 194,
   "metadata": {},
   "outputs": [],
   "source": [
    "import math\n",
    "\n",
    "\n",
    "class Pagination:\n",
    "    def __init__(self, items, page_size):\n",
    "        self.items = items\n",
    "        self.page_size = page_size\n",
    "        self.page_num = 1\n",
    "        self.total_pages = math.ceil(len(self.items) / self.page_size)  # 7 страниц всего, общее\n",
    "\n",
    "    #  @property мб понадобится\n",
    "    def get_visible_items(self):  # не должен принимать номер страницы\n",
    "        # lol = lambda lst, sz: [lst[i:i + sz] for i in range(0, len(lst), sz)]\n",
    "        # spisok = list(lol(alphabetList, 4))\n",
    "        # print spisok[и тут указывается номер текущей страницы]\n",
    "        pass\n",
    "\n",
    "    def prev_page(self):\n",
    "        pass  # открывает предыдущую страницу\n",
    "\n",
    "    def next_page(self):\n",
    "        pass  # открывает следующую страницу\n",
    "\n",
    "    def first_page(self):\n",
    "        lol = lambda lst, sz: [lst[i:i + sz] for i in range(0, len(lst), sz)]\n",
    "        spisok = list(lol(alphabetList, 4))\n",
    "        return spisok[0]\n",
    "\n",
    "    def last_page(self):\n",
    "        lol = lambda lst, sz: [lst[i:i + sz] for i in range(0, len(lst), sz)]\n",
    "        spisok = list(lol(alphabetList, 4))\n",
    "        return spisok[self.total_pages - 1]\n",
    "\n",
    "    def go_to_page(self, num_of_page):\n",
    "        lol = lambda lst, sz: [lst[i:i + sz] for i in range(0, len(lst), sz)]\n",
    "        spisok = list(lol(alphabetList, 4))\n",
    "        if 1 <= num_of_page <= self.total_pages:\n",
    "            cur_page_text = spisok[num_of_page - 1]\n",
    "            return cur_page_text\n",
    "        elif num_of_page <= 1:\n",
    "            cur_page_text = spisok[0]\n",
    "            return cur_page_text\n",
    "        else:\n",
    "            cur_page_text = spisok[self.total_pages - 1]\n",
    "            return cur_page_text\n",
    "\n",
    "    def get_current_page(self):\n",
    "        pass\n",
    "\n",
    "    def get_page_size(self):\n",
    "        return self.page_size  # готовая\n",
    "\n",
    "    def get_items(self):\n",
    "        lol = lambda lst, sz: [lst[i:i + sz] for i in range(0, len(lst), sz)]\n",
    "        spisok = list(lol(alphabetList, 4))\n",
    "        return spisok"
   ]
  },
  {
   "cell_type": "code",
   "execution_count": 195,
   "metadata": {},
   "outputs": [],
   "source": [
    "alphabetList = list('abcdefghijklmnopqrstuvwxyz')\n",
    "p = Pagination(alphabetList, 4)"
   ]
  },
  {
   "cell_type": "code",
   "execution_count": 196,
   "metadata": {},
   "outputs": [
    {
     "name": "stdout",
     "output_type": "stream",
     "text": [
      "['y', 'z']\n",
      "['a', 'b', 'c', 'd']\n"
     ]
    }
   ],
   "source": [
    "print(p.last_page())\n",
    "print(p.first_page())"
   ]
  },
  {
   "cell_type": "code",
   "execution_count": 197,
   "metadata": {},
   "outputs": [
    {
     "name": "stdout",
     "output_type": "stream",
     "text": [
      "['q', 'r', 's', 't']\n"
     ]
    }
   ],
   "source": [
    "print(p.go_to_page(5))"
   ]
  },
  {
   "cell_type": "code",
   "execution_count": 198,
   "metadata": {},
   "outputs": [
    {
     "name": "stdout",
     "output_type": "stream",
     "text": [
      "None\n"
     ]
    }
   ],
   "source": [
    "print(p.get_current_page())"
   ]
  },
  {
   "cell_type": "code",
   "execution_count": 97,
   "metadata": {},
   "outputs": [],
   "source": [
    "def get_page_size(self):\n",
    "    return round(len(self.items) % self.total_pages)"
   ]
  },
  {
   "cell_type": "code",
   "execution_count": 98,
   "metadata": {},
   "outputs": [],
   "source": [
    "alphabetList = list('abcdefghijklmnopqrstuvwxyz')\n",
    "lol = lambda lst, sz: [lst[i:i+sz] for i in range(0, len(lst), sz)]\n",
    "spisok = list(lol(alphabetList, 4))"
   ]
  },
  {
   "cell_type": "code",
   "execution_count": 99,
   "metadata": {},
   "outputs": [
    {
     "name": "stdout",
     "output_type": "stream",
     "text": [
      "[['a', 'b', 'c', 'd'], ['e', 'f', 'g', 'h'], ['i', 'j', 'k', 'l'], ['m', 'n', 'o', 'p'], ['q', 'r', 's', 't'], ['u', 'v', 'w', 'x'], ['y', 'z']]\n"
     ]
    }
   ],
   "source": [
    "print(spisok)"
   ]
  },
  {
   "cell_type": "code",
   "execution_count": 59,
   "metadata": {},
   "outputs": [
    {
     "name": "stdout",
     "output_type": "stream",
     "text": [
      "1\n"
     ]
    }
   ],
   "source": [
    "print(spisok.index(['a', 'b', 'c', 'd'])+1)"
   ]
  },
  {
   "cell_type": "code",
   "execution_count": 202,
   "metadata": {},
   "outputs": [],
   "source": [
    "# ответ\n",
    "class Pagination:\n",
    "    def __init__(self, items=[], page_size=10):\n",
    "        self.items = items\n",
    "        self.page_size = page_size\n",
    "        self.current_page = 1\n",
    "        self.total_pages = 1 if not self.items else (len(self.items) // self.page_size) + 1 \n",
    "\n",
    "    def get_current_page(self):\n",
    "        return self.current_page\n",
    "\n",
    "    def get_page_size(self):\n",
    "        return self.page_size\n",
    "\n",
    "    def get_items(self):\n",
    "        return self.items\n",
    "\n",
    "    def prev_page(self):\n",
    "        if self.current_page == 1:\n",
    "            return self\n",
    "        self.current_page -= 1\n",
    "        return self\n",
    "\n",
    "    def next_page(self):\n",
    "        if self.current_page == self.total_pages:\n",
    "            return self\n",
    "        self.current_page += 1\n",
    "        return self\n",
    "\n",
    "    def first_page(self):\n",
    "        self.current_page = 1\n",
    "        return self\n",
    "\n",
    "    def last_page(self):\n",
    "        self.current_page = self.total_pages\n",
    "        return self\n",
    "\n",
    "    def go_to_page(self, page):\n",
    "        if page < 1:\n",
    "            page = 1\n",
    "        elif page > self.total_pages:\n",
    "            page = self.total_pages\n",
    "        self.current_page = page\n",
    "        return self\n",
    "\n",
    "    def get_visible_items(self):  # не должен принимать номер страницы\n",
    "        start = (self.current_page - 1) * self.page_size\n",
    "        end = start + self.page_size\n",
    "        return self.items[start:end]\n",
    "\n",
    "alphabetList = list('abcdefghijklmnopqrstuvwxyz')\n",
    "p = Pagination(alphabetList, 4)"
   ]
  },
  {
   "cell_type": "code",
   "execution_count": null,
   "metadata": {},
   "outputs": [],
   "source": [
    "print(p.go_to_page(5))\n",
    "print(p.next_page())"
   ]
  }
 ],
 "metadata": {
  "kernelspec": {
   "display_name": "Python 3",
   "language": "python",
   "name": "python3"
  },
  "language_info": {
   "codemirror_mode": {
    "name": "ipython",
    "version": 3
   },
   "file_extension": ".py",
   "mimetype": "text/x-python",
   "name": "python",
   "nbconvert_exporter": "python",
   "pygments_lexer": "ipython3",
   "version": "3.8.5"
  }
 },
 "nbformat": 4,
 "nbformat_minor": 4
}
