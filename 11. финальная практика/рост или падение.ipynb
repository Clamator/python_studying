{
 "cells": [
  {
   "cell_type": "code",
   "execution_count": 6,
   "metadata": {},
   "outputs": [
    {
     "data": {
      "text/plain": [
       "1"
      ]
     },
     "execution_count": 6,
     "metadata": {},
     "output_type": "execute_result"
    }
   ],
   "source": [
    "lst = [1, 2, 3, 2]\n",
    "lst2 = []\n",
    "\n",
    "def check_sequence(lst):\n",
    "    for x in range(0, len(lst)-1):\n",
    "        if lst[x] < lst[x+1]:\n",
    "            lst2.append(1)\n",
    "        elif lst[x] > lst[x + 1]:\n",
    "            lst2.append(-1)\n",
    "        else:\n",
    "            lst2.append(0)\n",
    "\n",
    "    if all(lst2) == 1:\n",
    "        return 1\n",
    "    elif all(lst2) != -1:\n",
    "        return -1\n",
    "    else:\n",
    "        return 0\n",
    "\n",
    "check_sequence(lst)\n"
   ]
  },
  {
   "cell_type": "code",
   "execution_count": null,
   "metadata": {},
   "outputs": [],
   "source": [
    "for index, el in enumerate(lst):\n",
    "    print(index, el)\n",
    "\n",
    "for x in range(len(lst)-1):\n",
    "    print(x+1, lst[x])\n",
    "    \n",
    "for x in range(len(lst)-1):\n",
    "    if lst[x-1] > lst[x]:\n",
    "        print(0)"
   ]
  },
  {
   "cell_type": "code",
   "execution_count": null,
   "metadata": {},
   "outputs": [],
   "source": []
  },
  {
   "cell_type": "code",
   "execution_count": null,
   "metadata": {},
   "outputs": [],
   "source": []
  },
  {
   "cell_type": "code",
   "execution_count": 16,
   "metadata": {},
   "outputs": [],
   "source": [
    "lst = [1, 2, 3, 4]\n",
    "lst2 = [] #пустой список, куда будем заносить будущие значения\n",
    "def check_sequence(lst):\n",
    "    for x in range(0, len(lst)-1): \n",
    "        if lst[x] < lst[x+1]: # если текущий меньше последующего - добавляем 1 в lst2\n",
    "            lst2.append(1)\n",
    "        elif lst[x] > lst[x + 1]: # если текущий больше последующего - добавляем -1 в lst2\n",
    "            lst2.append(-1)\n",
    "        else: # на остальное по барабану\n",
    "            lst2.append(0)\n",
    " \n",
    "    if lst2.count(1) == len(lst2): # если количество 1 == общей длине списка, делаем так:\n",
    "        return 1\n",
    "    elif lst2.count(-1) == len(lst2): # если количество -1 == общей длине списка, делаем так:\n",
    "        return -1\n",
    "    else: # на остальное по барабану\n",
    "        return 0\n"
   ]
  },
  {
   "cell_type": "code",
   "execution_count": 14,
   "metadata": {},
   "outputs": [
    {
     "data": {
      "text/plain": [
       "0"
      ]
     },
     "execution_count": 14,
     "metadata": {},
     "output_type": "execute_result"
    }
   ],
   "source": [
    "check_sequence(lst)"
   ]
  },
  {
   "cell_type": "code",
   "execution_count": null,
   "metadata": {},
   "outputs": [],
   "source": []
  },
  {
   "cell_type": "code",
   "execution_count": null,
   "metadata": {},
   "outputs": [],
   "source": []
  },
  {
   "cell_type": "code",
   "execution_count": null,
   "metadata": {},
   "outputs": [],
   "source": [
    "def check_sequence(lst):\n",
    "    if sorted(set(lst)) == lst:\n",
    "        return 1\n",
    "    elif sorted(set(lst), reverse = True) == lst:\n",
    "        return -1\n",
    "    else:\n",
    "        return 0"
   ]
  },
  {
   "cell_type": "code",
   "execution_count": 17,
   "metadata": {},
   "outputs": [
    {
     "data": {
      "text/plain": [
       "1"
      ]
     },
     "execution_count": 17,
     "metadata": {},
     "output_type": "execute_result"
    }
   ],
   "source": [
    "check_sequence(lst)"
   ]
  },
  {
   "cell_type": "code",
   "execution_count": null,
   "metadata": {},
   "outputs": [],
   "source": []
  }
 ],
 "metadata": {
  "kernelspec": {
   "display_name": "Python 3",
   "language": "python",
   "name": "python3"
  },
  "language_info": {
   "codemirror_mode": {
    "name": "ipython",
    "version": 3
   },
   "file_extension": ".py",
   "mimetype": "text/x-python",
   "name": "python",
   "nbconvert_exporter": "python",
   "pygments_lexer": "ipython3",
   "version": "3.8.5"
  }
 },
 "nbformat": 4,
 "nbformat_minor": 4
}
