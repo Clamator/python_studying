{
 "cells": [
  {
   "cell_type": "code",
   "execution_count": 195,
   "metadata": {},
   "outputs": [
    {
     "name": "stdout",
     "output_type": "stream",
     "text": [
      "enter a word: kalmah\n",
      "['_', '_', '_', '_', '_', '_']\n"
     ]
    }
   ],
   "source": [
    "mistakes = 10\n",
    "word = input('enter a word: ')\n",
    "splitted_word = list(word)\n",
    "board = ['_' for i in splitted_word]\n",
    "print(board)"
   ]
  },
  {
   "cell_type": "code",
   "execution_count": 196,
   "metadata": {},
   "outputs": [
    {
     "name": "stdout",
     "output_type": "stream",
     "text": [
      "_ _ _ _ _ _ "
     ]
    }
   ],
   "source": [
    "def print_state(state):\n",
    "    for i, c in enumerate(state):\n",
    "        print(f'{c}', end=' ')\n",
    "print_state(board)"
   ]
  },
  {
   "cell_type": "code",
   "execution_count": 8,
   "metadata": {},
   "outputs": [],
   "source": [
    "from random import random\n",
    "import random\n",
    "\n",
    "\n",
    "class Hangman:\n",
    "    def __init__(self, mistakes=10):\n",
    "        self.board = []\n",
    "        self.rand_word = ''\n",
    "        self.mistakes = mistakes\n",
    "        self.alphabet = list('abcdefghijklmnopqrstuvwxyz')\n",
    "\n",
    "\n",
    "    def mistakes_num(self):\n",
    "        self.mistakes = int(input('\\nenter a number of available mistakes: '))\n",
    "        return self.mistakes\n",
    "\n",
    "    def mistakes_left(self):\n",
    "        return self.mistakes\n",
    "\n",
    "    def import_word(self):\n",
    "        with open(r\"C:\\Users\\User\\JupyterRoot\\WordsStockRus.txt\", mode='r', encoding='utf-8') as self.word_lst:\n",
    "            read_word_lst = self.word_lst.readlines()\n",
    "            print('the word is conceived')\n",
    "        self.rand_word = random.choice(read_word_lst).strip('\\n')\n",
    "        splitted_word = list(self.rand_word)\n",
    "        self.board = ['_' for i in splitted_word]\n",
    "        for i in self.board:\n",
    "            print(i, end=' ')\n",
    "        return self.board, self.rand_word.strip('\\n')\n",
    "\n",
    "    def ask_for_letter(self):\n",
    "        while self.mistakes > 0:\n",
    "            char = input('inter a char: ')\n",
    "            if char in self.rand_word:\n",
    "                for i, c in enumerate(self.rand_word):\n",
    "                    if c == char:\n",
    "                        self.board[i] = char\n",
    "                        print(f'число ошибок: {self.mistakes}')\n",
    "                        for el in self.board:\n",
    "                            print(el, end=' ')\n",
    "                        if '_' not in self.board:\n",
    "                            print('\\nYou win')\n",
    "                            break\n",
    "            else:\n",
    "                self.mistakes -= 1\n",
    "                print(f'число ошибок: {self.mistakes}')\n",
    "                for el in self.board:\n",
    "                    print(el, end=' ')\n",
    "            if self.mistakes == 0:\n",
    "                print('user has failed')\n",
    "                print(self.rand_word)\n",
    "\n",
    "\n",
    "game = Hangman()\n",
    "# C:\\Users\\User\\JupyterRoot\\WordsStockRus.txt\n"
   ]
  },
  {
   "cell_type": "code",
   "execution_count": 9,
   "metadata": {},
   "outputs": [
    {
     "name": "stdout",
     "output_type": "stream",
     "text": [
      "the word is conceived\n",
      "_ _ _ "
     ]
    },
    {
     "data": {
      "text/plain": [
       "(['_', '_', '_'], 'лоб')"
      ]
     },
     "execution_count": 9,
     "metadata": {},
     "output_type": "execute_result"
    }
   ],
   "source": [
    "game.import_word()"
   ]
  },
  {
   "cell_type": "code",
   "execution_count": null,
   "metadata": {},
   "outputs": [
    {
     "name": "stdout",
     "output_type": "stream",
     "text": [
      "inter a char: о\n",
      "число ошибок: 10\n",
      "_ о _ "
     ]
    }
   ],
   "source": [
    "game.ask_for_letter()"
   ]
  },
  {
   "cell_type": "code",
   "execution_count": null,
   "metadata": {},
   "outputs": [],
   "source": [
    "game.mistakes_left()"
   ]
  },
  {
   "cell_type": "code",
   "execution_count": null,
   "metadata": {},
   "outputs": [],
   "source": [
    "мы создаем класс игры,\n",
    "задаем кол-во ошибок и делаем словарь со всеми буквами\n",
    "потом происходит генерация слова\n",
    "и должно вывестись поле, но не обязательно\n",
    "потом мы запрашиваем букву, ищем эту букву, если она есть, то вставляем\n",
    "и вот теперь уже точно выводим поле "
   ]
  },
  {
   "cell_type": "code",
   "execution_count": null,
   "metadata": {},
   "outputs": [],
   "source": [
    "импорт словаря и слова +\n",
    "рандомная генерация слова из этого словаря +\n",
    "количество попыток +\n",
    "деление его на буквы \n",
    "подсчитать их количество\n",
    "приготовить переменную, куда будем складывать угаданные буквы\n",
    "\n",
    "\n",
    "какие функции дб\n",
    "    выставление количества ошибок\n",
    "    запрос на генерацию слова\n",
    "    передача буквы\n",
    "    показывает количество оставшихся ошибок\n",
    "    показывает поле с буквами\n",
    "    показ букв, которые уже были введены - создать словарь и выводить его\n",
    "    поздравление с победой или поражением\n",
    "    \n",
    "    \n"
   ]
  }
 ],
 "metadata": {
  "kernelspec": {
   "display_name": "Python 3",
   "language": "python",
   "name": "python3"
  },
  "language_info": {
   "codemirror_mode": {
    "name": "ipython",
    "version": 3
   },
   "file_extension": ".py",
   "mimetype": "text/x-python",
   "name": "python",
   "nbconvert_exporter": "python",
   "pygments_lexer": "ipython3",
   "version": "3.8.5"
  }
 },
 "nbformat": 4,
 "nbformat_minor": 4
}
