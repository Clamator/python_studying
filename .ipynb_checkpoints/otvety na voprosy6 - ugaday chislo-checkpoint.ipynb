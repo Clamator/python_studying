{
 "cells": [
  {
   "cell_type": "code",
   "execution_count": null,
   "metadata": {},
   "outputs": [],
   "source": [
    "#вроде работает, это мой личный код(почти)\n",
    "#здесь я вывел инпут вне цикла уаил\n",
    "vvod = int(input(\"введите ваше число: \"))\n",
    "import random\n",
    "b = int(random.randint(1,50))\n",
    "i = 0\n",
    "while i < 6:\n",
    "    if int(vvod) > int(b):\n",
    "        print(\"загаданное число меньше вашего\")\n",
    "        vvod = input(\"введите ваше число: \")\n",
    "        i += 1\n",
    "    elif int(vvod) < int(b):\n",
    "        print(\"загаданное число больше вашего\")\n",
    "        vvod = input(\"введите ваше число: \")\n",
    "        i += 1\n",
    "    elif int(vvod) == (b):\n",
    "        print(\"Верно!\")\n",
    "        break\n",
    "    elif vvod!= b and i == 6:\n",
    "        print('вы не успели')\n",
    "        break"
   ]
  },
  {
   "cell_type": "code",
   "execution_count": null,
   "metadata": {},
   "outputs": [],
   "source": []
  },
  {
   "cell_type": "code",
   "execution_count": null,
   "metadata": {},
   "outputs": [],
   "source": [
    "#а вот здесь я перенес запрос на ввод числа внутрь цикла, что позволило сократить строки кода\n",
    "#это переделанное решение мое\n",
    "import random\n",
    "b = int(random.randint(1,50))\n",
    "i = 0\n",
    "while i < 6:\n",
    "    vvod = int(input(\"введите ваше число: \"))\n",
    "    if int(vvod) > int(b):\n",
    "        print(\"загаданное число меньше вашего\")\n",
    "        \n",
    "        i += 1\n",
    "    elif int(vvod) < int(b):\n",
    "        print(\"загаданное число больше вашего\")\n",
    "        \n",
    "        i += 1\n",
    "    elif int(vvod) == (b):\n",
    "        print(\"Верно!\")\n",
    "        break\n",
    "    elif vvod!= b and i == 6:\n",
    "        print('вы не успели')\n",
    "        break"
   ]
  },
  {
   "cell_type": "code",
   "execution_count": null,
   "metadata": {},
   "outputs": [],
   "source": []
  },
  {
   "cell_type": "code",
   "execution_count": null,
   "metadata": {},
   "outputs": [],
   "source": [
    "#здесь инпут с предложением ввести число стоит внутри цикла уаил, по другому работать не будет\n",
    "#это решение учителя\n",
    "import random\n",
    "number = int(random.randint(1,50))\n",
    "i = 0\n",
    "while i < 6:\n",
    "    guess = int(input(\"введите ваше число: \"))\n",
    "    i += 1\n",
    "    if number > guess:\n",
    "        print(\"загаданное число больше введенного\")\n",
    "    if number < guess:\n",
    "        print(\"загаданное число меньше введенного\")\n",
    "    if number == guess:\n",
    "        print(f\"вы угадали введенное число за {i} попыток\")\n",
    "        break\n",
    "    if number != guess and i == 6:\n",
    "        print(\"вам не удалось угадать значение\")\n",
    "        break"
   ]
  },
  {
   "cell_type": "code",
   "execution_count": null,
   "metadata": {},
   "outputs": [],
   "source": []
  },
  {
   "cell_type": "code",
   "execution_count": null,
   "metadata": {},
   "outputs": [],
   "source": []
  },
  {
   "cell_type": "code",
   "execution_count": null,
   "metadata": {},
   "outputs": [],
   "source": []
  },
  {
   "cell_type": "code",
   "execution_count": null,
   "metadata": {},
   "outputs": [],
   "source": [
    "\n"
   ]
  },
  {
   "cell_type": "code",
   "execution_count": null,
   "metadata": {},
   "outputs": [],
   "source": []
  },
  {
   "cell_type": "code",
   "execution_count": 106,
   "metadata": {},
   "outputs": [
    {
     "name": "stdout",
     "output_type": "stream",
     "text": [
      "Это число 25 ?\n",
      "Больше\n",
      "Это число 37 ?\n",
      "Больше\n",
      "Это число 43 ?\n",
      "Больше\n",
      "Это число 46 ?\n",
      "Меньше\n"
     ]
    }
   ],
   "source": [
    "#чужая задача на то, чтобы комп пытался угадать твое значение - уже сложнее\n",
    "\n",
    "list=[0,50]\n",
    "x=int((list[-1]-list[0])/2+list[0])\n",
    "list.insert(1, x)\n",
    "print(f\"Это число {list[1]} ?\")\n",
    "vvod=input()\n",
    "i=0\n",
    "while i < 6:  \n",
    "    if vvod == \"Больше\":\n",
    "        maybe=list.pop(0)\n",
    "        x=int((list[-1]-list[0])/2+list[0])\n",
    "        list.insert(1, x)\n",
    "        print(f\"Это число {list[1]} ?\")\n",
    "        vvod=input()\n",
    "        i+=1\n",
    "    elif vvod == \"Меньше\":\n",
    "        maybe=list.pop(-1)\n",
    "        x=int((list[-1]-list[0])/2+list[0])\n",
    "        list.insert(1, x)\n",
    "        print(f\"Это число {list[1]} ?\")\n",
    "        vvod=input()\n",
    "        i+=1\n",
    "    elif vvod == \"Да\":\n",
    "        print(\"Ура!\")\n",
    "        break     "
   ]
  },
  {
   "cell_type": "code",
   "execution_count": null,
   "metadata": {},
   "outputs": [],
   "source": []
  },
  {
   "cell_type": "code",
   "execution_count": null,
   "metadata": {},
   "outputs": [],
   "source": []
  },
  {
   "cell_type": "code",
   "execution_count": null,
   "metadata": {},
   "outputs": [],
   "source": [
    "\n"
   ]
  },
  {
   "cell_type": "code",
   "execution_count": null,
   "metadata": {},
   "outputs": [],
   "source": []
  }
 ],
 "metadata": {
  "kernelspec": {
   "display_name": "Python 3",
   "language": "python",
   "name": "python3"
  },
  "language_info": {
   "codemirror_mode": {
    "name": "ipython",
    "version": 3
   },
   "file_extension": ".py",
   "mimetype": "text/x-python",
   "name": "python",
   "nbconvert_exporter": "python",
   "pygments_lexer": "ipython3",
   "version": "3.8.5"
  }
 },
 "nbformat": 4,
 "nbformat_minor": 4
}
