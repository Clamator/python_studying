{
 "cells": [
  {
   "cell_type": "code",
   "execution_count": null,
   "metadata": {},
   "outputs": [],
   "source": []
  },
  {
   "cell_type": "code",
   "execution_count": 43,
   "metadata": {},
   "outputs": [
    {
     "name": "stdout",
     "output_type": "stream",
     "text": [
      "1\n",
      "2\n",
      "1\n",
      "121\n",
      "121\n",
      "Palindrome\n"
     ]
    }
   ],
   "source": [
    "#работает только для 3-х значных чисел\n",
    "number = 121\n",
    "number3 = number % 10\n",
    "numberX = number % 100\n",
    "number2 = numberX // 10\n",
    "number1 = number // 100\n",
    "print(number1)\n",
    "print(number2)\n",
    "print(number3)\n",
    "itog = str(number3)+str(number2)+str(number1)\n",
    "print(itog)\n",
    "print(number)\n",
    "if int(itog) == int(number):\n",
    "    print(\"Palindrome\")\n",
    "else:\n",
    "    print(\"no palidrome\")"
   ]
  },
  {
   "cell_type": "code",
   "execution_count": null,
   "metadata": {},
   "outputs": [],
   "source": []
  },
  {
   "cell_type": "code",
   "execution_count": 57,
   "metadata": {},
   "outputs": [
    {
     "name": "stdout",
     "output_type": "stream",
     "text": [
      "3\n",
      "2\n",
      "1\n"
     ]
    }
   ],
   "source": [
    "number = 123\n",
    "last_number = number % 10\n",
    "x_number = number // 10\n",
    "second_number = x_number%10\n",
    "third_number = x_number//10\n",
    "total_number = last_number + second_number + number%100\n",
    "print(last_number)\n",
    "print(second_number)\n",
    "print(third_number)"
   ]
  },
  {
   "cell_type": "code",
   "execution_count": 24,
   "metadata": {},
   "outputs": [
    {
     "name": "stdout",
     "output_type": "stream",
     "text": [
      "Введите целое число: 121\n",
      "Palindrome\n"
     ]
    }
   ],
   "source": [
    "#это ответ, но надо будет разобраться с ним https://younglinux.info/python/task/turnover-number\n",
    "#решение с разъяснением: в первую очередь создаем переменную, в которую будут вводить значение\n",
    "#2 - создаем копию переменной, чтобы ее не потерять (numberX), потому что исходная будет модифицироваться\n",
    "#3 - мы заводим цикл и на каждой итерации его откусываем крайнюю справа цифру исходного числа и прибавлять его\n",
    "# к обратному числу\n",
    "# на каждой итерации нам надо умножать полученное число на 10, добавляя разряд\n",
    "# когда откусим все разряды от исходного числа, оно будет равно 0\n",
    "#ответ из видеоурока будет ниже в след. окнеm,  там даже быстрее решение и понятнее\n",
    "number = int(input(\"Введите целое число: \"))\n",
    "numberX = number\n",
    "n2 = 0\n",
    "\n",
    "while number > 0:\n",
    "    # находим остаток - последнюю цифру\n",
    "    digit = number % 10\n",
    "    # делим нацело - удаляем последнюю цифру\n",
    "    number = number // 10\n",
    "    # увеличиваем разрядность второго числа\n",
    "    n2 = n2 * 10\n",
    "    # добавляем очередную цифру\n",
    "    n2 = n2 + digit  \n",
    "if numberX == n2:\n",
    "    print(\"Palindrome\")\n",
    "else:\n",
    "    print(\"no palindrome\")\n",
    "    \n",
    "\n"
   ]
  },
  {
   "cell_type": "code",
   "execution_count": null,
   "metadata": {},
   "outputs": [],
   "source": [
    "# ответ, как это делает учитель\n",
    "number = int(input(\"input number\")) #вводим просто число\n",
    "reversed_number = 0 #это число, в которое мы будем добавлять откусанные цифры, оно пустое\n",
    "tmp_original = number #тут мы создали третью переменную, которая равна вводимому числу, чтобы не потерять первое\n",
    "#т.к. в каждой итерации цикла мы откусываем по одной цифре справа, то рано или поздно tmp_original будет нулевым\n",
    "#поэтому цикл будет выполняться до тех пор, пока tmp_original не будет нулевым\n",
    "#как это работает, есть число 1234, мы от этого числа откусываем 4 и записываем его в новую переменную,\n",
    "# в итоге остается 123 и 4, но для того, чтобы в следующей итерации цикла не прибавлять 3 к 4(чтобы не получилось 7)\n",
    "#мы умножаем 4 на 10\n",
    "#получается 123 и 40, затем мы откусываем 3, остается 12(от первого числа), откусанная 3 и 40\n",
    "#суммируем 40+3, остается 12 и 43,\n",
    "#чтобы в следующей итерации теста не осталось 1 и 43+2(45), мы умножаем 43 на 10 и добавляем 2, \n",
    "#получается 1 и 430+2(432)\n",
    "#затем от 1 откусываем крайний правый(последний) разряд,умножаем 430 на 10 и добавляем 1 к полученному число, итог 4320+1 = 4321\n",
    "#в итоге исходне число становится 0, цикл завершается, полученное число становится окончательным\n"
   ]
  },
  {
   "cell_type": "code",
   "execution_count": 25,
   "metadata": {},
   "outputs": [
    {
     "name": "stdout",
     "output_type": "stream",
     "text": [
      "input number123\n",
      "no palindrome\n"
     ]
    }
   ],
   "source": [
    "number = int(input(\"input number\"))\n",
    "reversed_number = 0\n",
    "tmp_original = number\n",
    "while tmp_original > 0:\n",
    "    reversed_number = (reversed_number * 10) + tmp_original % 10 #тут мы модифицируем reversed_number, добавляем разряд, умножая на 10 и добавляем последний разряд\n",
    "#первая итерация цикла проходит, на второй и последующих надо будет откусывать уже следующий последний разряд от tmp_original, но т.к. tmp_original не модифицируется, то нам надо убрать один разряд по // 10\n",
    "    tmp_original = tmp_original//10\n",
    "if number == reversed_number:\n",
    "    print(\"Palindrome\")\n",
    "else:\n",
    "    print(\"no palindrome\")\n",
    "    "
   ]
  },
  {
   "cell_type": "code",
   "execution_count": null,
   "metadata": {},
   "outputs": [],
   "source": []
  }
 ],
 "metadata": {
  "kernelspec": {
   "display_name": "Python 3",
   "language": "python",
   "name": "python3"
  },
  "language_info": {
   "codemirror_mode": {
    "name": "ipython",
    "version": 3
   },
   "file_extension": ".py",
   "mimetype": "text/x-python",
   "name": "python",
   "nbconvert_exporter": "python",
   "pygments_lexer": "ipython3",
   "version": "3.8.5"
  }
 },
 "nbformat": 4,
 "nbformat_minor": 4
}
