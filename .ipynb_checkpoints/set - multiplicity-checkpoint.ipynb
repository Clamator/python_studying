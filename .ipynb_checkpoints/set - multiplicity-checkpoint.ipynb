{
 "cells": [
  {
   "cell_type": "code",
   "execution_count": 1,
   "metadata": {},
   "outputs": [],
   "source": [
    "#set - по больше части матем понятие, которое отображает множество, тоже является типом данных\n",
    "#содержит только уникальные элементы, предназначен для проведения матем операций с множествами\n",
    "#здесь и далее сет и множество следует считать одним и тем же словом, просто я их чередовал, чтобы не была каша в звучании\n",
    "\n",
    "#методы снизу вызываются на каком-то множестве и передаются другому"
   ]
  },
  {
   "cell_type": "code",
   "execution_count": 2,
   "metadata": {},
   "outputs": [
    {
     "name": "stdout",
     "output_type": "stream",
     "text": [
      "set()\n",
      "<class 'set'>\n"
     ]
    }
   ],
   "source": [
    "my_set = set()\n",
    "print(my_set)\n",
    "print(type(my_set))"
   ]
  },
  {
   "cell_type": "code",
   "execution_count": 3,
   "metadata": {},
   "outputs": [
    {
     "data": {
      "text/plain": [
       "{1}"
      ]
     },
     "execution_count": 3,
     "metadata": {},
     "output_type": "execute_result"
    }
   ],
   "source": [
    "my_set.add(1)\n",
    "my_set"
   ]
  },
  {
   "cell_type": "code",
   "execution_count": 4,
   "metadata": {},
   "outputs": [
    {
     "data": {
      "text/plain": [
       "{1, 2}"
      ]
     },
     "execution_count": 4,
     "metadata": {},
     "output_type": "execute_result"
    }
   ],
   "source": [
    "my_set.add(2)\n",
    "my_set"
   ]
  },
  {
   "cell_type": "code",
   "execution_count": 5,
   "metadata": {},
   "outputs": [
    {
     "data": {
      "text/plain": [
       "{1, 2}"
      ]
     },
     "execution_count": 5,
     "metadata": {},
     "output_type": "execute_result"
    }
   ],
   "source": [
    "#при попытке добавить двойку еще раз ничего не произойдет, но при этом и ошибки не будет, просто не добавляется, только уник.эл.\n",
    "my_set.add(2)\n",
    "my_set"
   ]
  },
  {
   "cell_type": "code",
   "execution_count": 12,
   "metadata": {},
   "outputs": [
    {
     "name": "stdout",
     "output_type": "stream",
     "text": [
      "{1, 2, 3, 4}\n"
     ]
    },
    {
     "data": {
      "text/plain": [
       "4"
      ]
     },
     "execution_count": 12,
     "metadata": {},
     "output_type": "execute_result"
    }
   ],
   "source": [
    "#здесь мы создаем список из одинаковых элементов и передаем его в множество\n",
    "my_list = [1, 1, 1, 1, 2, 2, 2, 2, 3, 3, 3, 3, 4]\n",
    "s = set(my_list)\n",
    "print(s)\n",
    "len(s)"
   ]
  },
  {
   "cell_type": "code",
   "execution_count": 8,
   "metadata": {},
   "outputs": [],
   "source": [
    "#все дублицированные элементы были исключены"
   ]
  },
  {
   "cell_type": "code",
   "execution_count": 13,
   "metadata": {},
   "outputs": [
    {
     "name": "stdout",
     "output_type": "stream",
     "text": [
      "True\n",
      "True\n",
      "False\n"
     ]
    }
   ],
   "source": [
    "#проверить наличие можно при помощи in\n",
    "print(1 in s)\n",
    "print(2 in s)\n",
    "print(5 in s)"
   ]
  },
  {
   "cell_type": "code",
   "execution_count": 17,
   "metadata": {},
   "outputs": [
    {
     "data": {
      "text/plain": [
       "True"
      ]
     },
     "execution_count": 17,
     "metadata": {},
     "output_type": "execute_result"
    }
   ],
   "source": [
    "#про математические операции:\n",
    "#в данном примере будет проверяться, является ли сет1 подмножеством сет2 при помощи issubset\n",
    "set_1 = {1, 2, 3, 4}\n",
    "set_2 = {1, 2, 3, 4, 5}\n",
    "set_1.issubset(set_2)\n",
    "#ответ True, т.к. сет1 полностью присутствует в сет2"
   ]
  },
  {
   "cell_type": "code",
   "execution_count": 19,
   "metadata": {},
   "outputs": [
    {
     "data": {
      "text/plain": [
       "True"
      ]
     },
     "execution_count": 19,
     "metadata": {},
     "output_type": "execute_result"
    }
   ],
   "source": [
    "#а в этом примере я удалил 3, добавил 5 и перемешал. Делаем вывод, что множеству не принципиальна четкая последовательность\n",
    "#символов, но важно, чтобы просто были те же элементы\n",
    "set_1 = {1, 2, 5, 4}\n",
    "set_2 = {1, 2, 3, 4, 5}\n",
    "set_1.issubset(set_2)"
   ]
  },
  {
   "cell_type": "code",
   "execution_count": 20,
   "metadata": {},
   "outputs": [
    {
     "data": {
      "text/plain": [
       "False"
      ]
     },
     "execution_count": 20,
     "metadata": {},
     "output_type": "execute_result"
    }
   ],
   "source": [
    "#тут все понятно, заменили 4 на 6, которая отсутствует в сет2, и результат сразу стал False\n",
    "set_1 = {1, 2, 5, 6}\n",
    "set_2 = {1, 2, 3, 4, 5}\n",
    "set_1.issubset(set_2)"
   ]
  },
  {
   "cell_type": "code",
   "execution_count": 21,
   "metadata": {},
   "outputs": [
    {
     "data": {
      "text/plain": [
       "False"
      ]
     },
     "execution_count": 21,
     "metadata": {},
     "output_type": "execute_result"
    }
   ],
   "source": [
    "#также, если попробовать наоборот проверить эти два множества, будет False, т.к. сет1 не содержит 5\n",
    "set_1 = {1, 2, 3, 4}\n",
    "set_2 = {1, 2, 3, 4, 5}\n",
    "set_2.issubset(set_1)"
   ]
  },
  {
   "cell_type": "code",
   "execution_count": 22,
   "metadata": {},
   "outputs": [
    {
     "data": {
      "text/plain": [
       "True"
      ]
     },
     "execution_count": 22,
     "metadata": {},
     "output_type": "execute_result"
    }
   ],
   "source": [
    "#однако, мы может спросить, является ли сет2 суперсетом, то есть надсетом по отношению в сет1, и тут, логично, получаем True\n",
    "set_1 = {1, 2, 3, 4}\n",
    "set_2 = {1, 2, 3, 4, 5}\n",
    "set_2.issuperset(set_1)"
   ]
  },
  {
   "cell_type": "code",
   "execution_count": 24,
   "metadata": {},
   "outputs": [
    {
     "data": {
      "text/plain": [
       "True"
      ]
     },
     "execution_count": 24,
     "metadata": {},
     "output_type": "execute_result"
    }
   ],
   "source": [
    "#есть возможность проверить, не совпадают ли полностью элементы некоторых множеств между собой или нет\n",
    "set1 = {1, 2, 3}\n",
    "set2 = {4, 5, 6}\n",
    "set1.isdisjoint(set2)\n",
    "#тут мы получаем True, т.к. элементы действительно не совпадают - ни один"
   ]
  },
  {
   "cell_type": "code",
   "execution_count": 27,
   "metadata": {},
   "outputs": [
    {
     "data": {
      "text/plain": [
       "{1, 2, 3, 4, 5, 6, 7, 8}"
      ]
     },
     "execution_count": 27,
     "metadata": {},
     "output_type": "execute_result"
    }
   ],
   "source": [
    "#другой полезные метод - объединение, или union, юнион возвращает новое множество, исходные, на которых вызывается метод, \n",
    "#останется неизменным\n",
    "set3 = {1, 2, 3, 4}\n",
    "set4 = {5, 6, 7, 8}\n",
    "set5 = set3.union(set4)\n",
    "set5\n",
    "#set5 - это объединение, итог"
   ]
  },
  {
   "cell_type": "code",
   "execution_count": 28,
   "metadata": {},
   "outputs": [
    {
     "data": {
      "text/plain": [
       "{1, 2, 3, 4, 5, 6}"
      ]
     },
     "execution_count": 28,
     "metadata": {},
     "output_type": "execute_result"
    }
   ],
   "source": [
    "#а тут - объединили те, у которых часть значений уже совпадает, сеты объединяются и в итоге получается тот же самый сет6, \n",
    "#т.к. элементы не дублируются\n",
    "set6 = {1, 2, 3, 4, 5, 6}\n",
    "set7 = set3.union(set6)\n",
    "set7"
   ]
  },
  {
   "cell_type": "code",
   "execution_count": 29,
   "metadata": {},
   "outputs": [
    {
     "data": {
      "text/plain": [
       "{1, 2, 3, 4}"
      ]
     },
     "execution_count": 29,
     "metadata": {},
     "output_type": "execute_result"
    }
   ],
   "source": [
    "#метод интерсекшн - пересечение, также возвращает новый объект множества\n",
    "#показывает, какие элементы пересекаются (одинаковые, грубо говоря) в двух множествах\n",
    "set8 = set7.intersection(set3)\n",
    "set8\n",
    "#показывает 4 символа, которые одинаковы"
   ]
  },
  {
   "cell_type": "code",
   "execution_count": 37,
   "metadata": {},
   "outputs": [
    {
     "data": {
      "text/plain": [
       "{5, 6}"
      ]
     },
     "execution_count": 37,
     "metadata": {},
     "output_type": "execute_result"
    }
   ],
   "source": [
    "#есть метод difference - показывает то, какими элементами сеты различаются\n",
    "set9 = set7.difference(set3)\n",
    "set9\n",
    "#тут и в остальных примерах сет в скобках применяется к сету вне скобок\n",
    "#тут проверялись элементы сет7; по ним пробежался сет3, нашел все свои элементы, а два других не нашел,\n",
    "#поэтому в различия они и улетели"
   ]
  },
  {
   "cell_type": "code",
   "execution_count": 36,
   "metadata": {},
   "outputs": [
    {
     "data": {
      "text/plain": [
       "set()"
      ]
     },
     "execution_count": 36,
     "metadata": {},
     "output_type": "execute_result"
    }
   ],
   "source": [
    "set10 = set3.difference(set7)\n",
    "set10\n",
    "#а здесь проверялось различие по элементам в сет3, типа сет7 пришел в гости к сет3 проверить различия,\n",
    "#все по очереди проверил у сета3, все совпало, а остатки своих элементов сет7 проверять не стал, потому что с сетом3 у него-то совпало все\n",
    "#и т.к. все элементы сет3 были в сет7, то и различия не нашлись банально"
   ]
  },
  {
   "cell_type": "code",
   "execution_count": 38,
   "metadata": {},
   "outputs": [],
   "source": [
    "#как сказал наставник - этот метод берет методы только из левого, которые отсутсвуют в правом"
   ]
  },
  {
   "cell_type": "code",
   "execution_count": 40,
   "metadata": {},
   "outputs": [
    {
     "name": "stdout",
     "output_type": "stream",
     "text": [
      "{0}\n",
      "{0, 4, 5, 6}\n"
     ]
    }
   ],
   "source": [
    "#есть еще симметрик_дифференс, он сравнивает уже оба множества на то, каких элементов нет в обоих множествах\n",
    "#ниже будет пример и для диф, и для сим_диф\n",
    "set100 = {0, 1, 2, 3}\n",
    "set101 = {1, 2, 3, 4, 5, 6}\n",
    "set200 = set100.difference(set101)\n",
    "set201 = set100.symmetric_difference(set101)\n",
    "print(set200)\n",
    "print(set201)\n",
    "#тут прекрасно видно, что в первом случае сет100 проверил, каких его элементов нет у сет101, и нашел только 0\n",
    "#а во втором случае оба сета сравнили друг друга и выделили те элементы, которые отсутствуют у другого,\n",
    "#то есть, уникальные элементы, наверное, не одинаковые"
   ]
  },
  {
   "cell_type": "code",
   "execution_count": 41,
   "metadata": {},
   "outputs": [
    {
     "data": {
      "text/plain": [
       "{0, 1, 2, 3, 4, 5, 6}"
      ]
     },
     "execution_count": 41,
     "metadata": {},
     "output_type": "execute_result"
    }
   ],
   "source": [
    "#есть метод update - он находит те элементы, которые отсутствуют в левом сете, но присутствуют в правом, и добавляет их\n",
    "set100.update(set101)\n",
    "set100\n",
    "#прекрасно видим, что в сет100 были добавлены 4, 5 и 6\n",
    "#update не возвращает новое множество, в отличие от union, он обновляет уже имеющееся "
   ]
  },
  {
   "cell_type": "code",
   "execution_count": 42,
   "metadata": {},
   "outputs": [
    {
     "data": {
      "text/plain": [
       "{0, 1, 3, 4, 5, 6}"
      ]
     },
     "execution_count": 42,
     "metadata": {},
     "output_type": "execute_result"
    }
   ],
   "source": [
    "#теперь про УДАЛЕНИЕ!!!\n",
    "#удалять можно тремя способами - remove, discard и pop, в чем их разница:\n",
    "#remove удаляет выбранный элемент, если он присутствует, однако выдает ошибку в коде, если этого элемента нет, и код стопарится\n",
    "#discard также удаляет указанный элемент, но если такового нет среди элементов, то эта ситуация будет проигнорена, ошибки не будет\n",
    "set100.remove(2)\n",
    "set100"
   ]
  },
  {
   "cell_type": "code",
   "execution_count": 44,
   "metadata": {},
   "outputs": [
    {
     "data": {
      "text/plain": [
       "{1, 2, 3, 4, 6}"
      ]
     },
     "execution_count": 44,
     "metadata": {},
     "output_type": "execute_result"
    }
   ],
   "source": [
    "set101.discard(5)\n",
    "set101.discard(42)\n",
    "set101"
   ]
  },
  {
   "cell_type": "code",
   "execution_count": 45,
   "metadata": {},
   "outputs": [],
   "source": [
    "#как видим, произошло удаление и с remove, и с discard. Новый сет не создается, модифицируется уже имеющийся сет!!!"
   ]
  },
  {
   "cell_type": "code",
   "execution_count": 46,
   "metadata": {},
   "outputs": [
    {
     "name": "stdout",
     "output_type": "stream",
     "text": [
      "120\n"
     ]
    }
   ],
   "source": [
    "#метод pop удаляет случайно выбранный (!) элемент и возвращает его в качестве результата\n",
    "set505 = {90, 100, 110, 120}\n",
    "popped_out_element = set505.pop()\n",
    "print(popped_out_element)"
   ]
  },
  {
   "cell_type": "code",
   "execution_count": 47,
   "metadata": {},
   "outputs": [
    {
     "name": "stdout",
     "output_type": "stream",
     "text": [
      "{90, 100, 110}\n"
     ]
    }
   ],
   "source": [
    "print(set505)"
   ]
  },
  {
   "cell_type": "code",
   "execution_count": 48,
   "metadata": {},
   "outputs": [],
   "source": [
    "#как видим со строки 46 и по текущую - из сета505 был удален и возвращен как ответ один элемент, а сам сет505 был\n",
    "#модифицирован, опять таки новый сет не возвращался!!!"
   ]
  },
  {
   "cell_type": "code",
   "execution_count": 49,
   "metadata": {},
   "outputs": [
    {
     "name": "stdout",
     "output_type": "stream",
     "text": [
      "{549, 3211, 654, 90, 987}\n",
      "set()\n"
     ]
    }
   ],
   "source": [
    "#для очистки сета можно использовать метод clear\n",
    "set606 = {90, 654, 987, 3211, 549}\n",
    "print(set606)\n",
    "set606.clear()\n",
    "print(set606)"
   ]
  },
  {
   "cell_type": "code",
   "execution_count": null,
   "metadata": {},
   "outputs": [],
   "source": []
  }
 ],
 "metadata": {
  "kernelspec": {
   "display_name": "Python 3",
   "language": "python",
   "name": "python3"
  },
  "language_info": {
   "codemirror_mode": {
    "name": "ipython",
    "version": 3
   },
   "file_extension": ".py",
   "mimetype": "text/x-python",
   "name": "python",
   "nbconvert_exporter": "python",
   "pygments_lexer": "ipython3",
   "version": "3.8.5"
  }
 },
 "nbformat": 4,
 "nbformat_minor": 4
}
