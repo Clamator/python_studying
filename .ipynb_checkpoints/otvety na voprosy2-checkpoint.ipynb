{
 "cells": [
  {
   "cell_type": "code",
   "execution_count": 14,
   "metadata": {},
   "outputs": [
    {
     "name": "stdout",
     "output_type": "stream",
     "text": [
      "Введите количество символов927\n",
      "9\n",
      "2\n",
      "7\n"
     ]
    }
   ],
   "source": [
    "numbers = input(\"Введите количество символов\")\n",
    "for i in numbers:\n",
    "    print(i)"
   ]
  },
  {
   "cell_type": "code",
   "execution_count": 16,
   "metadata": {},
   "outputs": [
    {
     "name": "stdout",
     "output_type": "stream",
     "text": [
      "Введите количество символов5\n",
      "55555\n"
     ]
    }
   ],
   "source": [
    "numbers = input(\"Введите количество символов\")\n",
    "for i in numbers:\n",
    "    print(i * int(numbers))"
   ]
  },
  {
   "cell_type": "code",
   "execution_count": 17,
   "metadata": {},
   "outputs": [
    {
     "name": "stdout",
     "output_type": "stream",
     "text": [
      "Введите количество символов5\n",
      "*****\n"
     ]
    }
   ],
   "source": [
    "numbers = input(\"Введите количество символов\")\n",
    "print(\"*\" * int(numbers))"
   ]
  },
  {
   "cell_type": "code",
   "execution_count": 27,
   "metadata": {},
   "outputs": [
    {
     "name": "stdout",
     "output_type": "stream",
     "text": [
      "Введите количество символов5\n",
      "*****\n",
      "******\n",
      "*******\n",
      "********\n",
      "*********\n",
      "**********\n",
      "all done\n"
     ]
    }
   ],
   "source": [
    "numbers = input(\"Введите количество символов\")\n",
    "x = 0\n",
    "while x<=int(numbers):\n",
    "    print((x + int(numbers)) * \"*\")\n",
    "    x+=1\n",
    "else:\n",
    "    print('all done')"
   ]
  },
  {
   "cell_type": "code",
   "execution_count": 45,
   "metadata": {},
   "outputs": [
    {
     "name": "stdout",
     "output_type": "stream",
     "text": [
      "5\n",
      "*\n",
      "**\n",
      "***\n",
      "****\n",
      "*****\n",
      "******\n",
      "all done\n"
     ]
    }
   ],
   "source": [
    "numbers = input()\n",
    "x = 0\n",
    "while x<=int(numbers):\n",
    "    print(int(x+1) * \"*\")\n",
    "    x+=1\n",
    "else:\n",
    "    print('all done')"
   ]
  },
  {
   "cell_type": "code",
   "execution_count": 50,
   "metadata": {},
   "outputs": [
    {
     "name": "stdout",
     "output_type": "stream",
     "text": [
      "5\n",
      "*\n",
      "**\n",
      "***\n",
      "****\n",
      "*****\n"
     ]
    }
   ],
   "source": [
    "number = int(input())\n",
    "x = 0\n",
    "for x in range(number):\n",
    "    print((x+1) * \"*\")"
   ]
  },
  {
   "cell_type": "code",
   "execution_count": 44,
   "metadata": {},
   "outputs": [
    {
     "name": "stdout",
     "output_type": "stream",
     "text": [
      "5\n",
      "0 is even\n",
      "1 is odd\n",
      "2 is even\n",
      "3 is odd\n",
      "4 is even\n",
      "5 is odd\n"
     ]
    }
   ],
   "source": [
    "numbers = input()\n",
    "for i in range(0, int(numbers)+1):\n",
    "    if i % 2 == 0:\n",
    "        print(f\"{i} is even\")\n",
    "    else:\n",
    "        print(f\"{i} is odd\")"
   ]
  },
  {
   "cell_type": "code",
   "execution_count": null,
   "metadata": {},
   "outputs": [],
   "source": []
  }
 ],
 "metadata": {
  "kernelspec": {
   "display_name": "Python 3",
   "language": "python",
   "name": "python3"
  },
  "language_info": {
   "codemirror_mode": {
    "name": "ipython",
    "version": 3
   },
   "file_extension": ".py",
   "mimetype": "text/x-python",
   "name": "python",
   "nbconvert_exporter": "python",
   "pygments_lexer": "ipython3",
   "version": "3.8.5"
  }
 },
 "nbformat": 4,
 "nbformat_minor": 4
}
