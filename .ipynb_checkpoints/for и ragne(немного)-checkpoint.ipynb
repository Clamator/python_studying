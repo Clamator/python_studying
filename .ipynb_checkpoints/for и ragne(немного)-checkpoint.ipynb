{
 "cells": [
  {
   "cell_type": "code",
   "execution_count": 1,
   "metadata": {},
   "outputs": [],
   "source": [
    "#for - наверное, главный цикл для того, чтобы проходить по коллекции элементов.\n",
    "# цикл for может проходить не только по листу(списку), но и вообще по любому типа iterable, то есть итерируемому - это слово значит, что по нему можно пройтись циклом"
   ]
  },
  {
   "cell_type": "code",
   "execution_count": 2,
   "metadata": {},
   "outputs": [
    {
     "name": "stdout",
     "output_type": "stream",
     "text": [
      "[1, 2, 3, 4, 5]\n"
     ]
    }
   ],
   "source": [
    "#в данном случае вывода элементов цикл не используется, а используется встроенная функция print\n",
    "#в рамках вызова данной функции мы не можем преобразовывать элемент\n",
    "numbers = [1,2,3,4,5]\n",
    "print(numbers)"
   ]
  },
  {
   "cell_type": "code",
   "execution_count": 3,
   "metadata": {},
   "outputs": [
    {
     "name": "stdout",
     "output_type": "stream",
     "text": [
      "1\n",
      "2\n",
      "3\n",
      "4\n",
      "5\n"
     ]
    }
   ],
   "source": [
    "#для цикла for мы (в этом примере) создаем переменную i и передаем ей некоторую переменную типа iterable, по которому можно пройтись циклом\n",
    "#далее, чтобы просто вывести, мы можем использовать функцию принт, передавая ей переменную, которую мы ввели\n",
    "for i in numbers:\n",
    "    print(i)\n",
    "#что здесь происходит: for образует цикл, в результате которого на каждом шаге \n",
    "#в введенную нами переменную будет записываться следующее значение из итерир типа\n",
    "#здесь каждое число записано отдельно, т.к. print была вызвана 5 раз"
   ]
  },
  {
   "cell_type": "code",
   "execution_count": 4,
   "metadata": {},
   "outputs": [
    {
     "name": "stdout",
     "output_type": "stream",
     "text": [
      "1\n",
      "4\n",
      "27\n",
      "256\n",
      "3125\n"
     ]
    }
   ],
   "source": [
    "#можно проводить некоторые манипуляци, которые мы не смогли бы проводить, используя просто print(numbers), например\n",
    "for i in numbers:\n",
    "    print(i**i)"
   ]
  },
  {
   "cell_type": "code",
   "execution_count": 5,
   "metadata": {},
   "outputs": [
    {
     "name": "stdout",
     "output_type": "stream",
     "text": [
      "1\n",
      "4\n",
      "9\n",
      "16\n",
      "25\n"
     ]
    }
   ],
   "source": [
    "for i in numbers:\n",
    "    print(i*i)"
   ]
  },
  {
   "cell_type": "code",
   "execution_count": 6,
   "metadata": {},
   "outputs": [
    {
     "name": "stdout",
     "output_type": "stream",
     "text": [
      "1\n",
      "2\n",
      "3\n",
      "4\n",
      "5\n",
      "6\n",
      "7\n",
      "8\n",
      "9\n"
     ]
    }
   ],
   "source": [
    "#чтобы создать диапазон чисел, можно использовать тип данных range, или как его назвать\n",
    "#работает так: range(1, 10) - тут говорится, что начинаем с 1, а заканчиваем 9, то есть число 10 уже не будет с диапазоне,\n",
    "numbers = range(1, 10)\n",
    "for i in numbers:\n",
    "    print(i)"
   ]
  },
  {
   "cell_type": "code",
   "execution_count": 9,
   "metadata": {},
   "outputs": [
    {
     "name": "stdout",
     "output_type": "stream",
     "text": [
      "1\n",
      "2\n",
      "3\n"
     ]
    }
   ],
   "source": [
    "#ее без проблем можно встраивать в цикл, но обязательно указывая диапазон\n",
    "for i in range(1, 4):\n",
    "    print(i)"
   ]
  },
  {
   "cell_type": "code",
   "execution_count": 11,
   "metadata": {},
   "outputs": [
    {
     "name": "stdout",
     "output_type": "stream",
     "text": [
      "1\n",
      "2\n",
      "3\n",
      "4\n",
      "6\n",
      "10\n",
      "90\n"
     ]
    }
   ],
   "source": [
    "#то же самое и со множествами\n",
    "x = {1, 2, 3, 4, 6, 10, 90}\n",
    "for i in x:\n",
    "    print(i)"
   ]
  },
  {
   "cell_type": "code",
   "execution_count": 12,
   "metadata": {},
   "outputs": [
    {
     "name": "stdout",
     "output_type": "stream",
     "text": [
      "<class 'tuple'>\n",
      "1\n",
      "2\n",
      "3\n",
      "4\n",
      "10\n"
     ]
    }
   ],
   "source": [
    "#и с таплами\n",
    "y = (1, 2, 3, 4, 10)\n",
    "print(type(y))\n",
    "for i in y:\n",
    "    print(i)"
   ]
  },
  {
   "cell_type": "code",
   "execution_count": 13,
   "metadata": {},
   "outputs": [
    {
     "name": "stdout",
     "output_type": "stream",
     "text": [
      "1 is odd\n",
      "2 is even\n",
      "3 is odd\n",
      "4 is even\n",
      "5 is odd\n",
      "6 is even\n",
      "7 is odd\n",
      "8 is even\n",
      "9 is odd\n",
      "10 is even\n"
     ]
    }
   ],
   "source": [
    "#в данном цикле возможно ветвление\n",
    "for i in range(1, 11):\n",
    "    if i % 2 == 0:\n",
    "        print(f\"{i} is even\")\n",
    "    else:\n",
    "        print(f\"{i} is odd\")"
   ]
  },
  {
   "cell_type": "code",
   "execution_count": 24,
   "metadata": {},
   "outputs": [
    {
     "data": {
      "text/plain": [
       "[1, 9, 25, 49, 81]"
      ]
     },
     "execution_count": 24,
     "metadata": {},
     "output_type": "execute_result"
    }
   ],
   "source": [
    "#если хочется иметь рядом еще и индекс элемента, то делаем так:\n",
    "#также в данном примере будет изменять список и записывать в него квадраты, тут вызываем функцию enumerate и передаем ей список\n",
    "numbers = [1, 3, 5, 7, 9]\n",
    "for i, item in enumerate(numbers):\n",
    "    numbers[i] **= 2\n",
    "numbers\n",
    "#здесь обязательно ставим тот оператор умножения, деления или еще чего и равно, без равно не будет работать\n",
    "#а как индекс указать - хз"
   ]
  },
  {
   "cell_type": "code",
   "execution_count": 25,
   "metadata": {},
   "outputs": [
    {
     "name": "stdout",
     "output_type": "stream",
     "text": [
      "A\n",
      "l\n",
      "e\n",
      "x\n"
     ]
    }
   ],
   "source": [
    "#можно пройтись и по строчкам\n",
    "name = \"Alex\"\n",
    "for i in name:\n",
    "    print(i)"
   ]
  },
  {
   "cell_type": "code",
   "execution_count": 26,
   "metadata": {},
   "outputs": [
    {
     "name": "stdout",
     "output_type": "stream",
     "text": [
      "zzzzz\n",
      "zzzzz\n",
      "zzzzz\n",
      "zzzzz\n",
      "zzzzz\n"
     ]
    }
   ],
   "source": [
    "#если никак не хотим называть переменную, то ставим _\n",
    "for _ in range(5):\n",
    "    print('zzzzz')"
   ]
  },
  {
   "cell_type": "code",
   "execution_count": 28,
   "metadata": {},
   "outputs": [
    {
     "name": "stdout",
     "output_type": "stream",
     "text": [
      "4\n",
      "('Vasya', 20)\n",
      "('Polya', 10)\n",
      "('Grisha', 30)\n",
      "('Kesha', 40)\n"
     ]
    }
   ],
   "source": [
    "#можно проходиться по списку кортежей(таплов)\n",
    "persons = [('Vasya', 20), ('Polya', 10), ('Grisha', 30), ('Kesha', 40)]\n",
    "print(len(persons))\n",
    "for p in persons:\n",
    "    print(p)"
   ]
  },
  {
   "cell_type": "code",
   "execution_count": 33,
   "metadata": {},
   "outputs": [
    {
     "name": "stdout",
     "output_type": "stream",
     "text": [
      "Vasya is 7 years old\n",
      "Polya is 17 years old\n",
      "Grisha is 19 years old\n",
      "Kesha is 14 years old\n"
     ]
    }
   ],
   "source": [
    "#для того,чтобы прейтись циклом по списку, который содержить таплы, пройтись и извлечь значения из тапла, есть кое что\n",
    "#делаем так - называется тапл_анпэкинг\n",
    "persons = [('Vasya', 7), ('Polya', 17), ('Grisha', 19), ('Kesha', 14)]\n",
    "for (name, age) in persons:\n",
    "    print(f'{name} is {age} years old')"
   ]
  },
  {
   "cell_type": "code",
   "execution_count": 34,
   "metadata": {},
   "outputs": [
    {
     "name": "stdout",
     "output_type": "stream",
     "text": [
      "Alex\n",
      "Kesha\n",
      "Chloya\n"
     ]
    }
   ],
   "source": [
    "#работа со словарями, item - это просто название переменной, оно мб любым\n",
    "#в этом примере мы получаем именно ключи\n",
    "players = dict(Alex = 10, Kesha = 9, Chloya = 11)\n",
    "for item in players:\n",
    "    print(item)"
   ]
  },
  {
   "cell_type": "code",
   "execution_count": 36,
   "metadata": {},
   "outputs": [
    {
     "name": "stdout",
     "output_type": "stream",
     "text": [
      "('Alex', 10)\n",
      "('Kesha', 9)\n",
      "('Chloya', 11)\n"
     ]
    }
   ],
   "source": [
    "#можно вытащить пары ключ-значение при помощи функции items,\n",
    "#в данном случае будут возвращены списки таплов, которые мы можем распаковать(в этом примере без распаковки)\n",
    "for item in players.items():\n",
    "    print(item)"
   ]
  },
  {
   "cell_type": "code",
   "execution_count": 39,
   "metadata": {},
   "outputs": [
    {
     "name": "stdout",
     "output_type": "stream",
     "text": [
      "Alex is 10 years old.\n",
      "Kesha is 9 years old.\n",
      "Chloya is 11 years old.\n"
     ]
    }
   ],
   "source": [
    "#в данном примере мы создали словарь с тремя парами, и вместо того, чтобы вытаскивать просто пары, как в примере ранее\n",
    "#мы их сразу распаковываем в текст\n",
    "players = dict(Alex = 10, Kesha = 9, Chloya = 11)\n",
    "for (name, age) in players.items():\n",
    "    print(f\"{name} is {age} years old.\")"
   ]
  },
  {
   "cell_type": "code",
   "execution_count": 40,
   "metadata": {},
   "outputs": [
    {
     "name": "stdout",
     "output_type": "stream",
     "text": [
      "10\n",
      "9\n",
      "11\n"
     ]
    }
   ],
   "source": [
    "#если нас интересуют значения, то используем функцию values\n",
    "for v in players.values():\n",
    "    print(v)"
   ]
  },
  {
   "cell_type": "code",
   "execution_count": 43,
   "metadata": {},
   "outputs": [
    {
     "name": "stdout",
     "output_type": "stream",
     "text": [
      "[(-8, 8), (2, -2), (4, -4), (-7, 7), (5, -5)]\n"
     ]
    }
   ],
   "source": [
    "#двойной вложенный цикл, цикл в цикле\n",
    "#создаем два списка с элементами, для нахождения всех пар, которые будут давать 0 в сумме, мы создаем двойной вложенный цикл\n",
    "#создаем пустой список под названием \"пары\", в него потом будет пихать найденные пары\n",
    "#сначала создаем цикл for для первого списка, в нем создаем цикл for для второго списка. \n",
    "# система берет первый элемент из списка Х и первый из У, складывает, проверяет сумму, если 0 - добавляет в список Пары\n",
    "# так она проходит по всем элементам второго списка, стоя на первом элементе первого списка\n",
    "# затем она берет следующий элемент из первого списка и опять проходится по второму, складывая их между собой\n",
    "# и так до тех пор, пока она не пройдется по всем элементам обоих списков\n",
    "#добавляются элементы в качестве типа тапл\n",
    "list1 = [1, -8, -5, 2, 4, 8, -7, 5, -4]\n",
    "list2 = [-3, -5, 8, 9, -4, 7, - 7, -2, 2]\n",
    "\n",
    "pairs = []\n",
    "for x in list1:\n",
    "    for y in list2:\n",
    "        cur_sum = x + y\n",
    "        if cur_sum == 0:\n",
    "            pairs.append((x, y))\n",
    "print(pairs)"
   ]
  },
  {
   "cell_type": "code",
   "execution_count": null,
   "metadata": {},
   "outputs": [],
   "source": []
  }
 ],
 "metadata": {
  "kernelspec": {
   "display_name": "Python 3",
   "language": "python",
   "name": "python3"
  },
  "language_info": {
   "codemirror_mode": {
    "name": "ipython",
    "version": 3
   },
   "file_extension": ".py",
   "mimetype": "text/x-python",
   "name": "python",
   "nbconvert_exporter": "python",
   "pygments_lexer": "ipython3",
   "version": "3.8.5"
  }
 },
 "nbformat": 4,
 "nbformat_minor": 4
}
