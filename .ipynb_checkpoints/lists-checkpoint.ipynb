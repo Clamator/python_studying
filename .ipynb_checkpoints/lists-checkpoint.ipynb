{
 "cells": [
  {
   "cell_type": "code",
   "execution_count": 1,
   "metadata": {},
   "outputs": [],
   "source": [
    "#коллекция - набор данных, содержащих набор элементов. Наиболее частый тип данных для обработки коллекция является тип list.\n",
    "int_list = [1, 2, 3]"
   ]
  },
  {
   "cell_type": "code",
   "execution_count": 2,
   "metadata": {},
   "outputs": [],
   "source": [
    "mixed_list = [1, 2.0, 'string']\n",
    "#но обычно список содержит данные одного типа"
   ]
  },
  {
   "cell_type": "code",
   "execution_count": 3,
   "metadata": {},
   "outputs": [
    {
     "data": {
      "text/plain": [
       "3"
      ]
     },
     "execution_count": 3,
     "metadata": {},
     "output_type": "execute_result"
    }
   ],
   "source": [
    "len(int_list)\n",
    "#длина - 3 символа"
   ]
  },
  {
   "cell_type": "code",
   "execution_count": 4,
   "metadata": {},
   "outputs": [
    {
     "name": "stdout",
     "output_type": "stream",
     "text": [
      "1\n",
      "3\n",
      "[2, 3]\n"
     ]
    }
   ],
   "source": [
    "print(int_list[0])\n",
    "#элемент по индексу 2 в списке - число 3\n",
    "print(int_list[-1])\n",
    "print(int_list[1:])"
   ]
  },
  {
   "cell_type": "code",
   "execution_count": 5,
   "metadata": {},
   "outputs": [
    {
     "name": "stdout",
     "output_type": "stream",
     "text": [
      "['Alex', 'John', 'Kesha', 'Gimli', 'Aragorn', 'Galadriel']\n"
     ]
    }
   ],
   "source": [
    "#конкатенация\n",
    "names_1 = [\"Alex\", \"John\", \"Kesha\"]\n",
    "names_2 = [\"Gimli\", \"Aragorn\", \"Galadriel\"]\n",
    "names = (names_1 + names_2)\n",
    "print(names)"
   ]
  },
  {
   "cell_type": "code",
   "execution_count": 6,
   "metadata": {},
   "outputs": [
    {
     "data": {
      "text/plain": [
       "['Gandalf', 'John', 'Kesha']"
      ]
     },
     "execution_count": 6,
     "metadata": {},
     "output_type": "execute_result"
    }
   ],
   "source": [
    "#списки являются изменяемым типом данных\n",
    "names_1[0] = \"Gandalf\"\n",
    "names_1"
   ]
  },
  {
   "cell_type": "code",
   "execution_count": 7,
   "metadata": {},
   "outputs": [
    {
     "data": {
      "text/plain": [
       "['Gandalf', 'John', 'Kesha', 'Legolas']"
      ]
     },
     "execution_count": 7,
     "metadata": {},
     "output_type": "execute_result"
    }
   ],
   "source": [
    "names_1.append(\"Legolas\")\n",
    "names_1"
   ]
  },
  {
   "cell_type": "code",
   "execution_count": 8,
   "metadata": {},
   "outputs": [
    {
     "name": "stdout",
     "output_type": "stream",
     "text": [
      "Legolas\n",
      "['Gandalf', 'John', 'Kesha']\n"
     ]
    }
   ],
   "source": [
    "#удаление последнего элемента с конца - функция pop, но также она и возвращает(то есть показывает, что ли) последний удаленный\n",
    "popped = names_1.pop()\n",
    "print(popped)\n",
    "print(names_1)"
   ]
  },
  {
   "cell_type": "code",
   "execution_count": 11,
   "metadata": {},
   "outputs": [
    {
     "name": "stdout",
     "output_type": "stream",
     "text": [
      "Kesha\n",
      "['Gandalf', 'John']\n"
     ]
    }
   ],
   "source": [
    "#удаление по индексу также доступно? без индекса(предыд пример), по умолчанию будет индекс -1, последний символ\n",
    "popped_2 = names_1.pop(2)\n",
    "print(popped_2)\n",
    "print(names_1)"
   ]
  },
  {
   "cell_type": "code",
   "execution_count": 12,
   "metadata": {},
   "outputs": [
    {
     "name": "stdout",
     "output_type": "stream",
     "text": [
      "['Gandalf', 'John', 'Misha', 'Sveta', 'Tanya']\n"
     ]
    }
   ],
   "source": [
    "#доступна сортировка списков, по умолчанию идет просто в алфавитном порядке, вплоть до букв\n",
    "names_1.append(\"Misha\")\n",
    "names_1.append(\"Tanya\")\n",
    "names_1.append(\"Sveta\")\n",
    "names_1.sort()\n",
    "print(names_1)"
   ]
  },
  {
   "cell_type": "code",
   "execution_count": 14,
   "metadata": {},
   "outputs": [
    {
     "name": "stdout",
     "output_type": "stream",
     "text": [
      "[-1500, -77, -1, 0, 5, 7, 9, 12, 14, 33, 75]\n"
     ]
    }
   ],
   "source": [
    "#с цифрами то же самое - пишет в нарастании от -бесконечности к +бесконечночти\n",
    "list_123 = [7, 5, 9, 75, 12, 14, 33, -1, 0, - 77, -1500]\n",
    "list_123.sort()\n",
    "print(list_123)"
   ]
  },
  {
   "cell_type": "code",
   "execution_count": 15,
   "metadata": {},
   "outputs": [
    {
     "name": "stdout",
     "output_type": "stream",
     "text": [
      "['aa', 'ag', 'as', 'at', 'ba', 'bc', 'bk']\n"
     ]
    }
   ],
   "source": [
    "#сами буквы, непосредственно\n",
    "letters = ['as', 'aa', 'ag', 'bc', 'ba', 'bk', 'at']\n",
    "letters.sort()\n",
    "print(letters)"
   ]
  },
  {
   "cell_type": "code",
   "execution_count": 16,
   "metadata": {},
   "outputs": [
    {
     "name": "stdout",
     "output_type": "stream",
     "text": [
      "['aae', 'ag', 'age', 'agl', 'agt', 'ast', 'at', 'ba', 'bc', 'bk']\n"
     ]
    }
   ],
   "source": [
    "letters = ['ast', 'aae', 'ag', 'bc', 'ba', 'bk', 'at', 'agt', 'age', 'agl']\n",
    "letters.sort()\n",
    "print(letters)"
   ]
  },
  {
   "cell_type": "code",
   "execution_count": 17,
   "metadata": {},
   "outputs": [
    {
     "name": "stdout",
     "output_type": "stream",
     "text": [
      "['a', 'ab', 'abc']\n"
     ]
    }
   ],
   "source": [
    "#можно сортировать по длине строк, входящих в список, тут требуется какой-либо ключ(key), к нему применяется функция len\n",
    "#это значит, что будет вызываться функция len, и ей будет передаваться текущий элемент\n",
    "#\n",
    "letters_2 = ['abc', 'ab', 'a']\n",
    "letters_2.sort(key=len)\n",
    "print(letters_2)"
   ]
  },
  {
   "cell_type": "code",
   "execution_count": null,
   "metadata": {},
   "outputs": [],
   "source": [
    "#списки можно реверсировать с помощью функции reverse\n"
   ]
  },
  {
   "cell_type": "code",
   "execution_count": 19,
   "metadata": {},
   "outputs": [
    {
     "name": "stdout",
     "output_type": "stream",
     "text": [
      "['ast', 'aae', 'ag', 'bc', 'ba', 'bk', 'at', 'agt', 'age', 'agl']\n",
      "['agl', 'age', 'agt', 'at', 'bk', 'ba', 'bc', 'ag', 'aae', 'ast']\n"
     ]
    }
   ],
   "source": [
    "letters = ['ast', 'aae', 'ag', 'bc', 'ba', 'bk', 'at', 'agt', 'age', 'agl']\n",
    "print(letters)\n",
    "letters.reverse()\n",
    "print(letters)"
   ]
  },
  {
   "cell_type": "code",
   "execution_count": 22,
   "metadata": {},
   "outputs": [
    {
     "name": "stdout",
     "output_type": "stream",
     "text": [
      "[1, 2, 9, 92, 33, 62, 45, 90, -1, 0]\n",
      "[-1, 0, 1, 2, 9, 33, 45, 62, 90, 92]\n",
      "[92, 90, 62, 45, 33, 9, 2, 1, 0, -1]\n",
      "[92, 90, 62, 45, 33, 9, 2, 1, 0, -1]\n"
     ]
    }
   ],
   "source": [
    "#как можно включить сортировуц по убыванию - это первый вариант, сам додумался\n",
    "list_01 = [1, 2, 9, 92, 33, 62, 45, 90, -1, 0]\n",
    "print(list_01)\n",
    "list_01.sort()\n",
    "print(list_01)\n",
    "list_01.reverse()\n",
    "print(list_01)\n",
    "#а вот второй, уже лаконичнее\n",
    "list_01.sort(reverse=True)\n",
    "print(list_01)"
   ]
  },
  {
   "cell_type": "code",
   "execution_count": 23,
   "metadata": {},
   "outputs": [
    {
     "name": "stdout",
     "output_type": "stream",
     "text": [
      "[92, 90, 62, 45, 15080, 33, 9, 2, 1, 0, -1]\n"
     ]
    }
   ],
   "source": [
    "#можно добавить элементы не только в конец списка, но и вообще по индексу, первое значение - на какой индекс ставим элемент,\n",
    "#второе - что за элемент\n",
    "list_01.insert(4, 15080)\n",
    "print(list_01)"
   ]
  },
  {
   "cell_type": "code",
   "execution_count": 25,
   "metadata": {},
   "outputs": [
    {
     "data": {
      "text/plain": [
       "3"
      ]
     },
     "execution_count": 25,
     "metadata": {},
     "output_type": "execute_result"
    }
   ],
   "source": [
    "#поиск индекса по конкретному элементу - какой индекс у цифры 45?\n",
    "list_01.index(45)"
   ]
  },
  {
   "cell_type": "code",
   "execution_count": 31,
   "metadata": {},
   "outputs": [
    {
     "name": "stdout",
     "output_type": "stream",
     "text": [
      "10\n"
     ]
    },
    {
     "data": {
      "text/plain": [
       "5"
      ]
     },
     "execution_count": 31,
     "metadata": {},
     "output_type": "execute_result"
    }
   ],
   "source": [
    "#чтобы подсчитать, сколько одинаковых элементов в списке, есть функция count, а len - это общее кол-во элементов\n",
    "list_02 = [5, 1, 5, 0, 5, 7, 4, 5, 7, 5]\n",
    "print(len(list_02))\n",
    "list_02.count(5)\n"
   ]
  },
  {
   "cell_type": "code",
   "execution_count": 32,
   "metadata": {},
   "outputs": [
    {
     "name": "stdout",
     "output_type": "stream",
     "text": [
      "[5, 1, 5, 0, 5, 7, 4, 5, 7, 5]\n"
     ]
    }
   ],
   "source": [
    "#копирование списка - copy\n",
    "copy = list_02.copy()\n",
    "print(copy)"
   ]
  },
  {
   "cell_type": "code",
   "execution_count": 33,
   "metadata": {},
   "outputs": [
    {
     "name": "stdout",
     "output_type": "stream",
     "text": [
      "[0, 0, 2, 4, 7]\n",
      "[]\n"
     ]
    }
   ],
   "source": [
    "#очистка\n",
    "list_03 = [0, 0, 2, 4, 7]\n",
    "print(list_03)\n",
    "list_03.clear()\n",
    "print(list_03)\n"
   ]
  },
  {
   "cell_type": "code",
   "execution_count": null,
   "metadata": {},
   "outputs": [],
   "source": []
  },
  {
   "cell_type": "code",
   "execution_count": null,
   "metadata": {},
   "outputs": [],
   "source": []
  }
 ],
 "metadata": {
  "kernelspec": {
   "display_name": "Python 3",
   "language": "python",
   "name": "python3"
  },
  "language_info": {
   "codemirror_mode": {
    "name": "ipython",
    "version": 3
   },
   "file_extension": ".py",
   "mimetype": "text/x-python",
   "name": "python",
   "nbconvert_exporter": "python",
   "pygments_lexer": "ipython3",
   "version": "3.8.5"
  }
 },
 "nbformat": 4,
 "nbformat_minor": 4
}
