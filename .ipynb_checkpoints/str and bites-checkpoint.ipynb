{
 "cells": [
  {
   "cell_type": "code",
   "execution_count": 1,
   "metadata": {},
   "outputs": [],
   "source": [
    "#есть несколько стандарты для кодировки страниц, каждая кодировочная таблица определяет некоторый рейндж - набор чисел - которыми\n",
    "#нумеруются символы. В разных таблицах может использоваться разное количество байт для представления одного символа\n",
    "#сам по себе пайтон использует юникод для кодировки символов. Самый распространненый стандарт кодировки - UTF-8, это подмножество юникода"
   ]
  },
  {
   "cell_type": "code",
   "execution_count": 2,
   "metadata": {},
   "outputs": [
    {
     "data": {
      "text/plain": [
       "'utf-8'"
      ]
     },
     "execution_count": 2,
     "metadata": {},
     "output_type": "execute_result"
    }
   ],
   "source": [
    "import sys\n",
    "sys.getdefaultencoding()"
   ]
  },
  {
   "cell_type": "code",
   "execution_count": 3,
   "metadata": {},
   "outputs": [],
   "source": [
    "#UTF-8 - это представление юникода в восьмибитном виде, как один байт\n",
    "#количество байтов для представления символов мб плавающим\n",
    "#кодировочные таблицы позволяют переводить байты в символьное представление и обратно"
   ]
  },
  {
   "cell_type": "code",
   "execution_count": 10,
   "metadata": {},
   "outputs": [
    {
     "data": {
      "text/plain": [
       "97"
      ]
     },
     "execution_count": 10,
     "metadata": {},
     "output_type": "execute_result"
    }
   ],
   "source": [
    "ord(\"a\")"
   ]
  },
  {
   "cell_type": "code",
   "execution_count": 11,
   "metadata": {},
   "outputs": [
    {
     "data": {
      "text/plain": [
       "'a'"
      ]
     },
     "execution_count": 11,
     "metadata": {},
     "output_type": "execute_result"
    }
   ],
   "source": [
    "chr(97)"
   ]
  },
  {
   "cell_type": "code",
   "execution_count": 18,
   "metadata": {},
   "outputs": [
    {
     "name": "stdout",
     "output_type": "stream",
     "text": [
      "<class 'bytes'>\n",
      "b'hello'\n",
      "b'hello'\n",
      "b'\\xff\\xfeh\\x00e\\x00l\\x00l\\x00o\\x00'\n"
     ]
    }
   ],
   "source": [
    "#тут, например, будем переводить это слово, для этого надо вызвать функцию encode, \n",
    "#и в метод encode обязательно передаем кодировочную таблицу, они все именованные\n",
    "\n",
    "s = \"hello\"\n",
    "enc_ascii = s.encode(\"ascii\")\n",
    "enc_utf8 = s.encode(\"utf8\")\n",
    "enc_utf16 = s.encode(\"utf16\")\n",
    "\n",
    "print(type(enc_ascii))\n",
    "print(enc_ascii)\n",
    "print(enc_utf8)\n",
    "print(enc_utf16)\n",
    "\n",
    "#метод encode возвращает тип bytes, этим образом мы переводим символы в непосредственно байтовое представление\n",
    "#префикс b и говорит, что представление байтовое  "
   ]
  },
  {
   "cell_type": "code",
   "execution_count": 19,
   "metadata": {},
   "outputs": [
    {
     "name": "stdout",
     "output_type": "stream",
     "text": [
      "5\n",
      "5\n",
      "12\n"
     ]
    }
   ],
   "source": [
    "print(len(enc_ascii))\n",
    "print(len(enc_utf8))\n",
    "print(len(enc_utf16))"
   ]
  },
  {
   "cell_type": "code",
   "execution_count": 20,
   "metadata": {},
   "outputs": [],
   "source": [
    "#видим, что в аскии и ютф8 было выделено по 1 байту, а ютф16 - 12 символов, ютф16 использует 2 байта на символ\n",
    "#о кодировке особо можно не париться, пока не будет необходимости перенаправить файл куда-либо(хз, насколько правильно я понял и вообще надо ли это все)\n"
   ]
  },
  {
   "cell_type": "code",
   "execution_count": 21,
   "metadata": {},
   "outputs": [
    {
     "name": "stdout",
     "output_type": "stream",
     "text": [
      "<class 'bytes'>\n",
      "<class 'bytes'>\n",
      "<class 'str'>\n"
     ]
    }
   ],
   "source": [
    "#чтобы перевести строку в байты, можно сразу использовать строковый литерал b\n",
    "str_in_bytes = b\"hello\"\n",
    "#можно сделать и по другому - воспользоваться функцией encodе, но тут надо будет передать ему кодировочную таблицу\n",
    "str_in_bytes2 = s.encode(\"utf8\")\n",
    "str_in_text = \"hello\"\n",
    "print(type(str_in_bytes))\n",
    "print(type(str_in_bytes2))\n",
    "print(type(str_in_text))"
   ]
  },
  {
   "cell_type": "code",
   "execution_count": 22,
   "metadata": {},
   "outputs": [
    {
     "name": "stdout",
     "output_type": "stream",
     "text": [
      "b'bytes'\n",
      "b'\\xd0\\xb1\\xd0\\xb0\\xd0\\xb9\\xd1\\x82\\xd1\\x8b'\n"
     ]
    }
   ],
   "source": [
    "#можно функцию encode вызвать напрямую\n",
    "print(\"bytes\".encode(\"utf8\"))\n",
    "print(\"байты\".encode(\"utf8\"))"
   ]
  },
  {
   "cell_type": "code",
   "execution_count": 23,
   "metadata": {},
   "outputs": [
    {
     "name": "stdout",
     "output_type": "stream",
     "text": [
      "104\n",
      "h\n"
     ]
    }
   ],
   "source": [
    "#можно обратиться по символу\n",
    "print(str_in_bytes[0])\n",
    "print(str_in_text[0])"
   ]
  },
  {
   "cell_type": "code",
   "execution_count": 24,
   "metadata": {},
   "outputs": [
    {
     "name": "stdout",
     "output_type": "stream",
     "text": [
      "bytearray(b'Wello')\n"
     ]
    }
   ],
   "source": [
    "#str и bytes являются неизменяемыми. однако можно использовать тип bytearray, тут меняем по индексу из таблицы\n",
    "ba = bytearray(b'hello')\n",
    "ba[0] = 87\n",
    "print(ba)"
   ]
  },
  {
   "cell_type": "code",
   "execution_count": 25,
   "metadata": {},
   "outputs": [
    {
     "name": "stdout",
     "output_type": "stream",
     "text": [
      "b'hello'\n"
     ]
    },
    {
     "data": {
      "text/plain": [
       "8"
      ]
     },
     "execution_count": 25,
     "metadata": {},
     "output_type": "execute_result"
    }
   ],
   "source": [
    "#нельзя переводить байты обратно в строку при помощи конструкции str, по крайней мере без указания кодировки, т.к.\n",
    "#переведенные символы b и '' будут также считаться символами, хотя нам нужно увидеть просто hello\n",
    "result = str(str_in_bytes)\n",
    "print(result)\n",
    "len(result)"
   ]
  },
  {
   "cell_type": "code",
   "execution_count": 26,
   "metadata": {},
   "outputs": [
    {
     "name": "stdout",
     "output_type": "stream",
     "text": [
      "hello\n"
     ]
    },
    {
     "data": {
      "text/plain": [
       "5"
      ]
     },
     "execution_count": 26,
     "metadata": {},
     "output_type": "execute_result"
    }
   ],
   "source": [
    "#поэтому надо передавать ту кодировку, в которой был закодирован текст\n",
    "result = str(str_in_bytes, \"utf8\")\n",
    "print(result)\n",
    "len(result)"
   ]
  },
  {
   "cell_type": "code",
   "execution_count": 27,
   "metadata": {},
   "outputs": [],
   "source": [
    "    #не все кодировочные таблицы совместимы друг с другом, иногда являются подмножеством других таблиц"
   ]
  },
  {
   "cell_type": "code",
   "execution_count": 29,
   "metadata": {},
   "outputs": [
    {
     "name": "stdout",
     "output_type": "stream",
     "text": [
      "hello\n"
     ]
    }
   ],
   "source": [
    "results = str_in_bytes.decode(\"utf8\")\n",
    "print(results)\n",
    "#декодинг из байт в строку\n",
    "#писать байты в файл нужно специальным образом, т.к. файлы - это не всегда просто текст, это мб и картинки, и прочее"
   ]
  },
  {
   "cell_type": "code",
   "execution_count": 39,
   "metadata": {},
   "outputs": [],
   "source": [
    "jpeg = [120, 3, 255, 0, 100] #это int, но int состоит из байтов\n",
    "with open(r'C:\\Users\\Clamator\\JupyterRoot\\btest.txt', 'w+ b') as file:\n",
    "    file.write(bytes(jpeg))"
   ]
  },
  {
   "cell_type": "code",
   "execution_count": 35,
   "metadata": {},
   "outputs": [],
   "source": [
    "with open(r'C:\\Users\\Clamator\\JupyterRoot\\btest.bin', 'rb') as file:\n",
    "    data = file.read()\n",
    "    for b in data:\n",
    "        print(b)"
   ]
  },
  {
   "cell_type": "code",
   "execution_count": null,
   "metadata": {},
   "outputs": [],
   "source": []
  },
  {
   "cell_type": "code",
   "execution_count": 3,
   "metadata": {},
   "outputs": [
    {
     "name": "stdout",
     "output_type": "stream",
     "text": [
      "1, 2, 3. 4, 5, 6. "
     ]
    }
   ],
   "source": [
    "print(1, 2, 3, sep=', ', end='. ')\n",
    "print(4, 5, 6, sep=', ', end='. ')"
   ]
  },
  {
   "cell_type": "code",
   "execution_count": 4,
   "metadata": {},
   "outputs": [
    {
     "name": "stdout",
     "output_type": "stream",
     "text": [
      "1 2 3.1 2 3."
     ]
    }
   ],
   "source": [
    "print(1, 2, 3, sep = ' ', end = '.')\n",
    "print(1, 2, 3, sep = ' ', end = '.')"
   ]
  },
  {
   "cell_type": "code",
   "execution_count": null,
   "metadata": {},
   "outputs": [],
   "source": []
  },
  {
   "cell_type": "code",
   "execution_count": 1,
   "metadata": {},
   "outputs": [
    {
     "name": "stdout",
     "output_type": "stream",
     "text": [
      "5\n",
      "The next number for the number 5 is 6.\n",
      "The next number for the number 5 is 4.\n"
     ]
    }
   ],
   "source": [
    "a = int(input())\n",
    "b = a + 1\n",
    "c = a - 1\n",
    "print(f'The next number for the number {a} is {b}.')\n",
    "\n",
    "print(f'The next number for the number {a} is {c}.')"
   ]
  },
  {
   "cell_type": "code",
   "execution_count": 28,
   "metadata": {},
   "outputs": [
    {
     "name": "stdout",
     "output_type": "stream",
     "text": [
      "1\n",
      "2 30\n"
     ]
    }
   ],
   "source": [
    "minutes_left = int(input())\n",
    "hours = minites_left//60\n",
    "minutes = minites_left%60\n",
    "print(hours, minutes)"
   ]
  },
  {
   "cell_type": "code",
   "execution_count": 24,
   "metadata": {},
   "outputs": [
    {
     "name": "stdout",
     "output_type": "stream",
     "text": [
      "180\n",
      "0\n"
     ]
    }
   ],
   "source": [
    "minutes_left = int(input())\n",
    "\n",
    "hours = minutes_left//60\n",
    "minutes = minutes_left%60\n",
    "days = hours/24\n",
    "if days == 0:\n",
    "    print(hours, minutes)\n",
    "else:\n",
    "    print('0')"
   ]
  },
  {
   "cell_type": "code",
   "execution_count": 32,
   "metadata": {},
   "outputs": [
    {
     "ename": "NameError",
     "evalue": "name 'sign' is not defined",
     "output_type": "error",
     "traceback": [
      "\u001b[1;31m---------------------------------------------------------------------------\u001b[0m",
      "\u001b[1;31mNameError\u001b[0m                                 Traceback (most recent call last)",
      "\u001b[1;32m<ipython-input-32-4b28bcaf98bd>\u001b[0m in \u001b[0;36m<module>\u001b[1;34m\u001b[0m\n\u001b[0;32m      1\u001b[0m \u001b[1;32mimport\u001b[0m \u001b[0mmath\u001b[0m\u001b[1;33m\u001b[0m\u001b[1;33m\u001b[0m\u001b[0m\n\u001b[0;32m      2\u001b[0m \u001b[0mx\u001b[0m \u001b[1;33m=\u001b[0m \u001b[1;36m5\u001b[0m\u001b[1;33m\u001b[0m\u001b[1;33m\u001b[0m\u001b[0m\n\u001b[1;32m----> 3\u001b[1;33m \u001b[0msign\u001b[0m\u001b[1;33m(\u001b[0m\u001b[0mx\u001b[0m\u001b[1;33m)\u001b[0m\u001b[1;33m\u001b[0m\u001b[1;33m\u001b[0m\u001b[0m\n\u001b[0m",
      "\u001b[1;31mNameError\u001b[0m: name 'sign' is not defined"
     ]
    }
   ],
   "source": [
    "import math\n",
    "x = 5\n",
    "sign(x)"
   ]
  },
  {
   "cell_type": "code",
   "execution_count": 3,
   "metadata": {},
   "outputs": [
    {
     "name": "stdout",
     "output_type": "stream",
     "text": [
      "aaaafaaafaaa\n",
      "4\n"
     ]
    }
   ],
   "source": [
    "#найти второе вхождение\n",
    "s = input()\n",
    "y = s.find('f')\n",
    "z = s.find('f', y+1)\n",
    "\n",
    "if 'f' in s:\n",
    "    print(z)\n",
    "elif s.count('f') == 1:\n",
    "    print(-1)\n",
    "elif s.count('f') ==0:\n",
    "    print(-2)\n"
   ]
  },
  {
   "cell_type": "code",
   "execution_count": null,
   "metadata": {},
   "outputs": [],
   "source": []
  }
 ],
 "metadata": {
  "kernelspec": {
   "display_name": "Python 3",
   "language": "python",
   "name": "python3"
  },
  "language_info": {
   "codemirror_mode": {
    "name": "ipython",
    "version": 3
   },
   "file_extension": ".py",
   "mimetype": "text/x-python",
   "name": "python",
   "nbconvert_exporter": "python",
   "pygments_lexer": "ipython3",
   "version": "3.8.5"
  }
 },
 "nbformat": 4,
 "nbformat_minor": 4
}
