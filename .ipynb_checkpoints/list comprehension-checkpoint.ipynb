{
 "cells": [
  {
   "cell_type": "code",
   "execution_count": 1,
   "metadata": {},
   "outputs": [
    {
     "name": "stdout",
     "output_type": "stream",
     "text": [
      "['h', 'e', 'l', 'l', 'o', ',', ' ', 'w', 'o', 'r', 'l', 'd']\n"
     ]
    }
   ],
   "source": [
    "#если надо из какого-то элемента, типа строки или еще чего там выделить список элементов по отдельности, то есть\n",
    "#лист компрехеншн, он позволяет лаконично выводить эти символы\n",
    "#будет два примера, как делать это долго и как делать это быстро, используя Л-К\n",
    "\n",
    "list1 = \"hello, world\"\n",
    "chars = []\n",
    "for i in list1:\n",
    "    chars.append(i)\n",
    "print(chars)\n",
    "#тут показан более длинный путь"
   ]
  },
  {
   "cell_type": "code",
   "execution_count": 2,
   "metadata": {},
   "outputs": [
    {
     "name": "stdout",
     "output_type": "stream",
     "text": [
      "['h', 'e', 'l', 'l', 'o', ',', ' ', 'w', 'o', 'r', 'l', 'd']\n"
     ]
    }
   ],
   "source": [
    "#а вот более быстрый метод\n",
    "list1 = \"hello, world\"\n",
    "chars = [i for i in list1]\n",
    "print(chars)\n",
    "#тут текст в три строки всего, при этом выполнена вся та же функция, просто перед циклом for стоит та же самая переменная\n",
    "#куда записываются элементы фразы"
   ]
  },
  {
   "cell_type": "code",
   "execution_count": 3,
   "metadata": {},
   "outputs": [
    {
     "name": "stdout",
     "output_type": "stream",
     "text": [
      "['p', 'i', 'd', 'e', 'r', 's', 'i', 'a']\n"
     ]
    }
   ],
   "source": [
    "#можно вообще не создавать переменную, а писать сразу в цикл\n",
    "itog = [l for l in \"pidersia\"]\n",
    "print(itog)"
   ]
  },
  {
   "cell_type": "code",
   "execution_count": 5,
   "metadata": {},
   "outputs": [
    {
     "name": "stdout",
     "output_type": "stream",
     "text": [
      "[1, 2, 3, 4, 5, 6, 7, 8, 9, 10, 11, 12, 13, 14, 15, 16, 17, 18, 19]\n"
     ]
    }
   ],
   "source": [
    "#в этом примере я сначала определил переменную, в которой указан диапазон цифр, а можно по другому\n",
    "list2 = range(1, 20)\n",
    "itog2 = [o for o in list2]\n",
    "print(itog2)"
   ]
  },
  {
   "cell_type": "code",
   "execution_count": 7,
   "metadata": {},
   "outputs": [
    {
     "name": "stdout",
     "output_type": "stream",
     "text": [
      "[1, 2, 3, 4, 5, 6, 7, 8, 9, 10, 11, 12, 13, 14, 15, 16, 17, 18, 19]\n"
     ]
    }
   ],
   "source": [
    "#вот так, создавая переменную, сразу вкладываем в нее цикл\n",
    "itog3 = [p for p in range(1, 20)]\n",
    "print(itog3)"
   ]
  },
  {
   "cell_type": "code",
   "execution_count": 8,
   "metadata": {},
   "outputs": [
    {
     "name": "stdout",
     "output_type": "stream",
     "text": [
      "[0, 1, 4, 9, 16, 25, 36, 49, 64, 81, 100]\n"
     ]
    }
   ],
   "source": [
    "#в данном случае левая часть(?) используется для модификации текущего элемента\n",
    "#например, можно авбрать квадраты чисел\n",
    "itog3 = [n*n for n in range(0,11)]\n",
    "print(itog3)"
   ]
  },
  {
   "cell_type": "code",
   "execution_count": 9,
   "metadata": {},
   "outputs": [
    {
     "data": {
      "text/plain": [
       "[1, 9, 25, 49, 81]"
      ]
     },
     "execution_count": 9,
     "metadata": {},
     "output_type": "execute_result"
    }
   ],
   "source": [
    "#можно указывать условия\n",
    "numbers = [n*n for n in range(1,11) if n%2!=0]\n",
    "numbers\n",
    "#тут указано условие, что выбираются только те значения, которые не делятся на два без остатка. "
   ]
  },
  {
   "cell_type": "code",
   "execution_count": 10,
   "metadata": {},
   "outputs": [
    {
     "name": "stdout",
     "output_type": "stream",
     "text": [
      "[20.08, 7.87, 29.92, 13.39, 34.65, 22.44, 50.39, 51.18]\n"
     ]
    }
   ],
   "source": [
    "#наверное, куча всего доступна с Л-К, но пока мало зучил,\n",
    "#вот, что можно сделать еще - округление\n",
    "#как уже было сказано - можно вроде как дохрена всего подставлять перед for, и оказалось, что еще можно делить, округлять\n",
    "#думаю, еще много всего\n",
    "len_in_cm = [51, 20, 76, 34, 88, 57, 128, 130]\n",
    "len_in_inches = [(round(cm/2.54, 2)) for cm in len_in_cm]\n",
    "print(len_in_inches)"
   ]
  },
  {
   "cell_type": "code",
   "execution_count": 11,
   "metadata": {},
   "outputs": [
    {
     "name": "stdout",
     "output_type": "stream",
     "text": [
      "['GM', 'MM', 'GM', 'MM', 'GM', 'MM']\n"
     ]
    }
   ],
   "source": [
    "#однако пихать туда вообще все подряд не желательно, потому что текст может стать малочитаемым, или вообще не, пример:\n",
    "ratings = [2501, 2499, 2502, 2498, 2503, 2497]\n",
    "titles = ['GM' if x>=2500 else 'MM' for x in ratings]\n",
    "print(titles)\n",
    "#в целом, пример более менее читаемый, даже ок, но это не самый худший вариант"
   ]
  },
  {
   "cell_type": "code",
   "execution_count": 13,
   "metadata": {},
   "outputs": [
    {
     "name": "stdout",
     "output_type": "stream",
     "text": [
      "[(-8, 8), (2, -2), (4, -4), (-7, 7), (5, -5)]\n"
     ]
    }
   ],
   "source": [
    "#в предыдущем уроке про for была тема про вложенные циклы, Л-К позволяет это сделать короче, вот пример\n",
    "list1 = [1, -8, -5, 2, 4, 8, -7, 5, -4]\n",
    "list2 = [-3, -5, 8, 9, -4, 7, - 7, -2, 2]\n",
    "\n",
    "pairs = [(x, y) for x in list1 for y in list2 if x+y==0]\n",
    "print(pairs)\n",
    "#тут тоже читаемо и очень коротко"
   ]
  },
  {
   "cell_type": "code",
   "execution_count": null,
   "metadata": {},
   "outputs": [],
   "source": []
  }
 ],
 "metadata": {
  "kernelspec": {
   "display_name": "Python 3",
   "language": "python",
   "name": "python3"
  },
  "language_info": {
   "codemirror_mode": {
    "name": "ipython",
    "version": 3
   },
   "file_extension": ".py",
   "mimetype": "text/x-python",
   "name": "python",
   "nbconvert_exporter": "python",
   "pygments_lexer": "ipython3",
   "version": "3.8.5"
  }
 },
 "nbformat": 4,
 "nbformat_minor": 4
}
