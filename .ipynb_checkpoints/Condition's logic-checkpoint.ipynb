{
 "cells": [
  {
   "cell_type": "code",
   "execution_count": 1,
   "metadata": {},
   "outputs": [
    {
     "name": "stdout",
     "output_type": "stream",
     "text": [
      "3 is greater than 2\n"
     ]
    }
   ],
   "source": [
    "#какие есть логические операторы: if, else, elif\n",
    "#в if должно быть True, чтобы оно исполнилось (по крайней мере по моим текущим знаниям)\n",
    "#если там False, то код не исполнится\n",
    "\n",
    "if 3 > 2:\n",
    "    print('3 is greater than 2')"
   ]
  },
  {
   "cell_type": "code",
   "execution_count": 2,
   "metadata": {},
   "outputs": [],
   "source": [
    "if 3 < 2:\n",
    "    print('3 is lower than 3')"
   ]
  },
  {
   "cell_type": "code",
   "execution_count": 3,
   "metadata": {},
   "outputs": [],
   "source": [
    "#как видим, ничего не произошло, потому что после if не True, а False, в этот блок команда уже не зайдет"
   ]
  },
  {
   "cell_type": "code",
   "execution_count": 4,
   "metadata": {},
   "outputs": [
    {
     "name": "stdout",
     "output_type": "stream",
     "text": [
      "access granted\n"
     ]
    }
   ],
   "source": [
    "#можно подставлять переменные\n",
    "is_admin = True\n",
    "if is_admin:\n",
    "    print('access granted')"
   ]
  },
  {
   "cell_type": "code",
   "execution_count": 15,
   "metadata": {},
   "outputs": [
    {
     "name": "stdout",
     "output_type": "stream",
     "text": [
      "yanki\n",
      "yanki, go home\n"
     ]
    }
   ],
   "source": [
    "x = input()\n",
    "if x == '1':\n",
    "    print(\"101!\")\n",
    "elif x == '2':\n",
    "    print(\"202!\")\n",
    "elif x == '35':\n",
    "    print(\"Unknown error!\")\n",
    "else:\n",
    "    print(x + ', go home')"
   ]
  },
  {
   "cell_type": "code",
   "execution_count": null,
   "metadata": {},
   "outputs": [],
   "source": []
  }
 ],
 "metadata": {
  "kernelspec": {
   "display_name": "Python 3",
   "language": "python",
   "name": "python3"
  },
  "language_info": {
   "codemirror_mode": {
    "name": "ipython",
    "version": 3
   },
   "file_extension": ".py",
   "mimetype": "text/x-python",
   "name": "python",
   "nbconvert_exporter": "python",
   "pygments_lexer": "ipython3",
   "version": "3.8.5"
  }
 },
 "nbformat": 4,
 "nbformat_minor": 4
}
