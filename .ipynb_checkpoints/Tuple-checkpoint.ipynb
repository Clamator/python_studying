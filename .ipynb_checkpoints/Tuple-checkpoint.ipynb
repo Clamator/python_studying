{
 "cells": [
  {
   "cell_type": "code",
   "execution_count": 1,
   "metadata": {},
   "outputs": [
    {
     "data": {
      "text/plain": [
       "tuple"
      ]
     },
     "execution_count": 1,
     "metadata": {},
     "output_type": "execute_result"
    }
   ],
   "source": [
    "#tuple - это неизменяемый набор данных в отличие от списка (tuple также называется кортежем ), \n",
    "#они не именованны, обращение по индексу\n",
    "person = ('John', 'Smith', 27)\n",
    "type(person)"
   ]
  },
  {
   "cell_type": "code",
   "execution_count": 2,
   "metadata": {},
   "outputs": [
    {
     "name": "stdout",
     "output_type": "stream",
     "text": [
      "3\n"
     ]
    }
   ],
   "source": [
    "#при попытке заменить элемент по индексу будет возникать ошибка о невозможности данного действия\n",
    "#это и не хорошо, и не плохо, это данность\n",
    "#применяются чуть ли не все функции к нему, все как со списками\n",
    "print(len(person))"
   ]
  },
  {
   "cell_type": "code",
   "execution_count": 3,
   "metadata": {},
   "outputs": [
    {
     "name": "stdout",
     "output_type": "stream",
     "text": [
      "Smith\n"
     ]
    }
   ],
   "source": [
    "print(person[1])"
   ]
  },
  {
   "cell_type": "code",
   "execution_count": 4,
   "metadata": {},
   "outputs": [
    {
     "name": "stdout",
     "output_type": "stream",
     "text": [
      "['Kesha', ' The Popugai', 4]\n"
     ]
    }
   ],
   "source": [
    "#а вот списки\n",
    "person_2 = ['Kesha', ' The Popugai', 3]\n",
    "person_2[2] = 4\n",
    "print(person_2)\n",
    "#возраст Кеши изменился, в tuple такое невозможно, еще раз"
   ]
  },
  {
   "cell_type": "code",
   "execution_count": 5,
   "metadata": {},
   "outputs": [
    {
     "data": {
      "text/plain": [
       "1"
      ]
     },
     "execution_count": 5,
     "metadata": {},
     "output_type": "execute_result"
    }
   ],
   "source": [
    "person.count('John')"
   ]
  },
  {
   "cell_type": "code",
   "execution_count": 6,
   "metadata": {},
   "outputs": [
    {
     "data": {
      "text/plain": [
       "1"
      ]
     },
     "execution_count": 6,
     "metadata": {},
     "output_type": "execute_result"
    }
   ],
   "source": [
    "person.index('Smith')\n",
    "#на каком индексе находится Фамилия"
   ]
  },
  {
   "cell_type": "code",
   "execution_count": 8,
   "metadata": {},
   "outputs": [
    {
     "data": {
      "text/plain": [
       "('Alex', 1993, 65000)"
      ]
     },
     "execution_count": 8,
     "metadata": {},
     "output_type": "execute_result"
    }
   ],
   "source": [
    "#namedTuple - представляет собой тапл, \n",
    "#он не изменяем, но в дополнение дает возможность проименовать элементы, которые он содержит\n",
    "#пример внизу - обычный тапл\n",
    "players = [(\"Alex\", 1993, 65000), (\"Alena\", 1994, 55000), (\"Boris\", 1992, 54000)]\n",
    "players[0]"
   ]
  },
  {
   "cell_type": "code",
   "execution_count": 9,
   "metadata": {},
   "outputs": [],
   "source": [
    "from collections import namedtuple"
   ]
  },
  {
   "cell_type": "code",
   "execution_count": 11,
   "metadata": {},
   "outputs": [],
   "source": [
    "Player = namedtuple(\"Player\", \"name year salary\")\n",
    "Players = [Player(\"Alex\", 1993, 65000), Player(\"Alena\", 1994, 55000), Player(\"Boris\", 1992, 54000)]"
   ]
  },
  {
   "cell_type": "code",
   "execution_count": 12,
   "metadata": {},
   "outputs": [
    {
     "data": {
      "text/plain": [
       "Player(name='Alena', year=1994, salary=55000)"
      ]
     },
     "execution_count": 12,
     "metadata": {},
     "output_type": "execute_result"
    }
   ],
   "source": [
    "#выбор по индексу\n",
    "Players[1]"
   ]
  },
  {
   "cell_type": "code",
   "execution_count": 13,
   "metadata": {},
   "outputs": [
    {
     "data": {
      "text/plain": [
       "55000"
      ]
     },
     "execution_count": 13,
     "metadata": {},
     "output_type": "execute_result"
    }
   ],
   "source": [
    "#выбор по индексу и конкретному атрибуту\n",
    "#тут типа получается класс Player с атрибутами, которые не могут быть изменены\n",
    "Players[1].salary"
   ]
  },
  {
   "cell_type": "code",
   "execution_count": 14,
   "metadata": {},
   "outputs": [
    {
     "name": "stdout",
     "output_type": "stream",
     "text": [
      "Kesha\n",
      "1964\n",
      "120\n"
     ]
    }
   ],
   "source": [
    "#с этим можно работать как с классом, позволяет сократить написываемый текст, но в нем нет методов, просто является контейнером\n",
    "#данных, которые не могут быть изменены\n",
    "p1 = Player(\"Kesha\", 1964, 120)\n",
    "print(p1.name)\n",
    "print(p1.year)\n",
    "print(p1.salary)"
   ]
  },
  {
   "cell_type": "code",
   "execution_count": null,
   "metadata": {},
   "outputs": [],
   "source": [
    "#Класс является шаблоном или формальным описанием объекта, а объект представляет экземпляр этого класса, его реальное воплощение. \n",
    "#Можно провести следующую аналогию: у всех у нас есть некоторое представление о человеке - наличие двух рук, двух ног, \n",
    "#головы, пищеварительной, нервной системы, головного мозга и т.д. Есть некоторый шаблон - этот шаблон можно назвать классом. \n",
    "#Реально же существующий человек (фактически экземпляр данного класса) является объектом этого класса."
   ]
  }
 ],
 "metadata": {
  "kernelspec": {
   "display_name": "Python 3",
   "language": "python",
   "name": "python3"
  },
  "language_info": {
   "codemirror_mode": {
    "name": "ipython",
    "version": 3
   },
   "file_extension": ".py",
   "mimetype": "text/x-python",
   "name": "python",
   "nbconvert_exporter": "python",
   "pygments_lexer": "ipython3",
   "version": "3.8.5"
  }
 },
 "nbformat": 4,
 "nbformat_minor": 4
}
