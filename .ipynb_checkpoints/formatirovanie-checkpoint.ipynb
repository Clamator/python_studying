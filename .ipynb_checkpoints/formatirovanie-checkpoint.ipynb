{
 "cells": [
  {
   "cell_type": "code",
   "execution_count": 1,
   "metadata": {},
   "outputs": [
    {
     "name": "stdout",
     "output_type": "stream",
     "text": [
      "My name is Alex\n"
     ]
    }
   ],
   "source": [
    "print(\"My name is {}\".format(\"Alex\"))"
   ]
  },
  {
   "cell_type": "code",
   "execution_count": 2,
   "metadata": {},
   "outputs": [],
   "source": [
    "my_name = \"Alex\""
   ]
  },
  {
   "cell_type": "code",
   "execution_count": 7,
   "metadata": {},
   "outputs": [
    {
     "name": "stdout",
     "output_type": "stream",
     "text": [
      "My name is Alex and I'm 30\n"
     ]
    }
   ],
   "source": [
    "print(\"My name is {} and I'm {}\".format(my_name, 30))"
   ]
  },
  {
   "cell_type": "code",
   "execution_count": 8,
   "metadata": {},
   "outputs": [
    {
     "name": "stdout",
     "output_type": "stream",
     "text": [
      "My name is Alex and I'm 30\n",
      "My name is 30 and I'm Alex\n"
     ]
    }
   ],
   "source": [
    "print(\"My name is {0} and I'm {1}\".format(my_name, 30))\n",
    "print(\"My name is {1} and I'm {0}\".format(my_name, 30))"
   ]
  },
  {
   "cell_type": "code",
   "execution_count": 17,
   "metadata": {},
   "outputs": [
    {
     "name": "stdout",
     "output_type": "stream",
     "text": [
      "Pi equals 3.14\n",
      "Pi equals 3.14\n"
     ]
    }
   ],
   "source": [
    "pi = 3.1415\n",
    "print(\"Pi equals {pi:1.2f}\".format(pi=pi))\n",
    "#1 - значит, сколько символов всего указать в результате, но он не указывает меньше, чем в данном случае 4, а 2 - сколько после точки надо поставить\n",
    "print(f\"Pi equals {pi:1.2f}\")\n",
    "#второй вариант - более короткий, он показан в следующем примере"
   ]
  },
  {
   "cell_type": "code",
   "execution_count": 15,
   "metadata": {},
   "outputs": [
    {
     "name": "stdout",
     "output_type": "stream",
     "text": [
      "My name is Alex and I'm 30\n"
     ]
    }
   ],
   "source": [
    "name = \"Alex\"\n",
    "age = 30\n",
    "print(f\"My name is {name} and I'm {age}\")\n",
    "#это еще один способ, как можно вывести текст"
   ]
  },
  {
   "cell_type": "code",
   "execution_count": 18,
   "metadata": {},
   "outputs": [
    {
     "name": "stdout",
     "output_type": "stream",
     "text": [
      "Hello, Vasya\n"
     ]
    }
   ],
   "source": [
    "print(\"Hello, {}\".format(\"Vasya\"))"
   ]
  },
  {
   "cell_type": "code",
   "execution_count": 27,
   "metadata": {},
   "outputs": [
    {
     "name": "stdout",
     "output_type": "stream",
     "text": [
      "Coordinates: 15.27S, 90.55E\n"
     ]
    }
   ],
   "source": [
    "print(\"Coordinates: {latitude}, {longitude}\".format(latitude = \"15.27S\", longitude = \"90.55E\"))\n"
   ]
  },
  {
   "cell_type": "code",
   "execution_count": 28,
   "metadata": {},
   "outputs": [
    {
     "name": "stdout",
     "output_type": "stream",
     "text": [
      "Coordinates: 50.78N, 20.20W\n"
     ]
    }
   ],
   "source": [
    "coord = {\"latitude\": \"50.78N\", \"longitude\": \"20.20W\"}\n",
    "print(\"Coordinates: {latitude}, {longitude}\".format(**coord))\n"
   ]
  },
  {
   "cell_type": "code",
   "execution_count": 30,
   "metadata": {},
   "outputs": [
    {
     "name": "stdout",
     "output_type": "stream",
     "text": [
      "Units destroyed: 1\n"
     ]
    }
   ],
   "source": [
    "print(\"Units destroyed: {players[0]}\".format(players = [1, 2, 3]))"
   ]
  },
  {
   "cell_type": "code",
   "execution_count": 31,
   "metadata": {},
   "outputs": [
    {
     "name": "stdout",
     "output_type": "stream",
     "text": [
      "Units destroyed: 1\n"
     ]
    }
   ],
   "source": [
    "print(\"Units destroyed: {players[0]!r}\".format(players = [1, 2, 3]))"
   ]
  },
  {
   "cell_type": "code",
   "execution_count": 32,
   "metadata": {},
   "outputs": [
    {
     "data": {
      "text/plain": [
       "'***********centered***********'"
      ]
     },
     "execution_count": 32,
     "metadata": {},
     "output_type": "execute_result"
    }
   ],
   "source": [
    "coord = (3, 5)\n",
    "'X: {0[0]};  Y: {0[1]}'.format(coord)\n",
    "'X: 3;  Y: 5'\n",
    "\"repr() shows quotes: {!r}; str() doesn't: {!s}\".format('test1', 'test2')\n",
    "\"repr() shows quotes: 'test1'; str() doesn't: test2\"\n",
    "'{:<30}'.format('left aligned')\n",
    "'left aligned                  '\n",
    "'{:>30}'.format('right aligned')\n",
    "'                 right aligned'\n",
    "'{:^30}'.format('centered')\n",
    "'           centered           '\n",
    "'{:*^30}'.format('centered')  # use '*' as a fill char\n",
    "'***********centered***********'"
   ]
  },
  {
   "cell_type": "code",
   "execution_count": null,
   "metadata": {},
   "outputs": [],
   "source": []
  }
 ],
 "metadata": {
  "kernelspec": {
   "display_name": "Python 3",
   "language": "python",
   "name": "python3"
  },
  "language_info": {
   "codemirror_mode": {
    "name": "ipython",
    "version": 3
   },
   "file_extension": ".py",
   "mimetype": "text/x-python",
   "name": "python",
   "nbconvert_exporter": "python",
   "pygments_lexer": "ipython3",
   "version": "3.8.5"
  }
 },
 "nbformat": 4,
 "nbformat_minor": 4
}
