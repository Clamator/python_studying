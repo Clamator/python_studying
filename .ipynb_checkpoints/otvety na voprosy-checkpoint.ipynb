{
 "cells": [
  {
   "cell_type": "code",
   "execution_count": null,
   "metadata": {},
   "outputs": [],
   "source": [
    "print(\"I'm a student and I'll become a \\\"strong\\\" programmer\")"
   ]
  },
  {
   "cell_type": "code",
   "execution_count": null,
   "metadata": {},
   "outputs": [],
   "source": [
    "print(r\"C:\\Users\\GoodStudent\") #C:\\Users\\GoodStudent"
   ]
  },
  {
   "cell_type": "code",
   "execution_count": null,
   "metadata": {},
   "outputs": [],
   "source": [
    "x = \"My name is Agent Smith\"\n",
    "print(x[1]) #y"
   ]
  },
  {
   "cell_type": "code",
   "execution_count": null,
   "metadata": {},
   "outputs": [],
   "source": [
    "x = \"My name is Agent Smith\"\n",
    "print(x[3:16:3]) #nesgt"
   ]
  },
  {
   "cell_type": "code",
   "execution_count": null,
   "metadata": {},
   "outputs": [],
   "source": [
    "print(\"I'm a student and I'll become a \\\"strong\\\" programmer\") #I'm a student and I'll become a \"strong\" programmer\n",
    "print(r\"C:\\Users\\GoodStudent\") #C:\\Users\\GoodStudent\n",
    "\n",
    "x = \"My name is Agent Smith\"\n",
    "print(x[1]) #y\n",
    "print(x[3:16:3]) #nesgt"
   ]
  },
  {
   "cell_type": "code",
   "execution_count": null,
   "metadata": {},
   "outputs": [],
   "source": [
    "age = input('Введите ваш возраст')\n",
    "print(\"Ваш возраст: \" + age + \" лет\")"
   ]
  },
  {
   "cell_type": "code",
   "execution_count": null,
   "metadata": {},
   "outputs": [],
   "source": [
    "age_str = input('Введите ваш возраст ') # age_str это строка\n",
    "age = int(age_str) # age это int"
   ]
  },
  {
   "cell_type": "code",
   "execution_count": 8,
   "metadata": {},
   "outputs": [
    {
     "name": "stdout",
     "output_type": "stream",
     "text": [
      "Сколько чашек кофе вы покупаете в месяц? 68\n",
      "За месяц вы покупаете 68 чашек кофе\n",
      "Вам доступно бесплатные 11 чашек кофе!\n"
     ]
    }
   ],
   "source": [
    "#задача про чашки кофе\n",
    "import math\n",
    "cups = input(\"Сколько чашек кофе вы покупаете в месяц? \")\n",
    "print(\"За месяц вы покупаете \" + str(cups) + \" чашек кофе\" )\n",
    "free_cups = int(cups)/6\n",
    "x = math.floor(free_cups)\n",
    "print(\"Вам доступно бесплатные \" + str(x) + \" чашек кофе!\")\n",
    "\n",
    "#можно было не импортировать модуть math, а просто сделать free_cups = int(cups/6) и тоже сработало бы\n",
    "#cups = int(input('number of cups: '))\n",
    "#print(int(cups/6))"
   ]
  },
  {
   "cell_type": "code",
   "execution_count": 9,
   "metadata": {},
   "outputs": [
    {
     "name": "stdout",
     "output_type": "stream",
     "text": [
      "X1 = 5\n",
      "Y1 = 6\n",
      "X2 = 7\n",
      "Y2 = 8\n",
      "X1 = 5 Y1 = 6 X2 = 7 Y2 = 8\n",
      "XY equals 2.828\n"
     ]
    }
   ],
   "source": [
    "#задача про расстояние между двумя точками\n",
    "X1 = input('X1 = ')\n",
    "Y1 = input('Y1 = ')\n",
    "X2 = input('X2 = ')\n",
    "Y2 = input('Y2 = ')\n",
    "import math\n",
    "print(\"X1 = \" + X1, \"Y1 = \" + Y1, \"X2 = \" + X2 ,\"Y2 = \" + Y2)\n",
    "XY = math.sqrt((float(X2) - float(X1))**2 + (float(Y2) - float(Y1))**2)\n",
    "print(f\"XY equals {XY:1.3f}\")\n",
    "\n",
    "#можно сделать и так:\n",
    "#X1 = int(input('X1 = '))\n",
    "#Y1 = int(input('Y1 = '))\n",
    "#X2 = int(input('X2 = '))\n",
    "#Y2 = int(input('Y2 = '))\n",
    "#AB = round(((X1 - X2)**2 + (Y1 - Y2)**2) ** 0,5, 3)\n",
    "#степень 0,5 - это типа квадратный корень в другом виде, а три - это округление до 3 знаков после запятой\n",
    "\n",
    "# а еще с импортом math AB = round(math.sqrt((X1 - X2)**2 + (Y1 - Y2)**2), 3)"
   ]
  },
  {
   "cell_type": "code",
   "execution_count": 10,
   "metadata": {},
   "outputs": [
    {
     "name": "stdout",
     "output_type": "stream",
     "text": [
      "chickens = 1\n",
      "cows = 1\n",
      "pigs = 1\n",
      "cumulative number of legs are: 10\n"
     ]
    }
   ],
   "source": [
    "#задача про количество ног\n",
    "chickens = input(\"chickens = \")\n",
    "cows = input(\"cows = \")\n",
    "pigs = input(\"pigs = \")\n",
    "chickens_legs = 2\n",
    "cows_legs = 4\n",
    "pigs_legs = 4\n",
    "x = int(chickens) * int(chickens_legs) + int(cows) * int(cows_legs) + int(pigs) * int(pigs_legs)\n",
    "print(\"cumulative number of legs are: \" + str(x))"
   ]
  },
  {
   "cell_type": "code",
   "execution_count": 3,
   "metadata": {},
   "outputs": [
    {
     "name": "stdout",
     "output_type": "stream",
     "text": [
      "chickens = 2\n",
      "cows = 2\n",
      "pigs = 2\n",
      "20\n"
     ]
    }
   ],
   "source": [
    "#более короткий вариант\n",
    "chickens = int(input(\"chickens = \"))\n",
    "cows = int(input(\"cows = \"))\n",
    "pigs = int(input(\"pigs = \"))\n",
    "total = chickens * 2 + (cows + pigs) * 4\n",
    "print(total)"
   ]
  },
  {
   "cell_type": "code",
   "execution_count": null,
   "metadata": {},
   "outputs": [],
   "source": []
  },
  {
   "cell_type": "code",
   "execution_count": null,
   "metadata": {},
   "outputs": [],
   "source": []
  }
 ],
 "metadata": {
  "kernelspec": {
   "display_name": "Python 3",
   "language": "python",
   "name": "python3"
  },
  "language_info": {
   "codemirror_mode": {
    "name": "ipython",
    "version": 3
   },
   "file_extension": ".py",
   "mimetype": "text/x-python",
   "name": "python",
   "nbconvert_exporter": "python",
   "pygments_lexer": "ipython3",
   "version": "3.8.5"
  }
 },
 "nbformat": 4,
 "nbformat_minor": 4
}
