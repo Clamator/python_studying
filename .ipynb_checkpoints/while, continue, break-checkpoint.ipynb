{
 "cells": [
  {
   "cell_type": "code",
   "execution_count": 7,
   "metadata": {},
   "outputs": [
    {
     "name": "stdout",
     "output_type": "stream",
     "text": [
      "x = 0\n",
      "x = 1\n",
      "x = 2\n",
      "x = 3\n",
      "x = 4\n",
      "x = 5\n",
      "all done\n"
     ]
    }
   ],
   "source": [
    "#тут печатается вплотную до указанной цифры\n",
    "x = 0\n",
    "while x <= 5:\n",
    "    print(f\"x = {x}\")\n",
    "    x+=1\n",
    "else:\n",
    "    print('all done')"
   ]
  },
  {
   "cell_type": "code",
   "execution_count": 5,
   "metadata": {},
   "outputs": [
    {
     "ename": "SyntaxError",
     "evalue": "invalid syntax (<ipython-input-5-6939ccf79165>, line 5)",
     "output_type": "error",
     "traceback": [
      "\u001b[1;36m  File \u001b[1;32m\"<ipython-input-5-6939ccf79165>\"\u001b[1;36m, line \u001b[1;32m5\u001b[0m\n\u001b[1;33m    break x=7:\u001b[0m\n\u001b[1;37m          ^\u001b[0m\n\u001b[1;31mSyntaxError\u001b[0m\u001b[1;31m:\u001b[0m invalid syntax\n"
     ]
    }
   ],
   "source": []
  },
  {
   "cell_type": "code",
   "execution_count": 10,
   "metadata": {},
   "outputs": [
    {
     "name": "stdout",
     "output_type": "stream",
     "text": [
      "16\n"
     ]
    }
   ],
   "source": [
    "#break используется чтоыб выйти из цикла преждевременно\n",
    "#continue - чтобы перейти к следующей итерации и не доходить до конца исполняемого блока в цикле\n",
    "#pass - заполнитель, чтобы ничего не делать\n",
    "vals = [1,2,3,4,5,6,7,8,9]\n",
    "sum = 0 #переменная, которая будет накапливать сумму\n",
    "for v in vals:\n",
    "    if v % 2 == 0:\n",
    "        continue\n",
    "    else:\n",
    "        sum += v\n",
    "    if sum >10:\n",
    "        break\n",
    "print(sum)"
   ]
  },
  {
   "cell_type": "code",
   "execution_count": null,
   "metadata": {},
   "outputs": [],
   "source": [
    "#если на данный момент в цикл ничего пока не хочется пихать, но  удалять нет смысла, т.к. он потом понадобится, ставим pass\n",
    "for v in vals:\n",
    "    pass\n",
    "#всё"
   ]
  }
 ],
 "metadata": {
  "kernelspec": {
   "display_name": "Python 3",
   "language": "python",
   "name": "python3"
  },
  "language_info": {
   "codemirror_mode": {
    "name": "ipython",
    "version": 3
   },
   "file_extension": ".py",
   "mimetype": "text/x-python",
   "name": "python",
   "nbconvert_exporter": "python",
   "pygments_lexer": "ipython3",
   "version": "3.8.5"
  }
 },
 "nbformat": 4,
 "nbformat_minor": 4
}
