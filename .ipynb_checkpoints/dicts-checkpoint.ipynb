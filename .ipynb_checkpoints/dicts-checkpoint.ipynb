{
 "cells": [
  {
   "cell_type": "code",
   "execution_count": 2,
   "metadata": {},
   "outputs": [
    {
     "name": "stdout",
     "output_type": "stream",
     "text": [
      "{'Alex': 1000, 'Alena': 990, 'Boris': 950, 'Vlad': 930, 'Grisha': 900}\n",
      "{'Alex': 1000, 'Alena': 990, 'Boris': 950, 'Vlad': 930, 'Grisha': 900}\n"
     ]
    }
   ],
   "source": [
    "#dictionary- это список пар \"ключ-значение\", например, записная книга. Ключ - имя, значение - телефонные номера. \n",
    "#Они дб уникальны, невозможно добавить уже существующий ключ, запрет\n",
    "#это можно было бы сделать и списком, но смысл словаря в том, чтобы обеспечить очень быстрое нахождение значения по ключу,\n",
    "#это работает быстрее, чем поиск по списку, но естьусловие - вы должны знать ключ\n",
    "#отделяются запятой, у последней пары зарятой нет\n",
    "players =   {\n",
    "                'Alex' : 1000,\n",
    "                'Alena' : 990,\n",
    "                'Boris' : 950,\n",
    "                'Vlad' : 930,\n",
    "                'Grisha' : 900\n",
    "            }\n",
    "\n",
    "print(players)\n",
    "players= dict(Alex=1000, Alena=990, Boris=950, Vlad = 930, Grisha=900)\n",
    "print(players)"
   ]
  },
  {
   "cell_type": "code",
   "execution_count": 7,
   "metadata": {},
   "outputs": [
    {
     "name": "stdout",
     "output_type": "stream",
     "text": [
      "1000\n",
      "Alex's rating is 1000\n"
     ]
    }
   ],
   "source": [
    "top_1 = players['Alex']\n",
    "print(top_1)\n",
    "print(f\"Alex's rating is {top_1}\")"
   ]
  },
  {
   "cell_type": "code",
   "execution_count": 9,
   "metadata": {},
   "outputs": [
    {
     "name": "stdout",
     "output_type": "stream",
     "text": [
      "Alena's rating is 990\n"
     ]
    }
   ],
   "source": [
    "top_2 = players.get('Alena') #можно воспользоваться функцией get для поиска значения по ключу\n",
    "print(f\"Alena's rating is {top_2}\")"
   ]
  },
  {
   "cell_type": "code",
   "execution_count": 10,
   "metadata": {},
   "outputs": [
    {
     "data": {
      "text/plain": [
       "{'Alex': 1000,\n",
       " 'Alena': 990,\n",
       " 'Boris': 950,\n",
       " 'Vlad': 930,\n",
       " 'Grisha': 900,\n",
       " 'Dima': 980}"
      ]
     },
     "execution_count": 10,
     "metadata": {},
     "output_type": "execute_result"
    }
   ],
   "source": [
    "#добавление в словарь (его окончание) происходит следующим образом:\n",
    "players['Dima'] = 980\n",
    "players"
   ]
  },
  {
   "cell_type": "code",
   "execution_count": 11,
   "metadata": {},
   "outputs": [
    {
     "data": {
      "text/plain": [
       "{'Alex': 1000,\n",
       " 'Alena': 990,\n",
       " 'Boris': 950,\n",
       " 'Vlad': 930,\n",
       " 'Grisha': 968,\n",
       " 'Dima': 985}"
      ]
     },
     "execution_count": 11,
     "metadata": {},
     "output_type": "execute_result"
    }
   ],
   "source": [
    "#используя этот же систаксис можно внести изменения в текущий словарь\n",
    "players[\"Dima\"] = 985\n",
    "players[\"Grisha\"] = 968\n",
    "players"
   ]
  },
  {
   "cell_type": "code",
   "execution_count": 12,
   "metadata": {},
   "outputs": [
    {
     "data": {
      "text/plain": [
       "{'Alex': 1000, 'Alena': 990, 'Boris': 950, 'Vlad': 930, 'Dima': 985}"
      ]
     },
     "execution_count": 12,
     "metadata": {},
     "output_type": "execute_result"
    }
   ],
   "source": [
    "#удаление через функцию del (возможно и через pop, 32 строка)\n",
    "del players['Grisha']\n",
    "players"
   ]
  },
  {
   "cell_type": "code",
   "execution_count": 13,
   "metadata": {},
   "outputs": [
    {
     "name": "stdout",
     "output_type": "stream",
     "text": [
      "<class 'dict_keys'>\n",
      "dict_keys(['Alex', 'Alena', 'Boris', 'Vlad', 'Dima'])\n"
     ]
    }
   ],
   "source": [
    "#чтобы посмотреть на ключи этого словаря, делаем так\n",
    "keys = players.keys()\n",
    "print(type(keys))\n",
    "print(keys)"
   ]
  },
  {
   "cell_type": "code",
   "execution_count": 18,
   "metadata": {},
   "outputs": [
    {
     "name": "stdout",
     "output_type": "stream",
     "text": [
      "<class 'list'>\n",
      "['Alex', 'Alena', 'Boris', 'Vlad', 'Dima']\n"
     ]
    }
   ],
   "source": [
    "#чтобы работать со списком ключей: \n",
    "lists = list(players.keys())\n",
    "print(type(lists))\n",
    "print(lists)"
   ]
  },
  {
   "cell_type": "code",
   "execution_count": 19,
   "metadata": {},
   "outputs": [
    {
     "data": {
      "text/plain": [
       "['Alena', 'Alex', 'Boris', 'Dima', 'Vlad']"
      ]
     },
     "execution_count": 19,
     "metadata": {},
     "output_type": "execute_result"
    }
   ],
   "source": [
    "#сортировка внутри словаря данным методом сортирует и переводит в список!\n",
    "sorted(players.keys())\n"
   ]
  },
  {
   "cell_type": "code",
   "execution_count": 21,
   "metadata": {},
   "outputs": [
    {
     "name": "stdout",
     "output_type": "stream",
     "text": [
      "True\n",
      "False\n",
      "True\n"
     ]
    }
   ],
   "source": [
    "#для проверки начилия ключа в словаре можно использовать in и not in\n",
    "#в первом случае выдает True, т.к. Алекс есть, во втором - False, т.к. Алена есть, но мы проверяли ее отсутствие\n",
    "#и 3 - тут Кеши нет, мы проверяли отсутствие, оно подтвердилось - вернулось True\n",
    "print('Alex' in players)\n",
    "print('Alena' not in players)\n",
    "print('Kesha' not in players)"
   ]
  },
  {
   "cell_type": "code",
   "execution_count": 22,
   "metadata": {},
   "outputs": [
    {
     "name": "stdout",
     "output_type": "stream",
     "text": [
      "<class 'dict_values'>\n",
      "dict_values([1000, 990, 950, 930, 985])\n"
     ]
    }
   ],
   "source": [
    "#можно искать значения при помощи функции values\n",
    "vals = players.values()\n",
    "print(type(vals))\n",
    "print(vals)"
   ]
  },
  {
   "cell_type": "code",
   "execution_count": 25,
   "metadata": {},
   "outputs": [
    {
     "data": {
      "text/plain": [
       "[930, 950, 985, 990, 1000]"
      ]
     },
     "execution_count": 25,
     "metadata": {},
     "output_type": "execute_result"
    }
   ],
   "source": [
    "#сортировка\n",
    "sorted(players.values())\n"
   ]
  },
  {
   "cell_type": "code",
   "execution_count": 27,
   "metadata": {},
   "outputs": [
    {
     "name": "stdout",
     "output_type": "stream",
     "text": [
      "<class 'dict_values'>\n",
      "[1000, 990, 950, 930, 985]\n"
     ]
    }
   ],
   "source": [
    "#перевод в список\n",
    "vals_2 = list(players.values())\n",
    "print(type(vals))\n",
    "print(vals_2)"
   ]
  },
  {
   "cell_type": "code",
   "execution_count": 28,
   "metadata": {},
   "outputs": [
    {
     "name": "stdout",
     "output_type": "stream",
     "text": [
      "{'Alex': 1000, 'Alena': 990, 'Boris': 950, 'Vlad': 930, 'Dima': 985}\n"
     ]
    }
   ],
   "source": [
    "#копирование\n",
    "players_copy = players.copy()\n",
    "print(players_copy)"
   ]
  },
  {
   "cell_type": "code",
   "execution_count": 30,
   "metadata": {},
   "outputs": [
    {
     "name": "stdout",
     "output_type": "stream",
     "text": [
      "Alex 1000\n",
      "Alena 990\n",
      "Boris 950\n",
      "Vlad 930\n",
      "Dima 985\n"
     ]
    }
   ],
   "source": [
    "#можно пробедаться циклом по словарю, буквы А и Б могут быть и другими, например, k и v, они значат ключ и значение\n",
    "for a, b in players.items():\n",
    "    print(a, b)"
   ]
  },
  {
   "cell_type": "code",
   "execution_count": 31,
   "metadata": {},
   "outputs": [
    {
     "name": "stdout",
     "output_type": "stream",
     "text": [
      "<class 'dict_items'>\n"
     ]
    }
   ],
   "source": [
    "items = players.items()\n",
    "print(type(items))"
   ]
  },
  {
   "cell_type": "code",
   "execution_count": 32,
   "metadata": {},
   "outputs": [
    {
     "name": "stdout",
     "output_type": "stream",
     "text": [
      "{'Alex': 1000, 'Alena': 990, 'Boris': 950, 'Dima': 985}\n"
     ]
    }
   ],
   "source": [
    "#удаление любого по ключу- второй способ\n",
    "players.pop('Vlad')\n",
    "print(players)"
   ]
  },
  {
   "cell_type": "code",
   "execution_count": 33,
   "metadata": {},
   "outputs": [
    {
     "name": "stdout",
     "output_type": "stream",
     "text": [
      "{'Alex': 1000, 'Alena': 990, 'Boris': 950}\n"
     ]
    }
   ],
   "source": [
    "#удаление последнего элемента\n",
    "players.popitem()\n",
    "print(players)"
   ]
  },
  {
   "cell_type": "code",
   "execution_count": 35,
   "metadata": {},
   "outputs": [
    {
     "data": {
      "text/plain": [
       "3"
      ]
     },
     "execution_count": 35,
     "metadata": {},
     "output_type": "execute_result"
    }
   ],
   "source": [
    "#количество элементов\n",
    "len(players)"
   ]
  },
  {
   "cell_type": "code",
   "execution_count": 39,
   "metadata": {},
   "outputs": [
    {
     "name": "stdout",
     "output_type": "stream",
     "text": [
      "{'Alex': 1000, 'Alena': 990, 'Boris': 950, 'Balin': None}\n"
     ]
    }
   ],
   "source": [
    "#setdefault - она ищет запрашиваемый элемент, если его нет, она добавляет недостающий элемент со значением None\n",
    "#в этом случае сортировка уже невозможна\n",
    "players.setdefault(\"Boris\")\n",
    "players.setdefault(\"Balin\")\n",
    "print(players)"
   ]
  },
  {
   "cell_type": "code",
   "execution_count": null,
   "metadata": {},
   "outputs": [],
   "source": []
  }
 ],
 "metadata": {
  "kernelspec": {
   "display_name": "Python 3",
   "language": "python",
   "name": "python3"
  },
  "language_info": {
   "codemirror_mode": {
    "name": "ipython",
    "version": 3
   },
   "file_extension": ".py",
   "mimetype": "text/x-python",
   "name": "python",
   "nbconvert_exporter": "python",
   "pygments_lexer": "ipython3",
   "version": "3.8.5"
  }
 },
 "nbformat": 4,
 "nbformat_minor": 4
}
