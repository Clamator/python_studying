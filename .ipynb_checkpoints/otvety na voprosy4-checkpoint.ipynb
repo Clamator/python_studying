{
 "cells": [
  {
   "cell_type": "code",
   "execution_count": null,
   "metadata": {},
   "outputs": [],
   "source": [
    "#код без списков значений для подстановки - этот код оказался правильным, я сделал его сам!!!\n",
    "table_cards = [\"A_S\", \"J_H\", \"7_D\", \"8_D\", \"10_D\"]\n",
    "hand_cards = [\"J_D\", \"3_D\"]\n",
    "L0 = table_cards[0]\n",
    "L1 = table_cards[1]\n",
    "L2 = table_cards[2]\n",
    "L3 = table_cards[3]\n",
    "L4 = table_cards[4]\n",
    "\n",
    "M0 = L0[-1]\n",
    "M1 = L1[-1]\n",
    "M2 = L2[-1]\n",
    "M3 = L3[-1]\n",
    "M4 = L4[-1]\n",
    "\n",
    "letters = M0 + M1 + M2 +M3 + M4\n",
    "letters1 = letters.count(\"S\")\n",
    "letters2 = letters.count(\"H\")\n",
    "letters3 = letters.count(\"D\")\n",
    "letters4 = letters.count(\"C\")\n",
    "\n",
    "A0 = hand_cards[0]\n",
    "A1 = hand_cards[1]\n",
    "B0 = A0[-1]\n",
    "B1 = A1[-1]\n",
    "\n",
    "letters_in_hand = B0 + B1\n",
    "letters_in_hand1 = letters_in_hand.count(\"S\")\n",
    "letters_in_hand2 = letters_in_hand.count(\"H\")\n",
    "letters_in_hand3 = letters_in_hand.count(\"D\")\n",
    "letters_in_hand4 = letters_in_hand.count(\"C\")\n",
    "\n",
    "\n",
    "summa1 = letters1 + letters_in_hand1\n",
    "summa2 = letters2 + letters_in_hand2\n",
    "summa3 = letters3 + letters_in_hand3\n",
    "summa4 = letters4 + letters_in_hand4\n",
    "\n",
    "\n",
    "\n",
    "if summa1 >= 5:\n",
    "    print(\"Flush!\")\n",
    "elif summa2 >= 5:\n",
    "    print(\"Flush!\")\n",
    "elif summa3 >= 5:\n",
    "    print(\"Flush!\")\n",
    "elif summa4 >= 5:\n",
    "    print(\"Flush!\")    \n",
    "else:\n",
    "    print(\"No Flush!\")"
   ]
  },
  {
   "cell_type": "code",
   "execution_count": null,
   "metadata": {},
   "outputs": [],
   "source": []
  },
  {
   "cell_type": "code",
   "execution_count": 156,
   "metadata": {},
   "outputs": [
    {
     "name": "stdout",
     "output_type": "stream",
     "text": [
      "Flush\n"
     ]
    }
   ],
   "source": [
    "#в видеоответе было дано более лаконичное решение\n",
    "table_cards = [\"A_S\", \"J_H\", \"7_D\", \"8_D\", \"10_D\"]\n",
    "hand_cards = [\"J_D\", \"3_D\"]\n",
    "\n",
    "table_suites = [i[-1] for i in table_cards]\n",
    "hand_suites = [i[-1] for i in hand_cards]\n",
    "suites_in_game = table_suites+ hand_suites\n",
    "Flush = False\n",
    "for suit in \"CHSD\":\n",
    "    if suites_in_game.count(suit) >= 5: #передаем масть в переменную\n",
    "        Flush = True\n",
    "if Flush:\n",
    "    print(\"Flush\")\n",
    "else:\n",
    "    print(\"No Flush\")\n",
    "\n",
    "#тут что было, сначала создали два списка. В 3 и 4 переменных сделали Л-К, чтобы вытащить последние символы\n",
    "#после этого создали переменную suites_in_game, в которую собрали имеющиеся масти\n",
    "#создаем Flush в значении фолс\n",
    "#и делаем цикл, прописываем любую переменную, допустим suit, и через if будет отработат цикл, который каждую масть\n",
    "#посчитает, если какой-то масти будет 5, то он переаводит Flush в тру, если 5 не наберется, то он просто заканчивает прогон\n",
    "#после этого переходит к другому условию, где если Flush - тру, то выводится одна надпись, если фолс - другая\n",
    "#решить можно и по другому"
   ]
  },
  {
   "cell_type": "code",
   "execution_count": 157,
   "metadata": {},
   "outputs": [
    {
     "name": "stdout",
     "output_type": "stream",
     "text": [
      "Flush\n"
     ]
    }
   ],
   "source": [
    "#еще вариант\n",
    "table_cards = [\"A_S\", \"J_H\", \"7_D\", \"8_D\", \"10_D\"]\n",
    "hand_cards = [\"J_D\", \"3_D\"]\n",
    "\n",
    "table_suites = [i[-1] for i in table_cards]\n",
    "hand_suites = [i[-1] for i in hand_cards]\n",
    "\n",
    "suites_in_game = table_suites+ hand_suites\n",
    "#решение через Л-К, for - это цикл,а что слева от него - это типа условие, которое применяется во время прогона\n",
    "#тут возвращаются рещультаты Тру или Фолс, т.к. есть условие >= 5\n",
    "flush = False\n",
    "[suites_in_game.count(suit) >= 5 for suit in \"CHSD\" ]\n",
    "#можно вместо двух предыдущих строк сделать одну    flush = any([suites_in_game.count(suit) >= 5 for suit in \"CHSD\" ])\n",
    "if Flush:\n",
    "    print(\"Flush\")\n",
    "else:\n",
    "    print(\"No Flush\")"
   ]
  },
  {
   "cell_type": "code",
   "execution_count": null,
   "metadata": {},
   "outputs": [],
   "source": [
    "# for suit in \"CHSD\" - это и есть прохождение циклом"
   ]
  },
  {
   "cell_type": "code",
   "execution_count": null,
   "metadata": {},
   "outputs": [],
   "source": [
    "#совсем короткий, но мало читаемый вариант\n"
   ]
  },
  {
   "cell_type": "code",
   "execution_count": 161,
   "metadata": {},
   "outputs": [
    {
     "name": "stdout",
     "output_type": "stream",
     "text": [
      "Flush\n"
     ]
    }
   ],
   "source": [
    "#суперкороткий вариант\n",
    "table_cards = [\"A_S\", \"J_H\", \"7_D\", \"8_D\", \"10_D\"]\n",
    "hand_cards = [\"J_D\", \"3_D\"]\n",
    "Flush = any([sum([card[-1] == suit for card in table_cards + hand_cards]) >= 5 for suit in \"CHSD\"])\n",
    "if Flush:\n",
    "    print(\"Flush\")\n",
    "else:\n",
    "    print(\"No Flush\")"
   ]
  },
  {
   "cell_type": "code",
   "execution_count": null,
   "metadata": {},
   "outputs": [],
   "source": []
  },
  {
   "cell_type": "code",
   "execution_count": null,
   "metadata": {},
   "outputs": [],
   "source": [
    "\n",
    "    \n"
   ]
  },
  {
   "cell_type": "code",
   "execution_count": null,
   "metadata": {},
   "outputs": [],
   "source": []
  },
  {
   "cell_type": "code",
   "execution_count": null,
   "metadata": {},
   "outputs": [],
   "source": []
  }
 ],
 "metadata": {
  "kernelspec": {
   "display_name": "Python 3",
   "language": "python",
   "name": "python3"
  },
  "language_info": {
   "codemirror_mode": {
    "name": "ipython",
    "version": 3
   },
   "file_extension": ".py",
   "mimetype": "text/x-python",
   "name": "python",
   "nbconvert_exporter": "python",
   "pygments_lexer": "ipython3",
   "version": "3.8.5"
  }
 },
 "nbformat": 4,
 "nbformat_minor": 4
}
