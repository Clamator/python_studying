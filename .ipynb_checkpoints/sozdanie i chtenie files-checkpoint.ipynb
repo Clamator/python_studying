{
 "cells": [
  {
   "cell_type": "code",
   "execution_count": 1,
   "metadata": {},
   "outputs": [
    {
     "data": {
      "text/plain": [
       "'C:\\\\Users\\\\Clamator\\\\JupyterRoot'"
      ]
     },
     "execution_count": 1,
     "metadata": {},
     "output_type": "execute_result"
    }
   ],
   "source": [
    "pwd"
   ]
  },
  {
   "cell_type": "code",
   "execution_count": 2,
   "metadata": {},
   "outputs": [
    {
     "name": "stdout",
     "output_type": "stream",
     "text": [
      "Overwriting sample.txt\n"
     ]
    }
   ],
   "source": [
    "%%writefile sample.txt\n",
    "name|phone\n",
    "Abc;123\n",
    "Def;456\n",
    "Ghi;789"
   ]
  },
  {
   "cell_type": "code",
   "execution_count": 3,
   "metadata": {},
   "outputs": [
    {
     "name": "stdout",
     "output_type": "stream",
     "text": [
      "name|phone\n",
      "Abc;123\n",
      "Def;456\n",
      "Ghi;789\n",
      "\n"
     ]
    }
   ],
   "source": [
    "file = open(\"sample.txt\")\n",
    "file\n",
    "data = file.read()\n",
    "print(data)    #в данном случае курсор добежал до конца файла и там и остался"
   ]
  },
  {
   "cell_type": "code",
   "execution_count": 4,
   "metadata": {},
   "outputs": [
    {
     "name": "stdout",
     "output_type": "stream",
     "text": [
      "name|phone\n",
      "Abc;123\n",
      "Def;456\n",
      "Ghi;789\n",
      "\n"
     ]
    },
    {
     "data": {
      "text/plain": [
       "str"
      ]
     },
     "execution_count": 4,
     "metadata": {},
     "output_type": "execute_result"
    }
   ],
   "source": [
    "print(data) #если вызывать таким образом, то все запускается\n",
    "type(data) #стоит обратить внимание, что тут идет строка, а не список"
   ]
  },
  {
   "cell_type": "code",
   "execution_count": 5,
   "metadata": {},
   "outputs": [
    {
     "name": "stdout",
     "output_type": "stream",
     "text": [
      "\n"
     ]
    }
   ],
   "source": [
    "print(file.read()) #а если вот так запускать, то курсор типа в конце файла находится, \n",
    "#и при повторном прочтении файла он уже ничего не находит"
   ]
  },
  {
   "cell_type": "code",
   "execution_count": 6,
   "metadata": {},
   "outputs": [
    {
     "name": "stdout",
     "output_type": "stream",
     "text": [
      "name|phone\n",
      "Abc;123\n",
      "Def;456\n",
      "Ghi;789\n",
      "\n"
     ]
    }
   ],
   "source": [
    "file.seek(0)\n",
    "print(file.read()) #а вот тут уже мы вывели курсор на начало и заново прочитали файл, и курсор опять на конце оказался"
   ]
  },
  {
   "cell_type": "code",
   "execution_count": 7,
   "metadata": {},
   "outputs": [
    {
     "data": {
      "text/plain": [
       "0"
      ]
     },
     "execution_count": 7,
     "metadata": {},
     "output_type": "execute_result"
    }
   ],
   "source": [
    "file.seek(0)"
   ]
  },
  {
   "cell_type": "code",
   "execution_count": 8,
   "metadata": {},
   "outputs": [
    {
     "name": "stdout",
     "output_type": "stream",
     "text": [
      "<class 'list'>\n",
      "['name|phone\\n', 'Abc;123\\n', 'Def;456\\n', 'Ghi;789\\n']\n"
     ]
    }
   ],
   "source": [
    "lines = file.readlines()\n",
    "print(type(lines))\n",
    "print(lines)"
   ]
  },
  {
   "cell_type": "code",
   "execution_count": 9,
   "metadata": {},
   "outputs": [
    {
     "data": {
      "text/plain": [
       "4"
      ]
     },
     "execution_count": 9,
     "metadata": {},
     "output_type": "execute_result"
    }
   ],
   "source": [
    "len(lines) #подсчет количества строк, а в предыдущем тексте видим, что сейчас идет уже список строк"
   ]
  },
  {
   "cell_type": "code",
   "execution_count": 10,
   "metadata": {},
   "outputs": [
    {
     "name": "stdout",
     "output_type": "stream",
     "text": [
      "name|phone\n",
      "Abc;123\n",
      "Def;456\n",
      "Ghi;789\n",
      "\n"
     ]
    }
   ],
   "source": [
    "#сейчас будет пример, как если файл, который мы хотим открыть, \n",
    "#находится в другой директории, и мы не можем его открыть только передавая его имя\n",
    "#можно открыть и с двумя слэшами open('C:\\\\Users\\\\Clamator\\\\JupyterRoot\\\\sample.txt')\n",
    "sample_file = open(r'C:\\Users\\Clamator\\JupyterRoot\\sample.txt')\n",
    "print(sample_file.read()) #открываем через функцию опен"
   ]
  },
  {
   "cell_type": "code",
   "execution_count": 11,
   "metadata": {},
   "outputs": [
    {
     "name": "stdout",
     "output_type": "stream",
     "text": [
      "True\n",
      "True\n"
     ]
    }
   ],
   "source": [
    "#закрытие файлов идет через функцию close\n",
    "file.close()\n",
    "sample_file.close()\n",
    "print(file.closed)\n",
    "print(sample_file.closed)\n",
    "#в проверке уже идет closed, типа в прошедшем времени, было ли сделано закрытие - да, было"
   ]
  },
  {
   "cell_type": "code",
   "execution_count": 12,
   "metadata": {},
   "outputs": [
    {
     "name": "stdout",
     "output_type": "stream",
     "text": [
      "name|phone\n",
      "Abc;123\n",
      "Def;456\n",
      "Ghi;789\n",
      "\n"
     ]
    }
   ],
   "source": [
    "#чтобы не забыть закрыть файл, есть специальный синтаксис\n",
    "#в этом случае файл полностью закрывается, и его потом нужно будет заново открывать через file = open(\"sample.txt\")\n",
    "with open('sample.txt') as sample_file:\n",
    "    sample_data = sample_file.read()\n",
    "print(sample_data)"
   ]
  },
  {
   "cell_type": "code",
   "execution_count": 13,
   "metadata": {},
   "outputs": [],
   "source": [
    "#существует некоторое множество типов файлов, типа (<built-in method read of _io.TextIOWrapper object at 0x0000000004F401E0>)\n",
    "#встроенный метож - чтение, это тут, например\n",
    "#вот самые популярные\n",
    "#r - только на чтение, если пытаться записать, что будет выдавать ошибку\n",
    "#w - только на запись, если файл существует, он будет перезаписан, если файла нет, он будет создан\n",
    "#a - добавление в конец файла данных, если файла нет, он не будет создан, можно добавлять только в существующий\n",
    "#r+ - чтение и запись, новый файл не создается, работа только с сущуствующиси\n",
    "#w+ - чтение и запись, если файл есть, будет перезаписан, если его нет - будет создан\n",
    "#попытка чтения несуществующих файлов всегда приведет к ошибке\n",
    "#как открывать файл в конкретном режиме:\n",
    "#with open ('sample.txt', mode = 'w') as sample_file:\n",
    "#    data = sample_file.read()\n",
    "# тут мы открываем файл в режиме записи и пытаемся его прочитать\n",
    "#в этом примере мы показываем и как открывать, и как нельзя делать (тут будет ошибка из-за ограничений, описанных ранее)\n",
    "# если режимы совпадают, то не обязательно этот самый режим прописывать"
   ]
  },
  {
   "cell_type": "code",
   "execution_count": 14,
   "metadata": {},
   "outputs": [],
   "source": [
    "with open ('sample.txt', mode = 'a') as sample_file:\n",
    "    sample_file.write('\\nsasha;5345')\n",
    "#это было добавление"
   ]
  },
  {
   "cell_type": "code",
   "execution_count": 15,
   "metadata": {},
   "outputs": [
    {
     "name": "stdout",
     "output_type": "stream",
     "text": [
      "name|phone\n",
      "Abc;123\n",
      "Def;456\n",
      "Ghi;789\n",
      "\n",
      "sasha;5345\n"
     ]
    }
   ],
   "source": [
    "with open ('sample.txt', mode = 'r') as sample_file:\n",
    "    print(sample_file.read())\n",
    "#а тут мы уже прочитали результат"
   ]
  },
  {
   "cell_type": "code",
   "execution_count": 16,
   "metadata": {},
   "outputs": [],
   "source": [
    "#если мы хотим открыть файл на чтение и запись, но не просто r+, то можно сделать так\n",
    "#сначала открываем файл, затем переходим в его конец, делаем запись, переходим в начало файла, читаем\n",
    "# как это выглядит:\n"
   ]
  },
  {
   "cell_type": "code",
   "execution_count": 19,
   "metadata": {},
   "outputs": [
    {
     "name": "stdout",
     "output_type": "stream",
     "text": [
      "name|phone\n",
      "Abc;123\n",
      "Def;456\n",
      "Ghi;789\n",
      "\n",
      "sasha;5345\n",
      "Baciza;7792\n",
      "Baciza;7792\n",
      "Baciza;7792\n"
     ]
    }
   ],
   "source": [
    "with open('sample.txt', mode = 'r+') as sample_file:\n",
    "    sample_file.seek(0, 2)\n",
    "    sample_file.write('\\nBaciza;7792')\n",
    "    sample_file.seek(0)\n",
    "    print(sample_file.read())\n",
    "#вот так выглядит добавление, сначала через сик мы вышли в конец файла, затем добавили бацизу, затем перешли в начало строки и прочли\n",
    "# здесь бациза несколько раз указана, потому что файл я прочитал несколько раз"
   ]
  },
  {
   "cell_type": "code",
   "execution_count": 20,
   "metadata": {},
   "outputs": [
    {
     "name": "stdout",
     "output_type": "stream",
     "text": [
      "tro-lo-lo\n"
     ]
    }
   ],
   "source": [
    "with open('abracadabra.txt', mode = 'w+') as spell_file:\n",
    "    spell_file.write('tro-lo-lo')\n",
    "    spell_file.seek(0)\n",
    "    print(spell_file.read())"
   ]
  },
  {
   "cell_type": "code",
   "execution_count": null,
   "metadata": {},
   "outputs": [],
   "source": [
    "#создали файл, записали и прочитали"
   ]
  }
 ],
 "metadata": {
  "kernelspec": {
   "display_name": "Python 3",
   "language": "python",
   "name": "python3"
  },
  "language_info": {
   "codemirror_mode": {
    "name": "ipython",
    "version": 3
   },
   "file_extension": ".py",
   "mimetype": "text/x-python",
   "name": "python",
   "nbconvert_exporter": "python",
   "pygments_lexer": "ipython3",
   "version": "3.8.5"
  }
 },
 "nbformat": 4,
 "nbformat_minor": 4
}
