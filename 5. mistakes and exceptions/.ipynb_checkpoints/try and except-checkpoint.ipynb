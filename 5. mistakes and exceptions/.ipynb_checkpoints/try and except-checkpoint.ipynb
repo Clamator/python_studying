{
 "cells": [
  {
   "cell_type": "code",
   "execution_count": 6,
   "metadata": {},
   "outputs": [],
   "source": [
    "#в программе есть такое понятие как логгирование - это такой файлик, который сохраняет в себе ход программы, история, что было\n",
    "\n",
    "#ошибки в питоне представлены т.н. исключениями\n",
    "def divide(a, b):\n",
    "    return a / b"
   ]
  },
  {
   "cell_type": "code",
   "execution_count": 7,
   "metadata": {},
   "outputs": [
    {
     "data": {
      "text/plain": [
       "2.0"
      ]
     },
     "execution_count": 7,
     "metadata": {},
     "output_type": "execute_result"
    }
   ],
   "source": [
    "divide(4, 2)"
   ]
  },
  {
   "cell_type": "code",
   "execution_count": 8,
   "metadata": {},
   "outputs": [
    {
     "ename": "ZeroDivisionError",
     "evalue": "division by zero",
     "output_type": "error",
     "traceback": [
      "\u001b[1;31m---------------------------------------------------------------------------\u001b[0m",
      "\u001b[1;31mZeroDivisionError\u001b[0m                         Traceback (most recent call last)",
      "\u001b[1;32m<ipython-input-8-a7008b7f4d4d>\u001b[0m in \u001b[0;36m<module>\u001b[1;34m\u001b[0m\n\u001b[1;32m----> 1\u001b[1;33m \u001b[0mdivide\u001b[0m\u001b[1;33m(\u001b[0m\u001b[1;36m4\u001b[0m\u001b[1;33m,\u001b[0m \u001b[1;36m0\u001b[0m\u001b[1;33m)\u001b[0m\u001b[1;33m\u001b[0m\u001b[1;33m\u001b[0m\u001b[0m\n\u001b[0m",
      "\u001b[1;32m<ipython-input-6-6a08cba045ad>\u001b[0m in \u001b[0;36mdivide\u001b[1;34m(a, b)\u001b[0m\n\u001b[0;32m      3\u001b[0m \u001b[1;31m#ошибки в питоне представлены т.н. исключениями\u001b[0m\u001b[1;33m\u001b[0m\u001b[1;33m\u001b[0m\u001b[1;33m\u001b[0m\u001b[0m\n\u001b[0;32m      4\u001b[0m \u001b[1;32mdef\u001b[0m \u001b[0mdivide\u001b[0m\u001b[1;33m(\u001b[0m\u001b[0ma\u001b[0m\u001b[1;33m,\u001b[0m \u001b[0mb\u001b[0m\u001b[1;33m)\u001b[0m\u001b[1;33m:\u001b[0m\u001b[1;33m\u001b[0m\u001b[1;33m\u001b[0m\u001b[0m\n\u001b[1;32m----> 5\u001b[1;33m     \u001b[1;32mreturn\u001b[0m \u001b[0ma\u001b[0m \u001b[1;33m/\u001b[0m \u001b[0mb\u001b[0m\u001b[1;33m\u001b[0m\u001b[1;33m\u001b[0m\u001b[0m\n\u001b[0m",
      "\u001b[1;31mZeroDivisionError\u001b[0m: division by zero"
     ]
    }
   ],
   "source": [
    "divide(4, 0)"
   ]
  },
  {
   "cell_type": "code",
   "execution_count": 9,
   "metadata": {},
   "outputs": [],
   "source": [
    "#однако, если поделить на 0, то\n",
    "#как обработать, когда ошибка уже возникла?\n",
    "#чтобы обработать ошибку, мы можем использовать try и except\n",
    "#try - это специальный блок, в котором мы исполняем некий код и ожидаем, что там может возникнуть ошибка \n",
    "#и если мы предполагаем,что там может возникнуть ошибка определенного типа, мы можем перехватить ее с помощью конструкции except\n",
    "#после слова except мы пишем тип предполагаемой ошибки\n",
    "\n",
    "#то есть при написании сценариев надо будет хорошо знать возможные ошибки, их типы и хорошо продумывать\n",
    "#нужна вообще последовательность в написании,а не все вперемешку писать \n",
    "\n",
    "def divide(a, b):\n",
    "    try:\n",
    "        return a / b\n",
    "    except ZeroDivisionError as ex: #as ex значит, что мы можем обратиться к экземпляру ошибки через переменную ех\n",
    "        print(f'An error occured: {ex}') #в фигур. скобках передается ошибка, должны увидеть строковую репрезентацию ошибки"
   ]
  },
  {
   "cell_type": "code",
   "execution_count": 10,
   "metadata": {},
   "outputs": [
    {
     "name": "stdout",
     "output_type": "stream",
     "text": [
      "An error occured: division by zero\n"
     ]
    }
   ],
   "source": [
    "divide(4, 0)"
   ]
  },
  {
   "cell_type": "code",
   "execution_count": null,
   "metadata": {},
   "outputs": [],
   "source": [
    "#здесь мы видим, что в ех было вписано выражение из предыдущего куска кода, где мы не прописывали ошибку\n",
    "#в итоге он выводит все красиво в прописанной переменной\n",
    "# https://pythonworld.ru/tipy-dannyx-v-python/isklyucheniya-v-python-konstrukciya-try-except-dlya-obrabotki-isklyuchenij.html"
   ]
  },
  {
   "cell_type": "code",
   "execution_count": 11,
   "metadata": {},
   "outputs": [],
   "source": [
    "#есть общие блоки ошибок, например, арифметические, там можно не прописывать одну из конкретных(потомки), а просто одну общую\n",
    "def divide(a, b):\n",
    "    try:\n",
    "        return a / b\n",
    "    except ArithmeticError as ex:\n",
    "        print(f'An error occured: {ex}')"
   ]
  },
  {
   "cell_type": "code",
   "execution_count": 12,
   "metadata": {},
   "outputs": [
    {
     "name": "stdout",
     "output_type": "stream",
     "text": [
      "An error occured: division by zero\n"
     ]
    }
   ],
   "source": [
    "divide(4, 0)\n",
    "#вывод внизу - это говорит о том, что ошибка была перехвачена"
   ]
  },
  {
   "cell_type": "code",
   "execution_count": null,
   "metadata": {},
   "outputs": [],
   "source": []
  },
  {
   "cell_type": "code",
   "execution_count": 15,
   "metadata": {},
   "outputs": [],
   "source": [
    "#ошибка, если она не обработана, полностью или почти полностью убивает программу, часть кода работать будет, возможно,\n",
    "#но не программа целиком, вот пример\n",
    "def divide(a, b):\n",
    "    result = a / b\n",
    "    print('result calculated')\n",
    "    return result"
   ]
  },
  {
   "cell_type": "code",
   "execution_count": 16,
   "metadata": {},
   "outputs": [
    {
     "name": "stdout",
     "output_type": "stream",
     "text": [
      "result calculated\n"
     ]
    },
    {
     "data": {
      "text/plain": [
       "2.0"
      ]
     },
     "execution_count": 16,
     "metadata": {},
     "output_type": "execute_result"
    }
   ],
   "source": [
    "#видим, что результат выводится на экран, но если мы будем допускать ошибку и не обрабатывать ее, то принт не выведется, \n",
    "#потому что ошибка совершена\n",
    "divide(4, 2)"
   ]
  },
  {
   "cell_type": "code",
   "execution_count": 17,
   "metadata": {},
   "outputs": [
    {
     "ename": "ZeroDivisionError",
     "evalue": "division by zero",
     "output_type": "error",
     "traceback": [
      "\u001b[1;31m---------------------------------------------------------------------------\u001b[0m",
      "\u001b[1;31mZeroDivisionError\u001b[0m                         Traceback (most recent call last)",
      "\u001b[1;32m<ipython-input-17-a7008b7f4d4d>\u001b[0m in \u001b[0;36m<module>\u001b[1;34m\u001b[0m\n\u001b[1;32m----> 1\u001b[1;33m \u001b[0mdivide\u001b[0m\u001b[1;33m(\u001b[0m\u001b[1;36m4\u001b[0m\u001b[1;33m,\u001b[0m \u001b[1;36m0\u001b[0m\u001b[1;33m)\u001b[0m\u001b[1;33m\u001b[0m\u001b[1;33m\u001b[0m\u001b[0m\n\u001b[0m",
      "\u001b[1;32m<ipython-input-15-addca5391ba0>\u001b[0m in \u001b[0;36mdivide\u001b[1;34m(a, b)\u001b[0m\n\u001b[0;32m      2\u001b[0m \u001b[1;31m#но не программа целиком, вот пример\u001b[0m\u001b[1;33m\u001b[0m\u001b[1;33m\u001b[0m\u001b[1;33m\u001b[0m\u001b[0m\n\u001b[0;32m      3\u001b[0m \u001b[1;32mdef\u001b[0m \u001b[0mdivide\u001b[0m\u001b[1;33m(\u001b[0m\u001b[0ma\u001b[0m\u001b[1;33m,\u001b[0m \u001b[0mb\u001b[0m\u001b[1;33m)\u001b[0m\u001b[1;33m:\u001b[0m\u001b[1;33m\u001b[0m\u001b[1;33m\u001b[0m\u001b[0m\n\u001b[1;32m----> 4\u001b[1;33m     \u001b[0mresult\u001b[0m \u001b[1;33m=\u001b[0m \u001b[0ma\u001b[0m \u001b[1;33m/\u001b[0m \u001b[0mb\u001b[0m\u001b[1;33m\u001b[0m\u001b[1;33m\u001b[0m\u001b[0m\n\u001b[0m\u001b[0;32m      5\u001b[0m     \u001b[0mprint\u001b[0m\u001b[1;33m(\u001b[0m\u001b[1;34m'result calculated'\u001b[0m\u001b[1;33m)\u001b[0m\u001b[1;33m\u001b[0m\u001b[1;33m\u001b[0m\u001b[0m\n\u001b[0;32m      6\u001b[0m     \u001b[1;32mreturn\u001b[0m \u001b[0mresult\u001b[0m\u001b[1;33m\u001b[0m\u001b[1;33m\u001b[0m\u001b[0m\n",
      "\u001b[1;31mZeroDivisionError\u001b[0m: division by zero"
     ]
    }
   ],
   "source": [
    "divide(4, 0)"
   ]
  },
  {
   "cell_type": "code",
   "execution_count": 27,
   "metadata": {},
   "outputs": [],
   "source": [
    "#как уже было отмечено, есть куча типов ошибок, поэтому одна ошибка не может быть обработана другим трай/эксепт\n",
    "#все ошибки предусмотреть или сложно, или невозможно\n",
    "#стратегия мб такой, что после трай мы делаем все возможные эксепты\n",
    "#в следующих двух примерах указана ошибка, когда передается строка, а ожидается число, а во втором - передается число не из диапазона\n",
    "def divide(a, b):\n",
    "    try:\n",
    "        return a / b\n",
    "    except ArithmeticError as ex:\n",
    "        print(f'An error occured: {ex}')\n",
    "    except TypeError as y:\n",
    "        print(f'An error occured: {y}')\n",
    "    "
   ]
  },
  {
   "cell_type": "code",
   "execution_count": 28,
   "metadata": {},
   "outputs": [
    {
     "name": "stdout",
     "output_type": "stream",
     "text": [
      "An error occured: unsupported operand type(s) for /: 'int' and 'str'\n"
     ]
    }
   ],
   "source": [
    "a = 'str'\n",
    "divide(4, a)"
   ]
  },
  {
   "cell_type": "code",
   "execution_count": 29,
   "metadata": {},
   "outputs": [],
   "source": [
    "def divide(a, b):\n",
    "    try:\n",
    "        b = range(1, 10)\n",
    "        return a / b\n",
    "    except ArithmeticError as ex:\n",
    "        print(f'An error occured: {ex}')\n",
    "    except ValueError as z:\n",
    "        print(f'an error occured: {z}')\n",
    "    except TypeError as y:\n",
    "        print(f'An error occured: {y}')"
   ]
  },
  {
   "cell_type": "code",
   "execution_count": 30,
   "metadata": {},
   "outputs": [
    {
     "name": "stdout",
     "output_type": "stream",
     "text": [
      "An error occured: unsupported operand type(s) for /: 'int' and 'range'\n"
     ]
    }
   ],
   "source": [
    "divide(50, 20)"
   ]
  },
  {
   "cell_type": "code",
   "execution_count": 32,
   "metadata": {},
   "outputs": [
    {
     "name": "stdout",
     "output_type": "stream",
     "text": [
      "Unknown error occured\n"
     ]
    }
   ],
   "source": [
    "#но так как все ошибки предусмотреть сложно или невозможно, есть один общий except, куда логгируются необработанные ошибки\n",
    "#берем уже ранее использованный код, где ошибка идет только при делении на 0, и пробуем делить на текст\n",
    "#как видно, она обработана, но не указан тип ошибки\n",
    "#он назвается general except block - общий блок исключений\n",
    "def divide(a, b):\n",
    "    try:\n",
    "        return a / b\n",
    "    except:\n",
    "        print('Unknown error occured')\n",
    "divide(4, 'bla')"
   ]
  },
  {
   "cell_type": "code",
   "execution_count": 33,
   "metadata": {},
   "outputs": [
    {
     "name": "stdout",
     "output_type": "stream",
     "text": [
      "Ошибка. Выход из программы\n"
     ]
    },
    {
     "ename": "FileNotFoundError",
     "evalue": "[Errno 2] No such file or directory: 'C:\\\\ololo\\\\str.txt'",
     "output_type": "error",
     "traceback": [
      "\u001b[1;31m---------------------------------------------------------------------------\u001b[0m",
      "\u001b[1;31mFileNotFoundError\u001b[0m                         Traceback (most recent call last)",
      "\u001b[1;32m<ipython-input-33-a41a736b7f41>\u001b[0m in \u001b[0;36m<module>\u001b[1;34m\u001b[0m\n\u001b[0;32m      5\u001b[0m \u001b[0mfile\u001b[0m \u001b[1;33m=\u001b[0m \u001b[1;32mNone\u001b[0m \u001b[1;31m#подразумевается, что файл есть, но в нем ничего нет\u001b[0m\u001b[1;33m\u001b[0m\u001b[1;33m\u001b[0m\u001b[0m\n\u001b[0;32m      6\u001b[0m \u001b[1;32mtry\u001b[0m\u001b[1;33m:\u001b[0m\u001b[1;33m\u001b[0m\u001b[1;33m\u001b[0m\u001b[0m\n\u001b[1;32m----> 7\u001b[1;33m     \u001b[0mfile\u001b[0m \u001b[1;33m=\u001b[0m \u001b[0mopen\u001b[0m\u001b[1;33m(\u001b[0m\u001b[1;34mr'C:\\ololo\\str.txt'\u001b[0m\u001b[1;33m)\u001b[0m \u001b[1;31m#тут мы пытаемся открыть файл\u001b[0m\u001b[1;33m\u001b[0m\u001b[1;33m\u001b[0m\u001b[0m\n\u001b[0m\u001b[0;32m      8\u001b[0m     \u001b[0mdata\u001b[0m \u001b[1;33m=\u001b[0m \u001b[0mfile\u001b[0m\u001b[1;33m.\u001b[0m\u001b[0mread\u001b[0m\u001b[1;33m(\u001b[0m\u001b[1;33m)\u001b[0m \u001b[1;31m#используя метод рид, мы пытаемся прочесть файл\u001b[0m\u001b[1;33m\u001b[0m\u001b[1;33m\u001b[0m\u001b[0m\n\u001b[0;32m      9\u001b[0m \u001b[1;32mfinally\u001b[0m\u001b[1;33m:\u001b[0m \u001b[1;31m#в этот блок мы все равно попадаем, выводится текст, проводится проверка иф файл\u001b[0m\u001b[1;33m\u001b[0m\u001b[1;33m\u001b[0m\u001b[0m\n",
      "\u001b[1;31mFileNotFoundError\u001b[0m: [Errno 2] No such file or directory: 'C:\\\\ololo\\\\str.txt'"
     ]
    }
   ],
   "source": [
    "#есть еще два блока, которые можно использовать - это else и finally\n",
    "#else - это блок, который выводится, если не было ошибок(исключений)\n",
    "#finally - это блок, который вызывается в любом случае, была ошибка, не была, он обязуется делать какое-либо действие,\n",
    "#например, сообщить о закрытии программы и закрыть ее, отправить куда-то уведомление или что угодно\n",
    "file = None #подразумевается, что файл есть, но в нем ничего нет\n",
    "try:\n",
    "    file = open(r'C:\\ololo\\str.txt') #тут мы пытаемся открыть файл\n",
    "    data = file.read() #используя метод рид, мы пытаемся прочесть файл\n",
    "finally: #в этот блок мы все равно попадаем, выводится текст, проводится проверка иф файл\n",
    "    print(\"Ошибка. Выход из программы\")\n",
    "    if file: #вызов метода клоуз на типе Нан вызывает ошибку, иф файл подразумевает, что файл таки был открыт\n",
    "        file.close() #тут используется метод Закрыть, т.к. если файл таки был открыт, то надо его закрыть, даже если чтения не было\n",
    "\n",
    "#как видим ниже - вывод текста был, но не была обработана ошибка, \n"
   ]
  },
  {
   "cell_type": "code",
   "execution_count": 35,
   "metadata": {},
   "outputs": [
    {
     "name": "stdout",
     "output_type": "stream",
     "text": [
      "error: [Errno 2] No such file or directory: 'C:\\\\ololo\\\\str.txt'. Файл или директория не обнаружены\n",
      "Ошибка. Выход из программы\n"
     ]
    }
   ],
   "source": [
    "#надо исправить необработку ошибки\n",
    "file = None\n",
    "try:\n",
    "    file = open(r'C:\\ololo\\str.txt')\n",
    "    data = file.read()\n",
    "except FileNotFoundError as j:\n",
    "    print(f'error: {j}. Файл или директория не обнаружены')\n",
    "finally:\n",
    "    print(\"Ошибка. Выход из программы\")\n",
    "    if file:\n",
    "        file.close()"
   ]
  },
  {
   "cell_type": "code",
   "execution_count": 40,
   "metadata": {},
   "outputs": [
    {
     "name": "stdout",
     "output_type": "stream",
     "text": [
      "error: No such file or directory. Файл или директория не обнаружены\n",
      "Ошибка. Выход из программы\n"
     ]
    }
   ],
   "source": [
    "#есть атрибут strerror, который выводит описание, можно увидеть разницу\n",
    "file = None\n",
    "try:\n",
    "    file = open(r'C:\\ololo\\str.txt')\n",
    "    data = file.read()\n",
    "except FileNotFoundError as j:\n",
    "    print(f'error: {j.strerror}. Файл или директория не обнаружены')\n",
    "else:\n",
    "    print('result calculated')\n",
    "finally:\n",
    "    print(\"Ошибка. Выход из программы\")\n",
    "    if file:\n",
    "        file.close()"
   ]
  },
  {
   "cell_type": "code",
   "execution_count": 45,
   "metadata": {},
   "outputs": [],
   "source": [
    "#блок else нужен, если в блоке трай все прошло ок, и тогда блок ексепт пропускается, и мы попадаем в else\n",
    "#если был except, то в блок else мы не попадаем\n",
    "def divide(a, b):\n",
    "    try:\n",
    "        return a + b\n",
    "    except:\n",
    "        print('Unknown error occured')\n",
    "    else:\n",
    "        print('everything is ok')"
   ]
  },
  {
   "cell_type": "code",
   "execution_count": 46,
   "metadata": {},
   "outputs": [
    {
     "data": {
      "text/plain": [
       "4"
      ]
     },
     "execution_count": 46,
     "metadata": {},
     "output_type": "execute_result"
    }
   ],
   "source": [
    "divide(1, 3)\n",
    "#почему то не попали в блок else, хотя он вызывается, если исклчюний не было"
   ]
  },
  {
   "cell_type": "code",
   "execution_count": 43,
   "metadata": {},
   "outputs": [
    {
     "name": "stdout",
     "output_type": "stream",
     "text": [
      "Unknown error occured\n"
     ]
    }
   ],
   "source": [
    "divide(1, 'str')"
   ]
  },
  {
   "cell_type": "code",
   "execution_count": 50,
   "metadata": {},
   "outputs": [],
   "source": []
  },
  {
   "cell_type": "code",
   "execution_count": 3,
   "metadata": {},
   "outputs": [
    {
     "name": "stdout",
     "output_type": "stream",
     "text": [
      "5\n"
     ]
    }
   ],
   "source": [
    "#создание цикла, когда человек должен ввести, например, целое число в запросе, если он вводит что-то другое\n",
    "def test1():\n",
    "    while True:\n",
    "        try:\n",
    "            reply = int(input())\n",
    "            return reply\n",
    "        except:\n",
    "            print(\"error, try again\")\n",
    "            continue\n",
    "\n",
    "number = test1()"
   ]
  },
  {
   "cell_type": "code",
   "execution_count": 4,
   "metadata": {},
   "outputs": [
    {
     "data": {
      "text/plain": [
       "5"
      ]
     },
     "execution_count": 4,
     "metadata": {},
     "output_type": "execute_result"
    }
   ],
   "source": [
    "number"
   ]
  },
  {
   "cell_type": "code",
   "execution_count": null,
   "metadata": {},
   "outputs": [],
   "source": []
  },
  {
   "cell_type": "code",
   "execution_count": null,
   "metadata": {},
   "outputs": [],
   "source": []
  },
  {
   "cell_type": "code",
   "execution_count": null,
   "metadata": {},
   "outputs": [],
   "source": []
  },
  {
   "cell_type": "code",
   "execution_count": null,
   "metadata": {},
   "outputs": [],
   "source": []
  }
 ],
 "metadata": {
  "kernelspec": {
   "display_name": "Python 3",
   "language": "python",
   "name": "python3"
  },
  "language_info": {
   "codemirror_mode": {
    "name": "ipython",
    "version": 3
   },
   "file_extension": ".py",
   "mimetype": "text/x-python",
   "name": "python",
   "nbconvert_exporter": "python",
   "pygments_lexer": "ipython3",
   "version": "3.8.5"
  }
 },
 "nbformat": 4,
 "nbformat_minor": 4
}
