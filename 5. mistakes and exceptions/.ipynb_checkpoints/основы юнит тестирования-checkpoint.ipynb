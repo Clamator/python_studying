{
 "cells": [
  {
   "cell_type": "code",
   "execution_count": null,
   "metadata": {},
   "outputs": [],
   "source": [
    "#юнит тестирование - участвует в разработке ПО\n",
    "#юнит тестирование направлено на предотвращение ошибок, а не на их устранение\n",
    "#как работает: есть обычный продакшн код, который исполняет какую-то задачу, а параллельно пишутся тесты, который\n",
    "#этот продакшн код исполняют, и ошибки обнаруживаются до того, как код отправляется в эксплуатацию"
   ]
  },
  {
   "cell_type": "code",
   "execution_count": 7,
   "metadata": {},
   "outputs": [],
   "source": [
    "def get_reply(number):\n",
    "    if number % 5 == 0 and number % 3 == 0:\n",
    "        return 'fizz-buzz'\n",
    "    elif number % 5 == 0:\n",
    "        return 'buzz'\n",
    "    elif number % 3 == 0:\n",
    "        return 'fizz'\n",
    "    \n",
    "    else:\n",
    "        return ''"
   ]
  },
  {
   "cell_type": "code",
   "execution_count": 8,
   "metadata": {},
   "outputs": [
    {
     "data": {
      "text/plain": [
       "'fizz'"
      ]
     },
     "execution_count": 8,
     "metadata": {},
     "output_type": "execute_result"
    }
   ],
   "source": [
    "get_reply(153)"
   ]
  },
  {
   "cell_type": "code",
   "execution_count": null,
   "metadata": {},
   "outputs": [],
   "source": [
    "#вот этот код я сохранил в юпитер рут под названием fizzbuzz, для его проверки нужно будет создрать тест\n",
    "\n",
    "def get_reply(number):\n",
    "    if number % 5 == 0 and number % 3 == 0:\n",
    "        return 'FizzBuzz'\n",
    "    elif number % 5 == 0:\n",
    "        return 'Buzz'\n",
    "    elif number % 3 == 0:\n",
    "        return 'Fizz'\n",
    "\n",
    "    else:\n",
    "        return ''"
   ]
  }
 ],
 "metadata": {
  "kernelspec": {
   "display_name": "Python 3",
   "language": "python",
   "name": "python3"
  },
  "language_info": {
   "codemirror_mode": {
    "name": "ipython",
    "version": 3
   },
   "file_extension": ".py",
   "mimetype": "text/x-python",
   "name": "python",
   "nbconvert_exporter": "python",
   "pygments_lexer": "ipython3",
   "version": "3.8.5"
  }
 },
 "nbformat": 4,
 "nbformat_minor": 4
}
