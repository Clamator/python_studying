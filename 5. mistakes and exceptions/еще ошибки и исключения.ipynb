{
 "cells": [
  {
   "cell_type": "code",
   "execution_count": 56,
   "metadata": {},
   "outputs": [],
   "source": [
    "def divide(a, b):\n",
    "    try:\n",
    "        return a / b\n",
    "    except ArithmeticError as ex:\n",
    "        print(f'An error occured: {ex}')\n",
    "    else:\n",
    "        print('fff')"
   ]
  },
  {
   "cell_type": "code",
   "execution_count": 57,
   "metadata": {},
   "outputs": [
    {
     "name": "stdout",
     "output_type": "stream",
     "text": [
      "An error occured: division by zero\n"
     ]
    }
   ],
   "source": [
    "divide(2, 0)"
   ]
  },
  {
   "cell_type": "code",
   "execution_count": 58,
   "metadata": {},
   "outputs": [
    {
     "name": "stdout",
     "output_type": "stream",
     "text": [
      "enter smth: x =\n",
      "enter a number. invalid literal for int() with base 10: '' is not allowed \n",
      "Nothing to print\n"
     ]
    }
   ],
   "source": [
    "#чтобы ошибка была обработана, то, что она проверяет, должно быть в одной локации\n",
    "#т.к. если вывести запрос на ввод за пределы ф-и и за пределы try, то ошибка не обработается\n",
    "def data_receiver(x, y):\n",
    "    try:\n",
    "        x = int(input('enter smth: x ='))\n",
    "        y = int(input('enter smth: y ='))\n",
    "        return x * y\n",
    "    except ValueError as z:\n",
    "        print(f'enter a number. {z} is not allowed ')\n",
    "bbb = data_receiver(x, y)\n",
    "print(bbb if bbb != None else 'Nothing to print')"
   ]
  },
  {
   "cell_type": "code",
   "execution_count": 71,
   "metadata": {},
   "outputs": [],
   "source": [
    "#но можно сделать и так\n",
    "def matika(a, b):\n",
    "    try:\n",
    "        return a / b\n",
    "    except ZeroDivisionError as x:\n",
    "        print(f'Error: {x}')\n",
    "    except:\n",
    "        print(f'error: unknown error for \"{divider}\"')"
   ]
  },
  {
   "cell_type": "code",
   "execution_count": 72,
   "metadata": {},
   "outputs": [
    {
     "name": "stdout",
     "output_type": "stream",
     "text": [
      "Error: division by zero\n"
     ]
    }
   ],
   "source": [
    "matika(1, 0)"
   ]
  },
  {
   "cell_type": "code",
   "execution_count": 73,
   "metadata": {},
   "outputs": [
    {
     "name": "stdout",
     "output_type": "stream",
     "text": [
      "tyjty\n",
      "error: unknown error for \"tyjty\"\n"
     ]
    }
   ],
   "source": [
    "divider = input()\n",
    "matika(3, divider)"
   ]
  },
  {
   "cell_type": "code",
   "execution_count": 78,
   "metadata": {},
   "outputs": [],
   "source": [
    "def matika(a, b):\n",
    "    try:\n",
    "        return a / b\n",
    "    except ZeroDivisionError as x:\n",
    "        print(f'Error: {x}')\n",
    "    except:\n",
    "        print(f'error: unknown error for \"{divider}\"')\n",
    "    else:\n",
    "        print('ok')\n",
    "    finally:\n",
    "        print('534534535')"
   ]
  },
  {
   "cell_type": "code",
   "execution_count": 79,
   "metadata": {},
   "outputs": [
    {
     "name": "stdout",
     "output_type": "stream",
     "text": [
      "534534535\n"
     ]
    },
    {
     "data": {
      "text/plain": [
       "0.5"
      ]
     },
     "execution_count": 79,
     "metadata": {},
     "output_type": "execute_result"
    }
   ],
   "source": [
    "matika(1, 2)"
   ]
  },
  {
   "cell_type": "code",
   "execution_count": null,
   "metadata": {},
   "outputs": [],
   "source": [
    "def test1():\n",
    "    while True:\n",
    "        try:\n",
    "            reply = int(input())\n",
    "            return reply\n",
    "        except:\n",
    "            print(\"error, try again\")\n",
    "            continue\n",
    "\n",
    "number = test1()"
   ]
  },
  {
   "cell_type": "code",
   "execution_count": null,
   "metadata": {},
   "outputs": [],
   "source": []
  }
 ],
 "metadata": {
  "kernelspec": {
   "display_name": "Python 3",
   "language": "python",
   "name": "python3"
  },
  "language_info": {
   "codemirror_mode": {
    "name": "ipython",
    "version": 3
   },
   "file_extension": ".py",
   "mimetype": "text/x-python",
   "name": "python",
   "nbconvert_exporter": "python",
   "pygments_lexer": "ipython3",
   "version": "3.8.5"
  }
 },
 "nbformat": 4,
 "nbformat_minor": 4
}
