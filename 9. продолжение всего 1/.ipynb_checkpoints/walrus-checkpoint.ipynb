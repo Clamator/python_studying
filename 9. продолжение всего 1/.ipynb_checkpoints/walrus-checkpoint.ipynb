{
 "cells": [
  {
   "cell_type": "code",
   "execution_count": null,
   "metadata": {},
   "outputs": [],
   "source": [
    "print(walrus := True)\n",
    "\n",
    "for i in range(rows := int(input('enter a number of rows: '))):\n",
    "    print('*' * (i + 1))\n",
    "\n",
    "\n",
    "# тут сразу запихнули переменную в range, и имя присвоили, и сократили количество строк\n",
    "\n",
    "# кроме того, можно пихать walrus почти куда угодно\n",
    "\n",
    "def read_file(text):\n",
    "    while True:\n",
    "        line = text.readline()\n",
    "        if not line:\n",
    "            break\n",
    "\n",
    "        split_line = line.split(';')\n",
    "        print(split_line[0])\n",
    "\n",
    "\n",
    "def read_file2(text):\n",
    "    while line := text.readline():\n",
    "        if not line:\n",
    "            break\n",
    "\n",
    "        split_line = line.split(';')\n",
    "        print(split_line[0])"
   ]
  }
 ],
 "metadata": {
  "kernelspec": {
   "display_name": "Python 3",
   "language": "python",
   "name": "python3"
  },
  "language_info": {
   "codemirror_mode": {
    "name": "ipython",
    "version": 3
   },
   "file_extension": ".py",
   "mimetype": "text/x-python",
   "name": "python",
   "nbconvert_exporter": "python",
   "pygments_lexer": "ipython3",
   "version": "3.8.5"
  }
 },
 "nbformat": 4,
 "nbformat_minor": 4
}
