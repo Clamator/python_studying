{
 "cells": [
  {
   "cell_type": "code",
   "execution_count": null,
   "metadata": {},
   "outputs": [],
   "source": [
    "# подсказка линтеру, т.н. дак тайпинг, утиная типизация, означает, что сам объект менее важем, чем его тип\n",
    "# если что-то крякает как утка, плавает как утка и т.л. как утка - это утка\n",
    "from typing import Protocol, List\n",
    "\n",
    "\n",
    "class Bird:\n",
    "    def fly(self):\n",
    "        print('flying with wings')\n",
    "\n",
    "\n",
    "class Airplane:\n",
    "    def fly(self):\n",
    "        print('flying with fuel')\n",
    "\n",
    "\n",
    "class Flyable(Protocol):  # вот тут создается класс, унаследованный от протокола,\n",
    "    def fly(self): ...  # просто метод, который никак не реализован\n",
    "\n",
    "\n",
    "def process_flyables(flyables: List[Flyable]):  # тут передаем, что передаваемый список реализует протокол Flyable(имеют метод fly)\n",
    "    for cur_obj in flyables:\n",
    "        cur_obj.fly()  # когда мы ставим точку, мы не видим метод флай сразу\n",
    "\n",
    "\n",
    "class Fish:\n",
    "    def swim(self):\n",
    "        print('fish is swimming')\n",
    "\n",
    "\n",
    "# в выводе у нас будут экземпляры разного типа, но у них одинаковый метод, поэтому это работает\n",
    "# это и есть утиная типизация\n",
    "process_flyables([Bird(), Airplane(), Fish()])  # а тут фиш должен был быть подсвечен\n",
    "\n",
    "# какая мб проблема, если в классе нет метода флай,\n",
    "# можно обусловиться, что то, что передается в flyables должно подчиняться некоторому протоколу,\n",
    "# а именно должно реализовывать метод fly, и соответственно заставить линтеры проверять это\n",
    "# мы создаем класс Flyable, унаследованный от Protocol, создаем там метод fly и передаем в него ..., т.е. никак не реализуем его\n",
    "\n"
   ]
  }
 ],
 "metadata": {
  "kernelspec": {
   "display_name": "Python 3",
   "language": "python",
   "name": "python3"
  },
  "language_info": {
   "codemirror_mode": {
    "name": "ipython",
    "version": 3
   },
   "file_extension": ".py",
   "mimetype": "text/x-python",
   "name": "python",
   "nbconvert_exporter": "python",
   "pygments_lexer": "ipython3",
   "version": "3.8.5"
  }
 },
 "nbformat": 4,
 "nbformat_minor": 4
}
