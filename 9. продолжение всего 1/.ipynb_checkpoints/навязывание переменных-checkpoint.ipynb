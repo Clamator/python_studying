{
 "cells": [
  {
   "cell_type": "code",
   "execution_count": null,
   "metadata": {},
   "outputs": [],
   "source": [
    "def avg(a, b, c):\n",
    "    return (a + b + c) / 3\n",
    "\n",
    "\n",
    "print(avg(1, 2, 3))\n",
    "print(avg(c=3, a=1, b=2, ))\n",
    "# для того, чтобы делать аргументы позиционными, то есть в соответствии с тем, как они указаны в ф-и изначально,\n",
    "# без смешивания как во втором выводе, надо поставить / после указания аргументов\n",
    "def avg2(a, b, c, /):\n",
    "    return (a + b + c) / 3\n",
    "\n",
    "\n",
    "print(avg2(1, 2, 3))\n",
    "\n",
    "\n",
    "# print(avg2(c= 1, b =2, a =3))\n",
    "\n",
    "# можно перемежать позиционные и keyword аргументы\n",
    "\n",
    "def assert_equal(left, right, /, fail_message='pass'):\n",
    "    return (left == right, fail_message)\n",
    "\n",
    "\n",
    "print(assert_equal(1, 1))\n",
    "print(assert_equal(1, 1, fail_message='typing text...'))\n",
    "\n",
    "\n",
    "# бывает, надо явно указать keyword аргумменты, то есть с указанием имени именно\n",
    "# для этого ставится * перед называемыми аргументами\n",
    "\n",
    "def summa(*, a, b, c):\n",
    "    return a + b + c\n",
    "\n",
    "\n",
    "# если тут не указать имена переменных, ничего не выйдет\n",
    "print(summa(a=1, b=2, c=3))\n",
    "\n",
    "\n",
    "# эти темы можно сочетать\n",
    "\n",
    "def summa2(a, b, /, *, c):\n",
    "    return a + b + c\n",
    "\n",
    "\n",
    "print(summa2(2, 4, c=3))\n",
    "\n",
    "# название аргументы принудительно через * имеет смысл навязывать при передачи булиевых значений, например\n",
    "# или для того, чтобы смысл какого-то аргумента не пропал"
   ]
  }
 ],
 "metadata": {
  "kernelspec": {
   "display_name": "Python 3",
   "language": "python",
   "name": "python3"
  },
  "language_info": {
   "codemirror_mode": {
    "name": "ipython",
    "version": 3
   },
   "file_extension": ".py",
   "mimetype": "text/x-python",
   "name": "python",
   "nbconvert_exporter": "python",
   "pygments_lexer": "ipython3",
   "version": "3.8.5"
  }
 },
 "nbformat": 4,
 "nbformat_minor": 4
}
