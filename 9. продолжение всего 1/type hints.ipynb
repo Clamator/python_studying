{
 "cells": [
  {
   "cell_type": "code",
   "execution_count": null,
   "metadata": {},
   "outputs": [],
   "source": [
    "from random import random\n",
    "from typing import Optional, Any, Union, List, Tuple, Dict, Iterable\n",
    "\n",
    "\n",
    "class Character:\n",
    "\n",
    "    def __init__(self, armor: int, power: int):\n",
    "        self.armor = armor\n",
    "        self.power = power\n",
    "        self.health = 100\n",
    "\n",
    "    def hit(self, damage: int):\n",
    "        self.health -= damage\n",
    "        return self.health > 0\n",
    "\n",
    "    def __is_alive(self) -> bool:  # указываем возвращаемый тип данных\n",
    "        return self.health > 0\n",
    "\n",
    "\n",
    "c1 = Character(20, 20)\n",
    "c1.hit(20)\n",
    "\n",
    "speed = Optional[int]  # предпочтительно инт\n",
    "attack: Any = 50  # любое\n",
    "slave: Any = \"yes\"\n",
    "length: Union[int, float]  # несколько, передавать как инт, так и флоат\n",
    "lst: list  # список, но тут не говорится, что список должен содержать конкретно строки, цифры и тд\n",
    "lst2: List[int]  # прием только цифр\n",
    "player: Tuple[str, int]  # как должен выглядеть кортеж\n",
    "players = Dict[str, int] = {'Kesha': 100}  # DefaultDict доступен также\n",
    "\n",
    "\n",
    "def random_stream(min_val: int, max_val: int) -> Iterable[int]:\n",
    "    while True:\n",
    "        yield random.randint(min_val, max_val)\n"
   ]
  },
  {
   "cell_type": "code",
   "execution_count": null,
   "metadata": {},
   "outputs": [],
   "source": [
    "в этой лекции были всякие вещи, \n",
    "через двоеточие можно указывать желаемых ввод, черех -> - желаемый вывод"
   ]
  }
 ],
 "metadata": {
  "kernelspec": {
   "display_name": "Python 3",
   "language": "python",
   "name": "python3"
  },
  "language_info": {
   "codemirror_mode": {
    "name": "ipython",
    "version": 3
   },
   "file_extension": ".py",
   "mimetype": "text/x-python",
   "name": "python",
   "nbconvert_exporter": "python",
   "pygments_lexer": "ipython3",
   "version": "3.8.5"
  }
 },
 "nbformat": 4,
 "nbformat_minor": 4
}
