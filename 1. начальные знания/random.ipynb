{
 "cells": [
  {
   "cell_type": "code",
   "execution_count": 3,
   "metadata": {},
   "outputs": [
    {
     "name": "stdout",
     "output_type": "stream",
     "text": [
      "28\n",
      "-3.64272014572116\n",
      "6\n",
      "7\n",
      "8\n",
      "41\n",
      "48\n"
     ]
    }
   ],
   "source": [
    "#можно по одной цифре выводить\n",
    "import random\n",
    "x = random.randint(1,50)\n",
    "y = random.uniform(-5, 5) #выводит дробные цифры\n",
    "print(x)\n",
    "print(y)\n",
    "#можно по несколько\n",
    "for y in range(5):\n",
    "    print(random.randint(1,50))\n",
    "    "
   ]
  },
  {
   "cell_type": "code",
   "execution_count": 4,
   "metadata": {},
   "outputs": [
    {
     "name": "stdout",
     "output_type": "stream",
     "text": [
      "1\n",
      "5.0\n",
      "3.141592653589793\n"
     ]
    }
   ],
   "source": [
    "#а это еще один способ, не обязательно импоритровать весь модуль, можно импортировать только его отдельную функцию\n",
    "from random import randint\n",
    "print(randint(1,10))\n",
    "#тут просто функция, одна отдельная, сам модуль не полностью испортирован\n",
    "#а если хочется все импортировать, то пишем так from random import * (из рандома импортировать всё)\n",
    "\n",
    "from math import *\n",
    "print(sqrt(25))\n",
    "print(pi)\n",
    "#если бы мы делали по другому, то делали бы так:\n",
    "#import math\n",
    "#print(math.pi)"
   ]
  },
  {
   "cell_type": "code",
   "execution_count": 5,
   "metadata": {},
   "outputs": [
    {
     "name": "stdout",
     "output_type": "stream",
     "text": [
      "a\n"
     ]
    }
   ],
   "source": [
    "#если мы хотим выбрать из списка, сета, словаря и тд какой-либо элемент, делаем так:\n",
    "a = ['a', 'b', 'c', 'd', 'e','g']\n",
    "print(random.choice(a))"
   ]
  },
  {
   "cell_type": "code",
   "execution_count": 6,
   "metadata": {},
   "outputs": [
    {
     "name": "stdout",
     "output_type": "stream",
     "text": [
      "['p', 'g', 'j', 'd', 'e', 'o', 'n', 'l']\n"
     ]
    }
   ],
   "source": [
    "#если хотим несколько рандомных значений, то делаем так:\n",
    "a = ['a', 'b', 'c', 'd', 'e','g','h','i','j','k','l','m','n','o','p','q']\n",
    "password = random.sample(a, 8)\n",
    "print(password)"
   ]
  },
  {
   "cell_type": "code",
   "execution_count": null,
   "metadata": {},
   "outputs": [],
   "source": [
    "random.shuffle - мешает список"
   ]
  },
  {
   "cell_type": "code",
   "execution_count": 8,
   "metadata": {},
   "outputs": [
    {
     "name": "stdout",
     "output_type": "stream",
     "text": [
      "12\n",
      "WJYRSvtXjdmm\n"
     ]
    }
   ],
   "source": [
    "from string import ascii_letters\n",
    "from string import punctuation\n",
    "def generate_password():\n",
    "    lenght = int(input())\n",
    "    password = \"\"\n",
    "    \n",
    "    for i in range(0, lenght):\n",
    "        password += random.choice(ascii_letters)\n",
    "    return password\n",
    "print(generate_password())"
   ]
  },
  {
   "cell_type": "code",
   "execution_count": 2,
   "metadata": {},
   "outputs": [
    {
     "name": "stdout",
     "output_type": "stream",
     "text": [
      "#1 color of rainbow is red\n",
      "#2 color of rainbow is orange\n",
      "#3 color of rainbow is yellow\n",
      "#4 color of rainbow is green\n",
      "#5 color of rainbow is cyan\n",
      "#6 color of rainbow is blue\n",
      "#7 color of rainbow is violet\n"
     ]
    }
   ],
   "source": [
    "i = 1\n",
    "for color in 'red', 'orange', 'yellow', 'green', 'cyan', 'blue', 'violet':\n",
    "    print('#', i, ' color of rainbow is ', color, sep = '')\n",
    "    i += 1"
   ]
  },
  {
   "cell_type": "code",
   "execution_count": 7,
   "metadata": {},
   "outputs": [
    {
     "data": {
      "text/plain": [
       "['words ', ' ana, banana, havanna, vanna']"
      ]
     },
     "execution_count": 7,
     "metadata": {},
     "output_type": "execute_result"
    }
   ],
   "source": [
    "string = 'words - ana, banana, havanna, vanna'\n",
    "string.split('-')"
   ]
  },
  {
   "cell_type": "code",
   "execution_count": 5,
   "metadata": {},
   "outputs": [
    {
     "name": "stdout",
     "output_type": "stream",
     "text": [
      "12\n"
     ]
    },
    {
     "ename": "AttributeError",
     "evalue": "'builtin_function_or_method' object has no attribute 'choice'",
     "output_type": "error",
     "traceback": [
      "\u001b[1;31m---------------------------------------------------------------------------\u001b[0m",
      "\u001b[1;31mAttributeError\u001b[0m                            Traceback (most recent call last)",
      "\u001b[1;32m<ipython-input-5-11f0ed5394f3>\u001b[0m in \u001b[0;36m<module>\u001b[1;34m\u001b[0m\n\u001b[0;32m     11\u001b[0m     \u001b[1;31m#password = random.shuffle(password)\u001b[0m\u001b[1;33m\u001b[0m\u001b[1;33m\u001b[0m\u001b[1;33m\u001b[0m\u001b[0m\n\u001b[0;32m     12\u001b[0m     \u001b[1;32mreturn\u001b[0m \u001b[0mpassword\u001b[0m\u001b[1;33m\u001b[0m\u001b[1;33m\u001b[0m\u001b[0m\n\u001b[1;32m---> 13\u001b[1;33m \u001b[0mprint\u001b[0m\u001b[1;33m(\u001b[0m\u001b[0mgenerate_password\u001b[0m\u001b[1;33m(\u001b[0m\u001b[1;33m)\u001b[0m\u001b[1;33m)\u001b[0m\u001b[1;33m\u001b[0m\u001b[1;33m\u001b[0m\u001b[0m\n\u001b[0m",
      "\u001b[1;32m<ipython-input-5-11f0ed5394f3>\u001b[0m in \u001b[0;36mgenerate_password\u001b[1;34m()\u001b[0m\n\u001b[0;32m      7\u001b[0m \u001b[1;33m\u001b[0m\u001b[0m\n\u001b[0;32m      8\u001b[0m     \u001b[1;32mfor\u001b[0m \u001b[0mi\u001b[0m \u001b[1;32min\u001b[0m \u001b[0mrange\u001b[0m\u001b[1;33m(\u001b[0m\u001b[1;36m0\u001b[0m\u001b[1;33m,\u001b[0m \u001b[0mlenght\u001b[0m\u001b[1;33m)\u001b[0m\u001b[1;33m:\u001b[0m\u001b[1;33m\u001b[0m\u001b[1;33m\u001b[0m\u001b[0m\n\u001b[1;32m----> 9\u001b[1;33m         \u001b[0mpassword\u001b[0m \u001b[1;33m+=\u001b[0m \u001b[0mrandom\u001b[0m\u001b[1;33m.\u001b[0m\u001b[0mchoice\u001b[0m\u001b[1;33m(\u001b[0m\u001b[0mascii_letters\u001b[0m\u001b[1;33m)\u001b[0m\u001b[1;33m\u001b[0m\u001b[1;33m\u001b[0m\u001b[0m\n\u001b[0m\u001b[0;32m     10\u001b[0m         \u001b[1;31m#password += random.choice(punctuation)\u001b[0m\u001b[1;33m\u001b[0m\u001b[1;33m\u001b[0m\u001b[1;33m\u001b[0m\u001b[0m\n\u001b[0;32m     11\u001b[0m     \u001b[1;31m#password = random.shuffle(password)\u001b[0m\u001b[1;33m\u001b[0m\u001b[1;33m\u001b[0m\u001b[1;33m\u001b[0m\u001b[0m\n",
      "\u001b[1;31mAttributeError\u001b[0m: 'builtin_function_or_method' object has no attribute 'choice'"
     ]
    }
   ],
   "source": [
    "from random import *\n",
    "from string import ascii_letters\n",
    "from string import punctuation\n",
    "def generate_password():\n",
    "    lenght = int(input())\n",
    "    password = \"\"\n",
    "    \n",
    "    for i in range(0, lenght):\n",
    "        password += random.choice(ascii_letters)\n",
    "        #password += random.choice(punctuation)\n",
    "    #password = random.shuffle(password)\n",
    "    return password\n",
    "print(generate_password())"
   ]
  },
  {
   "cell_type": "code",
   "execution_count": null,
   "metadata": {},
   "outputs": [],
   "source": []
  }
 ],
 "metadata": {
  "kernelspec": {
   "display_name": "Python 3",
   "language": "python",
   "name": "python3"
  },
  "language_info": {
   "codemirror_mode": {
    "name": "ipython",
    "version": 3
   },
   "file_extension": ".py",
   "mimetype": "text/x-python",
   "name": "python",
   "nbconvert_exporter": "python",
   "pygments_lexer": "ipython3",
   "version": "3.8.5"
  }
 },
 "nbformat": 4,
 "nbformat_minor": 4
}
