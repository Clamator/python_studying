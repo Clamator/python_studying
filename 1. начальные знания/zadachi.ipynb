{
 "cells": [
  {
   "cell_type": "code",
   "execution_count": 44,
   "metadata": {},
   "outputs": [
    {
     "name": "stdout",
     "output_type": "stream",
     "text": [
      "chickens = 560\n",
      "cows = 1074\n",
      "pigs = 964\n",
      "cumulative number of legs are: 9272\n"
     ]
    }
   ],
   "source": [
    "chickens = input(\"chickens = \")\n",
    "cows = input(\"cows = \")\n",
    "pigs = input(\"pigs = \")\n",
    "chickens_legs = 2\n",
    "cows_legs = 4\n",
    "pigs_legs = 4\n",
    "x = int(chickens) * int(chickens_legs) + int(cows) * int(cows_legs) + int(pigs) * int(pigs_legs)\n",
    "print(\"cumulative number of legs are: \" + str(x))"
   ]
  },
  {
   "cell_type": "code",
   "execution_count": null,
   "metadata": {},
   "outputs": [],
   "source": []
  },
  {
   "cell_type": "code",
   "execution_count": null,
   "metadata": {},
   "outputs": [],
   "source": []
  },
  {
   "cell_type": "code",
   "execution_count": null,
   "metadata": {},
   "outputs": [],
   "source": [
    "int(chickens) * int(chickens_legs) + int(cows) * int(cows_legs) + int(pigs) * int(pigs_legs)"
   ]
  },
  {
   "cell_type": "code",
   "execution_count": 1,
   "metadata": {},
   "outputs": [
    {
     "name": "stdout",
     "output_type": "stream",
     "text": [
      "Какой язык программирования ты изучаешь?\n",
      "kfkf\n",
      "kfkf - отличный выбор!\n"
     ]
    }
   ],
   "source": [
    "print('Какой язык программирования ты изучаешь?')\n",
    "language = input()\n",
    "print(language, '- отличный выбор!')"
   ]
  },
  {
   "cell_type": "code",
   "execution_count": null,
   "metadata": {},
   "outputs": [],
   "source": []
  }
 ],
 "metadata": {
  "kernelspec": {
   "display_name": "Python 3",
   "language": "python",
   "name": "python3"
  },
  "language_info": {
   "codemirror_mode": {
    "name": "ipython",
    "version": 3
   },
   "file_extension": ".py",
   "mimetype": "text/x-python",
   "name": "python",
   "nbconvert_exporter": "python",
   "pygments_lexer": "ipython3",
   "version": "3.8.5"
  }
 },
 "nbformat": 4,
 "nbformat_minor": 4
}
