{
 "cells": [
  {
   "cell_type": "markdown",
   "metadata": {},
   "source": [
    "асинкио - это короче чуть улушенная тема по сравнению с тредингом, но и она не решает весь спектр проблем, поэтому иногда приходится таки использовать трендинг\n",
    "\n",
    "у асинкио есть спец слово - async, оно ставится перед def при определениии функции,\n",
    "сами ф-и построены на генераторах\n",
    "\n",
    "генераторы возвращают ленивые итераторы - ленивые генераторы, которые через некст вроде как работают\n",
    "функции корутины возвращают объекты корутины"
   ]
  },
  {
   "cell_type": "markdown",
   "metadata": {},
   "source": [
    "корутины позволяют строить цепочки неблокирующих вызовов. Блокирующий вызов является кодом, который не дает CPU делать что-либо еще в течение некоторого периода времени, \n",
    "в питон 3.5 изменился синтаксис корутинов, при этом их действия не изменилось.\n",
    "\n",
    "async - прописывает перед ф-ей, сделать ее корутином, ставится перед def\n",
    "___\n",
    "await - прописывается перед методом, он же - ф-я, он используется для асинхронного ожидания результата от выполнения корутина,\n",
    "то есть это асинхронный вызов, так вот, все, что после эуэйт идет, будет исполнено после того, как завершит работу сам эуэйт. Эуэйт делается на эуэйтбл объекте, в примере ниже этот эуэйтбл объект возвращается после вызова ф-и gather \n"
   ]
  },
  {
   "cell_type": "markdown",
   "metadata": {},
   "source": [
    "программа, использующая корутины, должна запустить event loop, цикл обработки событий\n",
    "его можно запустить из любой точки синхронной части программы, из любой синхронной ф-и вызвать асинхронную\n",
    "\n",
    "eventloop запускается вызовом asyncio.run()\n",
    "\n",
    "ивентлуп откроется, а когда вся асинхронка закончится, ивентлуп закроется\n",
    "\n",
    "ИЛ отвечает за запуск корутинов, колбэков, финализацию асинхронных генераторов и тд\n",
    "\n",
    "под разными ОС запускаются разные реализации ИЛ: для винды ProactorEventLoop, SelectorEventLoop для линукс\n",
    "\n",
    "есть несколько реализаций вообще асинронных модулей, одна из них uvloop, мб когда нибудь ее и изучу\n",
    "\n",
    "доступен API для ручного управления ИЛ\n"
   ]
  },
  {
   "cell_type": "markdown",
   "metadata": {},
   "source": [
    "когда мы вызываем корутины, мы перед ними ставим await для того, чтобы вызов произошел асинхоронно, и код, который находится после await, продолжил исполняться после того, как придет результат из вызова, ну или завершится этот асинхронный вызов\n",
    "\n",
    "как только он завершится, исполнение продолжится, допустим, со следующей строчки кода\n",
    "\n"
   ]
  },
  {
   "cell_type": "markdown",
   "metadata": {},
   "source": [
    "для того, чтобы асинх ф-я вызвала другую ф-ю, вызываемая ф-я должна быть тоже асинх, кроме того, методы, используемые во второй ф-и также дб асинх"
   ]
  },
  {
   "cell_type": "code",
   "execution_count": 6,
   "metadata": {},
   "outputs": [
    {
     "ename": "ModuleNotFoundError",
     "evalue": "No module named 'multythreading'",
     "output_type": "error",
     "traceback": [
      "\u001b[1;31m---------------------------------------------------------------------------\u001b[0m",
      "\u001b[1;31mModuleNotFoundError\u001b[0m                       Traceback (most recent call last)",
      "\u001b[1;32m<ipython-input-6-81659b5a00c1>\u001b[0m in \u001b[0;36m<module>\u001b[1;34m\u001b[0m\n\u001b[0;32m      1\u001b[0m \u001b[1;31m# в этом примере запускается через await main(), хотя надо запустить ивентлуп через asyncio.run(main())\u001b[0m\u001b[1;33m\u001b[0m\u001b[1;33m\u001b[0m\u001b[1;33m\u001b[0m\u001b[0m\n\u001b[0;32m      2\u001b[0m \u001b[1;32mimport\u001b[0m \u001b[0masyncio\u001b[0m\u001b[1;33m\u001b[0m\u001b[1;33m\u001b[0m\u001b[0m\n\u001b[1;32m----> 3\u001b[1;33m \u001b[1;32mfrom\u001b[0m \u001b[0mmultythreading\u001b[0m\u001b[1;33m.\u001b[0m\u001b[0mdecorators\u001b[0m \u001b[1;32mimport\u001b[0m \u001b[0masync_measure_time\u001b[0m\u001b[1;33m\u001b[0m\u001b[1;33m\u001b[0m\u001b[0m\n\u001b[0m\u001b[0;32m      4\u001b[0m \u001b[1;33m\u001b[0m\u001b[0m\n\u001b[0;32m      5\u001b[0m \u001b[1;32masync\u001b[0m \u001b[1;32mdef\u001b[0m \u001b[0mtick\u001b[0m\u001b[1;33m(\u001b[0m\u001b[1;33m)\u001b[0m\u001b[1;33m:\u001b[0m  \u001b[1;31m# вызываемая ф-я асинк\u001b[0m\u001b[1;33m\u001b[0m\u001b[1;33m\u001b[0m\u001b[0m\n",
      "\u001b[1;31mModuleNotFoundError\u001b[0m: No module named 'multythreading'"
     ]
    }
   ],
   "source": [
    "# в этом примере запускается через await main(), хотя надо запустить ивентлуп через asyncio.run(main())\n",
    "import asyncio\n",
    "\n",
    "async def tick():  # вызываемая ф-я асинк\n",
    "    print('tick')\n",
    "    await asyncio.sleep(1)  # у них и слип есть свой асинх, \n",
    "    print('tack')\n",
    "    \n",
    "async def main(): # основная ф-я тоже асинк\n",
    "    await asyncio.gather(tick(), tick(), tick())  # метод всегда с await, gather - типа map\n",
    "    \n",
    "    \n",
    "if __name__ == '__main__':\n",
    "    await main()"
   ]
  },
  {
   "cell_type": "markdown",
   "metadata": {},
   "source": [
    "получается типа у нас есть три потока, пришли в ф-ю тик, запринтили первый принт ТИК, поспали секунду, запринтили ТАК, "
   ]
  },
  {
   "cell_type": "code",
   "execution_count": null,
   "metadata": {},
   "outputs": [],
   "source": [
    "import asyncio\n",
    "\n",
    "from multythreading.decorators import async_measure_time\n",
    "\n",
    "\n",
    "async def tick():  # вызываемая ф-я асинк\n",
    "    print('tick')\n",
    "    await asyncio.sleep(1)  # у них и слип есть свой асинх,\n",
    "    print('tack')\n",
    "\n",
    "\n",
    "@async_measure_time  # тут мы сделали декоратор\n",
    "async def main():  # основная ф-я тоже асинк\n",
    "    await asyncio.gather(tick(), tick(), tick())  # метод всегда с await, gather - типа map\n",
    "\n",
    "\n",
    "if __name__ == '__main__':\n",
    "    asyncio.run(main())\n"
   ]
  },
  {
   "cell_type": "markdown",
   "metadata": {},
   "source": [
    "какая тема: мы прописали декоратор @measure_time, навели на него и через контроль+альт открыли в пайчарме файлик с декоратором, \n",
    "переделали его в асинх, он стал таким:\n",
    "import time\n",
    "from functools import wraps\n",
    "\n",
    "\n",
    "def async_measure_time(func):\n",
    "\n",
    "    @wraps(func)\n",
    "    async def wrap(*args, **kwargs):\n",
    "        start = time.perf_counter()\n",
    "        result = await func(*args, **kwargs)\n",
    "        finish = time.perf_counter() - start\n",
    "        print(f'it took {finish:0.2f} to execute {func}')\n",
    "        return result\n",
    "    return wrap\n",
    "\n",
    "то есть немного изменили имя самой ф-и, потом добавили асинк к враперу и эуэйт к ф-и в переменной результат, потом начали использовать\n",
    "в юпитере это не сработало"
   ]
  },
  {
   "cell_type": "markdown",
   "metadata": {},
   "source": [
    "первые итоги:\n",
    "\n",
    "    1. код исполняется за одну реальную секунду, то есть когда речь идет об инпут-аут операциях, это работает почти реально параллельно и работает за одну секунду.\n",
    "    2. такую же тему можно было бы сделать и использую трединг, однако код был бы уже сложнее, а здесь вся основная писанина и работа с потоками скрыта от нас, хотя основные моменты мы явно декларируем, пишем асинк и эуэйт, чтобы и машина понимала, что мы от нее хотим. Но прописывать две эти строчки явно проще, чем манипулировать тредами\n",
    "    3. вызовы происходят асинхронно, и уэуйт возвращает на время выполнения IO-bound операции управление вызывающему коду. То есть это не блокирующие вызовы\n",
    "    4. эуэйт мб использован только внутри корутина, мы не можем не из корутина вызвать корутин при помощи эуэйт. Т. к. использование асинк/эуэйт пронизывает весь стек вызовов\n",
    "    5. мы в корутине можем вызвать некорутин, но не наоборот\n",
    "    6. эуэйт обязан быть прописанным при вызове корутина\n",
    "    7. yeild развешен в корутинах и создает асинх генератор\n",
    "    8. return также разрешен\n",
    "    9. эуэйт может быть использован не только при вызове корутина, но и при вызове эуэйтбл объекта\n",
    "    10. эуэйтбл - объект, реализующий дандер метод __awaitable__(), который возвращает итератор\n",
    "    11. корутин относится к эуэйтбл объектам\n",
    "    "
   ]
  },
  {
   "cell_type": "code",
   "execution_count": null,
   "metadata": {},
   "outputs": [],
   "source": [
    "import asyncio\n",
    "\n",
    "\n",
    "\n",
    "\n",
    "async def tick():  # вызываемая ф-я асинк\n",
    "    print('tick')\n",
    "    await asyncio.sleep(1)  # у них и слип есть свой асинх,\n",
    "    print('tack')\n",
    "    loop2 = asyncio.get_running_loop()\n",
    "    if loop2.is_running():\n",
    "        print('loop is running')\n",
    "\n",
    "async def main():  # основная ф-я тоже асинк\n",
    "    await asyncio.gather(tick(), tick(), tick())  # метод всегда с await, gather - типа map\n",
    "\n",
    "\n",
    "if __name__ == '__main__':\n",
    "    loop = asyncio.get_event_loop()\n",
    "    try:\n",
    "        loop.run_until_complete(main())  # блокирующий вызов\n",
    "        print('coroutines have finished')\n",
    "\n",
    "    finally:\n",
    "        loop.close()\n",
    "        print('loop has been closed')\n",
    "\n"
   ]
  },
  {
   "cell_type": "code",
   "execution_count": null,
   "metadata": {},
   "outputs": [],
   "source": [
    "# этот пример, если мы хотим сделать так, чтобы после завершения ф-и поток продолжал работу, \n",
    "# для этого в эдин конфигурейшн надо поставить эмулятор терминала2\n",
    "import asyncio\n",
    "\n",
    "\n",
    "\n",
    "\n",
    "async def tick():  # вызываемая ф-я асинк\n",
    "    print('tick')\n",
    "    await asyncio.sleep(1)  # у них и слип есть свой асинх,\n",
    "    print('tack')\n",
    "    loop2 = asyncio.get_running_loop()\n",
    "    if loop2.is_running():\n",
    "        print('loop is running')\n",
    "\n",
    "async def main():  # основная ф-я тоже асинк\n",
    "    await asyncio.gather(tick(), tick(), tick())  # метод всегда с await, gather - типа map\n",
    "\n",
    "\n",
    "if __name__ == '__main__':\n",
    "    loop = asyncio.get_event_loop()\n",
    "    try:\n",
    "        loop.create_task(mfain())  # блокирующий вызов\n",
    "        loop.run_forever()\n",
    "        print('coroutines have finished')\n",
    "    except KeyboardInterrupt:\n",
    "        print('app was closed manually')\n",
    "    finally:\n",
    "        loop.close()\n",
    "        print('loop has been closed')\n",
    "\n"
   ]
  }
 ],
 "metadata": {
  "kernelspec": {
   "display_name": "Python 3",
   "language": "python",
   "name": "python3"
  },
  "language_info": {
   "codemirror_mode": {
    "name": "ipython",
    "version": 3
   },
   "file_extension": ".py",
   "mimetype": "text/x-python",
   "name": "python",
   "nbconvert_exporter": "python",
   "pygments_lexer": "ipython3",
   "version": "3.8.5"
  }
 },
 "nbformat": 4,
 "nbformat_minor": 4
}
