{
 "cells": [
  {
   "cell_type": "markdown",
   "metadata": {},
   "source": [
    "async - for - это типа тоже такая конструкция как и async await\n",
    "с помощью async - for мы проходится в цикле по корутине, которая что-то асинхронно генерирует"
   ]
  },
  {
   "cell_type": "raw",
   "metadata": {},
   "source": [
    "мы знаем, что с помощью обычного цикла for мы может пройтись по итератору или генератору, а вот с помощью async - for мы можем проходить циклом по асинхронному генератору\n",
    "___\n",
    "async - for не распараллеливает итерации, async - for позволяет последовательно итерировать по асинхронному источнику\n",
    "___\n",
    "async - for нужен для асинхронного ожидания данных от асинхронного источника\n",
    "\n",
    "___\n",
    "асинхронный объект-итератор реализует два дандер метода - __aiter__ и __anext__, функционально они идентичный методу iter() и методу next()\n"
   ]
  },
  {
   "cell_type": "code",
   "execution_count": null,
   "metadata": {},
   "outputs": [],
   "source": [
    "# представим, что у нас есть метод, который асинхронно выкачивает документы\n",
    "# мэйн в цикле вызывает ф-ю шет пейджес, куда передает список доков, ГП для каждого документа из списка\n",
    "# вызывает ф-ю фетч док (которая принимает этот самый отдельный док и возвращает его), ФД записывает в результат(док)\n",
    "# вызов себя и потом уже по этому результату проходимся в цикле\n",
    "import asyncio\n",
    "\n",
    "\n",
    "async def fetch_doc(doc):  # метод для загрузки документов\n",
    "    await asyncio.sleep(3)  # эмулируем работу\n",
    "    return doc\n",
    "\n",
    "# метод, в который приходит список документов\n",
    "async def get_pages(docs):\n",
    "    for cur_doc in docs: # ожидаем результат от фет_док\n",
    "        doc = await fetch_doc(cur_doc)  # док - это типа заглушка под результат, как я понял,\n",
    "        # в док будет асинх вызываться и ожидаться результат исполнения фетч_док с переданным документом из списка\n",
    "        for page in doc:\n",
    "            await asyncio.sleep(1)  # заставляет сразу выводиться строчку,как только она появилась\n",
    "            yield page\n",
    "\n",
    "async def main():\n",
    "    # здесь нам надо пройтись по гет_пейджес с асинхронным ожиданием результатов\n",
    "    # ф-я гет_пэйджес асинх, поэтому по ней надо асинх пройтись\n",
    "    async for page in get_pages(['doc1', 'doc2']):\n",
    "        print(f'{page=}')\n",
    "\n",
    "if __name__ == '__main__':\n",
    "    asyncio.run(main())\n"
   ]
  },
  {
   "cell_type": "markdown",
   "metadata": {},
   "source": [
    "вывод:\n",
    "\n",
    "    page='d'\n",
    "    page='o'\n",
    "    page='c'\n",
    "    page='1'\n",
    "    page='d'\n",
    "    page='o'\n",
    "    page='c'\n",
    "    page='2'"
   ]
  },
  {
   "cell_type": "code",
   "execution_count": null,
   "metadata": {},
   "outputs": [],
   "source": [
    "# тут заодно можно будет посмотреть на работу аитер и анекст\n",
    "import asyncio\n",
    "\n",
    "\n",
    "class AsyncIterator:\n",
    "    def __init__(self, n):\n",
    "        self.n = n\n",
    "        self.i = 0\n",
    "\n",
    "    # этот класс - это асинх итератор, по которому будем идти асинх и получать значения от 0 до Н\n",
    "\n",
    "    def __aiter__(self):\n",
    "        return self\n",
    "        # возвращает селф, потому что в этом же классе мы возвращаем анекст, делает класс итерируемым \n",
    "\n",
    "    async def __anext__(self):\n",
    "        print(f\"start {self.i}\")\n",
    "        await asyncio.sleep(1)\n",
    "        print(f\"end {self.i}\")\n",
    "\n",
    "        if self.i >= self.n:\n",
    "            raise StopAsyncIteration\n",
    "        self.i += 1\n",
    "        return self.i\n",
    "\n",
    "async def main():\n",
    "    async for n in AsyncIterator(10):\n",
    "        print(f\"Finally {n}\")\n",
    "\n",
    "\n",
    "if __name__ == '__main__':\n",
    "    asyncio.run(main())\n"
   ]
  },
  {
   "cell_type": "markdown",
   "metadata": {},
   "source": [
    "вывод:\n",
    "\n",
    "    start 0\n",
    "    end 0\n",
    "    Finally 1\n",
    "    start 1\n",
    "    end 1\n",
    "    Finally 2\n",
    "    start 2\n",
    "    ....."
   ]
  },
  {
   "cell_type": "code",
   "execution_count": null,
   "metadata": {},
   "outputs": [],
   "source": []
  }
 ],
 "metadata": {
  "kernelspec": {
   "display_name": "Python 3",
   "language": "python",
   "name": "python3"
  },
  "language_info": {
   "codemirror_mode": {
    "name": "ipython",
    "version": 3
   },
   "file_extension": ".py",
   "mimetype": "text/x-python",
   "name": "python",
   "nbconvert_exporter": "python",
   "pygments_lexer": "ipython3",
   "version": "3.8.5"
  }
 },
 "nbformat": 4,
 "nbformat_minor": 4
}
