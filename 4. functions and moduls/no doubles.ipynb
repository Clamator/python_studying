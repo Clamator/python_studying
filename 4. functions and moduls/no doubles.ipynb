{
 "cells": [
  {
   "cell_type": "code",
   "execution_count": null,
   "metadata": {},
   "outputs": [],
   "source": [
    "#план:\n",
    "##1. в каждом списке кортежей сразу три броска идет, мне не надо зацикливать каждый новый бросок\n",
    "#2. выпавшие очки нужно суммировать, то есть мне нужно просто разбить список кортежей на отдельные числа и попарно складывать\n",
    "#но если складывать их попарно, то тут уже нужен цикл, \n",
    "#3. мб перед сложением нужно запустить цикл, который будет проверять кости на одинаковость, для этого надо будет кости разбить, \n",
    "#4. нужно просто вывести сумму в итоге"
   ]
  },
  {
   "cell_type": "code",
   "execution_count": 7,
   "metadata": {},
   "outputs": [
    {
     "name": "stdout",
     "output_type": "stream",
     "text": [
      "21\n"
     ]
    }
   ],
   "source": [
    "#что будет отправлять, все верно\n",
    "lst = [(1, 2), (4, 1), (5, 6)]\n",
    "def calc_dice_scores(lst):\n",
    "    result1=0\n",
    "    result2=0\n",
    "    l1=[]\n",
    "    for k, v in lst:\n",
    "        if k == v:\n",
    "            l1 = 0\n",
    "            break\n",
    "        else:\n",
    "            result1+=k\n",
    "            result2+=v\n",
    "            l1 = result1 + result2\n",
    "    return l1"
   ]
  },
  {
   "cell_type": "code",
   "execution_count": 1,
   "metadata": {},
   "outputs": [],
   "source": [
    "#ответ от учителя\n",
    "#задача решается в одну строчку с помощью тернарного выражения\n",
    "#можно поспользоваться тапл-анпэкингом и ф-ей sum\n",
    "#тут надо обратить внимание на синтаксис, иф нот идет не в текущем л-к, а в соседнем, а элс вообще идет вне л-к\n",
    "def calc_dice_scores(lst):\n",
    "    return sum([a+b for a, b in lst]) if not any([a == b for a, b in lst]) else 0\n",
    "#мы делаем это, если нет хотя бы одного дубликата"
   ]
  },
  {
   "cell_type": "code",
   "execution_count": 4,
   "metadata": {},
   "outputs": [
    {
     "data": {
      "text/plain": [
       "23"
      ]
     },
     "execution_count": 4,
     "metadata": {},
     "output_type": "execute_result"
    }
   ],
   "source": [
    "calc_dice_scores([(1, 2), (4, 5), (5, 6)])"
   ]
  },
  {
   "cell_type": "code",
   "execution_count": 10,
   "metadata": {},
   "outputs": [],
   "source": [
    "#это я сам додумался, можно сделать условие, что мы делаем это если есть все пары, где а не равно б\n",
    "def calc_dice_scores(lst):\n",
    "    return sum([a+b for a, b in lst]) if all([a != b for a, b in lst]) else 0"
   ]
  },
  {
   "cell_type": "code",
   "execution_count": 12,
   "metadata": {},
   "outputs": [
    {
     "data": {
      "text/plain": [
       "23"
      ]
     },
     "execution_count": 12,
     "metadata": {},
     "output_type": "execute_result"
    }
   ],
   "source": [
    "calc_dice_scores([(1, 2), (4, 5), (5, 6)])"
   ]
  },
  {
   "cell_type": "code",
   "execution_count": null,
   "metadata": {},
   "outputs": [],
   "source": []
  }
 ],
 "metadata": {
  "kernelspec": {
   "display_name": "Python 3",
   "language": "python",
   "name": "python3"
  },
  "language_info": {
   "codemirror_mode": {
    "name": "ipython",
    "version": 3
   },
   "file_extension": ".py",
   "mimetype": "text/x-python",
   "name": "python",
   "nbconvert_exporter": "python",
   "pygments_lexer": "ipython3",
   "version": "3.8.5"
  }
 },
 "nbformat": 4,
 "nbformat_minor": 4
}
