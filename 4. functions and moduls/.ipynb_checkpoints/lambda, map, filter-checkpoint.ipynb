{
 "cells": [
  {
   "cell_type": "code",
   "execution_count": 1,
   "metadata": {},
   "outputs": [
    {
     "name": "stdout",
     "output_type": "stream",
     "text": [
      "[1, 4, 9, 16, 25]\n"
     ]
    }
   ],
   "source": [
    "#в функциях можно делать много чего, прям очень много, поэтому функции могут принимать в качестве агументов другие функции\n",
    "#это Л-К\n",
    "def square(*args):\n",
    "    return [x*x for x in args]\n",
    "a = square(1, 2, 3, 4, 5)\n",
    "print(a)"
   ]
  },
  {
   "cell_type": "code",
   "execution_count": 3,
   "metadata": {},
   "outputs": [
    {
     "name": "stdout",
     "output_type": "stream",
     "text": [
      "[3, 6, 9, 12, 15]\n"
     ]
    }
   ],
   "source": [
    "def triple(*args):\n",
    "    return [x*3 for x in args]\n",
    "a = triple(1, 2, 3, 4, 5)\n",
    "print(a)"
   ]
  },
  {
   "cell_type": "code",
   "execution_count": 17,
   "metadata": {},
   "outputs": [
    {
     "name": "stdout",
     "output_type": "stream",
     "text": [
      "<map object at 0x0000000004E6F070>\n",
      "1\n",
      "4\n",
      "9\n",
      "16\n",
      "25\n"
     ]
    }
   ],
   "source": [
    "#функция map - она принимает функцию в качетсве первого аргумента, а в качестве второго аргумента - элементы списка\n",
    "#работает так: к каждому элементу из списка, который ей передали, она применяет функцию, которую ей передали 1-м аргументом\n",
    "#эту функцию надо куда то присвоить, иначе при ее выводе мы будем видеть ее локацию в памяти\n",
    "#функцию передаем, а не вызываем, поэтому она без скобок\n",
    "#отобразится (да и вообще прохода по numbers не будет) инфа только если кто-то их запросит, например, циклом for\n",
    "def square(number):\n",
    "    return number*number\n",
    "numbers = [1, 2, 3, 4, 5]\n",
    "a = map(square, numbers)\n",
    "print(a)\n",
    "\n",
    "for x in a:\n",
    "    print(x)"
   ]
  },
  {
   "cell_type": "code",
   "execution_count": 18,
   "metadata": {},
   "outputs": [
    {
     "data": {
      "text/plain": [
       "[1, 4, 9, 16, 25]"
      ]
     },
     "execution_count": 18,
     "metadata": {},
     "output_type": "execute_result"
    }
   ],
   "source": [
    "#можно создать список, поместить в него map и будет список и использовать\n",
    "list(map(square, numbers))"
   ]
  },
  {
   "cell_type": "code",
   "execution_count": 19,
   "metadata": {},
   "outputs": [
    {
     "data": {
      "text/plain": [
       "[18, 20, 21, 19]"
      ]
     },
     "execution_count": 19,
     "metadata": {},
     "output_type": "execute_result"
    }
   ],
   "source": [
    "#есть такая телега как filter, она отфильтровывает некоторые элементы по некоторым условиям\n",
    "#здесь также при простом выводе функции она не будет отображаться, только если куда-то присобачить - список, цикл for и т.д.\n",
    "def is_adult(age):\n",
    "    return age >=18\n",
    "ages = [18, 17, 15, 20, 21, 19, 16]\n",
    "filter(is_adult, ages)\n",
    "list(filter(is_adult, ages))"
   ]
  },
  {
   "cell_type": "code",
   "execution_count": 22,
   "metadata": {},
   "outputs": [
    {
     "data": {
      "text/plain": [
       "[18, 20, 21, 19]"
      ]
     },
     "execution_count": 22,
     "metadata": {},
     "output_type": "execute_result"
    }
   ],
   "source": [
    "#сейчас будет lambda expression, допустим, нам нужна функция только на один раз, больше она не потребуется\n",
    "#тогда в общем то ее можно и не объявлять, а просто использоваmь Л-В,\n",
    "#однако в нем не мб более одного утверждения - стейтмента, не мб нескольких строк кода, а через and/or можно объединить\n",
    "#а в фильтре уже будет не функция передаваться, а переменная\n",
    "is_adult2 = lambda age: age >=18\n",
    "list(filter(is_adult2, ages))"
   ]
  },
  {
   "cell_type": "code",
   "execution_count": 23,
   "metadata": {},
   "outputs": [
    {
     "data": {
      "text/plain": [
       "[18, 20, 21, 19]"
      ]
     },
     "execution_count": 23,
     "metadata": {},
     "output_type": "execute_result"
    }
   ],
   "source": [
    "#а можно еще короче, тут уже не переменную передавать, а Л-В\n",
    "list(filter(lambda age: age >=18, ages))"
   ]
  },
  {
   "cell_type": "code",
   "execution_count": 25,
   "metadata": {},
   "outputs": [
    {
     "data": {
      "text/plain": [
       "16"
      ]
     },
     "execution_count": 25,
     "metadata": {},
     "output_type": "execute_result"
    }
   ],
   "source": [
    "#или вот так\n",
    "ab = lambda x, y: x**y\n",
    "ab(2, 4)"
   ]
  },
  {
   "cell_type": "code",
   "execution_count": null,
   "metadata": {},
   "outputs": [],
   "source": []
  },
  {
   "cell_type": "code",
   "execution_count": null,
   "metadata": {},
   "outputs": [],
   "source": []
  },
  {
   "cell_type": "code",
   "execution_count": 3,
   "metadata": {},
   "outputs": [
    {
     "name": "stdout",
     "output_type": "stream",
     "text": [
      "{1: 'Alex', 4: 'Boris', 9: 'Chris', 16: 'Demether', 25: 'Eve'}\n"
     ]
    }
   ],
   "source": [
    "def square(number):\n",
    "    return number*number\n",
    "numbers = [1, 2, 3, 4, 5]\n",
    "a = list(map(square, numbers))\n",
    "b = [\"Alex\", \"Boris\", \"Chris\", \"Demether\", \"Eve\"]\n",
    "c = dict(zip(a, b))\n",
    "print(c)"
   ]
  },
  {
   "cell_type": "code",
   "execution_count": 6,
   "metadata": {},
   "outputs": [
    {
     "name": "stdout",
     "output_type": "stream",
     "text": [
      "Alex has 1 $ in pocket\n",
      "Boris has 4 $ in pocket\n",
      "Chris has 9 $ in pocket\n",
      "Demether has 16 $ in pocket\n",
      "Eve has 25 $ in pocket\n"
     ]
    }
   ],
   "source": [
    "#тесты спустя время\n",
    "for k, v in c.items():\n",
    "    print(f'{v} has {k} $ in pocket')"
   ]
  },
  {
   "cell_type": "code",
   "execution_count": 7,
   "metadata": {},
   "outputs": [],
   "source": [
    "#тесты спустя время\n",
    "def quadro(number):\n",
    "    return number**4\n",
    "\n",
    "numbers = (1,2,3,4,5)\n",
    "spisok_quadro = list(map(quadro, numbers))"
   ]
  },
  {
   "cell_type": "code",
   "execution_count": 8,
   "metadata": {},
   "outputs": [
    {
     "name": "stdout",
     "output_type": "stream",
     "text": [
      "[1, 16, 81, 256, 625]\n"
     ]
    }
   ],
   "source": [
    "print(spisok_quadro)"
   ]
  },
  {
   "cell_type": "code",
   "execution_count": 12,
   "metadata": {},
   "outputs": [
    {
     "name": "stdout",
     "output_type": "stream",
     "text": [
      "[50, 70, 88, 94]\n"
     ]
    }
   ],
   "source": [
    "#тесты спустя время\n",
    "def stoimost_edy(spisok_productov):\n",
    "    return spisok_productov <= 100\n",
    "spisok_productov = [50,70,88,101,153,120,94]\n",
    "spisok_itogo = list(filter(stoimost_edy, spisok_productov))\n",
    "print(spisok_itogo)"
   ]
  },
  {
   "cell_type": "code",
   "execution_count": 15,
   "metadata": {},
   "outputs": [
    {
     "data": {
      "text/plain": [
       "28"
      ]
     },
     "execution_count": 15,
     "metadata": {},
     "output_type": "execute_result"
    }
   ],
   "source": [
    "#лямбда\n",
    "mnozhitel = lambda x,y,z: (x*x)+(y*z)\n",
    "mnozhitel(2,4,6)"
   ]
  },
  {
   "cell_type": "code",
   "execution_count": 17,
   "metadata": {},
   "outputs": [
    {
     "data": {
      "text/plain": [
       "[50, 70, 88, 94]"
      ]
     },
     "execution_count": 17,
     "metadata": {},
     "output_type": "execute_result"
    }
   ],
   "source": [
    "list(filter(lambda spisok_productov: spisok_productov <=100, spisok_productov))"
   ]
  },
  {
   "cell_type": "code",
   "execution_count": 1,
   "metadata": {},
   "outputs": [
    {
     "data": {
      "text/plain": [
       "8"
      ]
     },
     "execution_count": 1,
     "metadata": {},
     "output_type": "execute_result"
    }
   ],
   "source": [
    "kesha = lambda x, y: x * y\n",
    "kesha(2, 4)"
   ]
  },
  {
   "cell_type": "code",
   "execution_count": 2,
   "metadata": {},
   "outputs": [
    {
     "data": {
      "text/plain": [
       "[9001, 9050, 9003]"
      ]
     },
     "execution_count": 2,
     "metadata": {},
     "output_type": "execute_result"
    }
   ],
   "source": [
    "over9000 = [9000,8999,9001,9050,8987,9003]\n",
    "list(filter(lambda over9000: over9000 > 9000, over9000))"
   ]
  },
  {
   "cell_type": "code",
   "execution_count": null,
   "metadata": {},
   "outputs": [],
   "source": []
  }
 ],
 "metadata": {
  "kernelspec": {
   "display_name": "Python 3",
   "language": "python",
   "name": "python3"
  },
  "language_info": {
   "codemirror_mode": {
    "name": "ipython",
    "version": 3
   },
   "file_extension": ".py",
   "mimetype": "text/x-python",
   "name": "python",
   "nbconvert_exporter": "python",
   "pygments_lexer": "ipython3",
   "version": "3.8.5"
  }
 },
 "nbformat": 4,
 "nbformat_minor": 4
}
