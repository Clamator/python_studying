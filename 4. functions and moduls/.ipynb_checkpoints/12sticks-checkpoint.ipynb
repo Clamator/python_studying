{
 "cells": [
  {
   "cell_type": "code",
   "execution_count": null,
   "metadata": {},
   "outputs": [],
   "source": [
    "number = 10\n",
    "player_turn = 1 #первых ход делает первый игрок, номер меняется в тернарном выражении\n",
    "while number > 0:\n",
    "    print(f'How many sticks do you want to take? Current amount is {number}')\n",
    "    taken = int(input())\n",
    "    \n",
    "    if taken <1 or taken >3:\n",
    "        print('You tried to take a wrong number of sticks. You should take 1, 2 or 3 sticks')\n",
    "        continue\n",
    "    \n",
    "    number -= taken\n",
    "    print(f'Were taken {taken} sticks')\n",
    "    \n",
    "    if number <= 0:\n",
    "        print(f'No more sticks left. Player {player_turn} has lost')\n",
    "    player_turn = 1 if player_turn == 2 else 2 #тернарное выражение"
   ]
  }
 ],
 "metadata": {
  "kernelspec": {
   "display_name": "Python 3",
   "language": "python",
   "name": "python3"
  },
  "language_info": {
   "codemirror_mode": {
    "name": "ipython",
    "version": 3
   },
   "file_extension": ".py",
   "mimetype": "text/x-python",
   "name": "python",
   "nbconvert_exporter": "python",
   "pygments_lexer": "ipython3",
   "version": "3.8.5"
  }
 },
 "nbformat": 4,
 "nbformat_minor": 4
}
