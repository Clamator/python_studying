{
 "cells": [
  {
   "cell_type": "code",
   "execution_count": null,
   "metadata": {},
   "outputs": [],
   "source": [
    "#задача про нахождение расстояния между точками-------1\n",
    "import math\n",
    "\n",
    "def distance(x1, y1, x2, y2):\n",
    "    AC = x2-y2\n",
    "    BC = x1-y1\n",
    "    AB = math.sqrt(AC**2 + BC**2)\n",
    "    return AB\n",
    "\n",
    "\n",
    "x1 = float(input())\n",
    "x2 = float(input())\n",
    "y1 = float(input())\n",
    "y2 = float(input())\n",
    "print(distance(x1, y1, x2, y2))"
   ]
  },
  {
   "cell_type": "code",
   "execution_count": null,
   "metadata": {},
   "outputs": [],
   "source": []
  },
  {
   "cell_type": "code",
   "execution_count": 9,
   "metadata": {},
   "outputs": [
    {
     "name": "stdout",
     "output_type": "stream",
     "text": [
      "2\n",
      "-3\n",
      "0.125\n"
     ]
    }
   ],
   "source": [
    "#это возведение в степень, можно решить и так------2\n",
    "import numpy as np\n",
    "\n",
    "def power(a, n):\n",
    "    y = np.power(a, n)\n",
    "    return y\n",
    "    \n",
    "a = float(input())\n",
    "n = float(input())\n",
    "print(power(a, n))"
   ]
  },
  {
   "cell_type": "code",
   "execution_count": 10,
   "metadata": {},
   "outputs": [
    {
     "name": "stdout",
     "output_type": "stream",
     "text": [
      "2\n",
      "-3\n",
      "0.125\n"
     ]
    }
   ],
   "source": [
    "#а можно и так, ничего не придется импортировать, мб не всплывут ошибки никакие, мало ли------2\n",
    "def power(a, n):\n",
    "    y = pow(a, n)\n",
    "    return y\n",
    "    \n",
    "a = float(input())\n",
    "n = float(input())\n",
    "print(power(a, n))"
   ]
  },
  {
   "cell_type": "code",
   "execution_count": 23,
   "metadata": {},
   "outputs": [
    {
     "name": "stdout",
     "output_type": "stream",
     "text": [
      "впрврвер кукпку\n",
      "Впрврвер кукпку\n"
     ]
    }
   ],
   "source": [
    "#задача на то, чтобы первые буквы были заглавными, однако, тут делается только с одним словом------3\n",
    "#не доведена до рабочего состояния\n",
    "def capitalize():\n",
    "    for element in string1:\n",
    "        return element.capitalize()\n",
    "        \n",
    "string = input().split('')\n",
    "\n",
    "print(capitalize())"
   ]
  },
  {
   "cell_type": "code",
   "execution_count": 27,
   "metadata": {},
   "outputs": [
    {
     "name": "stdout",
     "output_type": "stream",
     "text": [
      "екр вирва р\n",
      "Екр Вирва Р\n"
     ]
    }
   ],
   "source": [
    "#------3\n",
    "#рабочая модель\n",
    "def capitalize():\n",
    "        return string.title()\n",
    "string = input()\n",
    "print(capitalize())"
   ]
  },
  {
   "cell_type": "code",
   "execution_count": null,
   "metadata": {},
   "outputs": [],
   "source": [
    "#--------4, задача про рекурсию и возведение в степень через нее\n",
    "def power(a, n):\n",
    "    if n == 0:\n",
    "        return 1\n",
    "    else:\n",
    "        return a *power(a, n-1)\n",
    "    \n",
    "a = float(input())\n",
    "n = int(input())\n",
    "print(power(a, n))"
   ]
  },
  {
   "cell_type": "code",
   "execution_count": 4,
   "metadata": {},
   "outputs": [
    {
     "name": "stdout",
     "output_type": "stream",
     "text": [
      "56\n",
      "56\n",
      "56\n",
      "56\n",
      "56\n",
      "6\n",
      "5\n",
      "6\n",
      "5\n",
      "4\n",
      "0\n",
      "0\n",
      "4\n",
      "5\n",
      "6\n",
      "5\n",
      "6\n",
      "56\n",
      "56\n",
      "56\n",
      "56\n",
      "56\n"
     ]
    }
   ],
   "source": [
    "#------5, разворот\n",
    "def razvorot():\n",
    "    a = int(input())\n",
    "    if a != 0:\n",
    "        razvorot()\n",
    "    print(a)\n",
    "razvorot()\n",
    "\n"
   ]
  },
  {
   "cell_type": "code",
   "execution_count": 4,
   "metadata": {},
   "outputs": [
    {
     "name": "stdout",
     "output_type": "stream",
     "text": [
      "20\n"
     ]
    }
   ],
   "source": [
    "def spisok(lst):\n",
    "    summa = 0\n",
    "    for element in lst:\n",
    "        summa += element\n",
    "    return summa\n",
    "lst = [2,4,6,8]\n",
    "spisok(lst)\n",
    "summa2 = spisok(lst)\n",
    "print(summa2)"
   ]
  },
  {
   "cell_type": "code",
   "execution_count": 6,
   "metadata": {},
   "outputs": [
    {
     "name": "stdout",
     "output_type": "stream",
     "text": [
      "[10, 20, 26, 12]\n"
     ]
    }
   ],
   "source": [
    "lst25 = [10,15,20,26,12,17,13]\n",
    "even_list = list(filter(lambda number: number %2 ==0, lst25))\n",
    "print(even_list)"
   ]
  },
  {
   "cell_type": "code",
   "execution_count": 18,
   "metadata": {},
   "outputs": [],
   "source": [
    "#сумму мы не посчитали, но сделал просто проверить работу\n",
    "def summa(lst23):\n",
    "    summa1 = 0\n",
    "    for i in range(lst23):\n",
    "        summa1 += i\n",
    "    return summa1\n",
    "\n",
    "lst23 = [10,15]\n",
    "\n",
    "mapped_list = list(map(summa, lst23))"
   ]
  },
  {
   "cell_type": "code",
   "execution_count": 19,
   "metadata": {},
   "outputs": [
    {
     "data": {
      "text/plain": [
       "[45, 105]"
      ]
     },
     "execution_count": 19,
     "metadata": {},
     "output_type": "execute_result"
    }
   ],
   "source": [
    "mapped_list"
   ]
  },
  {
   "cell_type": "code",
   "execution_count": 11,
   "metadata": {},
   "outputs": [
    {
     "data": {
      "text/plain": [
       "[True, False, True, False, False, True, False, True]"
      ]
     },
     "execution_count": 11,
     "metadata": {},
     "output_type": "execute_result"
    }
   ],
   "source": [
    "def mapping(element):\n",
    "    return element%2 == 0\n",
    "elements = [10,9,8,7,11,12,5,0]\n",
    "list(map(mapping, elements))"
   ]
  },
  {
   "cell_type": "code",
   "execution_count": 12,
   "metadata": {},
   "outputs": [
    {
     "data": {
      "text/plain": [
       "[10, 8, 12, 0]"
      ]
     },
     "execution_count": 12,
     "metadata": {},
     "output_type": "execute_result"
    }
   ],
   "source": [
    "def mapping(element):\n",
    "    return element%2 == 0\n",
    "elements = [10,9,8,7,11,12,5,0]\n",
    "list(filter(mapping, elements))"
   ]
  },
  {
   "cell_type": "code",
   "execution_count": 13,
   "metadata": {},
   "outputs": [
    {
     "data": {
      "text/plain": [
       "[9, 7, 11, 5]"
      ]
     },
     "execution_count": 13,
     "metadata": {},
     "output_type": "execute_result"
    }
   ],
   "source": [
    "def mapping(element):\n",
    "    return element%2\n",
    "elements = [10,9,8,7,11,12,5,0]\n",
    "list(filter(mapping, elements))"
   ]
  },
  {
   "cell_type": "code",
   "execution_count": 16,
   "metadata": {},
   "outputs": [
    {
     "data": {
      "text/plain": [
       "[0, 1, 0, 1, 1, 0, 1, 0]"
      ]
     },
     "execution_count": 16,
     "metadata": {},
     "output_type": "execute_result"
    }
   ],
   "source": [
    "def mapping(element):\n",
    "    return element%2\n",
    "elements = [10,9,8,7,11,12,5,0]\n",
    "list(map(mapping, elements))"
   ]
  },
  {
   "cell_type": "code",
   "execution_count": null,
   "metadata": {},
   "outputs": [],
   "source": []
  }
 ],
 "metadata": {
  "kernelspec": {
   "display_name": "Python 3",
   "language": "python",
   "name": "python3"
  },
  "language_info": {
   "codemirror_mode": {
    "name": "ipython",
    "version": 3
   },
   "file_extension": ".py",
   "mimetype": "text/x-python",
   "name": "python",
   "nbconvert_exporter": "python",
   "pygments_lexer": "ipython3",
   "version": "3.8.5"
  }
 },
 "nbformat": 4,
 "nbformat_minor": 4
}
