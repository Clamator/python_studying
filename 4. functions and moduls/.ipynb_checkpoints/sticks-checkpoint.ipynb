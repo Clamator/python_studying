{
 "cells": [
  {
   "cell_type": "code",
   "execution_count": null,
   "metadata": {},
   "outputs": [],
   "source": [
    "#два игрока, имя можно запросить и можно не запрашивать, 10 палочек, каждый раз выводим на консоль количество оставшихся палочек\n",
    "#то если надо будет вычитать из 10\n",
    "#кто берет последним, тот проигрывает\n",
    "#должна сохраняться очередность игроков,\n",
    "# в конце надо вывести имя поебдителя, \n",
    "1. надо создать двух игроков\n",
    "2. надо взять количество палочек\n",
    "3. надо запустить цикл, в котором каждый игрок по очереди берет палочку,\n",
    "что входит в этот цикл\n",
    "игроки должны чередоваться по завершении цикла, пока хз, как делать\n",
    "должно выводиться имя, которое говорит, который игрок делает ход (опционально)\n",
    "дб инпут, который принимает кол-во палочек, этот инпут надо вычитать из стикс\n",
    "вывести остаток на экран\n",
    "надо создать условие, что при оставлении одной или ни одной палочки чувак проигрывает, то есть просто выводится на экран имя того,\n",
    "кто сейчас делает ход\n",
    "5. вывести победителя\n",
    "6. используем цикл while, но можно попробовать и с for\n",
    "p1 = 'Kesha'\n",
    "p2 = 'Gosha'\n",
    "sticks = 10\n",
    "\n"
   ]
  },
  {
   "cell_type": "code",
   "execution_count": 15,
   "metadata": {},
   "outputs": [
    {
     "name": "stdout",
     "output_type": "stream",
     "text": [
      "сколько палочек берёт Kesha?: 7\n",
      "Игрок Kesha взял 7 пал.\n",
      "осталось 3 пал.\n",
      "сколько палочек берёт Gosha?: 2\n",
      "Игрок Gosha взял 2 пал.\n",
      "осталось 1 пал.\n",
      "Игрок Kesha проиграл\n"
     ]
    },
    {
     "ename": "KeyboardInterrupt",
     "evalue": "Interrupted by user",
     "output_type": "error",
     "traceback": [
      "\u001b[1;31m---------------------------------------------------------------------------\u001b[0m",
      "\u001b[1;31mKeyboardInterrupt\u001b[0m                         Traceback (most recent call last)",
      "\u001b[1;32m<ipython-input-15-becefef7b97f>\u001b[0m in \u001b[0;36m<module>\u001b[1;34m\u001b[0m\n\u001b[0;32m     26\u001b[0m     \u001b[1;32mif\u001b[0m \u001b[0msticks\u001b[0m \u001b[1;33m==\u001b[0m \u001b[1;36m1\u001b[0m\u001b[1;33m:\u001b[0m\u001b[1;33m\u001b[0m\u001b[1;33m\u001b[0m\u001b[0m\n\u001b[0;32m     27\u001b[0m         \u001b[0mprint\u001b[0m\u001b[1;33m(\u001b[0m\u001b[1;34mf'Игрок {names[0]} проиграл'\u001b[0m\u001b[1;33m)\u001b[0m\u001b[1;33m\u001b[0m\u001b[1;33m\u001b[0m\u001b[0m\n\u001b[1;32m---> 28\u001b[1;33m         \u001b[0mshould_cont\u001b[0m \u001b[1;33m=\u001b[0m \u001b[0minput\u001b[0m\u001b[1;33m(\u001b[0m\u001b[1;34m\"играем снова?: \"\u001b[0m\u001b[1;33m)\u001b[0m\u001b[1;33m\u001b[0m\u001b[1;33m\u001b[0m\u001b[0m\n\u001b[0m\u001b[0;32m     29\u001b[0m         \u001b[1;32mif\u001b[0m \u001b[0mshould_cont\u001b[0m \u001b[1;33m==\u001b[0m \u001b[1;34m'да'\u001b[0m\u001b[1;33m:\u001b[0m\u001b[1;33m\u001b[0m\u001b[1;33m\u001b[0m\u001b[0m\n\u001b[0;32m     30\u001b[0m             \u001b[0msticks\u001b[0m \u001b[1;33m=\u001b[0m \u001b[0mint\u001b[0m\u001b[1;33m(\u001b[0m\u001b[1;36m10\u001b[0m\u001b[1;33m)\u001b[0m\u001b[1;33m\u001b[0m\u001b[1;33m\u001b[0m\u001b[0m\n",
      "\u001b[1;32mC:\\Program Files\\Anaconda\\lib\\site-packages\\ipykernel\\kernelbase.py\u001b[0m in \u001b[0;36mraw_input\u001b[1;34m(self, prompt)\u001b[0m\n\u001b[0;32m    858\u001b[0m                 \u001b[1;34m\"raw_input was called, but this frontend does not support input requests.\"\u001b[0m\u001b[1;33m\u001b[0m\u001b[1;33m\u001b[0m\u001b[0m\n\u001b[0;32m    859\u001b[0m             )\n\u001b[1;32m--> 860\u001b[1;33m         return self._input_request(str(prompt),\n\u001b[0m\u001b[0;32m    861\u001b[0m             \u001b[0mself\u001b[0m\u001b[1;33m.\u001b[0m\u001b[0m_parent_ident\u001b[0m\u001b[1;33m,\u001b[0m\u001b[1;33m\u001b[0m\u001b[1;33m\u001b[0m\u001b[0m\n\u001b[0;32m    862\u001b[0m             \u001b[0mself\u001b[0m\u001b[1;33m.\u001b[0m\u001b[0m_parent_header\u001b[0m\u001b[1;33m,\u001b[0m\u001b[1;33m\u001b[0m\u001b[1;33m\u001b[0m\u001b[0m\n",
      "\u001b[1;32mC:\\Program Files\\Anaconda\\lib\\site-packages\\ipykernel\\kernelbase.py\u001b[0m in \u001b[0;36m_input_request\u001b[1;34m(self, prompt, ident, parent, password)\u001b[0m\n\u001b[0;32m    902\u001b[0m             \u001b[1;32mexcept\u001b[0m \u001b[0mKeyboardInterrupt\u001b[0m\u001b[1;33m:\u001b[0m\u001b[1;33m\u001b[0m\u001b[1;33m\u001b[0m\u001b[0m\n\u001b[0;32m    903\u001b[0m                 \u001b[1;31m# re-raise KeyboardInterrupt, to truncate traceback\u001b[0m\u001b[1;33m\u001b[0m\u001b[1;33m\u001b[0m\u001b[1;33m\u001b[0m\u001b[0m\n\u001b[1;32m--> 904\u001b[1;33m                 \u001b[1;32mraise\u001b[0m \u001b[0mKeyboardInterrupt\u001b[0m\u001b[1;33m(\u001b[0m\u001b[1;34m\"Interrupted by user\"\u001b[0m\u001b[1;33m)\u001b[0m \u001b[1;32mfrom\u001b[0m \u001b[1;32mNone\u001b[0m\u001b[1;33m\u001b[0m\u001b[1;33m\u001b[0m\u001b[0m\n\u001b[0m\u001b[0;32m    905\u001b[0m             \u001b[1;32mexcept\u001b[0m \u001b[0mException\u001b[0m \u001b[1;32mas\u001b[0m \u001b[0me\u001b[0m\u001b[1;33m:\u001b[0m\u001b[1;33m\u001b[0m\u001b[1;33m\u001b[0m\u001b[0m\n\u001b[0;32m    906\u001b[0m                 \u001b[0mself\u001b[0m\u001b[1;33m.\u001b[0m\u001b[0mlog\u001b[0m\u001b[1;33m.\u001b[0m\u001b[0mwarning\u001b[0m\u001b[1;33m(\u001b[0m\u001b[1;34m\"Invalid Message:\"\u001b[0m\u001b[1;33m,\u001b[0m \u001b[0mexc_info\u001b[0m\u001b[1;33m=\u001b[0m\u001b[1;32mTrue\u001b[0m\u001b[1;33m)\u001b[0m\u001b[1;33m\u001b[0m\u001b[1;33m\u001b[0m\u001b[0m\n",
      "\u001b[1;31mKeyboardInterrupt\u001b[0m: Interrupted by user"
     ]
    }
   ],
   "source": [
    "#это будет конечным результатом,\n",
    "#тут надо добавить перезапуск цикла\n",
    "#мое решение\n",
    "Kesha, Gosha = names\n",
    "sticks = int(10)\n",
    "should_cont = True\n",
    "while should_cont:\n",
    "    x = int(input(f'сколько палочек берёт {names[0]}?: '))\n",
    "    sticks -= x\n",
    "    print(f'Игрок {names[0]} взял {x} пал.')\n",
    "    print(f'осталось {sticks} пал.')\n",
    "    if sticks == 1:\n",
    "        print(f'Игрок {names[1]} проиграл')\n",
    "        should_cont = input(\"играем снова?: \")\n",
    "        if should_cont == 'да':\n",
    "            sticks = int(10)\n",
    "            continue\n",
    "        else:\n",
    "            print('игра окончена')\n",
    "            break\n",
    "            \n",
    "    x = int(input(f'сколько палочек берёт {names[1]}?: '))\n",
    "    sticks -= x\n",
    "    print(f'Игрок {names[1]} взял {x} пал.')\n",
    "    print(f'осталось {sticks} пал.')\n",
    "    \n",
    "    if sticks == 1:\n",
    "        print(f'Игрок {names[0]} проиграл')\n",
    "        should_cont = input(\"играем снова?: \")\n",
    "        if should_cont == 'да':\n",
    "            sticks = int(10)\n",
    "            continue\n",
    "        else:\n",
    "            print('игра окончена')\n",
    "            break"
   ]
  },
  {
   "cell_type": "code",
   "execution_count": null,
   "metadata": {},
   "outputs": [],
   "source": []
  },
  {
   "cell_type": "code",
   "execution_count": 20,
   "metadata": {},
   "outputs": [
    {
     "name": "stdout",
     "output_type": "stream",
     "text": [
      "How many sticks do you want to take? Current amount is 10\n",
      "3\n",
      "Were taken 3 sticks\n",
      "How many sticks do you want to take? Current amount is 7\n",
      "3\n",
      "Were taken 3 sticks\n",
      "How many sticks do you want to take? Current amount is 4\n",
      "3\n",
      "Were taken 3 sticks\n",
      "How many sticks do you want to take? Current amount is 1\n",
      "1\n",
      "Were taken 1 sticks\n",
      "No more sticks left. Player 2 has lost\n"
     ]
    }
   ],
   "source": [
    "#учитель использует тернарные выражения, с ними надо ознакомиться отдельно\n",
    "number = 10\n",
    "player_turn = 1 #первых ход делает первый игрок, номер меняется в тернарном выражении\n",
    "while number > 0:\n",
    "    print(f'How many sticks do you want to take? Current amount is {number}')\n",
    "    taken = int(input())\n",
    "    \n",
    "    if taken <1 or taken >3:\n",
    "        print('You tried to take a wrong number of sticks. You should take 1, 2 or 3 sticks')\n",
    "        continue\n",
    "    \n",
    "    number -= taken\n",
    "    print(f'Were taken {taken} sticks')\n",
    "    \n",
    "    if number <= 0:\n",
    "        print(f'No more sticks left. Player {player_turn} has lost')\n",
    "    player_turn = 1 if player_turn == 2 else 2 #тернарное выражение"
   ]
  },
  {
   "cell_type": "code",
   "execution_count": null,
   "metadata": {},
   "outputs": [],
   "source": [
    "#можно использовать несколько именованных ф-й, чтобы лучше раскрыть цель кода"
   ]
  },
  {
   "cell_type": "code",
   "execution_count": 28,
   "metadata": {},
   "outputs": [
    {
     "name": "stdout",
     "output_type": "stream",
     "text": [
      "How many sticks do you want to take? Current amount is 10\n",
      "1\n",
      "Were taken 1 sticks\n",
      "How many sticks do you want to take? Current amount is 9\n",
      "2\n",
      "Were taken 2 sticks\n",
      "How many sticks do you want to take? Current amount is 7\n",
      "1\n",
      "Were taken 1 sticks\n",
      "How many sticks do you want to take? Current amount is 6\n",
      "3\n",
      "Were taken 3 sticks\n",
      "How many sticks do you want to take? Current amount is 3\n",
      "2\n",
      "Were taken 2 sticks\n",
      "How many sticks do you want to take? Current amount is 1\n",
      "1\n",
      "Were taken 1 sticks\n",
      "No more sticks left. Player 2 has lost\n"
     ]
    }
   ],
   "source": [
    "number_of_sticks = 10\n",
    "player_turn = 1\n",
    "#далее будет несколько имен-х ф-й\n",
    "#эта ф-я проверяет, сколько палочек взял игрок, возвращает тру, если взял в пределах диапазона\n",
    "def can_take(sticks):\n",
    "    return sticks >= 1 or sticks <=3\n",
    "\n",
    "#эта функция меняет игрока, вернуть 1, если равно двум, иначе вернуть 2\n",
    "def switch_player_turn(turn):\n",
    "    return 1 if player_turn == 2 else 2\n",
    "\n",
    "#ф-я определяет конец игры, проверяет, какое кол-во палочек в игре\n",
    "def end_of_game(sticks):\n",
    "    return number_of_sticks <= 0\n",
    "\n",
    "#читается так - пока НЕ конец игры\n",
    "while (not end_of_game(number_of_sticks)):\n",
    "    print(f'How many sticks do you want to take? Current amount is {number_of_sticks}')\n",
    "    taken = int(input())\n",
    "    \n",
    "    if not can_take(taken): #если НЕ может взять\n",
    "        print('You tried to take a wrong number of sticks. You should take 1, 2 or 3 sticks')\n",
    "        continue\n",
    "    \n",
    "    number_of_sticks -= taken\n",
    "    print(f'Were taken {taken} sticks')\n",
    "    \n",
    "    if end_of_game(number_of_sticks):\n",
    "        print(f'No more sticks left. Player {player_turn} has lost')\n",
    "        break\n",
    "    player_turn = switch_player_turn(player_turn)"
   ]
  },
  {
   "cell_type": "code",
   "execution_count": null,
   "metadata": {},
   "outputs": [],
   "source": []
  }
 ],
 "metadata": {
  "kernelspec": {
   "display_name": "Python 3",
   "language": "python",
   "name": "python3"
  },
  "language_info": {
   "codemirror_mode": {
    "name": "ipython",
    "version": 3
   },
   "file_extension": ".py",
   "mimetype": "text/x-python",
   "name": "python",
   "nbconvert_exporter": "python",
   "pygments_lexer": "ipython3",
   "version": "3.8.5"
  }
 },
 "nbformat": 4,
 "nbformat_minor": 4
}
