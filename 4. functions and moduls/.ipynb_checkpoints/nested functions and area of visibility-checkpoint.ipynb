{
 "cells": [
  {
   "cell_type": "code",
   "execution_count": null,
   "metadata": {},
   "outputs": [],
   "source": [
    "#взаимодействие с переменными в контексте их видимости описывается правилом LEGB (local/enclosing function locals/global/built-in)\n",
    "#то есть 4 контекста, в котором существует переменная\n",
    "# 1. локальный, например,  присвоение именам внутри функции, или lambda, которые не объявлены функцией глобальной\n",
    "# 2. это те же самые локальные функции, но обёрнутые в еще одну функцию (мб неправильная формулировка, те, кто оборачивает ф-ю)\n",
    "# 3. глобальный, когда переменные находятся вне классов и методов\n",
    "# 4. встроенные, условно встроенны в питон, типа лист, дикт, лен"
   ]
  },
  {
   "cell_type": "code",
   "execution_count": 6,
   "metadata": {},
   "outputs": [],
   "source": [
    "greeting = \"Hello from the global scope\" #переменная, все ф-й и классов, она в глобальном скоупе\n",
    "\n",
    "def greet():\n",
    "    greeting = \"Hello from enclosing scope\" #пока не была написана ф-я nested, эта ф-я была сама local\n",
    "    #enclose - это огораживать, вмещать, окружать, походу та, которая в себя что то включает\n",
    "    def nested():\n",
    "        greeting = \"Hello from the local scope\"\n",
    "        print(greeting)\n",
    "    nested()"
   ]
  },
  {
   "cell_type": "code",
   "execution_count": 7,
   "metadata": {},
   "outputs": [
    {
     "name": "stdout",
     "output_type": "stream",
     "text": [
      "Hello from the local scope\n",
      "Hello from the global scope\n"
     ]
    }
   ],
   "source": [
    "greet()\n",
    "print(greeting)\n",
    "\n",
    "#что здесь произошло:\n",
    "# при вызове ф-и greet не происходит присвоение нового значения в этой ф-и greet, т.к. \n",
    "# ф-я greet более узкая, чем greeting в первой строке, также и nested более узкий scope, чем greet,\n",
    "#в каждом scope мы работаем со своей переменной, то есть локально она меняется, но шире - уже нет"
   ]
  },
  {
   "cell_type": "code",
   "execution_count": null,
   "metadata": {},
   "outputs": [],
   "source": [
    "#для этого попробуем немного изменить код, а именно убрать одну переменную"
   ]
  },
  {
   "cell_type": "code",
   "execution_count": 8,
   "metadata": {},
   "outputs": [],
   "source": [
    "greeting = \"Hello from the global scope\" #переменная\n",
    "\n",
    "def greet():\n",
    "    greeting = \"Hello from enclosing scope\" #пока не была написана ф-я nested, эта ф-я была сама local\n",
    "    \n",
    "    def nested():\n",
    "        #greeting = \"Hello from the local scope\"\n",
    "        print(greeting)\n",
    "    nested()"
   ]
  },
  {
   "cell_type": "code",
   "execution_count": 9,
   "metadata": {},
   "outputs": [
    {
     "name": "stdout",
     "output_type": "stream",
     "text": [
      "Hello from enclosing scope\n",
      "Hello from the global scope\n"
     ]
    }
   ],
   "source": [
    "greet()\n",
    "print(greeting)"
   ]
  },
  {
   "cell_type": "code",
   "execution_count": null,
   "metadata": {},
   "outputs": [],
   "source": [
    "#тут видно, что теперь функция nested не получила изменение переменной greeting, а посему вывела ее такой, какой ее видит greet\n",
    "#он берет ближайшую доступную,\n",
    "#если мы закомментируем и greeting в greet, то он возьмет обе Hello from the global scope"
   ]
  },
  {
   "cell_type": "code",
   "execution_count": 2,
   "metadata": {},
   "outputs": [],
   "source": []
  },
  {
   "cell_type": "code",
   "execution_count": 9,
   "metadata": {},
   "outputs": [],
   "source": [
    "greeting = \"Hello from the global scope\" \n",
    "\n",
    "def greet(greeting):\n",
    "    print(f'1-st greet in func: {greeting}')\n",
    "    greeting = \"Hello from enclosing scope\"\n",
    "    print(f'2-nd greet in func: {greeting}')\n",
    "    def nested():\n",
    "        greeting = \"Hello from the local scope\"\n",
    "        print(greeting)\n",
    "    nested()"
   ]
  },
  {
   "cell_type": "code",
   "execution_count": 10,
   "metadata": {},
   "outputs": [
    {
     "name": "stdout",
     "output_type": "stream",
     "text": [
      "1-st greet in func: test\n",
      "2-nd greet in func: Hello from enclosing scope\n",
      "Hello from the local scope\n",
      "Hello from the global scope\n"
     ]
    }
   ],
   "source": [
    "greet('test')\n",
    "print(greeting)"
   ]
  },
  {
   "cell_type": "code",
   "execution_count": null,
   "metadata": {},
   "outputs": [],
   "source": []
  },
  {
   "cell_type": "code",
   "execution_count": 11,
   "metadata": {},
   "outputs": [],
   "source": [
    "#если хочется изменить глобальный скоуп,\n",
    "#для этого не нужно принимать аргумент с тем же именем, убрали greeting из def greet():\n",
    "#а после добавляет ключевоеслово глобал\n",
    "greeting = \"Hello from the global scope\" \n",
    "\n",
    "def greet():\n",
    "    global greeting\n",
    "    print(f'1-st greet in func: {greeting}')\n",
    "    greeting = \"Hello from enclosing scope\"\n",
    "    print(f'2-nd greet in func: {greeting}')\n",
    "    def nested():\n",
    "        greeting = \"Hello from the local scope\"\n",
    "        print(greeting)\n",
    "    nested()\n",
    "#и мы видим, что последний вывод уже выводит enclosing, потому что мы его в итоге заменили"
   ]
  },
  {
   "cell_type": "code",
   "execution_count": 12,
   "metadata": {},
   "outputs": [
    {
     "name": "stdout",
     "output_type": "stream",
     "text": [
      "1-st greet in func: Hello from the global scope\n",
      "2-nd greet in func: Hello from enclosing scope\n",
      "Hello from the local scope\n",
      "Hello from enclosing scope\n"
     ]
    }
   ],
   "source": [
    "greet()\n",
    "print(greeting)"
   ]
  },
  {
   "cell_type": "code",
   "execution_count": 19,
   "metadata": {},
   "outputs": [],
   "source": [
    "greeting = \"Hello from the global scope\" \n",
    "\n",
    "def greet(greeting):\n",
    "    print(f'1-st greet in func: {greeting}')\n",
    "    greeting = \"Hello from enclosing scope\"\n",
    "    print(f'2-nd greet in func: {greeting}')\n",
    "    def nested():\n",
    "        global greeting\n",
    "        greeting = \"Hello from the local scope\"\n",
    "        print(greeting)\n",
    "    nested()"
   ]
  },
  {
   "cell_type": "code",
   "execution_count": 20,
   "metadata": {},
   "outputs": [
    {
     "name": "stdout",
     "output_type": "stream",
     "text": [
      "1-st greet in func: test\n",
      "2-nd greet in func: Hello from enclosing scope\n",
      "Hello from the local scope\n",
      "Hello from the local scope\n"
     ]
    }
   ],
   "source": [
    "greet('test')\n",
    "print(greeting)"
   ]
  },
  {
   "cell_type": "code",
   "execution_count": null,
   "metadata": {},
   "outputs": [],
   "source": [
    "#то же самое мы можем сделать и в более узком скоупе - локал\n",
    "# главное, что нужно запомнить, так это то, что функция не должна принимать аргумент при получении глобал скоуп\n",
    "# но лучше такой темой не  заниматься, лучше передать через return новое значение в переменную"
   ]
  }
 ],
 "metadata": {
  "kernelspec": {
   "display_name": "Python 3",
   "language": "python",
   "name": "python3"
  },
  "language_info": {
   "codemirror_mode": {
    "name": "ipython",
    "version": 3
   },
   "file_extension": ".py",
   "mimetype": "text/x-python",
   "name": "python",
   "nbconvert_exporter": "python",
   "pygments_lexer": "ipython3",
   "version": "3.8.5"
  }
 },
 "nbformat": 4,
 "nbformat_minor": 4
}
