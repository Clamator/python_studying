{
 "cells": [
  {
   "cell_type": "code",
   "execution_count": 3,
   "metadata": {},
   "outputs": [
    {
     "data": {
      "text/plain": [
       "1"
      ]
     },
     "execution_count": 3,
     "metadata": {},
     "output_type": "execute_result"
    }
   ],
   "source": [
    "#взятие числа по модулю, то есть -6 будет 6, 5 будет 5, отсекается минус\n",
    "abs(-1)"
   ]
  },
  {
   "cell_type": "code",
   "execution_count": 4,
   "metadata": {},
   "outputs": [
    {
     "data": {
      "text/plain": [
       "50"
      ]
     },
     "execution_count": 4,
     "metadata": {},
     "output_type": "execute_result"
    }
   ],
   "source": [
    "#наибольшее и наименьшее\n",
    "max(12,50,30,40)"
   ]
  },
  {
   "cell_type": "code",
   "execution_count": 5,
   "metadata": {},
   "outputs": [
    {
     "data": {
      "text/plain": [
       "-1"
      ]
     },
     "execution_count": 5,
     "metadata": {},
     "output_type": "execute_result"
    }
   ],
   "source": [
    "min([50,1,0,-1])\n",
    "#можно дедать это и передавая список"
   ]
  },
  {
   "cell_type": "code",
   "execution_count": 6,
   "metadata": {},
   "outputs": [
    {
     "data": {
      "text/plain": [
       "16"
      ]
     },
     "execution_count": 6,
     "metadata": {},
     "output_type": "execute_result"
    }
   ],
   "source": [
    "#возведение в степень. первый аргумент - что, второй - степень\n",
    "pow(2, 4)"
   ]
  },
  {
   "cell_type": "code",
   "execution_count": 9,
   "metadata": {},
   "outputs": [
    {
     "data": {
      "text/plain": [
       "3.4"
      ]
     },
     "execution_count": 9,
     "metadata": {},
     "output_type": "execute_result"
    }
   ],
   "source": [
    "#округление - первый аргумент - число, второй - сколько знаков после запятой оставить, работает именно математически\n",
    "round(3.372342323, 1)"
   ]
  },
  {
   "cell_type": "code",
   "execution_count": 10,
   "metadata": {},
   "outputs": [
    {
     "data": {
      "text/plain": [
       "24"
      ]
     },
     "execution_count": 10,
     "metadata": {},
     "output_type": "execute_result"
    }
   ],
   "source": [
    "#суммирование делается только если передается список\n",
    "sum([1,5,9,4,2,3])"
   ]
  },
  {
   "cell_type": "code",
   "execution_count": 11,
   "metadata": {},
   "outputs": [
    {
     "name": "stdout",
     "output_type": "stream",
     "text": [
      "0x2a\n",
      "0o52\n",
      "0b101010\n"
     ]
    }
   ],
   "source": [
    "#преобразование в другие системы счисления\n",
    "a = hex(42)\n",
    "b = oct(42)\n",
    "c = bin(42)\n",
    "print(a)\n",
    "print(b)\n",
    "print(c)\n",
    "#в данных системах есть свои префиксы, это 0x для 16-тиричной, 0о для восьми и 0b для двоичной"
   ]
  },
  {
   "cell_type": "code",
   "execution_count": 12,
   "metadata": {},
   "outputs": [
    {
     "name": "stdout",
     "output_type": "stream",
     "text": [
      "True\n",
      "False\n"
     ]
    }
   ],
   "source": [
    "#далее другие функкции\n",
    "#функция all - она выдает булиево значение True или False в зависимости оттого, все ли ее переменные вычисляются в True или нет\n",
    "#если есть хотя бы одно значение, которое не True, то all выдает False\n",
    "a1 = all([True, True])\n",
    "a2 = all([True, True, False])\n",
    "print(a1)\n",
    "print(a2)\n"
   ]
  },
  {
   "cell_type": "code",
   "execution_count": 3,
   "metadata": {},
   "outputs": [
    {
     "data": {
      "text/plain": [
       "False"
      ]
     },
     "execution_count": 3,
     "metadata": {},
     "output_type": "execute_result"
    }
   ],
   "source": [
    " #где полезно: например, нам надо проверить, все ли игроки имеют рейтинг более 2800, создаем список таплов\n",
    "players = [(\"Boris\", 2900), (\"Kesha\", 2850), (\"Gora\", 2810), (\"Chloya\", 2790), (\"Azis\", 2780)]\n",
    "#для этого берем функцию all и тапл анпекинг,\n",
    "all(rating > 2800 for _, rating in players)\n",
    "#здесь в левом выражении название переменной просто нижнее подчеркивание, потому что оно нас не интересует, но можно и написать\n",
    "#а второй переменной присвоили имя rating\n",
    "#кроме того выражение в круглых скобках можно обернуть в квадратные all([rating > 2800 for _, rating in players])\n",
    "#он также будет всё это вычислять, но у них есть разница:\n",
    "#в первом случае функция, доходя до первого False, прерывает цикл, потому что нет смысла идти дальше, выражение итак False\n",
    "#а во втором случае функция сначала проверит все элементы списка, а уже потом передаст из функции"
   ]
  },
  {
   "cell_type": "code",
   "execution_count": 4,
   "metadata": {},
   "outputs": [
    {
     "data": {
      "text/plain": [
       "True"
      ]
     },
     "execution_count": 4,
     "metadata": {},
     "output_type": "execute_result"
    }
   ],
   "source": [
    "#есть функция any, она требует, чтобы хотя бы одно выражение было True, тогда она вернет True, а если таковых нет, вернет False\n",
    "players = [(\"Boris\", 2901), (\"Kesha\", 2850), (\"Gora\", 2810), (\"Chloya\", 2790), (\"Azis\", 2780)]\n",
    "any(rating > 2900 for _, rating in players)"
   ]
  },
  {
   "cell_type": "code",
   "execution_count": 5,
   "metadata": {},
   "outputs": [
    {
     "data": {
      "text/plain": [
       "False"
      ]
     },
     "execution_count": 5,
     "metadata": {},
     "output_type": "execute_result"
    }
   ],
   "source": [
    "players = [(\"Boris\", 2899), (\"Kesha\", 2850), (\"Gora\", 2810), (\"Chloya\", 2790), (\"Azis\", 2780)]\n",
    "any(rating > 2900 for _, rating in players)\n",
    "#вот два примера"
   ]
  },
  {
   "cell_type": "code",
   "execution_count": 6,
   "metadata": {},
   "outputs": [
    {
     "name": "stdout",
     "output_type": "stream",
     "text": [
      "<zip object at 0x0000000004E8B100>\n",
      "[('a', 10), ('b', 20), ('c', 30)]\n"
     ]
    }
   ],
   "source": [
    "#далее функция склеивания zip, ее суть в том, что она сожет склеить типы данных, но ее надо явно вызвать через цикл или список\n",
    "#до тех пор она будет находиться где-то как-то,хрен пойми, \n",
    "a = \"abcd\"\n",
    "b = (10, 20, 30)\n",
    "zipped = zip(a, b)\n",
    "print(zipped)\n",
    "zipped_file = list(zipped)\n",
    "print(zipped_file)\n",
    "#как видим, зип объект находится хз где, а стоило переделать его в список, то сразу отобразился\n",
    "#кроме того объект, которому не хватило пары, пропал, возвращает список таплов"
   ]
  },
  {
   "cell_type": "code",
   "execution_count": 7,
   "metadata": {},
   "outputs": [
    {
     "name": "stdout",
     "output_type": "stream",
     "text": [
      "[('a', 10, 'gora'), ('b', 20, 'reka'), ('c', 30, 'more')]\n"
     ]
    }
   ],
   "source": [
    "a = \"abcd\"\n",
    "b = (10, 20, 30)\n",
    "c = (\"gora\", \"reka\", \"more\", \"svet\", \"ogon\")\n",
    "zipped = zip(a, b, c)\n",
    "zipped_file = list(zipped)\n",
    "print(zipped_file)"
   ]
  },
  {
   "cell_type": "code",
   "execution_count": 11,
   "metadata": {},
   "outputs": [
    {
     "name": "stdout",
     "output_type": "stream",
     "text": [
      "{'Alex': 10, 'Boris': 20, 'Kesha': 30}\n"
     ]
    }
   ],
   "source": [
    "#полезно при формировании словаря\n",
    "a = [\"Alex\", \"Boris\", \"Kesha\"]\n",
    "b = (10, 20, 30)\n",
    "zipped_file = dict(zip(a, b))\n",
    "print(zipped_file)"
   ]
  },
  {
   "cell_type": "code",
   "execution_count": null,
   "metadata": {},
   "outputs": [],
   "source": [
    "#функция input"
   ]
  },
  {
   "cell_type": "code",
   "execution_count": 15,
   "metadata": {},
   "outputs": [
    {
     "name": "stdout",
     "output_type": "stream",
     "text": [
      "35\n",
      "#\n",
      "#\n"
     ]
    }
   ],
   "source": [
    "#а еще можно узнать, какой номер в таблице юникода у символа и наоборот\n",
    "symbol = ord('#')\n",
    "print(symbol)\n",
    "symbol1 = chr(35)\n",
    "print(symbol1)\n",
    "symbol2 = chr(symbol)\n",
    "print(symbol2)"
   ]
  },
  {
   "cell_type": "code",
   "execution_count": 14,
   "metadata": {},
   "outputs": [
    {
     "name": "stdout",
     "output_type": "stream",
     "text": [
      "Boris\n"
     ]
    }
   ],
   "source": [
    "from collections import namedtuple\n",
    "\n",
    "player = namedtuple('player', 'name rating')\n",
    "players = [player(\"Boris\", 2901), player(\"Kesha\", 2850), player(\"Gora\", 2810), player(\"Chloya\", 2790), player(\"Azis\", 2780)]\n",
    "print(players[0].name)"
   ]
  },
  {
   "cell_type": "code",
   "execution_count": 16,
   "metadata": {},
   "outputs": [
    {
     "name": "stdout",
     "output_type": "stream",
     "text": [
      "Alex\n"
     ]
    }
   ],
   "source": [
    "person = ('Alex', 27, 1993, 'Str', 'Metal')\n",
    "name, age, year, city, music = person\n",
    "print(name)"
   ]
  },
  {
   "cell_type": "code",
   "execution_count": 28,
   "metadata": {},
   "outputs": [
    {
     "name": "stdout",
     "output_type": "stream",
     "text": [
      "Tesla\n",
      "Wolga\n",
      "WAZ\n"
     ]
    }
   ],
   "source": [
    "car = namedtuple('car', 'model price color')\n",
    "cars = [car(\"Tesla\", 19000, \"yellow\"), car(\"Wolga\", 9000, \"Grey\"), car(\"WAZ\", 5000, \"Red\")]\n",
    "\n",
    "for x, y, z in cars:\n",
    "    print(x)"
   ]
  },
  {
   "cell_type": "code",
   "execution_count": 19,
   "metadata": {},
   "outputs": [
    {
     "name": "stdout",
     "output_type": "stream",
     "text": [
      "10\n",
      "1\n",
      "10\n",
      "9\n",
      "8\n",
      "7\n",
      "6\n",
      "5\n",
      "4\n",
      "3\n",
      "2\n",
      "1\n"
     ]
    }
   ],
   "source": [
    "a = int(input())\n",
    "b = int(input())\n",
    "if a < b:\n",
    "    for i in range(a, b + 1):\n",
    "        print(i)\n",
    "else:\n",
    "    for i in range(a, b - 1, -1):\n",
    "        print(i)"
   ]
  },
  {
   "cell_type": "code",
   "execution_count": 6,
   "metadata": {},
   "outputs": [
    {
     "name": "stdout",
     "output_type": "stream",
     "text": [
      "[4, 3, 2, 1]\n"
     ]
    }
   ],
   "source": [
    "c = range(1, 5)\n",
    "print(list(reversed(c)))"
   ]
  },
  {
   "cell_type": "code",
   "execution_count": 28,
   "metadata": {},
   "outputs": [
    {
     "name": "stdout",
     "output_type": "stream",
     "text": [
      "7\n",
      "1\n",
      "7\n",
      "6\n",
      "5\n",
      "4\n",
      "3\n",
      "2\n",
      "1\n"
     ]
    }
   ],
   "source": [
    "A = int(input())\n",
    "B = int(input())\n",
    "for x in range(A, B -1, -1):\n",
    "    print(x)"
   ]
  },
  {
   "cell_type": "code",
   "execution_count": 39,
   "metadata": {},
   "outputs": [
    {
     "name": "stdout",
     "output_type": "stream",
     "text": [
      "10\n",
      "1\n",
      "\n",
      "9\n",
      "\n",
      "7\n",
      "\n",
      "5\n",
      "\n",
      "3\n",
      "\n",
      "1\n"
     ]
    }
   ],
   "source": [
    "A = int(input())\n",
    "B = int(input())\n",
    "for i in range(A, B - 1, -1):\n",
    "    print(i if i %2 != 0 else '')\n"
   ]
  },
  {
   "cell_type": "code",
   "execution_count": 40,
   "metadata": {},
   "outputs": [
    {
     "name": "stdout",
     "output_type": "stream",
     "text": [
      "10\n",
      "1\n",
      "9\n",
      "7\n",
      "5\n",
      "3\n",
      "1\n"
     ]
    }
   ],
   "source": [
    "A = int(input())\n",
    "B = int(input())\n",
    "for i in range(A, B - 1, -1):\n",
    "    if i % 2 != 0:\n",
    "        print(i)"
   ]
  },
  {
   "cell_type": "code",
   "execution_count": 41,
   "metadata": {},
   "outputs": [
    {
     "ename": "SyntaxError",
     "evalue": "invalid syntax (<ipython-input-41-92e0b8385090>, line 4)",
     "output_type": "error",
     "traceback": [
      "\u001b[1;36m  File \u001b[1;32m\"<ipython-input-41-92e0b8385090>\"\u001b[1;36m, line \u001b[1;32m4\u001b[0m\n\u001b[1;33m    print(i if i %2 != 0 else continue)\u001b[0m\n\u001b[1;37m                              ^\u001b[0m\n\u001b[1;31mSyntaxError\u001b[0m\u001b[1;31m:\u001b[0m invalid syntax\n"
     ]
    }
   ],
   "source": [
    "A = int(input())\n",
    "B = int(input())\n",
    "for i in range(A, B - 1, -1):\n",
    "    print(i if i %2 != 0 else)\n"
   ]
  },
  {
   "cell_type": "code",
   "execution_count": 49,
   "metadata": {},
   "outputs": [
    {
     "name": "stdout",
     "output_type": "stream",
     "text": [
      "1\n",
      "1\n",
      "1\n"
     ]
    }
   ],
   "source": [
    "a = int(input())\n",
    "b = int(input())\n",
    "c = sum([x for x in range(a, b+1)])\n",
    "print(c)"
   ]
  },
  {
   "cell_type": "code",
   "execution_count": null,
   "metadata": {},
   "outputs": [],
   "source": []
  },
  {
   "cell_type": "code",
   "execution_count": null,
   "metadata": {},
   "outputs": [],
   "source": []
  },
  {
   "cell_type": "code",
   "execution_count": 62,
   "metadata": {},
   "outputs": [
    {
     "name": "stdout",
     "output_type": "stream",
     "text": [
      "1\n",
      "2\n",
      "5\n",
      "4\n",
      "8\n",
      "6\n",
      "5\n",
      "7\n",
      "8\n",
      "9\n",
      "55\n"
     ]
    }
   ],
   "source": [
    "summa = 0\n",
    "for x in range(0, 10):\n",
    "    number = int(input())\n",
    "    summa += number\n",
    "print(summa)"
   ]
  },
  {
   "cell_type": "code",
   "execution_count": null,
   "metadata": {},
   "outputs": [],
   "source": []
  }
 ],
 "metadata": {
  "kernelspec": {
   "display_name": "Python 3",
   "language": "python",
   "name": "python3"
  },
  "language_info": {
   "codemirror_mode": {
    "name": "ipython",
    "version": 3
   },
   "file_extension": ".py",
   "mimetype": "text/x-python",
   "name": "python",
   "nbconvert_exporter": "python",
   "pygments_lexer": "ipython3",
   "version": "3.8.5"
  }
 },
 "nbformat": 4,
 "nbformat_minor": 4
}
