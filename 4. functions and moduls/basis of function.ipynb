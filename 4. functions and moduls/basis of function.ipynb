{
 "cells": [
  {
   "cell_type": "code",
   "execution_count": 1,
   "metadata": {},
   "outputs": [
    {
     "name": "stdout",
     "output_type": "stream",
     "text": [
      "Hello!\n"
     ]
    }
   ],
   "source": [
    "#функционал, который используется в разных местах, можно записывать в функции, а затем просто ее использовать\n",
    "#при помощи функций программа упорядочивается\n",
    "#функция определяется словом def - define-определить, то есть как-то обозначить\n",
    "#затем идет название функции, чтобы ее определить, ставятся круглые скобки, а затем двоеточие, определяя блок\n",
    "#вызывается функция обращением к ней по имени и круглые скобки\n",
    "def greeting():\n",
    "    print(\"Hello!\")\n",
    "greeting()\n"
   ]
  },
  {
   "cell_type": "code",
   "execution_count": 1,
   "metadata": {},
   "outputs": [
    {
     "name": "stdout",
     "output_type": "stream",
     "text": [
      "Hello!\n",
      "Help on function greeting in module __main__:\n",
      "\n",
      "greeting()\n",
      "    DOCSTRING: INFORMATION ABOUT THE FUNCTION\n",
      "    INPUT: NO INPUT\n",
      "    OUTPUT: Hello!\n",
      "\n"
     ]
    }
   ],
   "source": [
    "#в функцию можно добавить блок с информацией/помощью, делается так: три кавычки сверху и снизу блока инфы,\n",
    "#затем три слова большими строчками, после двоеточия можно писать маленькими буквами\n",
    "def greeting():\n",
    "    '''\n",
    "    DOCSTRING: INFORMATION ABOUT THE FUNCTION\n",
    "    INPUT: NO INPUT\n",
    "    OUTPUT: Hello!\n",
    "    '''\n",
    "    print(\"Hello!\")\n",
    "greeting()\n",
    "help(greeting)"
   ]
  },
  {
   "cell_type": "code",
   "execution_count": 4,
   "metadata": {},
   "outputs": [
    {
     "name": "stdout",
     "output_type": "stream",
     "text": [
      "Sasha\n"
     ]
    }
   ],
   "source": [
    "#функция может принимать аргументы, \n",
    "#в момент определения функции мы задаем аргумент внутри круглых скобок, т.к. язык динамический, мы не указываем тип аргумента\n",
    "def A(name):\n",
    "    print(name)\n",
    "A(\"Sasha\")\n",
    "#вызываем функцию"
   ]
  },
  {
   "cell_type": "code",
   "execution_count": null,
   "metadata": {},
   "outputs": [],
   "source": [
    "#у аргумента мб значение по умолчанию,\n",
    "#когда мы определяем функцию, мы можем определить такие значения по умолчанию для аргумента\n",
    "#делается это когда мы хотим дать возможность коду, который вызывает наша функция, как передавать аргументы, так и не передавать\n",
    "#вот тут уже при вызове функции мы не ставим в ее скобки имя аргумента, потому что итак понятно, что надо сделать\n"
   ]
  },
  {
   "cell_type": "code",
   "execution_count": 17,
   "metadata": {},
   "outputs": [
    {
     "name": "stdout",
     "output_type": "stream",
     "text": [
      "Sasha\n"
     ]
    }
   ],
   "source": [
    "def print_name(name=\"Sasha\"):\n",
    "    print(name)\n",
    "print_name()\n"
   ]
  },
  {
   "cell_type": "code",
   "execution_count": null,
   "metadata": {},
   "outputs": [],
   "source": [
    "#функция print_name ничего не возвращает,она просто печатает имя, это ее побочный эффект, она не чистая\n",
    "#а функции, которые ничего не модифицируют и ничего не выбрасывают на консоль или во внешний мир, называются чистыми, pure\n"
   ]
  },
  {
   "cell_type": "code",
   "execution_count": 22,
   "metadata": {},
   "outputs": [
    {
     "name": "stdout",
     "output_type": "stream",
     "text": [
      "hello, Sasha\n"
     ]
    }
   ],
   "source": [
    "#чтобы что-то вернуть из функции, нужно воспользоваться ключевым словом return\n",
    "#определили функцию гет_гритинг с аргументом Имя, потом просим ее вернуть строку и аргумент, который будет передан после\n",
    "#затем создаем переменную Гритинг и помещаем в нее функцию с аргументом Саша, это будет имя,\n",
    "#после печатаем переменную, она вызывает функцию\n",
    "def get_greeting(name):\n",
    "    return \"hello, \" + name\n",
    "greeting = get_greeting(\"Sasha\")\n",
    "print(greeting)"
   ]
  },
  {
   "cell_type": "code",
   "execution_count": 25,
   "metadata": {},
   "outputs": [
    {
     "data": {
      "text/plain": [
       "'hello, Sasha'"
      ]
     },
     "execution_count": 25,
     "metadata": {},
     "output_type": "execute_result"
    }
   ],
   "source": [
    "#если просто вызвать функцию, она будет в кавычках, поставить дефолтное значение также можно\n",
    "def get_greeting(name=\"Sasha\"):\n",
    "    return \"hello, \" + name\n",
    "get_greeting()"
   ]
  },
  {
   "cell_type": "code",
   "execution_count": 26,
   "metadata": {},
   "outputs": [
    {
     "name": "stdout",
     "output_type": "stream",
     "text": [
      "14\n"
     ]
    }
   ],
   "source": [
    "#можно работать и с другими данными\n",
    "#тут передал три аргумента а, б и с в функцию,\n",
    "#попросил вернуть результат математических операций\n",
    "#создал переменную, в которую поместил функцию и указал, какие значения она будет использовать\n",
    "#вывел эту переменную\n",
    "def get_sum(a, b, c):\n",
    "    return a+(b*c)\n",
    "summa = get_sum(2, 3, 4)\n",
    "print(summa)"
   ]
  },
  {
   "cell_type": "code",
   "execution_count": 27,
   "metadata": {},
   "outputs": [
    {
     "name": "stdout",
     "output_type": "stream",
     "text": [
      "True\n"
     ]
    }
   ],
   "source": [
    "#в примере у учителя почему-то и функция и создаваемая переменная были одного имени, я сделал Kesha_yo\n",
    "#данный пример возвращает булиево значение\n",
    "def is_adult(age):\n",
    "    return age>=18\n",
    "Kesha_yo = is_adult(20)\n",
    "print(Kesha_yo)"
   ]
  },
  {
   "cell_type": "code",
   "execution_count": 32,
   "metadata": {},
   "outputs": [
    {
     "name": "stdout",
     "output_type": "stream",
     "text": [
      "False\n",
      "True\n"
     ]
    }
   ],
   "source": [
    "#другие варианты применения, кстати, тут указано, как слово можно развернуть (вот так - a = \"aababa\" b = a[::-1])\n",
    "#тут функция принимает аргумент текст, а просим вернуть условие, равно ли\n",
    "#то есть равен ли текст самому себе, но развернутому\n",
    "#возвращаются булиевы значения\n",
    "def is_palindrome(text):\n",
    "    return text == text[::-1]\n",
    "a = is_palindrome(\"ferrum\")\n",
    "b = is_palindrome(\"ololo\")\n",
    "print(a)\n",
    "print(b)"
   ]
  },
  {
   "cell_type": "code",
   "execution_count": 47,
   "metadata": {},
   "outputs": [
    {
     "name": "stdout",
     "output_type": "stream",
     "text": [
      "3.6\n"
     ]
    }
   ],
   "source": [
    "#если мы хотим узнать, сколько налогов надо заплатить с известного количества платежей\n",
    "def payments(p1, p2, p3):\n",
    "    return round(sum((p1, p2, p3)) * 0.06, 3)\n",
    "total_taxe = payments(10, 20, 30)\n",
    "print(total_taxe)"
   ]
  },
  {
   "cell_type": "code",
   "execution_count": 32,
   "metadata": {},
   "outputs": [
    {
     "name": "stdout",
     "output_type": "stream",
     "text": [
      "received payment = 10\n",
      "received payment = 20\n",
      "received payment = 30\n",
      "received payment = 50\n",
      "received payment = 70\n",
      "received payment = 80\n",
      "15.6\n"
     ]
    }
   ],
   "source": [
    "#а если количество платежей меняется?\n",
    "#тогда можно сделать цикл\n",
    "def payments(*args):#args - это типа устойчивое название аргумента по соглашению между программистами\n",
    "    for x in args:\n",
    "        print(f'received payment = {x}')\n",
    "    return round(sum(args) * 0.06, 2)\n",
    "total_taxe = payments(10, 20, 30, 50, 70, 80)\n",
    "print(total_taxe)\n"
   ]
  },
  {
   "cell_type": "code",
   "execution_count": 63,
   "metadata": {},
   "outputs": [
    {
     "name": "stdout",
     "output_type": "stream",
     "text": [
      "Player Alex has 2800 rating\n",
      "Player Boris has 2801 rating\n",
      "Player Kesha has 2799 rating\n"
     ]
    }
   ],
   "source": [
    "#можно и словари использовать, **kwargs как аргумент говорит, что может использоваться n пар ключ-значение\n",
    "#при вызове просто передаем ключи значения и они норм воспринимаются,\n",
    "#выхываем функцию items, поэтому после нее и скобки, что она функция\n",
    "def players(**kwargs):\n",
    "    for k, v in kwargs.items():\n",
    "        print(f'Player {k} has {v} rating')\n",
    "players(Alex=2800, Boris=2801,Kesha=2799)"
   ]
  },
  {
   "cell_type": "code",
   "execution_count": 4,
   "metadata": {},
   "outputs": [],
   "source": []
  },
  {
   "cell_type": "code",
   "execution_count": 6,
   "metadata": {},
   "outputs": [
    {
     "name": "stdout",
     "output_type": "stream",
     "text": [
      "Hello Sasha\n"
     ]
    }
   ],
   "source": [
    "def get_greeting(name):\n",
    "    print(\"Hello \" + name)\n",
    "greeting = get_greeting(\"Sasha\")"
   ]
  },
  {
   "cell_type": "code",
   "execution_count": 9,
   "metadata": {},
   "outputs": [
    {
     "data": {
      "text/plain": [
       "20"
      ]
     },
     "execution_count": 9,
     "metadata": {},
     "output_type": "execute_result"
    }
   ],
   "source": [
    "#переменная может быть не только конкретная, но туда можно пихнуть выражение какое либо, даже текст\n",
    "def get_sum(a, b):\n",
    "    return a + b\n",
    "tot_sum = get_sum(7 + 8, 5)\n",
    "tot_sum"
   ]
  },
  {
   "cell_type": "code",
   "execution_count": 13,
   "metadata": {},
   "outputs": [
    {
     "data": {
      "text/plain": [
       "'kek_kek_kek_kek_kek_'"
      ]
     },
     "execution_count": 13,
     "metadata": {},
     "output_type": "execute_result"
    }
   ],
   "source": [
    "def get_sum(a, b):\n",
    "    return a * b\n",
    "tot_sum = get_sum(\"kek_\", 5)\n",
    "tot_sum"
   ]
  },
  {
   "cell_type": "code",
   "execution_count": null,
   "metadata": {},
   "outputs": [],
   "source": []
  },
  {
   "cell_type": "code",
   "execution_count": 20,
   "metadata": {},
   "outputs": [
    {
     "name": "stdout",
     "output_type": "stream",
     "text": [
      "6.0\n"
     ]
    }
   ],
   "source": [
    "total = [10, 20, 30, 40]\n",
    "def payments(total):\n",
    "    return round(sum(total) * 0.06, 3)\n",
    "total_taxe = payments(total)\n",
    "print(total_taxe)"
   ]
  },
  {
   "cell_type": "code",
   "execution_count": 33,
   "metadata": {},
   "outputs": [
    {
     "name": "stdout",
     "output_type": "stream",
     "text": [
      "received payment = 10\n",
      "received payment = 20\n",
      "received payment = 30\n",
      "received payment = 50\n",
      "received payment = 70\n",
      "received payment = 80\n",
      "15.6\n"
     ]
    }
   ],
   "source": [
    "def payments(*args):\n",
    "    for x in args:\n",
    "        print(f'received payment = {x}')\n",
    "    return round(sum(args) * 0.06, 2)\n",
    "total_taxe = payments(10, 20, 30, 50, 70, 80)\n",
    "print(total_taxe)"
   ]
  },
  {
   "cell_type": "code",
   "execution_count": null,
   "metadata": {},
   "outputs": [],
   "source": []
  },
  {
   "cell_type": "code",
   "execution_count": 44,
   "metadata": {},
   "outputs": [],
   "source": [
    "def payments(*args):\n",
    "    for x in args:\n",
    "        print(f'received payment = {x}')\n",
    "    return round(sum(args) * 0.06, 2)\n",
    "total_taxe = payments(10, 20, 30, 50, 70, 80)\n",
    "print(total_taxe)"
   ]
  },
  {
   "cell_type": "code",
   "execution_count": 68,
   "metadata": {},
   "outputs": [
    {
     "name": "stdout",
     "output_type": "stream",
     "text": [
      "input a payment10\n",
      "0.6\n",
      "input a payment20\n",
      "1.8\n",
      "input a payment0\n",
      "1.8\n",
      "подсчет окончен, итоговая сумма: 1.8\n"
     ]
    }
   ],
   "source": [
    "total_sum = 0\n",
    "while int(total_sum) >= 0:\n",
    "    payment = int(input(\"input a payment\"))\n",
    "    total_sum += payment\n",
    "    print(round((total_sum * 0.06), 2))\n",
    "    if payment == 0:\n",
    "        print(\"подсчет окончен, итоговая сумма: \" + str(round((total_sum * 0.06), 2)))\n",
    "        break\n",
    "    else:\n",
    "        continue\n"
   ]
  },
  {
   "cell_type": "code",
   "execution_count": null,
   "metadata": {},
   "outputs": [],
   "source": []
  },
  {
   "cell_type": "code",
   "execution_count": 1,
   "metadata": {},
   "outputs": [],
   "source": [
    "def p3(x):\n",
    "    print(x)\n",
    "    print(x)\n",
    "    print(x)"
   ]
  },
  {
   "cell_type": "code",
   "execution_count": 2,
   "metadata": {},
   "outputs": [
    {
     "name": "stdout",
     "output_type": "stream",
     "text": [
      "Hello\n",
      "Hello\n",
      "Hello\n"
     ]
    }
   ],
   "source": [
    "x = p3('Hello')"
   ]
  },
  {
   "cell_type": "code",
   "execution_count": 3,
   "metadata": {},
   "outputs": [
    {
     "name": "stdout",
     "output_type": "stream",
     "text": [
      "<class 'NoneType'>\n"
     ]
    }
   ],
   "source": [
    "print(type(x))"
   ]
  },
  {
   "cell_type": "code",
   "execution_count": 6,
   "metadata": {},
   "outputs": [],
   "source": [
    "#ретенр - действующий оператор, который заканчивает выполнение функции, поэтому всего два хелло\n",
    "def p3(x):\n",
    "    print(x)\n",
    "    print(x)\n",
    "    return #можно писать с нан, можно без, по умолчанию нан уже там\n",
    "    print(x)"
   ]
  },
  {
   "cell_type": "code",
   "execution_count": 7,
   "metadata": {},
   "outputs": [
    {
     "name": "stdout",
     "output_type": "stream",
     "text": [
      "Hello\n",
      "Hello\n"
     ]
    }
   ],
   "source": [
    "x = p3('Hello')"
   ]
  },
  {
   "cell_type": "code",
   "execution_count": 8,
   "metadata": {},
   "outputs": [],
   "source": [
    "#есть возможность комментирования, т.н. аннотация типов,\n",
    "#тут говорится, что пишущий данный код человек хочет, чтобы вводимые и выводимые данные были типа инт\n",
    "#никакие ограничения не накладываются\n",
    "def testik(x:int, y:int) -> int:\n",
    "    return x + y"
   ]
  },
  {
   "cell_type": "code",
   "execution_count": 9,
   "metadata": {},
   "outputs": [
    {
     "data": {
      "text/plain": [
       "6"
      ]
     },
     "execution_count": 9,
     "metadata": {},
     "output_type": "execute_result"
    }
   ],
   "source": [
    "testik(2, 4)"
   ]
  },
  {
   "cell_type": "code",
   "execution_count": 10,
   "metadata": {},
   "outputs": [],
   "source": [
    "def testik2(x:'int, >0',y:int) -> int:\n",
    "    return x + y"
   ]
  },
  {
   "cell_type": "code",
   "execution_count": 11,
   "metadata": {},
   "outputs": [
    {
     "data": {
      "text/plain": [
       "3"
      ]
     },
     "execution_count": 11,
     "metadata": {},
     "output_type": "execute_result"
    }
   ],
   "source": [
    "testik(-1, 4)"
   ]
  },
  {
   "cell_type": "code",
   "execution_count": null,
   "metadata": {},
   "outputs": [],
   "source": [
    "#как считать факториал и выводить для каждого этапа своё значение\n",
    "def factorial(n):\n",
    "    res = 1\n",
    "    for i in range(1, n + 1):\n",
    "        res *= i\n",
    "    return res\n",
    "\n",
    "for i in range(1, 6):\n",
    "    print(i, '! = ', factorial(i), sep='')"
   ]
  },
  {
   "cell_type": "code",
   "execution_count": 4,
   "metadata": {},
   "outputs": [
    {
     "ename": "UnboundLocalError",
     "evalue": "local variable 'a' referenced before assignment",
     "output_type": "error",
     "traceback": [
      "\u001b[1;31m---------------------------------------------------------------------------\u001b[0m",
      "\u001b[1;31mUnboundLocalError\u001b[0m                         Traceback (most recent call last)",
      "\u001b[1;32m<ipython-input-4-9d2bdd8b3b0a>\u001b[0m in \u001b[0;36m<module>\u001b[1;34m\u001b[0m\n\u001b[0;32m      6\u001b[0m \u001b[1;33m\u001b[0m\u001b[0m\n\u001b[0;32m      7\u001b[0m \u001b[0ma\u001b[0m \u001b[1;33m=\u001b[0m \u001b[1;36m1\u001b[0m\u001b[1;33m\u001b[0m\u001b[1;33m\u001b[0m\u001b[0m\n\u001b[1;32m----> 8\u001b[1;33m \u001b[0mf\u001b[0m\u001b[1;33m(\u001b[0m\u001b[1;33m)\u001b[0m\u001b[1;33m\u001b[0m\u001b[1;33m\u001b[0m\u001b[0m\n\u001b[0m",
      "\u001b[1;32m<ipython-input-4-9d2bdd8b3b0a>\u001b[0m in \u001b[0;36mf\u001b[1;34m()\u001b[0m\n\u001b[0;32m      1\u001b[0m \u001b[1;31m#вот тут переменная а внутри функции не определена, поэтому код не будет исполнен,\u001b[0m\u001b[1;33m\u001b[0m\u001b[1;33m\u001b[0m\u001b[1;33m\u001b[0m\u001b[0m\n\u001b[0;32m      2\u001b[0m \u001b[1;32mdef\u001b[0m \u001b[0mf\u001b[0m\u001b[1;33m(\u001b[0m\u001b[1;33m)\u001b[0m\u001b[1;33m:\u001b[0m\u001b[1;33m\u001b[0m\u001b[1;33m\u001b[0m\u001b[0m\n\u001b[1;32m----> 3\u001b[1;33m     \u001b[0mprint\u001b[0m\u001b[1;33m(\u001b[0m\u001b[0ma\u001b[0m\u001b[1;33m)\u001b[0m\u001b[1;33m\u001b[0m\u001b[1;33m\u001b[0m\u001b[0m\n\u001b[0m\u001b[0;32m      4\u001b[0m     \u001b[1;32mif\u001b[0m \u001b[1;32mFalse\u001b[0m\u001b[1;33m:\u001b[0m\u001b[1;33m\u001b[0m\u001b[1;33m\u001b[0m\u001b[0m\n\u001b[0;32m      5\u001b[0m         \u001b[0ma\u001b[0m \u001b[1;33m=\u001b[0m \u001b[1;36m0\u001b[0m\u001b[1;33m\u001b[0m\u001b[1;33m\u001b[0m\u001b[0m\n",
      "\u001b[1;31mUnboundLocalError\u001b[0m: local variable 'a' referenced before assignment"
     ]
    }
   ],
   "source": [
    "#вот тут переменная а внутри функции не определена, поэтому код не будет исполнен,\n",
    "def f():\n",
    "    print(a)\n",
    "    if False:\n",
    "        a = 0\n",
    "\n",
    "a = 1\n",
    "f()"
   ]
  },
  {
   "cell_type": "code",
   "execution_count": 3,
   "metadata": {},
   "outputs": [
    {
     "name": "stdout",
     "output_type": "stream",
     "text": [
      "1\n"
     ]
    }
   ],
   "source": [
    "#а тут можно прописать одну строчку, и будет ок\n",
    "def f():\n",
    "    global a\n",
    "    print(a)\n",
    "    if False:\n",
    "        a = 0\n",
    "\n",
    "a = 1\n",
    "f()"
   ]
  },
  {
   "cell_type": "code",
   "execution_count": 5,
   "metadata": {},
   "outputs": [
    {
     "name": "stdout",
     "output_type": "stream",
     "text": [
      "555\n"
     ]
    }
   ],
   "source": [
    "#тут определена, поэтому исполняется\n",
    "def f():\n",
    "    a = 555\n",
    "    print(a)\n",
    "    if False:\n",
    "        a = 0\n",
    "\n",
    "a = 1\n",
    "f()"
   ]
  },
  {
   "cell_type": "code",
   "execution_count": null,
   "metadata": {},
   "outputs": [],
   "source": [
    "#Например, пусть ваша программа должна посчитать факториал вводимого числа, \n",
    "#который вы потом захотите сохранить в переменной f. Вот как это не стоит делать:\n",
    "def factorial(n):\n",
    "    global f\n",
    "    res = 1\n",
    "    for i in range(2, n + 1):\n",
    "        res *= i\n",
    "    f = res\n",
    "\n",
    "n = int(input())\n",
    "factorial(n)\n",
    "# дальше всякие действия с переменной f\n",
    "#Этот код написан плохо, потому что его трудно использовать ещё один раз. \n",
    "#Если вам завтра понадобится в другой программе использовать функцию «факториал», \n",
    "#то вы не сможете просто скопировать эту функцию отсюда и вставить в вашу новую программу. \n",
    "#Вам придётся поменять то, как она возвращает посчитанное значение\n"
   ]
  },
  {
   "cell_type": "code",
   "execution_count": null,
   "metadata": {},
   "outputs": [],
   "source": [
    "#как надо\n",
    "# начало куска кода, который можно копировать из программы в программу\n",
    "def factorial(n):\n",
    "    res = 1\n",
    "    for i in range(2, n + 1):\n",
    "        res *= i\n",
    "    return res\n",
    "# конец куска кода\n",
    "\n",
    "n = int(input())\n",
    "f = factorial(n)\n",
    "# дальше всякие действия с переменной f\n"
   ]
  },
  {
   "cell_type": "code",
   "execution_count": null,
   "metadata": {},
   "outputs": [],
   "source": [
    "#Если нужно, чтобы функция вернула не одно значение, \n",
    "#а два или более, то для этого функция может вернуть список из двух или нескольких значений:\n",
    "return [a, b]\n",
    "#Тогда результат вызова функции можно будет использовать во множественном присваивании:\n",
    "n, m = f(a, b)"
   ]
  },
  {
   "cell_type": "code",
   "execution_count": 6,
   "metadata": {},
   "outputs": [
    {
     "name": "stdout",
     "output_type": "stream",
     "text": [
      "120\n"
     ]
    }
   ],
   "source": [
    "#рекурсия, функция вызывает сама себя\n",
    "def factorial(n):\n",
    "    if n == 0:\n",
    "        return 1\n",
    "    else:\n",
    "        return n * factorial(n - 1)\n",
    "\n",
    "print(factorial(5))"
   ]
  },
  {
   "cell_type": "code",
   "execution_count": null,
   "metadata": {},
   "outputs": [],
   "source": [
    "#число по номеру в последовательности\n",
    "def fib(n):\n",
    "    if n == 1 or n == 2:\n",
    "        return 1\n",
    "    else:\n",
    "        return fib(n - 1) + fib(n - 2)\n",
    " \n",
    "print(fib(int(input())))"
   ]
  },
  {
   "cell_type": "code",
   "execution_count": null,
   "metadata": {},
   "outputs": [],
   "source": []
  },
  {
   "cell_type": "code",
   "execution_count": 1,
   "metadata": {},
   "outputs": [],
   "source": [
    "def puzik(name='Puzon'):\n",
    "    print(name)"
   ]
  },
  {
   "cell_type": "code",
   "execution_count": 2,
   "metadata": {},
   "outputs": [
    {
     "name": "stdout",
     "output_type": "stream",
     "text": [
      "Alena\n",
      "Puzon\n"
     ]
    }
   ],
   "source": [
    "puzik('Alena')\n",
    "puzik()"
   ]
  },
  {
   "cell_type": "code",
   "execution_count": 7,
   "metadata": {},
   "outputs": [
    {
     "name": "stdout",
     "output_type": "stream",
     "text": [
      "0 = ok\n",
      "2 = ok\n",
      "4 = ok\n"
     ]
    }
   ],
   "source": [
    "lst05 = (0,1,2,3,4,5)\n",
    "def test05(lst05):\n",
    "    for x in lst05:\n",
    "        if x%2==0:\n",
    "            print(f'{x} = ok')\n",
    "        else:\n",
    "            pass\n",
    "test05(lst05)"
   ]
  },
  {
   "cell_type": "code",
   "execution_count": 8,
   "metadata": {},
   "outputs": [
    {
     "name": "stdout",
     "output_type": "stream",
     "text": [
      "0 = ok\n",
      "2 = ok\n",
      "4 = ok\n"
     ]
    }
   ],
   "source": [
    "lst05 = [0,1,2,3,4,5]\n",
    "def test05(lst05):\n",
    "    for x in lst05:\n",
    "        if x%2==0:\n",
    "            print(f'{x} = ok')\n",
    "        else:\n",
    "            pass\n",
    "test05(lst05)"
   ]
  },
  {
   "cell_type": "code",
   "execution_count": 9,
   "metadata": {},
   "outputs": [
    {
     "name": "stdout",
     "output_type": "stream",
     "text": [
      "0 = ok\n",
      "2 = ok\n",
      "4 = ok\n"
     ]
    }
   ],
   "source": [
    "lst05 = (0,1,2,3,4,5)\n",
    "def test05(*args):\n",
    "    for x in lst05:\n",
    "        if x%2==0:\n",
    "            print(f'{x} = ok')\n",
    "        else:\n",
    "            pass\n",
    "test05(lst05)"
   ]
  },
  {
   "cell_type": "code",
   "execution_count": null,
   "metadata": {},
   "outputs": [],
   "source": []
  },
  {
   "cell_type": "code",
   "execution_count": null,
   "metadata": {},
   "outputs": [],
   "source": []
  },
  {
   "cell_type": "code",
   "execution_count": null,
   "metadata": {},
   "outputs": [],
   "source": []
  }
 ],
 "metadata": {
  "kernelspec": {
   "display_name": "Python 3",
   "language": "python",
   "name": "python3"
  },
  "language_info": {
   "codemirror_mode": {
    "name": "ipython",
    "version": 3
   },
   "file_extension": ".py",
   "mimetype": "text/x-python",
   "name": "python",
   "nbconvert_exporter": "python",
   "pygments_lexer": "ipython3",
   "version": "3.8.5"
  }
 },
 "nbformat": 4,
 "nbformat_minor": 4
}
