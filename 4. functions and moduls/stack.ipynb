{
 "cells": [
  {
   "cell_type": "code",
   "execution_count": null,
   "metadata": {},
   "outputs": [],
   "source": [
    "построение итерируемого объекта\n",
    "будем создавать список, а список работает как массив \n",
    "\n",
    "надо будет рреализовать дандер методы __iter__ и __next__, чтобы внешний код \n",
    "мог итерировать(т.е пройти по объекту стек используя for)\n",
    "элементы будут возвращаться с конца, так работает стек, поэтому в итер будет self.count(-1)"
   ]
  },
  {
   "cell_type": "code",
   "execution_count": 7,
   "metadata": {},
   "outputs": [],
   "source": [
    "class MyStack:\n",
    "    def __init__(self):\n",
    "        self.array = []\n",
    "    \n",
    "    def push(self, item): #добавляет элемент в конец\n",
    "        self.array.append(item)\n",
    "        \n",
    "    def pop(self): #удаляет элемент с конца и возвращает его\n",
    "        popped_item = self.array.pop()\n",
    "        return popped_item\n",
    "    \n",
    "    def peek(self):  #возвращает последний элемент\n",
    "        return self.__current()\n",
    "    def __current(self):\n",
    "        return self.array[self.count(-1)]\n",
    "    \n",
    "    def count(self): #считает количество элементов\n",
    "        return len(self.array)\n",
    "    \n",
    "    def __iter__(self): \n",
    "        self.index = self.count()-1 #здесь будет возврат к конечному элементу после прохождения по всем эл-м\n",
    "        return self\n",
    "    \n",
    "    def __next__(self):\n",
    "        if self.index <0:\n",
    "            raise StopIteration()\n",
    "        result = self.array[self.index] #возврат следующего элемента, работаем по индексам\n",
    "        self.index -=1\n",
    "        return result"
   ]
  },
  {
   "cell_type": "code",
   "execution_count": 8,
   "metadata": {},
   "outputs": [],
   "source": [
    "stack = MyStack()"
   ]
  },
  {
   "cell_type": "code",
   "execution_count": 9,
   "metadata": {},
   "outputs": [],
   "source": [
    "stack.push(1)\n",
    "stack.push(2)\n",
    "stack.push(3)"
   ]
  },
  {
   "cell_type": "code",
   "execution_count": 10,
   "metadata": {},
   "outputs": [
    {
     "data": {
      "text/plain": [
       "3"
      ]
     },
     "execution_count": 10,
     "metadata": {},
     "output_type": "execute_result"
    }
   ],
   "source": [
    "stack.pop()"
   ]
  },
  {
   "cell_type": "code",
   "execution_count": 11,
   "metadata": {},
   "outputs": [],
   "source": [
    "stack.push(4)\n",
    "stack.push(5)\n",
    "stack.push(6)"
   ]
  },
  {
   "cell_type": "code",
   "execution_count": 12,
   "metadata": {},
   "outputs": [
    {
     "name": "stdout",
     "output_type": "stream",
     "text": [
      "6\n",
      "5\n",
      "4\n",
      "2\n",
      "1\n"
     ]
    }
   ],
   "source": [
    "for i in stack:\n",
    "    print(i)"
   ]
  },
  {
   "cell_type": "code",
   "execution_count": null,
   "metadata": {},
   "outputs": [],
   "source": []
  }
 ],
 "metadata": {
  "kernelspec": {
   "display_name": "Python 3",
   "language": "python",
   "name": "python3"
  },
  "language_info": {
   "codemirror_mode": {
    "name": "ipython",
    "version": 3
   },
   "file_extension": ".py",
   "mimetype": "text/x-python",
   "name": "python",
   "nbconvert_exporter": "python",
   "pygments_lexer": "ipython3",
   "version": "3.8.5"
  }
 },
 "nbformat": 4,
 "nbformat_minor": 4
}
