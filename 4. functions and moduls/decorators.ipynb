{
 "cells": [
  {
   "cell_type": "code",
   "execution_count": 1,
   "metadata": {},
   "outputs": [
    {
     "name": "stdout",
     "output_type": "stream",
     "text": [
      "Hello, World!\n"
     ]
    }
   ],
   "source": [
    "#функции можно помещать в другие функции и тд\n",
    "#тут сама простая функция, которая выводит текст на экран\n",
    "def hello_world():\n",
    "    print(\"Hello, World!\")\n",
    "hello_world()"
   ]
  },
  {
   "cell_type": "code",
   "execution_count": 2,
   "metadata": {},
   "outputs": [
    {
     "data": {
      "text/plain": [
       "<function __main__.hello_world()>"
      ]
     },
     "execution_count": 2,
     "metadata": {},
     "output_type": "execute_result"
    }
   ],
   "source": [
    "#если создать переменную, и поместить в нее функцию, то эту ф-ю можно будет вызвать\n",
    "\n",
    "hello2 = hello_world #тут без круглых скобок, т.к. мы ф-ю не вызываем, а передаем\n",
    "hello2"
   ]
  },
  {
   "cell_type": "code",
   "execution_count": 3,
   "metadata": {},
   "outputs": [
    {
     "name": "stdout",
     "output_type": "stream",
     "text": [
      "Hello, World!\n"
     ]
    }
   ],
   "source": [
    "#однако, если использовать двойные скобки, функция будет исполнена, и будет выведен результат\n",
    "hello2()\n"
   ]
  },
  {
   "cell_type": "code",
   "execution_count": 1,
   "metadata": {},
   "outputs": [
    {
     "name": "stdout",
     "output_type": "stream",
     "text": [
      "Hello, World!\n",
      "Hello, World!\n",
      "Hello, World!\n"
     ]
    }
   ],
   "source": [
    "def hello_world():\n",
    "    print(\"Hello, World!\")\n",
    "hello_world() #первый вывод\n",
    "hello2 = hello_world() #второй вывод\n",
    "hello3 = hello_world # тут я создаю переменную\n",
    "hello3() # третий вывод\n",
    "#чтобы вызвать исполнение ф-и, надо либо к названию переменной добавлять (), либо добавлять к ф-и после ="
   ]
  },
  {
   "cell_type": "code",
   "execution_count": 24,
   "metadata": {},
   "outputs": [
    {
     "data": {
      "text/plain": [
       "<function __main__.goodbye_world.<locals>.internal()>"
      ]
     },
     "execution_count": 24,
     "metadata": {},
     "output_type": "execute_result"
    }
   ],
   "source": [
    "#функции можно возвращать из функции\n",
    "def goodbye_world():\n",
    "    def internal():\n",
    "        print(\"Goodbye, World!\")\n",
    "    return internal #тут без скобок, т.к. просто говорим, что вернуть, а не вызываем\n",
    "farewell = goodbye_world() #а тут уже вызываем, чтобы был совершен возврат внутренней ф-и\n",
    "farewell #тут если не вызывать, то покажет просто адрес\n",
    "#видно, что ссылка идет на внутреннюю ф-ю локалс под названием интернал"
   ]
  },
  {
   "cell_type": "code",
   "execution_count": 25,
   "metadata": {},
   "outputs": [
    {
     "name": "stdout",
     "output_type": "stream",
     "text": [
      "Goodbye, World!\n"
     ]
    }
   ],
   "source": [
    "farewell() #а вот тут мы именно вызываем, чтобы она вывела на экран инфу"
   ]
  },
  {
   "cell_type": "code",
   "execution_count": 28,
   "metadata": {},
   "outputs": [
    {
     "name": "stdout",
     "output_type": "stream",
     "text": [
      "popa_2\n",
      "Hello, World!\n"
     ]
    }
   ],
   "source": [
    "#функции могут принимать в качестве аргументов другие функции\n",
    "def example(func):\n",
    "    func() #а вот тут как раз и вызывается переданная функция\n",
    "\n",
    "def popa(): #эта ф-я просто выводит на экран фразу\n",
    "    print(\"popa_2\")\n",
    "\n",
    "example(popa) #тут мы не вызываем ф-ю, а передаем\n",
    "example(hello_world)  #пример из предыдущих примеров"
   ]
  },
  {
   "cell_type": "code",
   "execution_count": 31,
   "metadata": {},
   "outputs": [
    {
     "name": "stdout",
     "output_type": "stream",
     "text": [
      "[0, 4, 8, 12, 16, 20, 24, 28, 32, 36, 40]\n"
     ]
    }
   ],
   "source": [
    "def lolo(function):\n",
    "    function()\n",
    "\n",
    "def popo():\n",
    "    a = [x*2 for x in range(0, 21) if x%2 == 0]\n",
    "    print(a)\n",
    "lolo(popo)"
   ]
  },
  {
   "cell_type": "code",
   "execution_count": 61,
   "metadata": {},
   "outputs": [
    {
     "name": "stdout",
     "output_type": "stream",
     "text": [
      "func ab starts.\n",
      "6\n",
      "func ab ends\n"
     ]
    }
   ],
   "source": [
    "#декораторы - это ф-и, которые содержат в себе что-то типа обёртки, с помощью которой можно обернуть ф-ю, \n",
    "#передаваемую в качестве аргумента\n",
    "#например, мы можем создать декоратор, с помощью которого мы логгируем начало и конец вызова ф-и\n",
    "#то есть, вместо того, чтобы в каждой ф-и прописывать, что с ней делать, а таких ф-м мб штук пять,\n",
    "#мы можеи создать одну, которая будет говорить, что делать в таком и таком случае и все\n",
    "# походу у них имена фиксированные\n",
    "def log_decorator(func):\n",
    "    def wrap():\n",
    "        print(f'func {func.__name__} starts.')\n",
    "        func()\n",
    "        print(f'func {func.__name__} ends')\n",
    "    return wrap\n",
    "\n",
    "def ab():\n",
    "    print(2+4)\n",
    "pipka = log_decorator(ab)\n",
    "pipka()"
   ]
  },
  {
   "cell_type": "code",
   "execution_count": 63,
   "metadata": {},
   "outputs": [
    {
     "name": "stdout",
     "output_type": "stream",
     "text": [
      "func xy starts.\n",
      "[0.25, 0.5, 0.75, 1.0, 1.25]\n",
      "func xy ends\n"
     ]
    }
   ],
   "source": [
    "def xy():\n",
    "    v = [x/2**3 for x in range (1, 11) if x%2 == 0]\n",
    "    print(v)\n",
    "testik = log_decorator(xy)\n",
    "testik()"
   ]
  },
  {
   "cell_type": "code",
   "execution_count": 64,
   "metadata": {},
   "outputs": [
    {
     "name": "stdout",
     "output_type": "stream",
     "text": [
      "func hello_again starts.\n",
      "im tired\n",
      "func hello_again ends\n"
     ]
    }
   ],
   "source": [
    "#все эти декораторы были вручную использованы, но можно делать всё быстрее, вот так, то есть не надо пихать в переменные для вывода\n",
    "@log_decorator\n",
    "def hello_again():\n",
    "    print(\"im tired\")\n",
    "\n",
    "hello_again()"
   ]
  },
  {
   "cell_type": "code",
   "execution_count": 65,
   "metadata": {},
   "outputs": [
    {
     "name": "stdout",
     "output_type": "stream",
     "text": [
      "func XYZ starts.\n",
      "ZYX\n",
      "func XYZ ends\n"
     ]
    }
   ],
   "source": [
    "@log_decorator\n",
    "def XYZ():\n",
    "    print(\"ZYX\")\n",
    "x = XYZ\n",
    "x()"
   ]
  },
  {
   "cell_type": "code",
   "execution_count": 53,
   "metadata": {},
   "outputs": [],
   "source": [
    "#есть декоратор, который позволит вывести и узнать время работы функции, для его работы надо импортировать кое-какие вещи\n",
    "from timeit import default_timer as timer\n",
    "import math\n",
    "import time"
   ]
  },
  {
   "cell_type": "code",
   "execution_count": 58,
   "metadata": {},
   "outputs": [],
   "source": [
    "#сам декоратор\n",
    "def measure_time(func):\n",
    "    def inner(*args, **kwargs): #это делаем, чтобы любые аргументы передавать\n",
    "        start = timer() #вызываем текущее время, прежде чем исполнить ф-ю\n",
    "        func(*args, **kwargs)# ну тут типа какие аргументы мы будем передавать в функцию непосредственно\n",
    "        end = timer() #опять замеряем время\n",
    "        print(f'Function {func.__name__} took {end-start} for execution') #__name__ позволяет выводить криасивое название ф-и\n",
    "    return inner"
   ]
  },
  {
   "cell_type": "code",
   "execution_count": 59,
   "metadata": {},
   "outputs": [],
   "source": [
    "@measure_time #навешиваем декоратор\n",
    "def factorial(num): #создаем новую ф-ю\n",
    "    time.sleep(3) # здесь ставим остановку исполнения на 3 сек\n",
    "    print(math.factorial(num)) "
   ]
  },
  {
   "cell_type": "code",
   "execution_count": 60,
   "metadata": {},
   "outputs": [
    {
     "name": "stdout",
     "output_type": "stream",
     "text": [
      "93326215443944152681699238856266700490715968264381621468592963895217599993229915608941463976156518286253697920827223758251185210916864000000000000000000000000\n",
      "Function factorial took 3.0023965999998836 for execution\n"
     ]
    }
   ],
   "source": [
    "factorial(100) #тут передаем число для получения факториала, это функция"
   ]
  },
  {
   "cell_type": "code",
   "execution_count": null,
   "metadata": {},
   "outputs": [],
   "source": [
    "#это удобная тема, чтобы навешивать аспекты (?(походу это и есть декораторы)), относится к аспектно-ориент программированию, например, измерение перформанса"
   ]
  },
  {
   "cell_type": "code",
   "execution_count": 1,
   "metadata": {},
   "outputs": [],
   "source": [
    "#декоратор wraps (заворачивать)\n",
    "#в двух словах: предположим, у нас есть такая конструкция\n",
    "def log_decorator(func):\n",
    "    def wrap(*args, **kwargs):\n",
    "        print(f'function {func.__name__} starts')\n",
    "        func()\n",
    "        print(f'function {func.__name__} ends')\n",
    "    return wrap"
   ]
  },
  {
   "cell_type": "code",
   "execution_count": 2,
   "metadata": {},
   "outputs": [],
   "source": [
    "@log_decorator\n",
    "def sasha():\n",
    "    print('Hello, World!')\n"
   ]
  },
  {
   "cell_type": "code",
   "execution_count": 3,
   "metadata": {},
   "outputs": [
    {
     "name": "stdout",
     "output_type": "stream",
     "text": [
      "function sasha starts\n",
      "Hello, World!\n",
      "function sasha ends\n"
     ]
    }
   ],
   "source": [
    "sasha()"
   ]
  },
  {
   "cell_type": "code",
   "execution_count": 4,
   "metadata": {},
   "outputs": [
    {
     "name": "stdout",
     "output_type": "stream",
     "text": [
      "Help on function wrap in module __main__:\n",
      "\n",
      "wrap(*args, **kwargs)\n",
      "\n"
     ]
    }
   ],
   "source": [
    "help(sasha)"
   ]
  },
  {
   "cell_type": "code",
   "execution_count": 5,
   "metadata": {},
   "outputs": [],
   "source": [
    "#когда мы пытаемся вызвать хелп на функции саша, мы понимаем, что это не функция саша, а функция wrap, а это мб будет проблемой\n",
    "#когда мы захотим сделать отладку текста и т.д., потому что отладчик должен понимать, что есть что, что как называется\n",
    "#поэтому есть один декоратор wraps, который позволяет эту тему обойти, добиться нужного поведения\n",
    "from functools import wraps"
   ]
  },
  {
   "cell_type": "code",
   "execution_count": 6,
   "metadata": {},
   "outputs": [],
   "source": [
    "def log_decorator(func):\n",
    "    @wraps(func) #сюда прописываем ф-ю, которую мы оборачиваем\n",
    "    def wrap(*args, **kwargs):\n",
    "        print(f'function {func.__name__} starts')\n",
    "        func()\n",
    "        print(f'function {func.__name__} ends')\n",
    "    return wrap"
   ]
  },
  {
   "cell_type": "code",
   "execution_count": 7,
   "metadata": {},
   "outputs": [],
   "source": [
    "@log_decorator\n",
    "def sasha():\n",
    "    print('Hello, World!')\n"
   ]
  },
  {
   "cell_type": "code",
   "execution_count": 8,
   "metadata": {},
   "outputs": [
    {
     "name": "stdout",
     "output_type": "stream",
     "text": [
      "function sasha starts\n",
      "Hello, World!\n",
      "function sasha ends\n"
     ]
    }
   ],
   "source": [
    "sasha()"
   ]
  },
  {
   "cell_type": "code",
   "execution_count": 9,
   "metadata": {},
   "outputs": [
    {
     "name": "stdout",
     "output_type": "stream",
     "text": [
      "Help on function sasha in module __main__:\n",
      "\n",
      "sasha()\n",
      "\n"
     ]
    }
   ],
   "source": [
    "help(sasha)"
   ]
  },
  {
   "cell_type": "code",
   "execution_count": null,
   "metadata": {},
   "outputs": [],
   "source": [
    "#и видим, что функция саша - это ф-я саша, все как надо\n",
    "#работает так, что все метаданные оборачиваемой функции копируются во внешнюю"
   ]
  },
  {
   "cell_type": "code",
   "execution_count": 1,
   "metadata": {},
   "outputs": [],
   "source": [
    "def h_w():\n",
    "    def loc():\n",
    "        print('h w')\n",
    "    return loc"
   ]
  },
  {
   "cell_type": "code",
   "execution_count": 13,
   "metadata": {},
   "outputs": [],
   "source": [
    "h_w23 = h_w()"
   ]
  },
  {
   "cell_type": "code",
   "execution_count": 14,
   "metadata": {},
   "outputs": [
    {
     "name": "stdout",
     "output_type": "stream",
     "text": [
      "h w\n"
     ]
    }
   ],
   "source": [
    "h_w23()"
   ]
  },
  {
   "cell_type": "code",
   "execution_count": 6,
   "metadata": {},
   "outputs": [
    {
     "name": "stdout",
     "output_type": "stream",
     "text": [
      "111\n"
     ]
    }
   ],
   "source": [
    "def try1(func):\n",
    "    print('111')\n",
    "def try2():\n",
    "    print('222')\n",
    "try1(try2)\n"
   ]
  },
  {
   "cell_type": "code",
   "execution_count": 7,
   "metadata": {},
   "outputs": [
    {
     "name": "stdout",
     "output_type": "stream",
     "text": [
      "222\n",
      "111\n"
     ]
    }
   ],
   "source": [
    "try1(try2())"
   ]
  },
  {
   "cell_type": "code",
   "execution_count": null,
   "metadata": {},
   "outputs": [],
   "source": []
  },
  {
   "cell_type": "code",
   "execution_count": 9,
   "metadata": {},
   "outputs": [
    {
     "name": "stdout",
     "output_type": "stream",
     "text": [
      "ab starts\n",
      "6\n",
      "ab ends\n"
     ]
    }
   ],
   "source": [
    "#декораторы еще,\n",
    "def osnova(func):\n",
    "    print(f'{func.__name__} starts')\n",
    "    func()\n",
    "    print(f'{func.__name__} ends')\n",
    "def ab():\n",
    "    print(2+4)\n",
    "aaaa = osnova(ab)"
   ]
  },
  {
   "cell_type": "code",
   "execution_count": 10,
   "metadata": {},
   "outputs": [
    {
     "name": "stdout",
     "output_type": "stream",
     "text": [
      "ab starts\n",
      "6\n",
      "ab ends\n"
     ]
    }
   ],
   "source": [
    "@osnova\n",
    "def ab():\n",
    "    print(2+4)"
   ]
  },
  {
   "cell_type": "code",
   "execution_count": 25,
   "metadata": {},
   "outputs": [
    {
     "name": "stdout",
     "output_type": "stream",
     "text": [
      "вышел заяц на крыльцо\n",
      "почесать свое яйцо\n",
      "сунул руку - нет яйца\n",
      "так и шлепнулся с крыльца\n"
     ]
    }
   ],
   "source": [
    "def stih(func):\n",
    "    print('вышел заяц на крыльцо')\n",
    "    func()\n",
    "    print('так и шлепнулся с крыльца')\n",
    "def vstavka():\n",
    "    print('почесать свое яйцо\\nсунул руку - нет яйца')\n",
    "    \n",
    "@stih\n",
    "def vstavka():\n",
    "    print('почесать свое яйцо\\nсунул руку - нет яйца')"
   ]
  },
  {
   "cell_type": "code",
   "execution_count": 28,
   "metadata": {},
   "outputs": [
    {
     "name": "stdout",
     "output_type": "stream",
     "text": [
      "abc starts\n",
      "6\n",
      "abc ends\n"
     ]
    }
   ],
   "source": [
    "@osnova\n",
    "def abc():\n",
    "    print(1+2+3)"
   ]
  },
  {
   "cell_type": "code",
   "execution_count": 37,
   "metadata": {},
   "outputs": [
    {
     "name": "stdout",
     "output_type": "stream",
     "text": [
      "pestrun starts\n",
      "func in progress\n",
      "pestrun ends\n"
     ]
    }
   ],
   "source": [
    "@osnova\n",
    "def pestrun():\n",
    "    print('func in progress')\n",
    "    return 1+2+3"
   ]
  },
  {
   "cell_type": "code",
   "execution_count": 5,
   "metadata": {},
   "outputs": [],
   "source": [
    "def obolochka(func):\n",
    "    def vlozhenie():\n",
    "        print(f'{func.__name__} 01')\n",
    "        func()\n",
    "        print('stop')\n",
    "    return vlozhenie"
   ]
  },
  {
   "cell_type": "code",
   "execution_count": 6,
   "metadata": {},
   "outputs": [],
   "source": [
    "@obolochka\n",
    "def ispolnenie():\n",
    "    print('1 + 2')"
   ]
  },
  {
   "cell_type": "code",
   "execution_count": 7,
   "metadata": {},
   "outputs": [
    {
     "name": "stdout",
     "output_type": "stream",
     "text": [
      "ispolnenie 01\n",
      "1 + 2\n",
      "stop\n"
     ]
    }
   ],
   "source": [
    "ispolnenie()"
   ]
  },
  {
   "cell_type": "code",
   "execution_count": null,
   "metadata": {},
   "outputs": [],
   "source": []
  }
 ],
 "metadata": {
  "kernelspec": {
   "display_name": "Python 3",
   "language": "python",
   "name": "python3"
  },
  "language_info": {
   "codemirror_mode": {
    "name": "ipython",
    "version": 3
   },
   "file_extension": ".py",
   "mimetype": "text/x-python",
   "name": "python",
   "nbconvert_exporter": "python",
   "pygments_lexer": "ipython3",
   "version": "3.8.5"
  }
 },
 "nbformat": 4,
 "nbformat_minor": 4
}
