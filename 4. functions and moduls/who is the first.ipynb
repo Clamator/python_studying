{
 "cells": [
  {
   "cell_type": "code",
   "execution_count": 86,
   "metadata": {},
   "outputs": [
    {
     "name": "stdout",
     "output_type": "stream",
     "text": [
      "P1 shot first\n"
     ]
    }
   ],
   "source": [
    "#решение задачи без использования функции, названия переменных надо менять\n",
    "p1 = 0\n",
    "p2 = 0\n",
    "a = \"    bang      \"\n",
    "b = \"        bang  \"\n",
    "for a in a:\n",
    "    if a == \" \":\n",
    "        p1 += 1\n",
    "    if a != \" \":\n",
    "        break\n",
    "for b in b:\n",
    "    if b == \" \":\n",
    "        p2 += 1\n",
    "    if b != \" \":\n",
    "        break\n",
    "if p1 < p2:\n",
    "    print(\"P1 shot first\")\n",
    "if p1 > p2:\n",
    "    print(\"P2 shot first\")\n",
    "if p1 == p2:\n",
    "    print(\"Both shot at the same time\")"
   ]
  },
  {
   "cell_type": "code",
   "execution_count": null,
   "metadata": {},
   "outputs": [],
   "source": [
    "#ПРАВИЛЬНЫЙ ОТВЕТ ТАКОЙ:\n",
    "def whos_first(p1, p2):\n",
    "    # ваше решение\n",
    "    a = 0\n",
    "    for p1 in p1:\n",
    "        if p1 == \" \":\n",
    "            a += 1\n",
    "        if p1 != \" \":\n",
    "            break\n",
    "    b = 0\n",
    "    for p2 in p2:\n",
    "        if p2 == \" \":\n",
    "            b += 1\n",
    "        if p2 != \" \":\n",
    "            break\n",
    "    if a < b:\n",
    "        return \"p1\"\n",
    "    if b < a:\n",
    "        return \"p2\"\n",
    "    else:\n",
    "        return \"tie\""
   ]
  },
  {
   "cell_type": "code",
   "execution_count": null,
   "metadata": {},
   "outputs": [],
   "source": []
  },
  {
   "cell_type": "code",
   "execution_count": 24,
   "metadata": {},
   "outputs": [],
   "source": [
    "#от учителя - можно считать не количество пробелов, а именно найти индекс буквы B в слове bang и высчитать разницу между ними\n",
    "def bang1(p1, p2):\n",
    "    diff = p1.find('b') - p2.find('b')\n",
    "    if diff < 0:\n",
    "        return 'p1'\n",
    "    elif diff > 0:\n",
    "        return 'p2'\n",
    "    else:\n",
    "        return 'tie'\n"
   ]
  },
  {
   "cell_type": "code",
   "execution_count": 25,
   "metadata": {},
   "outputs": [
    {
     "name": "stdout",
     "output_type": "stream",
     "text": [
      "p1\n",
      "tie\n",
      "p2\n"
     ]
    }
   ],
   "source": [
    "print(bang1(\" bang\", \"  bang\"))\n",
    "print(bang1(\"  bang\", \"  bang\"))\n",
    "print(bang1(\"   bang\", \"  bang\"))"
   ]
  },
  {
   "cell_type": "code",
   "execution_count": 22,
   "metadata": {},
   "outputs": [],
   "source": []
  },
  {
   "cell_type": "code",
   "execution_count": null,
   "metadata": {},
   "outputs": [],
   "source": []
  },
  {
   "cell_type": "code",
   "execution_count": null,
   "metadata": {},
   "outputs": [],
   "source": []
  },
  {
   "cell_type": "code",
   "execution_count": null,
   "metadata": {},
   "outputs": [],
   "source": []
  },
  {
   "cell_type": "code",
   "execution_count": null,
   "metadata": {},
   "outputs": [],
   "source": []
  },
  {
   "cell_type": "code",
   "execution_count": 14,
   "metadata": {},
   "outputs": [],
   "source": []
  },
  {
   "cell_type": "code",
   "execution_count": null,
   "metadata": {},
   "outputs": [],
   "source": []
  },
  {
   "cell_type": "code",
   "execution_count": null,
   "metadata": {},
   "outputs": [],
   "source": []
  }
 ],
 "metadata": {
  "kernelspec": {
   "display_name": "Python 3",
   "language": "python",
   "name": "python3"
  },
  "language_info": {
   "codemirror_mode": {
    "name": "ipython",
    "version": 3
   },
   "file_extension": ".py",
   "mimetype": "text/x-python",
   "name": "python",
   "nbconvert_exporter": "python",
   "pygments_lexer": "ipython3",
   "version": "3.8.5"
  }
 },
 "nbformat": 4,
 "nbformat_minor": 4
}
