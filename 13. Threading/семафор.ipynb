{
 "cells": [
  {
   "cell_type": "raw",
   "metadata": {},
   "source": [
    "нужен, когда надо ограничить доспут к ресурсу по количеству потоков\n",
    "семафор - это класс, при конструировании этого класса в него пердается value - количество потоков, то есть емкость семафора\n",
    "семафор определяет метод acquire() - захват слота,release() - освобождения слота\n",
    "есть еще атрибут _value - он показывает остаточную емкость, именно остаточную"
   ]
  },
  {
   "cell_type": "raw",
   "metadata": {},
   "source": [
    "вычитание из вэлью происходдит после вызова ф-и эквайр"
   ]
  },
  {
   "cell_type": "code",
   "execution_count": null,
   "metadata": {},
   "outputs": [],
   "source": [
    "# будет два потока - один подключается, втрой выставляет флажок, исчерпана ли емкость семафора\n",
    "import concurrent.futures\n",
    "import threading\n",
    "import time\n",
    "\n",
    "\n",
    "def work(semaphore):\n",
    "    time.sleep(8)\n",
    "    print('releasing one connection')\n",
    "    semaphore.release()\n",
    "\n",
    "\n",
    "def connect(semaphore, reached_max_connections):\n",
    "    with concurrent.futures.ThreadPoolExecutor(max_workers=10) as ex:\n",
    "        # тут будем эмулировать подключения к базе данных\n",
    "        while True:\n",
    "            connections_counter = 0\n",
    "            while not reached_max_connections.is_set():\n",
    "                print(f'connection # = {connections_counter}')\n",
    "                semaphore.acquire()\n",
    "                connections_counter += 1\n",
    "\n",
    "                ex.submit(work, semaphore)\n",
    "                time.sleep(0.8)\n",
    "\n",
    "            time.sleep(5)\n",
    "\n",
    "\n",
    "def connection_guard(semaphore, reached_max_connections):\n",
    "    while True:\n",
    "        print(f'[guard] semaphore = {semaphore._value}')\n",
    "        time.sleep(1.5)  # слипы нужны для того, чтобы код успел реагировать на изменения\n",
    "\n",
    "        if semaphore._value == 0:  # если 0 - доступных слотов(подключений) нет\n",
    "            reached_max_connections.set()  # этот метод будет сигнализировать, что мы достигли максимум подключений\n",
    "            print('[guard] reached max connections')\n",
    "            time.sleep(2)  # чтобы другой поток успел увидеть флаг\n",
    "            reached_max_connections.clear()\n",
    "\n",
    "\n",
    "if __name__ == '__main__':  # более высокий уровень\n",
    "    max_connections = 10\n",
    "    reached_max_connections = threading.Event()  # для сигнализации, что достигнуто мак кол-во\n",
    "\n",
    "    semaphore = threading.Semaphore(value=max_connections)\n",
    "    # сейчас сделаем как раз таки две функции, и там у каждой будет свой поток\n",
    "    with concurrent.futures.ThreadPoolExecutor(max_workers=2) as executor:\n",
    "        executor.submit(connection_guard, semaphore, reached_max_connections)  # следит за исчерпанием емкости\n",
    "        executor.submit(connect, semaphore, reached_max_connections)  # эта коннетится"
   ]
  },
  {
   "cell_type": "code",
   "execution_count": null,
   "metadata": {},
   "outputs": [],
   "source": [
    "import threading\n",
    "import time\n",
    "\n",
    "\n",
    "class NightClub:\n",
    "    def __init__(self):\n",
    "        self.bouncer = threading.Semaphore(3)  # прям в конструкторе инициализируем семафор с тремя персами одновременно\n",
    "\n",
    "    # будет два метода: один в цикле запускает потоки, а потоки будут таргетировать другой метод\n",
    "    # который будет захватывать наш семафор, спать, а затем отпускать семафор\n",
    "    def open_club(self):\n",
    "        for x in range(1, 11):\n",
    "            t = threading.Thread(target=self.guest, args=[x])  # тут будет ф-я и текущ состояние икса\n",
    "            t.start()\n",
    "\n",
    "    def guest(self, guest_id):\n",
    "        print(f'\\nGuest {guest_id} is waiting to enter in night club')\n",
    "        self.bouncer.acquire()  # захват семафора, типа вход в клуб\n",
    "        print(f'\\nGuest {guest_id} is dancing')\n",
    "        time.sleep(2)\n",
    "        print(f'\\nGuest {guest_id} is leaving the club')\n",
    "        self.bouncer.release()\n",
    "\n",
    "\n",
    "if __name__ == '__main__':\n",
    "    club = NightClub()\n",
    "    club.open_club()\n"
   ]
  }
 ],
 "metadata": {
  "kernelspec": {
   "display_name": "Python 3",
   "language": "python",
   "name": "python3"
  },
  "language_info": {
   "codemirror_mode": {
    "name": "ipython",
    "version": 3
   },
   "file_extension": ".py",
   "mimetype": "text/x-python",
   "name": "python",
   "nbconvert_exporter": "python",
   "pygments_lexer": "ipython3",
   "version": "3.8.5"
  }
 },
 "nbformat": 4,
 "nbformat_minor": 4
}
