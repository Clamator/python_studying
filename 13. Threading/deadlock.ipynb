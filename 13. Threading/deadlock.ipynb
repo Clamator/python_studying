{
 "cells": [
  {
   "cell_type": "raw",
   "metadata": {},
   "source": [
    "deadlock - состояние бесконечной взаимной блокировки"
   ]
  },
  {
   "cell_type": "raw",
   "metadata": {},
   "source": [
    "1. при взаимном ожидании блокировки\n",
    "например, есть два потока, есть два объекта локов\n",
    "и ожидание разблокировки происходит в такой послед взаимной между ними,что они ожидат друг друга, бесконечно"
   ]
  },
  {
   "cell_type": "raw",
   "metadata": {},
   "source": [
    "2. при взаимном ожидании потоков\n",
    "поток 1 джойнит поток 2, а поток 2 джойнит поток 1"
   ]
  },
  {
   "cell_type": "raw",
   "metadata": {},
   "source": [
    "3. при рекурсивном захвате одного и того же лока\n",
    "например, у нас есть поток, в нем есть определенный метод, который лочится, а потом функция захватывает саму себя, у нас происходит вход в метод и снова ожидание освобождения, который мы уже сами захватили, замкнули сами на себя и получили дедлок в одном потоке - но это бывает редко, однако такая тема может пройзойти через цепочку вызовов, типа сначала вызывается первая, потом вторая, потом третья вызывается второй, а потом третья вызывает первую"
   ]
  },
  {
   "cell_type": "raw",
   "metadata": {},
   "source": [
    "как избежать проблемы с дедлоком:\n",
    "1. грамотное структурирование многопоточности\n",
    "2. проставление таймаута на захват лока, то есть чтобы захват был не на бесконечное время, ф-я эквайр имеет параметр таймаута\n",
    "3. использование reentrance"
   ]
  },
  {
   "cell_type": "markdown",
   "metadata": {},
   "source": [
    "пример того, если мы один объект пытаемся захватить дважды\n",
    "\n",
    "как видно, захват произошел, но после второй попытки захвата дело дальше не пошло\n",
    "здесь второй захват ждет, пока произойдет релиз"
   ]
  },
  {
   "cell_type": "code",
   "execution_count": null,
   "metadata": {},
   "outputs": [
    {
     "name": "stdout",
     "output_type": "stream",
     "text": [
      "acquire 1st time\n",
      "acquire 2nd time\n"
     ]
    }
   ],
   "source": [
    "import threading\n",
    "\n",
    "lock_obj = threading.Lock()\n",
    "\n",
    "print('acquire 1st time')\n",
    "lock_obj.acquire()\n",
    "\n",
    "print('acquire 2nd time')\n",
    "lock_obj.acquire()\n",
    "\n",
    "print('releasing')\n",
    "lock_obj.release()"
   ]
  },
  {
   "cell_type": "markdown",
   "metadata": {},
   "source": [
    "для того, чтобы не было такой темы, надо сделать RLock, здесь RLock детектирует ситуацию, что один поток и тот же хочет захватить еще раз тот же объект, и стабилизирует ситуацию\n",
    "на несколько потоков это не работает"
   ]
  },
  {
   "cell_type": "markdown",
   "metadata": {},
   "source": [
    "lock_obj = threading.RLock()\n",
    "\n",
    "print('acquire 1st time')\n",
    "lock_obj.acquire()\n",
    "\n",
    "print('acquire 2nd time')\n",
    "lock_obj.acquire()\n",
    "\n",
    "print('releasing')\n",
    "lock_obj.release()"
   ]
  },
  {
   "cell_type": "markdown",
   "metadata": {},
   "source": [
    "пример того, как функция вызывает сама себя, при этом в ней захватывается объект\n",
    "вывод будет такой:\n",
    "start ---\n",
    "acquired ---\n",
    "start"
   ]
  },
  {
   "cell_type": "code",
   "execution_count": null,
   "metadata": {},
   "outputs": [],
   "source": [
    "def reentrance():\n",
    "    print('start')\n",
    "    lock_obj.acquire()\n",
    "    print('acquired')\n",
    "    reentrance()"
   ]
  },
  {
   "cell_type": "code",
   "execution_count": null,
   "metadata": {},
   "outputs": [],
   "source": [
    "reentrance()"
   ]
  },
  {
   "cell_type": "markdown",
   "metadata": {},
   "source": [
    "__________\n",
    "вот пример того, как две функции джойнят друг друга"
   ]
  },
  {
   "cell_type": "code",
   "execution_count": null,
   "metadata": {},
   "outputs": [],
   "source": [
    "import threading\n",
    "import time\n",
    "\n",
    "\n",
    "def f1():\n",
    "    print('running 1st thread \\n')\n",
    "    print('f1 joins f2 \\n')\n",
    "    time.sleep(2)\n",
    "\n",
    "    t2.join()\n",
    "\n",
    "    print('f1 sleep')\n",
    "    time.sleep(2)\n",
    "    print('end of f1')\n",
    "\n",
    "def f2():\n",
    "    print('running 2nd thread \\n')\n",
    "    print('f1 joins f1 \\n')\n",
    "    time.sleep(2)\n",
    "\n",
    "    t1.join()\n",
    "\n",
    "    print('f2 sleep')\n",
    "    time.sleep(2)\n",
    "    print('end of f2')\n",
    "\n",
    "if __name__ == '__main__':\n",
    "    t1 = threading.Thread(target=f1)\n",
    "    t2 = threading.Thread(target=f2)\n",
    "\n",
    "    t1.start()\n",
    "    t2.start()"
   ]
  },
  {
   "cell_type": "raw",
   "metadata": {},
   "source": [
    "у них будет вот такой вывод, то есть до функции слип дело даже не дойдет\n",
    "running 1st thread \n",
    "\n",
    "f1 joins f2 \n",
    "\n",
    "running 2nd thread \n",
    "\n",
    "f1 joins f1"
   ]
  },
  {
   "cell_type": "code",
   "execution_count": null,
   "metadata": {},
   "outputs": [],
   "source": [
    "#ну и вот тут, если есть две функции, которые делять доступ к одним и тем же данным\n",
    "import threading\n",
    "import time\n",
    "\n",
    "a = 5\n",
    "b = 5\n",
    "\n",
    "a_lock = threading.Lock()\n",
    "b_lock = threading.Lock()\n",
    "\n",
    "\n",
    "def thread1calc():\n",
    "    global a\n",
    "    global b\n",
    "\n",
    "    print('thread1 acquires a')\n",
    "    a_lock.acquire()\n",
    "    time.sleep(2)\n",
    "\n",
    "    print('thread1 acquires b')\n",
    "    b_lock.acquire()\n",
    "    time.sleep(2)\n",
    "\n",
    "    a += 5\n",
    "    b += 5\n",
    "\n",
    "    print('thread1 releases both locks')\n",
    "    a_lock.release()\n",
    "    b_lock.release()\n",
    "\n",
    "\n",
    "def thread2calc():\n",
    "    global a\n",
    "    global b\n",
    "\n",
    "    print('thread2 acquires b')\n",
    "    b_lock.acquire()\n",
    "    time.sleep(2)\n",
    "\n",
    "    print('thread2 acquires a')\n",
    "    a_lock.acquire()\n",
    "    time.sleep(2)\n",
    "\n",
    "    a += 10\n",
    "    b += 10\n",
    "\n",
    "    print('thread2 releases both locks')\n",
    "    b_lock.release()\n",
    "    a_lock.release()\n",
    "\n",
    "if __name__ == '__main__':\n",
    "    t1 = threading.Thread(target=thread1calc)\n",
    "    t1.start()\n",
    "    t2 = threading.Thread(target=thread2calc)\n",
    "    t2.start()"
   ]
  },
  {
   "cell_type": "raw",
   "metadata": {},
   "source": [
    "thread1 acquires a\n",
    "thread2 acquires b\n",
    "thread1 acquires b\n",
    "thread2 acquires a"
   ]
  },
  {
   "cell_type": "code",
   "execution_count": null,
   "metadata": {},
   "outputs": [],
   "source": []
  }
 ],
 "metadata": {
  "kernelspec": {
   "display_name": "Python 3",
   "language": "python",
   "name": "python3"
  },
  "language_info": {
   "codemirror_mode": {
    "name": "ipython",
    "version": 3
   },
   "file_extension": ".py",
   "mimetype": "text/x-python",
   "name": "python",
   "nbconvert_exporter": "python",
   "pygments_lexer": "ipython3",
   "version": "3.8.5"
  }
 },
 "nbformat": 4,
 "nbformat_minor": 4
}
