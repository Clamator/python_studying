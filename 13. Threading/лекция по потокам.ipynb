{
 "cells": [
  {
   "cell_type": "markdown",
   "metadata": {},
   "source": [
    "foreground background (daemon)\n",
    "\n",
    "потоки делятся на 2 типа форграунд потоки первостепенны, а бэк - второсепенны программа не завершается, пока жив хотя бы один форграунд поток, процесс будет висет в памяти при запуске программы поток, который является основным и который появляется первым, он и является форграунд потоком,\n",
    "\n",
    "а бэкграунд автоматически закрываются, как только основной поток будет закрыт, и это не всегда хорошо\n",
    "\n",
    "и тех, и других потоков мб несколько, а не по 1 штуке когда мы оздаем поток, он автоматически становится ФГ, чтобы сделать из него БГ, надо проставить некоторые параметры"
   ]
  },
  {
   "cell_type": "markdown",
   "metadata": {},
   "source": [
    "потоки представляются классом Thread, target - функция, но лучше не делать ФГ, потому что этот поток может быть пипец живучим, поэтому, пока не убедимся, что наше приложение прям никак не может выжить без этого потока, лучше создавать его в БГ\n",
    "\n",
    "если мы хотим передавать аргументы именованно, надо использовать кваргс\n",
    "\n",
    "если мы хотим дождаться завершения потока, нам необходимо вызвать ф-ю join t.join() пока этот поток не завершится, дальше join дело не пойдет в пайчарме мы сейчас будем пробовать говорить с пользователем после того, как запустили вычисления, пробовать будем на файле 01 демо проблемы\n",
    "\n",
    "!!! используемый поток используется для освобождения мэйн лупа, т.е обработчика событий, это сделано для того, чтобы, пока идет вычисление триплетов (в нашем случае), мы могли взаимодействовать с юзером однако следует помнить, что если бы мы запустили два потока условно параллельно, то они бы работали медленнее, чем если бы запустили те же самые два подсчета, но без выделенных потоков,\n",
    "\n",
    "это не говорит о том, что нельзя или не рекомендуется запускать сразу несколько потоков, тут дело в том, что они необходимы для разгрузки мэйн лупа\n",
    "\n",
    "одним словом, если не надо взаимодействовать с юзером, пока идут вычисления или что-то еще, то лучше использовать беспотоковое вычисление"
   ]
  },
  {
   "cell_type": "markdown",
   "metadata": {},
   "source": [
    "также: если потоков будет несколько, то с ними уже не очень удобно работать, можно запутаться,\n",
    "создание каждого потока требует определенные ресурсы и время\n",
    "чтобы это упростить, используется т.н пул потоков\n",
    "\n",
    "пул потоков нужен для того, чтобы экономить время на запуск потоков, в пуле они всегда готовы\n",
    "указываем, сколько потоков мы там хотим - 4,6,8 и тд, они уже созданы, всегда готовы начать что-то исполнять\n",
    "этап создания самого потока пропускается, поэтому пул более эффективен и прост"
   ]
  },
  {
   "cell_type": "markdown",
   "metadata": {},
   "source": [
    "-------------\n",
    "пакет current.futures определяет высокоуровневые типы, api - это типа их конструктор\n",
    "есть классы\n",
    "max_workers - количество потоков, мак кол-во - количество ядер + 4\n",
    "имя треда - это имя треда, понятно\n",
    "инициализатор вызывается перед вызовом каждой ф-и, сам является функцией\n",
    "если инициализатор падает с ошибкой, то ThreadPoolExecutor не отработает вообще, никакие ф-и не будут вызваны\n"
   ]
  },
  {
   "cell_type": "markdown",
   "metadata": {},
   "source": [
    "--------------------------------------\n",
    "ProcessPoolName используется для создания процесса на каждый вызов ф-и\n",
    "это потом будем изучать\n",
    "здесь максимальное количество воркеров равно количеству ядер"
   ]
  },
  {
   "cell_type": "code",
   "execution_count": null,
   "metadata": {},
   "outputs": [],
   "source": [
    "ThreadPoolExecutor(max_workers=None, thread_name_prefix='', initializer=None, initargs=())\n",
    "\n",
    "ProcessPoolName(max_workers=None, mp_context=None, initializer=None, initargs=())"
   ]
  },
  {
   "cell_type": "markdown",
   "metadata": {},
   "source": [
    "оба эти класса являются наследниками класса Executor, который является абстрактным\n",
    "он и определяет интерфейс этих двух классов\n",
    "это значит, что они имеют фактически один апи, почти одинаково выглядят\n",
    "\n",
    "Executor определяет такое апи:\n",
    "функция сабмит, которая принимает ф-ю для исполнения и аргументы, а возвращает такой тип как Future\n",
    "\n",
    "    1.submit(fn, *args, **kwargs) -> Future\n",
    "\n",
    "    2. map(fn, *iterables, timeout=None, chunksize=1) -> []\n",
    "\n",
    "    3. shutdown(wait = True)\n",
    "\n",
    "ф-я map принимает ф-ю на исполнение, вторым аргументом ставится значение, сколько раз надо вызвать ту самую ф-ю, \n",
    "кроме того возвращается Iterable, хотя тут и указан как список, также возврат идет не в порядке исполнения ф-и, а вперемешку\n",
    "таймаут по умолчанию не установлен, если в определенный таймаут не успевают, будет таймаут еррор\n",
    "\n",
    "обе ф-и позволяют возвращать значения, а вот у Thread есть в этом некоторые ограничения\n",
    "\n",
    "chunksize нарезает iterables на отдельные куски и передает их в пул как отдельные задачи\n",
    "ф-я шатдаун закрывает экзекьютор с чисткой ресурсов, чтобы не было утечек памяти\n",
    "\n",
    "шатдаун блокирует потом пока все потоки не отработают до конца, он типа как джойн, он не всегда нужен, хотя\n",
    "т.к  ThreadPoolExecutor и ProcessPoolName при работе с менеджером контекста with шатдаун сам вызывается\n",
    "\n",
    "Future - специализированный низкоуровневый тип, представляющий будущий результат асинхронного вызова ф-и\n",
    "это типа заглушка, куда буде записан результат\n",
    "у него есть свой интерфейс и тд"
   ]
  },
  {
   "cell_type": "markdown",
   "metadata": {},
   "source": [
    "при помощи метода result() мы можем забрать результат из тредполэкзекьютора\n",
    "___\n",
    "future = ex.submit(div, 3, 25)\n",
    "res = future.result()\n",
    "___\n",
    "сам метод резалт прокидывает исключение, если оно произошло в запущенной функции"
   ]
  },
  {
   "cell_type": "code",
   "execution_count": 1,
   "metadata": {},
   "outputs": [],
   "source": [
    "def read_ints(path):\n",
    "    lst = []\n",
    "    with open(path, \"r\") as file:\n",
    "        while line := file.readline():\n",
    "            lst.append(int(line))\n",
    "    return lst\n",
    "\n",
    "\n",
    "def count_three_sum(ints, thread_name='t'):\n",
    "    print(f'started count_three_sum in {thread_name}')\n",
    "    n = len(ints)\n",
    "\n",
    "    counter = 0\n",
    "\n",
    "    for i in range(n):\n",
    "        for j in range(i + 1, n):\n",
    "            for k in range(j + 1, n):\n",
    "                if ints[i] + ints[j] + ints[k] == 0:\n",
    "                    counter += 1\n",
    "                    print(f\"triple found in {thread_name}: {ints[i]}, {ints[j]}, {ints[k]}\", end=\"\\n\")  # можно убрать эту строчку\n",
    "\n",
    "    print(f'finished count_three_sum in {thread_name}. Triplets amount is {counter}')\n"
   ]
  },
  {
   "cell_type": "code",
   "execution_count": null,
   "metadata": {},
   "outputs": [],
   "source": [
    "# этот вызов, когда мы вывод записываем в определенный файл, на котором делаем все вызовы\n",
    "import concurrent.futures\n",
    "import time\n",
    "\n",
    "\n",
    "def div(divisor, limit):\n",
    "    print(f'started div {divisor}')\n",
    "\n",
    "    for x in range(1, limit):\n",
    "        if x % divisor == 0:\n",
    "            print(f' divisor= {divisor}, x= {x}')\n",
    "\n",
    "        time.sleep(0.2)\n",
    "    print(f' ended div= {divisor}', end ='\\n')\n",
    "\n",
    "if __name__ == '__main__':\n",
    "    print('started main')\n",
    "\n",
    "    with concurrent.futures.ThreadPoolExecutor(max_workers=2) as executor:\n",
    "        executor.submit(div, 3, 25)\n",
    "        executor.submit(div, 5, 25)\n",
    "\n",
    "        print('\\nimmediately printed out after sumbit')\n",
    "\n",
    "    print('after \"with\" block')"
   ]
  },
  {
   "cell_type": "code",
   "execution_count": null,
   "metadata": {},
   "outputs": [],
   "source": [
    "# а тут когда мы сами определяем и выставляем шат даун\n",
    "import concurrent.futures\n",
    "import time\n",
    "\n",
    "\n",
    "def div(divisor, limit):\n",
    "    print(f'started div {divisor}')\n",
    "\n",
    "    for x in range(1, limit):\n",
    "        if x % divisor == 0:\n",
    "            print(f'divisor= {divisor}, x= {x}')\n",
    "\n",
    "        time.sleep(0.2)\n",
    "    print(f'ended div= {divisor}', end ='\\n')\n",
    "\n",
    "if __name__ == '__main__':\n",
    "    print('started main')\n",
    "    executor = concurrent.futures.ThreadPoolExecutor(max_workers=2)\n",
    "    executor.submit(div, 3, 25)\n",
    "    executor.submit(div, 5, 25)\n",
    "\n",
    "    executor.shutdown(True)  # если ставить фолс, то ол дан высветится сразу, не дожидаясь исполнения ф-й\n",
    "\n",
    "    print('all done')"
   ]
  },
  {
   "cell_type": "code",
   "execution_count": null,
   "metadata": {},
   "outputs": [],
   "source": [
    "# функция map\n",
    "\n",
    "import concurrent.futures\n",
    "\n",
    "from multythreading.count_three_sum import read_ints, count_three_sum\n",
    "\n",
    "if __name__ == '__main__':\n",
    "    print('started main')\n",
    "    data = read_ints(\"..\\\\data\\\\1Kints.txt\")\n",
    "    with concurrent.futures.ThreadPoolExecutor(max_workers=2) as executor:\n",
    "        results = executor.map(count_three_sum, (data, data), ('t1', 't2'))  # тут будет х2 вызов: дата+т1, дата+т2\n",
    "        for r in results:\n",
    "            print(f'{r=}')  # вывод результата\n",
    "\n",
    "    print('ended main')"
   ]
  }
 ],
 "metadata": {
  "kernelspec": {
   "display_name": "Python 3",
   "language": "python",
   "name": "python3"
  },
  "language_info": {
   "codemirror_mode": {
    "name": "ipython",
    "version": 3
   },
   "file_extension": ".py",
   "mimetype": "text/x-python",
   "name": "python",
   "nbconvert_exporter": "python",
   "pygments_lexer": "ipython3",
   "version": "3.8.5"
  }
 },
 "nbformat": 4,
 "nbformat_minor": 4
}
