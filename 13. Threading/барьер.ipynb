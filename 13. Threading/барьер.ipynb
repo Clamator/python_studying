{
 "cells": [
  {
   "cell_type": "markdown",
   "metadata": {},
   "source": [
    "барьер используется для синхронизации фаз алгоритма, в котором задействован не один поток\n",
    "например:\n",
    "\n",
    "    1. параллельное считываение данных из разных источников, \n",
    "    2. агрегация данных, которая невозможна, пока не появятся все данные\n",
    "    \n",
    "начать агрегацию даных нельзя, пока все данные не будут считаны, когда они завершают первую фазу, \n",
    "а именно считывание данных, их нужно синхронизировать\n",
    "\n",
    "то есть, в данной ситуации нужно выставить барьер: пока все потоки не закончат считывание данных, нельзя \n",
    "    давать им доступ к дальнейшей работе,"
   ]
  },
  {
   "cell_type": "markdown",
   "metadata": {},
   "source": [
    "барьеры создаются в классе Barrier, он принимает аргумент parties, которые представлют собой кол-во потоков, \n",
    "синхронизируемых по фазам:\n",
    "\n",
    "    1. wait() - метод, который и является выставлением барьером, т.е пока все потоки не вызвали этот метод, ни один из них не может уйти дальше,\n",
    "    2. reset() - метод, который возвращает все в исходное состояние, если один и более потоков в состоянии wait, пока мы вызываем reset, барьер перейдет в состояние broken, выкинет ошибку, если в wait никого нет, то он и не кидает ошибку,\n",
    "    3. abort() - метод, который сразу выкидывает broken state. есть смысл вызвать, если есть опасность появления дедлока, abort() лучше не пихать где попало, а пихать таймауты, барьер тоже их поддерживает"
   ]
  },
  {
   "cell_type": "markdown",
   "metadata": {},
   "source": [
    "таке поддерживаются атрибуты:\n",
    "\n",
    "    1. n_waiting - колво потоков, достигших барьера,\n",
    "    2. флаг broken - флаг корректности состояния, при брокен барьер дальше уже нельзя использовать, то и значит"
   ]
  },
  {
   "cell_type": "code",
   "execution_count": 1,
   "metadata": {},
   "outputs": [
    {
     "name": "stdout",
     "output_type": "stream",
     "text": [
      "\n",
      "Race preparation\n",
      "\n",
      "the horse2 has reached the barrier at 2021-06-25 09:36:40.514601\n",
      "the horse3 has reached the barrier at 2021-06-25 09:36:40.518590\n",
      "\n",
      "\n",
      "the horse4 has reached the barrier at 2021-06-25 09:36:42.524737\n",
      "the horse1 has reached the barrier at 2021-06-25 09:36:42.528726\n",
      "\n",
      "\n",
      "the horse2 started the race at 2021-06-25 09:36:45.536394\n",
      "the horse3 started the race at 2021-06-25 09:36:45.536394\n",
      "\n",
      "\n",
      "the horse4 started the race at 2021-06-25 09:36:46.534783\n",
      "\n",
      "the horse1 started the race at 2021-06-25 09:36:46.549897\n",
      "\n",
      "the horse4 finished at 2021-06-25 09:36:48.540484\n",
      "the horse2 finished at 2021-06-25 09:36:48.540484\n",
      "\n",
      "\n",
      "the horse3 finished at 2021-06-25 09:36:49.541873\n",
      "\n",
      "the horse1 finished at 2021-06-25 09:36:50.555485\n",
      "\n",
      "the horse1 went to sleep\n",
      "\n",
      "the horse3 went to sleep\n",
      "the horse4 went to sleep\n",
      "\n",
      "\n",
      "the horse2 went to sleep\n"
     ]
    }
   ],
   "source": [
    "import datetime\n",
    "import random\n",
    "import threading\n",
    "import time\n",
    "\n",
    "\n",
    "class HorseRace:\n",
    "    def __init__(self):\n",
    "        self.barrier = threading.Barrier(4)\n",
    "        self.horses = ['horse1','horse2','horse3','horse4']\n",
    "\n",
    "\n",
    "    def lead(self):\n",
    "        horse = self.horses.pop()\n",
    "        time.sleep(random.randint(1, 5))\n",
    "        print(f'\\nthe {horse} has reached the barrier at {datetime.datetime.now()}')\n",
    "        self.barrier.wait()\n",
    "\n",
    "        time.sleep(random.randint(1,5))\n",
    "        print(f'\\nthe {horse} started the race at {datetime.datetime.now()}')\n",
    "        #self.barrier.wait()\n",
    "\n",
    "        time.sleep(random.randint(1, 5))\n",
    "        print(f'\\nthe {horse} finished at {datetime.datetime.now()}')\n",
    "\n",
    "        self.barrier.wait()\n",
    "        print(f'\\nthe {horse} went to sleep')\n",
    "\n",
    "\n",
    "if __name__ == '__main__':\n",
    "    #threads = []\n",
    "    print('\\nRace preparation')\n",
    "\n",
    "    race = HorseRace()\n",
    "    for x in range(4):\n",
    "        thread = threading.Thread(target=race.lead)\n",
    "        thread.start()\n"
   ]
  },
  {
   "cell_type": "code",
   "execution_count": null,
   "metadata": {},
   "outputs": [],
   "source": []
  }
 ],
 "metadata": {
  "kernelspec": {
   "display_name": "Python 3",
   "language": "python",
   "name": "python3"
  },
  "language_info": {
   "codemirror_mode": {
    "name": "ipython",
    "version": 3
   },
   "file_extension": ".py",
   "mimetype": "text/x-python",
   "name": "python",
   "nbconvert_exporter": "python",
   "pygments_lexer": "ipython3",
   "version": "3.8.5"
  }
 },
 "nbformat": 4,
 "nbformat_minor": 4
}
