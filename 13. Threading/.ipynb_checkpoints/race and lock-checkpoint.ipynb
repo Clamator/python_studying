{
 "cells": [
  {
   "cell_type": "raw",
   "metadata": {},
   "source": [
    "допустим,у нас есть банковский аккаунт, который принимаем некоторые суммы на пополнение или списание,\n",
    "если транзакции происходят в двух конкурентных потоках:\n",
    "        with concurrent.futures.ThreadPoolExecutor(max_workers=2) as ex:\n",
    "        ex.map(acc.update, ('refill', 'withdraw'), (100, -190))\n",
    "        \n",
    "то действие может происходить по разному, переключение контекста может срабатывать когда как, и посему на балансе будут \n",
    "получаться разные суммы"
   ]
  },
  {
   "cell_type": "markdown",
   "metadata": {},
   "source": [
    "поэтому надо использовать лок, чтобы эту гонку избежать\n",
    "вот тут будет без лока"
   ]
  },
  {
   "cell_type": "code",
   "execution_count": 1,
   "metadata": {},
   "outputs": [
    {
     "name": "stdout",
     "output_type": "stream",
     "text": [
      "main started, acc balance = 100\n",
      "refill started\n",
      "withdraw started\n",
      "\n",
      "withdraw ended\n",
      "refill ended\n",
      "\n",
      "end of main, balance = 200\n"
     ]
    }
   ],
   "source": [
    "import concurrent.futures\n",
    "import time\n",
    "\n",
    "\n",
    "class BankAccount:\n",
    "    def __init__(self):\n",
    "        self.balance = 100  # тот ресурс, котоый будет использован потоками\n",
    "\n",
    "\n",
    "    def update(self, transaction, amount):\n",
    "        print(f'{transaction} started')\n",
    "\n",
    "        tmp_balance = self.balance\n",
    "        tmp_balance += amount\n",
    "        time.sleep(1)  # вызывает переключение контекста\n",
    "        self.balance = tmp_balance\n",
    "\n",
    "        print(f'\\n{transaction} ended')\n",
    "\n",
    "\n",
    "if __name__ == '__main__':\n",
    "    acc = BankAccount()\n",
    "    print(f'main started, acc balance = {acc.balance}')\n",
    "\n",
    "    with concurrent.futures.ThreadPoolExecutor(max_workers=2) as ex:\n",
    "        ex.map(acc.update, ('refill', 'withdraw'), (100, -190))\n",
    "\n",
    "    print(f'end of main, balance = {acc.balance}')\n"
   ]
  },
  {
   "cell_type": "markdown",
   "metadata": {},
   "source": [
    "мы создаем некий объект, он мб в состоянии locked и unlocked\n",
    "чтобы захватить объект, вызываем ф-ю acquire\n",
    "чтобы освободить - ф-ю release"
   ]
  },
  {
   "cell_type": "raw",
   "metadata": {},
   "source": [
    "lock_obj = threading.Lock() - в данном случае мы создаем объект\n",
    "\n",
    "если мы хотим его залочить, то делаем так:\n",
    "    \n",
    "lock_obj.acquire()\n",
    "\n",
    "если освободить, то:\n",
    "    \n",
    "lock_obj.release()"
   ]
  },
  {
   "cell_type": "markdown",
   "metadata": {},
   "source": [
    "--------------------\n",
    "а вот далее уже будет с лок\n",
    "короче,какая тема, там в конструкторе есть строка self.lock_obj = threading.Lock(),и есть блок with, \n",
    "в самом конструкторе ничего не блокируется сразу, однако когда запускается блок with, там уже происходит блокировка,\n",
    "также там обе функции acquire и release вызываются автоматически, \n",
    "пока один поток не зайдет и не сделает свои дела, другой не попадет туда\n",
    "\n",
    "то есть в какой-то степени код будет исполняться последовательно"
   ]
  },
  {
   "cell_type": "code",
   "execution_count": null,
   "metadata": {},
   "outputs": [],
   "source": [
    "import concurrent.futures\n",
    "import threading\n",
    "import time\n",
    "\n",
    "\n",
    "class BankAccount:\n",
    "    def __init__(self):\n",
    "        self.balance = 100  # тот ресурс, котоый будет использован потоками\n",
    "        self.lock_obj = threading.Lock()  # тут мы ничего не захватываем\n",
    "    def update(self, transaction, amount):\n",
    "        print(f'{transaction} started')\n",
    "\n",
    "        with self.lock_obj:  # и вот эта тема уже решает проблему, он захватывает один поток, а другой уже ждет\n",
    "            tmp_balance = self.balance\n",
    "            tmp_balance += amount\n",
    "            time.sleep(1)  # вызывает переключение контекста\n",
    "            self.balance = tmp_balance\n",
    "\n",
    "        print(f'\\n{transaction} ended')\n",
    "\n",
    "\n",
    "if __name__ == '__main__':\n",
    "\n",
    "\n",
    "    acc = BankAccount()\n",
    "    print(f'main started, acc balance = {acc.balance}')\n",
    "    with concurrent.futures.ThreadPoolExecutor(max_workers=2) as ex:\n",
    "        ex.map(acc.update, ('refill', 'withdraw'), (100, -190))\n",
    "    print(f'end of main, balance = {acc.balance}')\n"
   ]
  },
  {
   "cell_type": "code",
   "execution_count": null,
   "metadata": {},
   "outputs": [],
   "source": [
    "блок with можно не использовать, а делать так:\n",
    "    self.lock_obj.acquire()\n",
    "    tmp_balance = self.balance\n",
    "    tmp_balance += amount\n",
    "    time.sleep(1)  # вызывает переключение контекста\n",
    "    self.balance = tmp_balance\n",
    "    self.lock_obj.release()"
   ]
  },
  {
   "cell_type": "raw",
   "metadata": {},
   "source": [
    "здесь блок with будет раскрываться в acquire/release, acquire раскрывается внутри трай, а релиз внутри файналли"
   ]
  },
  {
   "cell_type": "code",
   "execution_count": null,
   "metadata": {},
   "outputs": [],
   "source": []
  }
 ],
 "metadata": {
  "kernelspec": {
   "display_name": "Python 3",
   "language": "python",
   "name": "python3"
  },
  "language_info": {
   "codemirror_mode": {
    "name": "ipython",
    "version": 3
   },
   "file_extension": ".py",
   "mimetype": "text/x-python",
   "name": "python",
   "nbconvert_exporter": "python",
   "pygments_lexer": "ipython3",
   "version": "3.8.5"
  }
 },
 "nbformat": 4,
 "nbformat_minor": 4
}
