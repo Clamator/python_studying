{
 "cells": [
  {
   "cell_type": "code",
   "execution_count": null,
   "metadata": {},
   "outputs": [],
   "source": [
    "import threading\n",
    "import time\n",
    "\n",
    "\n",
    "def printing_letters():\n",
    "    lst = 'abcdefghigklmnopqrstuvwxyz'\n",
    "    counter = 0\n",
    "    while True:\n",
    "        for letter in lst:\n",
    "            counter += 1\n",
    "            print(letter, end=' ')\n",
    "            time.sleep(0.2)\n",
    "        if counter == 26:\n",
    "            print('\\nprinting is over')\n",
    "            break\n",
    "\n",
    "\n",
    "if __name__ == '__main__':\n",
    "    print('main started')\n",
    "    t1 = threading.Thread(target=printing_letters)\n",
    "    t1.start()\n"
   ]
  },
  {
   "cell_type": "code",
   "execution_count": null,
   "metadata": {},
   "outputs": [],
   "source": [
    "import concurrent.futures\n",
    "import threading\n",
    "import time\n",
    "\n",
    "\n",
    "class BankAcc:\n",
    "    def __init__(self):\n",
    "        self.balance = 100\n",
    "        self.lock_obj = threading.Lock()\n",
    "\n",
    "    def update(self, trans_name, amount):\n",
    "        print(f'{trans_name} has begun')\n",
    "\n",
    "        with self.lock_obj:\n",
    "            self.balance += amount\n",
    "            time.sleep(2)\n",
    "\n",
    "        print(f'{trans_name} is over')\n",
    "\n",
    "\n",
    "if __name__ == '__main__':\n",
    "    acc = BankAcc()\n",
    "    with concurrent.futures.ThreadPoolExecutor(max_workers=2) as ex:\n",
    "        ex.map(acc.update, ('+', '-'), (100, -50))\n",
    "\n",
    "    print(f'main is over, {acc.balance=}')"
   ]
  },
  {
   "cell_type": "code",
   "execution_count": null,
   "metadata": {},
   "outputs": [],
   "source": [
    "import threading\n",
    "import time\n",
    "\n",
    "\n",
    "class Telephone:\n",
    "    def __init__(self):\n",
    "        self.updater = threading.Semaphore(2)\n",
    "\n",
    "    def update(self):\n",
    "        for x in range(1, 15):\n",
    "            t = threading.Thread(target=self.mobi_fon, args=[x])\n",
    "            t.start()\n",
    "\n",
    "    def mobi_fon(self, number):\n",
    "        print(f'\\n{number} is waiting for update')\n",
    "        self.updater.acquire()\n",
    "        print(f'\\n{number} is updating')\n",
    "        time.sleep(3)\n",
    "        print(f'\\n{number} is updated')\n",
    "        self.updater.release()\n",
    "\n",
    "\n",
    "if __name__ == '__main__':\n",
    "    tp = Telephone()\n",
    "    tp.update()\n"
   ]
  },
  {
   "cell_type": "code",
   "execution_count": null,
   "metadata": {},
   "outputs": [],
   "source": []
  }
 ],
 "metadata": {
  "kernelspec": {
   "display_name": "Python 3",
   "language": "python",
   "name": "python3"
  },
  "language_info": {
   "codemirror_mode": {
    "name": "ipython",
    "version": 3
   },
   "file_extension": ".py",
   "mimetype": "text/x-python",
   "name": "python",
   "nbconvert_exporter": "python",
   "pygments_lexer": "ipython3",
   "version": "3.8.5"
  }
 },
 "nbformat": 4,
 "nbformat_minor": 4
}
