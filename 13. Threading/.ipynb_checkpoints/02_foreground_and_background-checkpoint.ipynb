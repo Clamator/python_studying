{
 "cells": [
  {
   "cell_type": "markdown",
   "metadata": {},
   "source": [
    "foreground\n",
    "background (daemon)"
   ]
  },
  {
   "cell_type": "markdown",
   "metadata": {},
   "source": [
    "потоки делятся на 2 типа\n",
    "форграунд потоки первостепенны, а бэк - второсепенны\n",
    "программа не завершается, пока жив хотя бы один форграунд поток, процесс будет висет в памяти\n",
    "при запуске программы поток, который является основным и который появляется первым, он и является форграунд потоком, \n",
    "\n",
    "а бэкграунд автоматически закрываются, как только основной поток будет закрыт, и это не всегда хорошо"
   ]
  },
  {
   "cell_type": "markdown",
   "metadata": {},
   "source": [
    "и тех, и других потоков мб несколько, а не по 1 штуке\n",
    "когда мы оздаем поток, он автоматически становится ФГ, \n",
    "чтобы сделать из него БГ, надо проставить некоторые параметры"
   ]
  },
  {
   "cell_type": "code",
   "execution_count": null,
   "metadata": {},
   "outputs": [],
   "source": [
    "t = Thread(target, daemon = True)  # daemon-thread, daemon = True - это как раз и есть проставление в БГ\n",
    "t.start() # запускает ф-ю target, поток запускается, он типа по конкурентной теме работает\n",
    "# а не параллельно"
   ]
  },
  {
   "cell_type": "markdown",
   "metadata": {},
   "source": [
    "потоки представляются классом Thread, target - функция, но лучше не делать ФГ, потому что этот поток может быть пипец живучим, поэтому, пока не убедимся, что наше приложение прям никак не может выжить без этого потока, лучше создавать его в БГ\n",
    "\n",
    "если мы хотим передавать аргументы именованно, надо использовать кваргс"
   ]
  },
  {
   "cell_type": "markdown",
   "metadata": {},
   "source": [
    "если мы хотим дождаться завершения потока, нам необходимо вызвать ф-ю join\n",
    "t.join()\n",
    "пока этот поток не завершится, дальше join дело не пойдет\n",
    "в пайчарме мы сейчас будем пробовать говорить с пользователем после того, как запустили вычисления,\n",
    "пробовать будем на файле 01 демо проблемы"
   ]
  },
  {
   "cell_type": "markdown",
   "metadata": {},
   "source": [
    "!!! используемый поток используется для освобождения мэйн лупа, т.е обработчика событий, \n",
    "это сделано для того, чтобы, пока идет вычисление триплетов (в нашем случае), мы могли взаимодействовать с юзером\n",
    "однако следует помнить, что если бы мы запустили два потока условно параллельно, то они бы работали медленнее, чем если бы запустили \n",
    "те же самые два подсчета, но без выделенных потоков, \n",
    "\n",
    "это не говорит о том, что нельзя или не рекомендуется запускать сразу несколько потоков, тут дело в том, что они необходимы для разгрузки мэйн лупа\n",
    "\n",
    "одним словом, если не надо взаимодействовать с юзером, пока идут вычисления или что-то еще, то лучше использовать беспотоковое вычисление"
   ]
  },
  {
   "cell_type": "code",
   "execution_count": null,
   "metadata": {},
   "outputs": [],
   "source": [
    "# это ФГ поток, и старт, и джойн тут\n",
    "import threading\n",
    "\n",
    "from multythreading.count_three_sum import read_ints, count_three_sum\n",
    "\n",
    "if __name__ == '__main__':\n",
    "    print('started main')\n",
    "\n",
    "    ints = read_ints(\"..\\\\data\\\\1Kints.txt\")  # тут мы сначала делаем список чисел, записывая их в интс\n",
    "\n",
    "    t1 = threading.Thread(target=count_three_sum, args=(ints,))  # тут мы вызывает модуль threading, класс Thread,\n",
    "    # в этом классе есть таргет - это наша функция, которая будет запускаться, и аргс - это готовый список или кортеж\n",
    "    # этот поток т1 является форграунд, программа не завершается, пока не будет результата\n",
    "\n",
    "    t1.start()  # старт потока\n",
    "    print('\\nwhat are you waiting for?')\n",
    "# тут я сделал один принт, затем вызов потока, затем второй принт, но оба принта выводятся одновременно, если не добавить ждойн\n",
    "\n",
    "    t1.join()  # тут я добавил join, и код исполняется, не выводя сразу оповещение об окончании\n",
    "    print('all done')"
   ]
  },
  {
   "cell_type": "code",
   "execution_count": null,
   "metadata": {},
   "outputs": [],
   "source": [
    "ниже - БГ, тут процесс завершается, как только нажимаем энтер"
   ]
  },
  {
   "cell_type": "code",
   "execution_count": null,
   "metadata": {},
   "outputs": [],
   "source": [
    "import threading\n",
    "\n",
    "from multythreading.count_three_sum import read_ints, count_three_sum\n",
    "\n",
    "if __name__ == '__main__':\n",
    "    print('started main')\n",
    "\n",
    "    ints = read_ints(\"..\\\\data\\\\1Kints.txt\")  # тут мы сначала делаем список чисел, записывая их в интс\n",
    "\n",
    "    t1 = threading.Thread(target=count_three_sum, args=(ints,), daemon=True)  # тут мы вызывает модуль threading, класс Thread,\n",
    "    # в этом классе есть таргет - это наша функция, которая будет запускаться, и аргс - это готовый список или кортеж\n",
    "    # этот поток т1 является форграунд, программа не завершается, пока не будет результата\n",
    "\n",
    "    t1.start()  # старт потока\n",
    "    is_gay = input('\\nAre you gay? [y/n]')\n",
    "    print('all done')\n",
    "\n",
    "    # тут такая история: т1 в БГ был запущен, поэтому после ввода ответа и нажатия на энтер и убиваем этот поток\n",
    "    # и переходим к следующим действиям\n",
    "    # если переменной из_гей не было бы, то поток сразу бы завершился"
   ]
  },
  {
   "cell_type": "code",
   "execution_count": null,
   "metadata": {},
   "outputs": [],
   "source": [
    "import threading\n",
    "import time\n",
    "\n",
    "from multythreading.count_three_sum import read_ints, count_three_sum\n",
    "\n",
    "if __name__ == '__main__':\n",
    "    print('started main')\n",
    "\n",
    "    ints = read_ints(\"..\\\\data\\\\1Kints.txt\")  # тут мы сначала делаем список чисел, записывая их в интс\n",
    "\n",
    "    t1 = threading.Thread(target=count_three_sum, args=(ints,), daemon=True)\n",
    "\n",
    "    t1.start()  # старт потока\n",
    "    time.sleep(1)\n",
    "    print('all done')\n",
    "\n",
    "# а тут мы вызвали ф-ю слип, которая дала потоку немного поработать, а после он обрубился"
   ]
  },
  {
   "cell_type": "code",
   "execution_count": null,
   "metadata": {},
   "outputs": [],
   "source": [
    "import threading\n",
    "import time\n",
    "\n",
    "from multythreading.count_three_sum import read_ints, count_three_sum\n",
    "\n",
    "if __name__ == '__main__':\n",
    "    print('started main')\n",
    "\n",
    "    ints = read_ints(\"..\\\\data\\\\1Kints.txt\")  # тут мы сначала делаем список чисел, записывая их в интс\n",
    "\n",
    "    t1 = threading.Thread(target=count_three_sum, args=(ints,), daemon=True)\n",
    "\n",
    "    t1.start()  # старт потока\n",
    "    print(input('\\nWhat is your name?'))\n",
    "    t1.join()\n",
    "    print('all done')\n",
    "\n",
    "# а тут мы вызвали ф-ю слип, которая дала потоку немного поработать, а после он обрубился\n",
    "# но в чем проблема, т.к. оба потока делали принт в консоли, вывести имя и список триплетов правильно не получается"
   ]
  }
 ],
 "metadata": {
  "kernelspec": {
   "display_name": "Python 3",
   "language": "python",
   "name": "python3"
  },
  "language_info": {
   "codemirror_mode": {
    "name": "ipython",
    "version": 3
   },
   "file_extension": ".py",
   "mimetype": "text/x-python",
   "name": "python",
   "nbconvert_exporter": "python",
   "pygments_lexer": "ipython3",
   "version": "3.8.5"
  }
 },
 "nbformat": 4,
 "nbformat_minor": 4
}
