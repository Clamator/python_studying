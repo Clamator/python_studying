{
 "cells": [
  {
   "cell_type": "raw",
   "metadata": {},
   "source": [
    "ошибки - сложная тема\n",
    "1. исключения можно отлавливать внутри потока\n",
    "если у нас есть мэйн тред, из него мы породили еще потоки, и если в этих потоках есть исключение, мы в них же и ловим,\n",
    "то есть не в основном потоке\n",
    "2. их можно отлавливать и в основном потоке, если они возникают также во второстепенных\n",
    "\n",
    "тут есть 1000 мнений, какой вариант лучше\n",
    "\n",
    "главный ориентир - допустим, одна ф-я вызывает вторую, та - третью, и тут в третьей вылезает ошибка, \n",
    "если с ней будет пытаться разобраться первая - маловероятно, что она что-то сможет сделать, вторая - еще может быть,\n",
    "а А уже не отслеживает\n",
    "\n",
    "одним словом их ловят либо в том месте, где они появились, либо на слой выше, если дальше, то обработать их правильно уе не получится, нужно будет их просто насильно убирать или как это сказать"
   ]
  },
  {
   "cell_type": "code",
   "execution_count": null,
   "metadata": {},
   "outputs": [],
   "source": [
    "! тред умалчивает об исключения\n",
    "если там обнаруживается ошибка, то тред умиирает и перестает работать, а программа продолжает свою работу"
   ]
  },
  {
   "cell_type": "raw",
   "metadata": {},
   "source": [
    "! тред апи не дает возможности отловить исключение в вызывающем потоке\n",
    "то есть ловить надо в том потоке, в котором оно возникло, в первую очередь это связано с тем, что тред апи не дает возможности взять результат работы функции"
   ]
  },
  {
   "cell_type": "raw",
   "metadata": {},
   "source": [
    "! а вот тред пол экзекьютор дает возможность отловить исключение в вызывающем потоке\n",
    "здесь следует иметь в виду, что при возникновении исключения приложение отработает, но при попытке взять результат выскочит как раз таки то исключение, и если мы его не обработаем, то приложение умрет\n",
    "\n",
    "а вот если результат упавшего треда мы не буде забирать, то никакой ошибки не произойдет, приложение будет дальше работать"
   ]
  },
  {
   "cell_type": "code",
   "execution_count": null,
   "metadata": {},
   "outputs": [],
   "source": [
    "# тут отлов исключения был непосредственно в самой ф-и, потому что в треде не получится его перехватить, даже если обернуть \n",
    "# сам тред в трай эксепт, т.к. после вызова треда управлене передается в основной поток\n",
    "# отлов исключения по месту его возбуждения\n",
    "import threading\n",
    "import time\n",
    "\n",
    "throw = False\n",
    "\n",
    "\n",
    "def count():\n",
    "    i = 0\n",
    "    try:\n",
    "        while True:\n",
    "            if throw:\n",
    "                raise ArithmeticError()\n",
    "\n",
    "            i += 1\n",
    "            print(f'{i=}')\n",
    "            time.sleep(1)\n",
    "    except ArithmeticError:\n",
    "        print('en error occurred')\n",
    "\n",
    "\n",
    "if __name__ == '__main__':\n",
    "    print('main started')\n",
    "\n",
    "    t = threading.Thread(target=count)\n",
    "    t.start()\n",
    "\n",
    "    time.sleep(5)\n",
    "    throw = True\n",
    "    for y in range(1, 10):\n",
    "        print(f'{y=}')\n",
    "        time.sleep(1)\n",
    "\n"
   ]
  },
  {
   "cell_type": "markdown",
   "metadata": {},
   "source": [
    "но иногда надо прокидывать исключения на верхний уровень, чтобы именно тот решал, что делать с исключением\n",
    "___\n",
    "в вызывающем треде, который и исполняет код, где может возникнуть исключение, обработать исключение нельзя, можно это сделать, когда мы работаем с тредпулэкзекьютором\n",
    "___\n",
    "внизу первый пример будет без обращения к future - это тот результат, куда складывается результат исполнения ф-и с исключением"
   ]
  },
  {
   "cell_type": "code",
   "execution_count": 2,
   "metadata": {},
   "outputs": [
    {
     "name": "stdout",
     "output_type": "stream",
     "text": [
      "main started\n",
      "started div 3\n",
      "divisor= 3, x= 3\n",
      "divisor= 3, x= 6\n",
      "divisor= 3, x= 9\n",
      "divisor= 3, x= 12\n",
      "divisor= 3, x= 15\n",
      "divisor= 3, x= 18\n",
      "divisor= 3, x= 21\n",
      "divisor= 3, x= 24\n",
      "exception is raised\n",
      "main ended\n"
     ]
    }
   ],
   "source": [
    "import concurrent.futures\n",
    "import threading\n",
    "import time\n",
    "\n",
    "\n",
    "def div(divisor, limit):\n",
    "    print(f'started div {divisor}')\n",
    "\n",
    "    result = 0\n",
    "    for x in range(1, limit):\n",
    "        if x % divisor == 0:\n",
    "            print(f'divisor= {divisor}, x= {x}')\n",
    "            result += x\n",
    "        time.sleep(0.2)\n",
    "\n",
    "    print('exception is raised')\n",
    "    raise Exception('smth went wrong')\n",
    "\n",
    "\n",
    "\n",
    "if __name__ == '__main__':\n",
    "    print('main started')\n",
    "\n",
    "    with concurrent.futures.ThreadPoolExecutor(max_workers=1) as ex:\n",
    "        future = ex.submit(div, 3, 25)  # исключение запирается в future, пока обращения к future нет, искл не отработает\n",
    "        time.sleep(3)\n",
    "\n",
    "    print('main ended')\n"
   ]
  },
  {
   "cell_type": "raw",
   "metadata": {},
   "source": [
    "при помощи метода result() мы можем забрать результат из тредполэкзекьютора\n",
    "\n",
    "future = ex.submit(div, 3, 25)\n",
    "res = future.result()\n",
    "метод резалт прокидывает исключение, если оно произошло в вызываемой функции, и при этом в этой ф-и исключение прописано"
   ]
  },
  {
   "cell_type": "code",
   "execution_count": 3,
   "metadata": {},
   "outputs": [
    {
     "name": "stdout",
     "output_type": "stream",
     "text": [
      "main started\n",
      "started div 3\n",
      "divisor= 3, x= 3\n",
      "divisor= 3, x= 6\n",
      "divisor= 3, x= 9\n",
      "divisor= 3, x= 12\n",
      "divisor= 3, x= 15\n",
      "divisor= 3, x= 18\n",
      "divisor= 3, x= 21\n",
      "divisor= 3, x= 24\n",
      "exception is raised\n",
      "main ended\n"
     ]
    }
   ],
   "source": [
    "import concurrent.futures\n",
    "import threading\n",
    "import time\n",
    "\n",
    "\n",
    "def div(divisor, limit):\n",
    "    print(f'started div {divisor}')\n",
    "\n",
    "    result = 0\n",
    "    for x in range(1, limit):\n",
    "        if x % divisor == 0:\n",
    "            print(f'divisor= {divisor}, x= {x}')\n",
    "            result += x\n",
    "        time.sleep(0.2)\n",
    "\n",
    "    print('exception is raised')\n",
    "    #raise Exception('smth went wrong')  исключение закомменчено\n",
    "\n",
    "\n",
    "\n",
    "if __name__ == '__main__':\n",
    "    print('main started')\n",
    "\n",
    "    with concurrent.futures.ThreadPoolExecutor(max_workers=1) as ex:\n",
    "        future = ex.submit(div, 3, 25)\n",
    "        time.sleep(3)\n",
    "        res = future.result()\n",
    "    print('main ended')\n",
    "# приложение завершило вою работу, а во втором - нет"
   ]
  },
  {
   "cell_type": "code",
   "execution_count": 4,
   "metadata": {},
   "outputs": [
    {
     "name": "stdout",
     "output_type": "stream",
     "text": [
      "main started\n",
      "started div 3\n",
      "divisor= 3, x= 3\n",
      "divisor= 3, x= 6\n",
      "divisor= 3, x= 9\n",
      "divisor= 3, x= 12\n",
      "divisor= 3, x= 15\n",
      "divisor= 3, x= 18\n",
      "divisor= 3, x= 21\n",
      "divisor= 3, x= 24\n",
      "exception is raised\n"
     ]
    },
    {
     "ename": "Exception",
     "evalue": "smth went wrong",
     "output_type": "error",
     "traceback": [
      "\u001b[1;31m---------------------------------------------------------------------------\u001b[0m",
      "\u001b[1;31mException\u001b[0m                                 Traceback (most recent call last)",
      "\u001b[1;32m<ipython-input-4-7fd7f8845d58>\u001b[0m in \u001b[0;36m<module>\u001b[1;34m\u001b[0m\n\u001b[0;32m     25\u001b[0m         \u001b[0mfuture\u001b[0m \u001b[1;33m=\u001b[0m \u001b[0mex\u001b[0m\u001b[1;33m.\u001b[0m\u001b[0msubmit\u001b[0m\u001b[1;33m(\u001b[0m\u001b[0mdiv\u001b[0m\u001b[1;33m,\u001b[0m \u001b[1;36m3\u001b[0m\u001b[1;33m,\u001b[0m \u001b[1;36m25\u001b[0m\u001b[1;33m)\u001b[0m\u001b[1;33m\u001b[0m\u001b[1;33m\u001b[0m\u001b[0m\n\u001b[0;32m     26\u001b[0m         \u001b[0mtime\u001b[0m\u001b[1;33m.\u001b[0m\u001b[0msleep\u001b[0m\u001b[1;33m(\u001b[0m\u001b[1;36m3\u001b[0m\u001b[1;33m)\u001b[0m\u001b[1;33m\u001b[0m\u001b[1;33m\u001b[0m\u001b[0m\n\u001b[1;32m---> 27\u001b[1;33m         \u001b[0mres\u001b[0m \u001b[1;33m=\u001b[0m \u001b[0mfuture\u001b[0m\u001b[1;33m.\u001b[0m\u001b[0mresult\u001b[0m\u001b[1;33m(\u001b[0m\u001b[1;33m)\u001b[0m\u001b[1;33m\u001b[0m\u001b[1;33m\u001b[0m\u001b[0m\n\u001b[0m\u001b[0;32m     28\u001b[0m     \u001b[0mprint\u001b[0m\u001b[1;33m(\u001b[0m\u001b[1;34m'main ended'\u001b[0m\u001b[1;33m)\u001b[0m\u001b[1;33m\u001b[0m\u001b[1;33m\u001b[0m\u001b[0m\n",
      "\u001b[1;32mC:\\Program Files\\Anaconda\\lib\\concurrent\\futures\\_base.py\u001b[0m in \u001b[0;36mresult\u001b[1;34m(self, timeout)\u001b[0m\n\u001b[0;32m    437\u001b[0m                 \u001b[1;32mraise\u001b[0m \u001b[0mCancelledError\u001b[0m\u001b[1;33m(\u001b[0m\u001b[1;33m)\u001b[0m\u001b[1;33m\u001b[0m\u001b[1;33m\u001b[0m\u001b[0m\n\u001b[0;32m    438\u001b[0m             \u001b[1;32melif\u001b[0m \u001b[0mself\u001b[0m\u001b[1;33m.\u001b[0m\u001b[0m_state\u001b[0m \u001b[1;33m==\u001b[0m \u001b[0mFINISHED\u001b[0m\u001b[1;33m:\u001b[0m\u001b[1;33m\u001b[0m\u001b[1;33m\u001b[0m\u001b[0m\n\u001b[1;32m--> 439\u001b[1;33m                 \u001b[1;32mreturn\u001b[0m \u001b[0mself\u001b[0m\u001b[1;33m.\u001b[0m\u001b[0m__get_result\u001b[0m\u001b[1;33m(\u001b[0m\u001b[1;33m)\u001b[0m\u001b[1;33m\u001b[0m\u001b[1;33m\u001b[0m\u001b[0m\n\u001b[0m\u001b[0;32m    440\u001b[0m             \u001b[1;32melse\u001b[0m\u001b[1;33m:\u001b[0m\u001b[1;33m\u001b[0m\u001b[1;33m\u001b[0m\u001b[0m\n\u001b[0;32m    441\u001b[0m                 \u001b[1;32mraise\u001b[0m \u001b[0mTimeoutError\u001b[0m\u001b[1;33m(\u001b[0m\u001b[1;33m)\u001b[0m\u001b[1;33m\u001b[0m\u001b[1;33m\u001b[0m\u001b[0m\n",
      "\u001b[1;32mC:\\Program Files\\Anaconda\\lib\\concurrent\\futures\\_base.py\u001b[0m in \u001b[0;36m__get_result\u001b[1;34m(self)\u001b[0m\n\u001b[0;32m    386\u001b[0m     \u001b[1;32mdef\u001b[0m \u001b[0m__get_result\u001b[0m\u001b[1;33m(\u001b[0m\u001b[0mself\u001b[0m\u001b[1;33m)\u001b[0m\u001b[1;33m:\u001b[0m\u001b[1;33m\u001b[0m\u001b[1;33m\u001b[0m\u001b[0m\n\u001b[0;32m    387\u001b[0m         \u001b[1;32mif\u001b[0m \u001b[0mself\u001b[0m\u001b[1;33m.\u001b[0m\u001b[0m_exception\u001b[0m\u001b[1;33m:\u001b[0m\u001b[1;33m\u001b[0m\u001b[1;33m\u001b[0m\u001b[0m\n\u001b[1;32m--> 388\u001b[1;33m             \u001b[1;32mraise\u001b[0m \u001b[0mself\u001b[0m\u001b[1;33m.\u001b[0m\u001b[0m_exception\u001b[0m\u001b[1;33m\u001b[0m\u001b[1;33m\u001b[0m\u001b[0m\n\u001b[0m\u001b[0;32m    389\u001b[0m         \u001b[1;32melse\u001b[0m\u001b[1;33m:\u001b[0m\u001b[1;33m\u001b[0m\u001b[1;33m\u001b[0m\u001b[0m\n\u001b[0;32m    390\u001b[0m             \u001b[1;32mreturn\u001b[0m \u001b[0mself\u001b[0m\u001b[1;33m.\u001b[0m\u001b[0m_result\u001b[0m\u001b[1;33m\u001b[0m\u001b[1;33m\u001b[0m\u001b[0m\n",
      "\u001b[1;32mC:\\Program Files\\Anaconda\\lib\\concurrent\\futures\\thread.py\u001b[0m in \u001b[0;36mrun\u001b[1;34m(self)\u001b[0m\n\u001b[0;32m     55\u001b[0m \u001b[1;33m\u001b[0m\u001b[0m\n\u001b[0;32m     56\u001b[0m         \u001b[1;32mtry\u001b[0m\u001b[1;33m:\u001b[0m\u001b[1;33m\u001b[0m\u001b[1;33m\u001b[0m\u001b[0m\n\u001b[1;32m---> 57\u001b[1;33m             \u001b[0mresult\u001b[0m \u001b[1;33m=\u001b[0m \u001b[0mself\u001b[0m\u001b[1;33m.\u001b[0m\u001b[0mfn\u001b[0m\u001b[1;33m(\u001b[0m\u001b[1;33m*\u001b[0m\u001b[0mself\u001b[0m\u001b[1;33m.\u001b[0m\u001b[0margs\u001b[0m\u001b[1;33m,\u001b[0m \u001b[1;33m**\u001b[0m\u001b[0mself\u001b[0m\u001b[1;33m.\u001b[0m\u001b[0mkwargs\u001b[0m\u001b[1;33m)\u001b[0m\u001b[1;33m\u001b[0m\u001b[1;33m\u001b[0m\u001b[0m\n\u001b[0m\u001b[0;32m     58\u001b[0m         \u001b[1;32mexcept\u001b[0m \u001b[0mBaseException\u001b[0m \u001b[1;32mas\u001b[0m \u001b[0mexc\u001b[0m\u001b[1;33m:\u001b[0m\u001b[1;33m\u001b[0m\u001b[1;33m\u001b[0m\u001b[0m\n\u001b[0;32m     59\u001b[0m             \u001b[0mself\u001b[0m\u001b[1;33m.\u001b[0m\u001b[0mfuture\u001b[0m\u001b[1;33m.\u001b[0m\u001b[0mset_exception\u001b[0m\u001b[1;33m(\u001b[0m\u001b[0mexc\u001b[0m\u001b[1;33m)\u001b[0m\u001b[1;33m\u001b[0m\u001b[1;33m\u001b[0m\u001b[0m\n",
      "\u001b[1;32m<ipython-input-4-7fd7f8845d58>\u001b[0m in \u001b[0;36mdiv\u001b[1;34m(divisor, limit)\u001b[0m\n\u001b[0;32m     15\u001b[0m \u001b[1;33m\u001b[0m\u001b[0m\n\u001b[0;32m     16\u001b[0m     \u001b[0mprint\u001b[0m\u001b[1;33m(\u001b[0m\u001b[1;34m'exception is raised'\u001b[0m\u001b[1;33m)\u001b[0m\u001b[1;33m\u001b[0m\u001b[1;33m\u001b[0m\u001b[0m\n\u001b[1;32m---> 17\u001b[1;33m     \u001b[1;32mraise\u001b[0m \u001b[0mException\u001b[0m\u001b[1;33m(\u001b[0m\u001b[1;34m'smth went wrong'\u001b[0m\u001b[1;33m)\u001b[0m  \u001b[1;31m# исключение не закомменчено\u001b[0m\u001b[1;33m\u001b[0m\u001b[1;33m\u001b[0m\u001b[0m\n\u001b[0m\u001b[0;32m     18\u001b[0m \u001b[1;33m\u001b[0m\u001b[0m\n\u001b[0;32m     19\u001b[0m \u001b[1;33m\u001b[0m\u001b[0m\n",
      "\u001b[1;31mException\u001b[0m: smth went wrong"
     ]
    }
   ],
   "source": [
    "import concurrent.futures\n",
    "import threading\n",
    "import time\n",
    "\n",
    "\n",
    "def div(divisor, limit):\n",
    "    print(f'started div {divisor}')\n",
    "\n",
    "    result = 0\n",
    "    for x in range(1, limit):\n",
    "        if x % divisor == 0:\n",
    "            print(f'divisor= {divisor}, x= {x}')\n",
    "            result += x\n",
    "        time.sleep(0.2)\n",
    "\n",
    "    print('exception is raised')\n",
    "    raise Exception('smth went wrong')  # исключение не закомменчено\n",
    "\n",
    "\n",
    "\n",
    "if __name__ == '__main__':\n",
    "    print('main started')\n",
    "\n",
    "    with concurrent.futures.ThreadPoolExecutor(max_workers=1) as ex:\n",
    "        future = ex.submit(div, 3, 25)\n",
    "        time.sleep(3)\n",
    "        res = future.result()\n",
    "    print('main ended')\n"
   ]
  },
  {
   "cell_type": "markdown",
   "metadata": {},
   "source": [
    "можно как_нибудь обработать это исключение, тогда основной поток не умрет, программа завершит работу"
   ]
  },
  {
   "cell_type": "code",
   "execution_count": 5,
   "metadata": {},
   "outputs": [
    {
     "name": "stdout",
     "output_type": "stream",
     "text": [
      "main started\n",
      "started div 3\n",
      "divisor= 3, x= 3\n",
      "divisor= 3, x= 6\n",
      "divisor= 3, x= 9\n",
      "divisor= 3, x= 12\n",
      "divisor= 3, x= 15\n",
      "divisor= 3, x= 18\n",
      "divisor= 3, x= 21\n",
      "divisor= 3, x= 24\n",
      "exception is raised\n",
      "Exception('smth went wrong')\n",
      "main ended\n"
     ]
    }
   ],
   "source": [
    "import concurrent.futures\n",
    "import threading\n",
    "import time\n",
    "\n",
    "\n",
    "def div(divisor, limit):\n",
    "    print(f'started div {divisor}')\n",
    "\n",
    "    result = 0\n",
    "    for x in range(1, limit):\n",
    "        if x % divisor == 0:\n",
    "            print(f'divisor= {divisor}, x= {x}')\n",
    "            result += x\n",
    "        time.sleep(0.2)\n",
    "\n",
    "    print('exception is raised')\n",
    "    raise Exception('smth went wrong')\n",
    "\n",
    "\n",
    "\n",
    "if __name__ == '__main__':\n",
    "    print('main started')\n",
    "\n",
    "    with concurrent.futures.ThreadPoolExecutor(max_workers=1) as ex:\n",
    "        future = ex.submit(div, 3, 25)\n",
    "        time.sleep(3)\n",
    "        try:\n",
    "            res = future.result()\n",
    "        except Exception as ex:\n",
    "            print(repr(ex))\n",
    "    print('main ended')\n"
   ]
  },
  {
   "cell_type": "markdown",
   "metadata": {},
   "source": [
    "кроме простого Exception есть еще и другие исключения\n",
    "\n",
    "1. первое - CancelledError - его суть в том, что если вызванная ф-я отменяется, то всплывает это исключение,\n",
    "\n",
    "2. и есть еще TimeoutError, всплывает, если отведенное время для ф-и закончилось"
   ]
  },
  {
   "cell_type": "code",
   "execution_count": 6,
   "metadata": {},
   "outputs": [
    {
     "name": "stdout",
     "output_type": "stream",
     "text": [
      "started main\n",
      "started div 3\n",
      "started div 15\n",
      "divisor= 3, x= 3\n",
      "exception is raised\n",
      "Exception('smth went wrong') unhandled error\n",
      "stop iteration #1\n",
      "divisor= 15, x= 15\n",
      "exception is raised\n",
      "main ended\n"
     ]
    }
   ],
   "source": [
    "import concurrent.futures\n",
    "import threading\n",
    "import time\n",
    "\n",
    "\n",
    "def div(divisor, limit):\n",
    "    print(f'started div {divisor}')\n",
    "\n",
    "    result = 0\n",
    "    for x in range(1, limit):\n",
    "        if x % divisor == 0:\n",
    "            print(f'divisor= {divisor}, x= {x}')\n",
    "            result += x\n",
    "        time.sleep(0.2)\n",
    "\n",
    "    print('exception is raised')\n",
    "    raise Exception('smth went wrong')\n",
    "\n",
    "\n",
    "if __name__ == '__main__':\n",
    "    print('started main')\n",
    "\n",
    "    with concurrent.futures.ThreadPoolExecutor(max_workers=2) as ex:\n",
    "        res_list = ex.map(div, (3, 15), (4, 24))\n",
    "        while res_list:\n",
    "            try:\n",
    "                cur_list = next(res_list)\n",
    "            except StopIteration:\n",
    "                print('stop iteration #1')\n",
    "                break\n",
    "            except Exception as ex:\n",
    "                print(repr(ex), 'unhandled error')\n",
    "\n",
    "    print('main ended')"
   ]
  },
  {
   "cell_type": "code",
   "execution_count": null,
   "metadata": {},
   "outputs": [],
   "source": []
  }
 ],
 "metadata": {
  "kernelspec": {
   "display_name": "Python 3",
   "language": "python",
   "name": "python3"
  },
  "language_info": {
   "codemirror_mode": {
    "name": "ipython",
    "version": 3
   },
   "file_extension": ".py",
   "mimetype": "text/x-python",
   "name": "python",
   "nbconvert_exporter": "python",
   "pygments_lexer": "ipython3",
   "version": "3.8.5"
  }
 },
 "nbformat": 4,
 "nbformat_minor": 4
}
