{
 "cells": [
  {
   "cell_type": "code",
   "execution_count": null,
   "metadata": {},
   "outputs": [],
   "source": [
    "def read_ints(path):\n",
    "    lst = []\n",
    "    with open(path, \"r\") as file:\n",
    "        while line := file.readline():\n",
    "            lst.append(int(line))\n",
    "    return lst\n",
    "\n",
    "\n",
    "def count_three_sum(ints):\n",
    "    print('started count_three_sum')\n",
    "    n = len(ints)\n",
    "\n",
    "    counter = 0\n",
    "\n",
    "    for i in range(n):\n",
    "        for j in range(i + 1, n):\n",
    "            for k in range(j + 1, n):\n",
    "                if ints[i] + ints[j] + ints[k] == 0:\n",
    "                    counter += 1\n",
    "                    print(f\"triple found: {ints[i]}, {ints[j]}, {ints[k]}\", end=\"\\n\")\n",
    "\n",
    "    print(f'finished count_three_sum. Triplets amount is {counter}')\n",
    "\n",
    "if __name__ == '__main__':\n",
    "    print('started main')\n",
    "    ints = read_ints(\"..\\\\data\\\\1Kints.txt\")\n",
    "    count_three_sum(ints)\n",
    "\n",
    "\n",
    "# до тех пор, пока count_three_sum(ints) не будет исполнен, взаимодействие юзера и программы прекращаеся\n",
    "# это мб плохо, т.к. юзер в это время может хотеть делать что-то еще"
   ]
  }
 ],
 "metadata": {
  "kernelspec": {
   "display_name": "Python 3",
   "language": "python",
   "name": "python3"
  },
  "language_info": {
   "codemirror_mode": {
    "name": "ipython",
    "version": 3
   },
   "file_extension": ".py",
   "mimetype": "text/x-python",
   "name": "python",
   "nbconvert_exporter": "python",
   "pygments_lexer": "ipython3",
   "version": "3.8.5"
  }
 },
 "nbformat": 4,
 "nbformat_minor": 4
}
