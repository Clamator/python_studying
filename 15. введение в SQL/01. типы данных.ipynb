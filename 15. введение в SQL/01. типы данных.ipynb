{
 "cells": [
  {
   "cell_type": "markdown",
   "metadata": {},
   "source": [
    "1. обычные целые числа.\n",
    "1.1 smallint - кодируются двумя байтами, диапазон 2 в 16 степени\n",
    "1.2 integer - кодируются 4 байтами, - 2 в 32\n",
    "1.3 bigint - кодируются 8 байтами, - 2 в 64"
   ]
  },
  {
   "cell_type": "markdown",
   "metadata": {},
   "source": [
    "2. реальные числа:\n",
    "\n",
    "    1. demical/numeric - кодирутся когда как байтами, точные, используются для математических вычислений\n",
    "    2. real/float4 - 4 байта, 6 - точность десятичных цифр\n",
    "    3. double presicion/ float8, - точность уже 15 знаков после запятой\n",
    "    4. два последних не используются для матем вычислений"
   ]
  },
  {
   "cell_type": "code",
   "execution_count": null,
   "metadata": {},
   "outputs": [],
   "source": []
  },
  {
   "cell_type": "markdown",
   "metadata": {},
   "source": [
    "есть еще другой тип чисел: integral numbers, его суть в том, что они строго положительные и начинается их исчисление с 1,\n",
    "1. smallserial - 2 байта\n",
    "2. serial - 4\n",
    "3. bigserial - 8, \n",
    "также, если мы добавляемые данные обозначим таким типом данных, то при добавлении значений они будут автоматом увеличиваться на единицу, мб типа как нумерация, хз"
   ]
  },
  {
   "cell_type": "markdown",
   "metadata": {},
   "source": [
    "текстовые значения фиксированной длины, типа char(10), значит, не более 10 символов:\n",
    "char - работает так, если разрешено 10 символов, а дали 11,будет вылезать ошибка, еще разберемся,как. Если передается 5 символов, то добавляются пробелы, чтобы добрать до 10 символов\n",
    "\n",
    "varchar - не расширяет до проставленного значения, но и не выдает ошибку\n",
    "\n",
    "text - поддерживает строки совершенно любой длины"
   ]
  },
  {
   "cell_type": "markdown",
   "metadata": {},
   "source": [
    "и еще есть логический - bool - True/False"
   ]
  },
  {
   "cell_type": "markdown",
   "metadata": {},
   "source": [
    "также есть еще связанные со временем данные:\n",
    "\n",
    "    1.date - 4 байта,только для даты , -4713 гднэ - 294276 нэ\n",
    "    2.time - 8 байтов, только для времени, 00:00:00 - 24:00:00\n",
    "    3.timestamp - дата и время, -4713 гднэ - 294276 нэ\n",
    "    4.interval - 16 байт, разница между двумя timestamp,\n",
    "    5.timestamptz - 8 байт, то же самое, только еще и временная зона"
   ]
  },
  {
   "cell_type": "code",
   "execution_count": null,
   "metadata": {},
   "outputs": [],
   "source": []
  }
 ],
 "metadata": {
  "kernelspec": {
   "display_name": "Python 3",
   "language": "python",
   "name": "python3"
  },
  "language_info": {
   "codemirror_mode": {
    "name": "ipython",
    "version": 3
   },
   "file_extension": ".py",
   "mimetype": "text/x-python",
   "name": "python",
   "nbconvert_exporter": "python",
   "pygments_lexer": "ipython3",
   "version": "3.8.5"
  }
 },
 "nbformat": 4,
 "nbformat_minor": 4
}
