{
 "cells": [
  {
   "cell_type": "raw",
   "metadata": {},
   "source": [
    "CREATE TABLE name\n",
    "(\n",
    "    name_id тип_данных PRIMARY KEY,\n",
    "    smth_1 тип_данных not null, а можно а не ставить последнее,\n",
    "    smth_10 тип_данных not null,\n",
    "    \n",
    ");\n",
    "\n",
    "CREATE TABLE name_2\n",
    "(\n",
    "    name_2_id тип_данных PRIMARY KEY,\n",
    "    smth_2 тип_данных not null,\n",
    "    fk_name_2_name_1 int references name(name_id)\n",
    ")\n",
    "\n",
    "последняя строка - это ссылка на конкретный столбец данных в таблице №1"
   ]
  },
  {
   "cell_type": "raw",
   "metadata": {},
   "source": [
    "для добавления используем такой синтаксис\n",
    "INSERT INTO book - бук - название таблицы\n",
    "VALUES\n",
    "(1, 'Test book 1', '1234567890'),\n",
    "(5, 'Test book 5', '1234567896' ); - обязательно ;, чтобы продолжить добавление дальше если надо\n",
    "\n",
    "INSERT INTO publisher\n",
    "VALUES\n",
    "(1, 'Росмэн-СПб', 'СПб'),\n",
    "(2, 'Салават-печать', 'Салават' ),"
   ]
  },
  {
   "cell_type": "raw",
   "metadata": {},
   "source": [
    "добавление столбца и указание, каким он будет, второе - добавление ссылки на столбец в другом таблице, поэтому не всегда надо\n",
    "ALTER TABLE book\n",
    "ADD COLUMN fk_publisher_id integer;\n",
    "\n",
    "ALTER TABLE book\n",
    "ADD CONSTRAINT fk_book_publisher\n",
    "FOREIGN KEY(fk_publisher_id) REFERENCES publisher(publisher_id)"
   ]
  },
  {
   "cell_type": "code",
   "execution_count": null,
   "metadata": {},
   "outputs": [],
   "source": []
  }
 ],
 "metadata": {
  "kernelspec": {
   "display_name": "Python 3",
   "language": "python",
   "name": "python3"
  },
  "language_info": {
   "codemirror_mode": {
    "name": "ipython",
    "version": 3
   },
   "file_extension": ".py",
   "mimetype": "text/x-python",
   "name": "python",
   "nbconvert_exporter": "python",
   "pygments_lexer": "ipython3",
   "version": "3.8.5"
  }
 },
 "nbformat": 4,
 "nbformat_minor": 4
}
