{
 "cells": [
  {
   "cell_type": "markdown",
   "metadata": {},
   "source": [
    "таблицы могут хранить в себе разные данные разных типов данных,\n",
    "создавать их надо с primary key - первичный ключ, это их айди\n"
   ]
  },
  {
   "cell_type": "markdown",
   "metadata": {},
   "source": [
    "разные таблицы можно соединять, для этого надо в одну таблицу добавить колонку дополнительную и там указать, что эта колонка ссылается на id другой таблицы, то есть именно на колонку, где хранятся id"
   ]
  },
  {
   "cell_type": "code",
   "execution_count": null,
   "metadata": {},
   "outputs": [],
   "source": [
    "для добавления используем такой синтаксис\n",
    "INSERT INTO book - бук - название таблицы\n",
    "VALUES\n",
    "(1, 'Test book 1', '1234567890'),\n",
    "(5, 'Test book 5', '1234567896' ); - обязательно ;, чтобы продолжить добавление дальше если надо\n",
    "\n",
    "INSERT INTO publisher\n",
    "VALUES\n",
    "(1, 'Росмэн-СПб', 'СПб'),\n",
    "(2, 'Салават-печать', 'Салават' ),\n"
   ]
  },
  {
   "cell_type": "markdown",
   "metadata": {},
   "source": [
    "для выбора используем SELECT,если * - значит,выбираем все столбики, можно выбрать конкретный"
   ]
  },
  {
   "cell_type": "markdown",
   "metadata": {},
   "source": [
    "для того, чтобы изменить таблицу, надо сказать ALTER TABLE"
   ]
  },
  {
   "cell_type": "raw",
   "metadata": {},
   "source": [
    "ALTER TABLE book\n",
    "ADD COLUMN fk_publisher_id integer;\n",
    "\n",
    "ALTER TABLE book\n",
    "ADD CONSTRAINT fo_book_publisher\n",
    "FOREIGN KEY(fk_publisher_id) REFERENCES publisher(publisher_id)"
   ]
  },
  {
   "cell_type": "code",
   "execution_count": null,
   "metadata": {},
   "outputs": [],
   "source": []
  }
 ],
 "metadata": {
  "kernelspec": {
   "display_name": "Python 3",
   "language": "python",
   "name": "python3"
  },
  "language_info": {
   "codemirror_mode": {
    "name": "ipython",
    "version": 3
   },
   "file_extension": ".py",
   "mimetype": "text/x-python",
   "name": "python",
   "nbconvert_exporter": "python",
   "pygments_lexer": "ipython3",
   "version": "3.8.5"
  }
 },
 "nbformat": 4,
 "nbformat_minor": 4
}
