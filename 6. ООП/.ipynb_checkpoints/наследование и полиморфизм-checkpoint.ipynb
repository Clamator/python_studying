{
 "cells": [
  {
   "cell_type": "code",
   "execution_count": null,
   "metadata": {},
   "outputs": [],
   "source": [
    "для наследования мы должны в классе наследнике вводить имя класса родителя\n",
    "при построении конструктора наследного класса нужно передать конструктор класса родителя\n",
    "наследование подразумевает, что наследники имеют доступ к членам, элементам класса родителя, могут использовать \n",
    "наработанный функционал, делается это для переиспользования кода и для использования полиморфизма\n",
    "!наследник может переопределять реализацию методов и свойств родителя"
   ]
  },
  {
   "cell_type": "code",
   "execution_count": 32,
   "metadata": {},
   "outputs": [],
   "source": [
    "class Shape():\n",
    "    def __init__(self):\n",
    "        print('shape created')\n",
    "    \n",
    "    def draw(self):\n",
    "        print('drawing a shape')\n",
    "    def area(self):\n",
    "        print(\"shape's area is ___\")\n",
    "    def perimeter(self):\n",
    "        print('perimeter equals ___')"
   ]
  },
  {
   "cell_type": "code",
   "execution_count": 33,
   "metadata": {},
   "outputs": [
    {
     "name": "stdout",
     "output_type": "stream",
     "text": [
      "shape created\n"
     ]
    }
   ],
   "source": [
    "shape = Shape()"
   ]
  },
  {
   "cell_type": "code",
   "execution_count": 79,
   "metadata": {},
   "outputs": [],
   "source": [
    "class Rectangle(Shape):\n",
    "    def __init__(self, width, height):\n",
    "        Shape.__init__(self)\n",
    "        self.width = width\n",
    "        self.height = height\n",
    "        print('Rectangle created')\n",
    "    def area(self):\n",
    "        print(f'area of rect is {self.width*self.height}')\n",
    "        return self.width*self.height\n",
    "    def perimeter(self):\n",
    "        print(f'perimeter is {(self.width*2) + (self.height*2)}')\n",
    "        return (self.width*2) + (self.height*2)"
   ]
  },
  {
   "cell_type": "code",
   "execution_count": 80,
   "metadata": {},
   "outputs": [
    {
     "name": "stdout",
     "output_type": "stream",
     "text": [
      "shape created\n",
      "Rectangle created\n"
     ]
    }
   ],
   "source": [
    "rectal = Rectangle(6, 10)"
   ]
  },
  {
   "cell_type": "code",
   "execution_count": 81,
   "metadata": {},
   "outputs": [
    {
     "name": "stdout",
     "output_type": "stream",
     "text": [
      "area of rect is 60\n"
     ]
    }
   ],
   "source": [
    "area = rectal.area() #использование методов из класса родителя"
   ]
  },
  {
   "cell_type": "code",
   "execution_count": 82,
   "metadata": {},
   "outputs": [
    {
     "name": "stdout",
     "output_type": "stream",
     "text": [
      "perimeter is 32\n"
     ]
    }
   ],
   "source": [
    "per = rectal.perimeter()"
   ]
  },
  {
   "cell_type": "code",
   "execution_count": 99,
   "metadata": {},
   "outputs": [],
   "source": [
    "import math\n",
    "class Triangle(Shape):\n",
    "    def __init__(self, a, b, c):\n",
    "        Shape.__init__(self)\n",
    "        self.a = a\n",
    "        self.b = b\n",
    "        self.c = c\n",
    "        \n",
    "    def draw(self):\n",
    "        print('triangle created')\n",
    "    def area(self):\n",
    "        s = (self.a+self.b+self.c)/2\n",
    "        print(round(math.sqrt(s*(s-self.a)*(s-self.b)*(s-self.c)), 3))\n",
    "        return round(math.sqrt(s*(s-self.a)*(s-self.b)*(s-self.c)), 3)\n",
    "    def perimeter(self):\n",
    "        return self.a +self.b + self.c\n",
    "    "
   ]
  },
  {
   "cell_type": "code",
   "execution_count": 100,
   "metadata": {},
   "outputs": [
    {
     "name": "stdout",
     "output_type": "stream",
     "text": [
      "shape created\n"
     ]
    }
   ],
   "source": [
    "tria = Triangle(4, 5, 6)"
   ]
  },
  {
   "cell_type": "code",
   "execution_count": 85,
   "metadata": {},
   "outputs": [
    {
     "name": "stdout",
     "output_type": "stream",
     "text": [
      "9.922\n",
      "9.922\n",
      "15\n"
     ]
    }
   ],
   "source": [
    "print(tria.area())\n",
    "print(tria.perimeter())"
   ]
  },
  {
   "cell_type": "code",
   "execution_count": 86,
   "metadata": {},
   "outputs": [
    {
     "name": "stdout",
     "output_type": "stream",
     "text": [
      "area of rect is 60\n",
      "9.922\n"
     ]
    }
   ],
   "source": [
    "#полиморфизм имеет хз какое определение, но он позволяет делать так:\n",
    "#тут типа исполнение одного и того же метода для разных классов, и это работает даже если класс не является наследником\n",
    "for element in [rectal, tria]:\n",
    "    element.area()"
   ]
  },
  {
   "cell_type": "code",
   "execution_count": null,
   "metadata": {},
   "outputs": [],
   "source": [
    "по какой-то причине явное указание класса родителя не слишком хорошая практика, типа там потом мб траблы разные\n",
    "поэтому вместо явного указания лучше писать супер, селф уже можно убрать в этом случае\n",
    "\n",
    "кроме того основной класс наследуется от класса object, хз, чем это чревато\n",
    "свойства с _ не должны быть использованы вне класса, надо использовать сеттеры и геттеры"
   ]
  },
  {
   "cell_type": "code",
   "execution_count": null,
   "metadata": {},
   "outputs": [],
   "source": []
  },
  {
   "cell_type": "code",
   "execution_count": 9,
   "metadata": {},
   "outputs": [],
   "source": [
    "class PersComps():\n",
    "    def __init__(self, flash_memory, disk_memory, model, CPU):\n",
    "        self.flash_memory = flash_memory\n",
    "        self.disk_memory = disk_memory\n",
    "        self.model = model\n",
    "        self.CPU = CPU"
   ]
  },
  {
   "cell_type": "code",
   "execution_count": 10,
   "metadata": {},
   "outputs": [],
   "source": [
    "class Desktop(PersComps):\n",
    "    def __init__(self, monitor, klava, mouse, dimensions):\n",
    "        super().__init__(*args)\n",
    "        \n",
    "    def TurnOn():\n",
    "        print('вкл настольный')"
   ]
  },
  {
   "cell_type": "code",
   "execution_count": 11,
   "metadata": {},
   "outputs": [],
   "source": [
    "class Notebook(PersComps):\n",
    "    def __init__(self, dimensions, diagonal):\n",
    "        siper().__init__(*args)\n",
    "        \n",
    "    def TurnOn():\n",
    "        print('вкл ноутик')"
   ]
  },
  {
   "cell_type": "code",
   "execution_count": 12,
   "metadata": {},
   "outputs": [
    {
     "name": "stdout",
     "output_type": "stream",
     "text": [
      "вкл настольный\n",
      "вкл ноутик\n"
     ]
    }
   ],
   "source": [
    "for el in [Desktop, Notebook]:\n",
    "    el.TurnOn()"
   ]
  },
  {
   "cell_type": "code",
   "execution_count": null,
   "metadata": {},
   "outputs": [],
   "source": [
    "в метод TurnOn() можно добавить селф, а в список, по которому будет прохожить ел, добавить () к каждому классу"
   ]
  },
  {
   "cell_type": "code",
   "execution_count": 2,
   "metadata": {},
   "outputs": [],
   "source": [
    "#множественное наследование - это когда у класса есть несколько родительских классов\n",
    "#есть такая история, но лучше ею не пользоваться - забагованная история, фиг разберешься, хорошего мало\n",
    "#основная проблема - это ромб смерти, когда один класс наследуется от первого, а третий, от первого и второго, допустим\n",
    "#вот пример\n",
    "\n",
    "class Animal:\n",
    "    def set_health(self, health):\n",
    "        print('set in animal')\n",
    "\n",
    "class Carnivore(Animal):\n",
    "    def set_health(self, health):\n",
    "        print('set in carnivore')\n",
    "        \n",
    "class Mammal(Animal):\n",
    "    def set_health(self, health):\n",
    "        print('set in mammal')\n",
    "        \n",
    "class Dog(Carnivore, Mammal):\n",
    "    pass"
   ]
  },
  {
   "cell_type": "code",
   "execution_count": 3,
   "metadata": {},
   "outputs": [
    {
     "name": "stdout",
     "output_type": "stream",
     "text": [
      "set in carnivore\n"
     ]
    }
   ],
   "source": [
    "dog = Dog()\n",
    "dog.set_health(10)\n",
    "#вот тут он вывел set in carnivore, потому что при одинаковых методах выбирает порядок наследования\n",
    "#но как быть, если dog хочет тоже иметь метод сет_хелс, а другие классы тоже хотели бы инициализировать анимал"
   ]
  },
  {
   "cell_type": "code",
   "execution_count": 10,
   "metadata": {},
   "outputs": [],
   "source": [
    "class Animal:\n",
    "    def set_health(self, health):\n",
    "        print('set in animal')\n",
    "\n",
    "class Carnivore(Animal):\n",
    "    def set_health(self, health):\n",
    "        Animal.set_health(self, health)\n",
    "        print('set in carnivore')\n",
    "        \n",
    "class Mammal(Animal):\n",
    "    def set_health(self, health):\n",
    "        Animal.set_health(self, health)\n",
    "        print('set in mammal')\n",
    "        \n",
    "class Dog(Carnivore, Mammal):\n",
    "    def set_health(self, health):\n",
    "        Carnivore.set_health(self, health)\n",
    "        Mammal.set_health(self, health)\n",
    "        print('set in dog')"
   ]
  },
  {
   "cell_type": "code",
   "execution_count": 11,
   "metadata": {},
   "outputs": [
    {
     "name": "stdout",
     "output_type": "stream",
     "text": [
      "set in animal\n",
      "set in carnivore\n",
      "set in animal\n",
      "set in mammal\n",
      "set in dog\n"
     ]
    }
   ],
   "source": [
    "dog = Dog()\n",
    "dog.set_health(10)\n",
    "#вот тут он несколько раз вызывает animal, потому что заходим в карнивор, там вызываем анимал, потом в мамал, там опять анимал\n",
    "#не так правильно базовый класс инициализировать более одного раза "
   ]
  },
  {
   "cell_type": "code",
   "execution_count": 14,
   "metadata": {},
   "outputs": [],
   "source": [
    "class Animal:\n",
    "    def set_health(self, health):\n",
    "        print('set in animal')\n",
    "\n",
    "class Carnivore(Animal):\n",
    "    def set_health(self, health):\n",
    "        super().set_health(health)\n",
    "        print('set in carnivore')\n",
    "        \n",
    "class Mammal(Animal):\n",
    "    def set_health(self, health):\n",
    "        super().set_health(health)\n",
    "        print('set in mammal')\n",
    "        \n",
    "class Dog(Carnivore, Mammal):\n",
    "    def set_health(self, health):\n",
    "        super().set_health(health)\n",
    "        print('set in dog')"
   ]
  },
  {
   "cell_type": "code",
   "execution_count": 15,
   "metadata": {},
   "outputs": [
    {
     "name": "stdout",
     "output_type": "stream",
     "text": [
      "set in animal\n",
      "set in mammal\n",
      "set in carnivore\n",
      "set in dog\n"
     ]
    }
   ],
   "source": [
    "dog = Dog()\n",
    "dog.set_health(10)\n",
    "#короче, все базовые классы должно инициализироваться поредством функции супер, проблема пропала"
   ]
  },
  {
   "cell_type": "code",
   "execution_count": null,
   "metadata": {},
   "outputs": [],
   "source": []
  },
  {
   "cell_type": "code",
   "execution_count": 1,
   "metadata": {},
   "outputs": [],
   "source": [
    "\n",
    "#у множ насл есть такая тема как миксины, они не создаются как базовый класс, предназначенный \n",
    "#дял конкретной иерархии, их можно добавлять в любой класс\n",
    "class Vehicle:\n",
    "    def __init__(self, position):\n",
    "        self.position = position\n",
    "        \n",
    "    def travel(self, destination):\n",
    "        route = calc_route(source = self.position, to = destination)\n",
    "        self.move_along(route)\n",
    "        \n",
    "    def calc_route(self, source, to):\n",
    "        return 0\n",
    "    \n",
    "    def move_along(self, route):\n",
    "        print('moving')\n",
    "        \n",
    "class Car(Vehicle):\n",
    "    pass\n",
    "\n",
    "class Airplane(Vehicle):\n",
    "    pass"
   ]
  },
  {
   "cell_type": "code",
   "execution_count": 3,
   "metadata": {},
   "outputs": [],
   "source": [
    "class RadioMixin:\n",
    "    \n",
    "    def __init__(self):\n",
    "        self.radio = Radio()\n",
    "        \n",
    "    def turn_on(self, station):\n",
    "        self.radio.set_station(station)\n",
    "        self.radio.play()\n",
    "        \n",
    "class Radio:\n",
    "    def set_station(self, station):\n",
    "        self.station = station\n",
    "    def play(self):\n",
    "        print(f'playing {self.station}')\n",
    "        \n",
    "class Car(Vehicle, RadioMixin):\n",
    "    \n",
    "    def __init__(self):\n",
    "        Vehicle.__init__(self, (10, 20))\n",
    "        RadioMixin.__init__(self)"
   ]
  },
  {
   "cell_type": "code",
   "execution_count": 4,
   "metadata": {},
   "outputs": [
    {
     "name": "stdout",
     "output_type": "stream",
     "text": [
      "playing lalala\n"
     ]
    }
   ],
   "source": [
    "car = Car()\n",
    "car.turn_on('lalala')"
   ]
  },
  {
   "cell_type": "code",
   "execution_count": null,
   "metadata": {},
   "outputs": [],
   "source": []
  }
 ],
 "metadata": {
  "kernelspec": {
   "display_name": "Python 3",
   "language": "python",
   "name": "python3"
  },
  "language_info": {
   "codemirror_mode": {
    "name": "ipython",
    "version": 3
   },
   "file_extension": ".py",
   "mimetype": "text/x-python",
   "name": "python",
   "nbconvert_exporter": "python",
   "pygments_lexer": "ipython3",
   "version": "3.8.5"
  }
 },
 "nbformat": 4,
 "nbformat_minor": 4
}
