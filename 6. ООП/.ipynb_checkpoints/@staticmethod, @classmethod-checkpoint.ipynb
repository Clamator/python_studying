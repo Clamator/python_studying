{
 "cells": [
  {
   "cell_type": "code",
   "execution_count": null,
   "metadata": {},
   "outputs": [],
   "source": [
    "инстанция класса - это походу то же самое, что и экземпляр класса\n",
    "Все переменные, определенные на уровне класса в Python, считаются статическими"
   ]
  },
  {
   "cell_type": "code",
   "execution_count": 1,
   "metadata": {},
   "outputs": [],
   "source": [
    "class Test():\n",
    "    x = 1"
   ]
  },
  {
   "cell_type": "code",
   "execution_count": null,
   "metadata": {},
   "outputs": [],
   "source": [
    "вот у нас есть класс, и у него статический атрибут равен единице\n",
    "к этому атрибуту есть возможность подобраться и через инстанцию класса (экземпляр класса), и через имя класса"
   ]
  },
  {
   "cell_type": "code",
   "execution_count": 3,
   "metadata": {},
   "outputs": [],
   "source": [
    "test1 = Test()"
   ]
  },
  {
   "cell_type": "code",
   "execution_count": 4,
   "metadata": {},
   "outputs": [
    {
     "name": "stdout",
     "output_type": "stream",
     "text": [
      "через инстанцию класса 1\n",
      "через имя класса 1\n"
     ]
    }
   ],
   "source": [
    "print(f'через инстанцию класса {test1.x}')\n",
    "print(f'через имя класса {Test.x}')"
   ]
  },
  {
   "cell_type": "code",
   "execution_count": 5,
   "metadata": {},
   "outputs": [],
   "source": [
    "test1.x = 5 #обращаемся через экземпляр класса, меняем его"
   ]
  },
  {
   "cell_type": "code",
   "execution_count": 7,
   "metadata": {},
   "outputs": [],
   "source": [
    "Test.x = 3 #тут присваивание на уровне"
   ]
  },
  {
   "cell_type": "code",
   "execution_count": 8,
   "metadata": {},
   "outputs": [
    {
     "name": "stdout",
     "output_type": "stream",
     "text": [
      "через инстанцию класса 5\n",
      "через имя класса 3\n"
     ]
    }
   ],
   "source": [
    "print(f'через инстанцию класса {test1.x}')\n",
    "print(f'через имя класса {Test.x}')"
   ]
  },
  {
   "cell_type": "code",
   "execution_count": null,
   "metadata": {},
   "outputs": [],
   "source": [
    "выходит, что два этих икса - это два совершенно разных атрибута\n",
    "нужно помнить, что когда мы осуществляем доступ через инстанцию класса, доступ по сути не осуществляется к стат атрибуту\n",
    "а создается новый атрибут на уровне инстанции "
   ]
  },
  {
   "cell_type": "code",
   "execution_count": null,
   "metadata": {},
   "outputs": [],
   "source": [
    "статические методы - можно назвать ими те классы, в которые нет состояния, атрибутов, а есть просто набор методов, которые \n",
    "близки по духу, у которые нет смысла создавать экземпляр\n",
    "пример на классе ниже\n",
    "стоит отметить, что пайтон позволяет иметь в классе только один конструктор (это где __init__)\n",
    "и в чем мб проблема - типа по одному контруктору мб печально создавать экземпляры класса\n",
    "также у конструктора нет имени, когда мы создаем экземпляр класса, мф просто пишем имя класса и его аргументы\n",
    "а можно создать статический метод, красиво его назвать, и использовать его в качестве конструктора, \n",
    "и создавать экземпляры класса (если их еще так уместно называть) через него\n",
    "\n",
    "в чем преимущство статического метода, который возвращает инстанцию объекта, над конструкторами:\n",
    "    в том, что методы имеют имя, читателю сразу понятен смысл, код мб более понятным становится\n",
    "    \n",
    "вообще self - это инстанция класса, а cls - информация о классе\n",
    "c помощью cls мы можем вернуть инстанцию класса"
   ]
  },
  {
   "cell_type": "code",
   "execution_count": 11,
   "metadata": {},
   "outputs": [],
   "source": [
    "class Date():\n",
    "    def __init__(self, month, day, year):\n",
    "        self.month = month\n",
    "        self.day = day\n",
    "        self.year = year\n",
    "    def display(self): #метод уровня инстанции\n",
    "        return f'{self.month}-{self.day}-{self.year}'\n",
    "    \n",
    "    @classmethod  #декоратор, стат. метод в декораторе классметод первым аргументом принимает инфу о классе\n",
    "    def millenium_c(cls, month, day): #через этот аргумент можно обращаться к классу, на котором вызывается стат метод\n",
    "        return cls(month, day, 2000) #при вызове Date.millenium_c и передаст месяц и день, то будет вызван конструктор класса\n",
    "    \n",
    "    @staticmethod\n",
    "    def millenium_s(month, day): #не принимает ничего, полностью абстрагирован от класса,\n",
    "        return Date(month, day, 2000) #вызывает конструктор напрямую, обращаясь к классу по имени\n",
    "        "
   ]
  },
  {
   "cell_type": "code",
   "execution_count": 12,
   "metadata": {},
   "outputs": [
    {
     "name": "stdout",
     "output_type": "stream",
     "text": [
      "6-9-2000\n",
      "6-9-2000\n"
     ]
    }
   ],
   "source": [
    "d1 = Date.millenium_c(6, 9)\n",
    "d2 = Date.millenium_s(6, 9)\n",
    "\n",
    "print(d1.display())\n",
    "print(d2.display())"
   ]
  },
  {
   "cell_type": "code",
   "execution_count": null,
   "metadata": {},
   "outputs": [],
   "source": [
    "дает на вывод одинаковые данные, но разница все-таки есть у них\n",
    "создадим класс, который наследуется от класса Date и переопределим метод display\n",
    "!когда мы вызываем конструктор DateTime напрямую, мы получаем инстанцию DateTime через конструктор Date\n",
    "!когда мы  используем методы для конструирования классов (типа дейттайм), нужно использовать декоратор классметод, т.к. он\n",
    "несет в себе информацию о классе"
   ]
  },
  {
   "cell_type": "code",
   "execution_count": 13,
   "metadata": {},
   "outputs": [],
   "source": [
    "class DateTime(Date):\n",
    "    def display(self):\n",
    "        return f'{self.month}-{self.day}-{self.year} - 00:00:00 PM'"
   ]
  },
  {
   "cell_type": "code",
   "execution_count": 16,
   "metadata": {},
   "outputs": [],
   "source": [
    "dt1 = DateTime(10,7,1993)\n",
    "dt2 = DateTime.millenium_s(10,7) #вот этот использует статик метод, где нет инфы о классе, \n",
    "dt3 = DateTime.millenium_c(12,12) #этот использует тот метод, где есть инфа о классе"
   ]
  },
  {
   "cell_type": "code",
   "execution_count": 17,
   "metadata": {},
   "outputs": [
    {
     "name": "stdout",
     "output_type": "stream",
     "text": [
      "True\n",
      "False\n",
      "True\n",
      "10-7-1993 - 00:00:00 PM\n",
      "10-7-2000\n",
      "12-12-2000 - 00:00:00 PM\n"
     ]
    }
   ],
   "source": [
    "print(isinstance(dt1, DateTime)) #тут дейттам\n",
    "print(isinstance(dt2, DateTime)) #тут не дейттайм\n",
    "print(isinstance(dt3, DateTime)) #тут дейттам\n",
    "print(dt1.display())\n",
    "print(dt2.display())\n",
    "print(dt3.display())"
   ]
  },
  {
   "cell_type": "code",
   "execution_count": null,
   "metadata": {},
   "outputs": [],
   "source": [
    "статические методы используются, когда в классе нет состояния"
   ]
  },
  {
   "cell_type": "code",
   "execution_count": 12,
   "metadata": {},
   "outputs": [],
   "source": [
    "class Point():\n",
    "    __count = 0\n",
    "    \n",
    "    def __init__(self, x = 0, y = 0):\n",
    "        Point.__count += 1\n",
    "        self.coordX = x\n",
    "        self.coordY = y\n",
    "        \n",
    "    @staticmethod\n",
    "    def getCount():\n",
    "        return Point.__count"
   ]
  },
  {
   "cell_type": "code",
   "execution_count": 13,
   "metadata": {},
   "outputs": [
    {
     "name": "stdout",
     "output_type": "stream",
     "text": [
      "3 3\n"
     ]
    }
   ],
   "source": [
    "pt1 = Point()\n",
    "pt2 = Point()\n",
    "pt3 = Point()\n",
    "print(pt1.getCount(), Point.getCount()) #тут три, из-за того, что мы трижды вызывали конструктор"
   ]
  },
  {
   "cell_type": "code",
   "execution_count": null,
   "metadata": {},
   "outputs": [],
   "source": []
  }
 ],
 "metadata": {
  "kernelspec": {
   "display_name": "Python 3",
   "language": "python",
   "name": "python3"
  },
  "language_info": {
   "codemirror_mode": {
    "name": "ipython",
    "version": 3
   },
   "file_extension": ".py",
   "mimetype": "text/x-python",
   "name": "python",
   "nbconvert_exporter": "python",
   "pygments_lexer": "ipython3",
   "version": "3.8.5"
  }
 },
 "nbformat": 4,
 "nbformat_minor": 4
}
