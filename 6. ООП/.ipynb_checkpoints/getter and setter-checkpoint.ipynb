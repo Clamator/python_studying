{
 "cells": [
  {
   "cell_type": "code",
   "execution_count": null,
   "metadata": {},
   "outputs": [],
   "source": [
    "#когда мы используем приватные атрибуты, мы все также можем иметь доступ к ним через определенные методы\n",
    "#часть я показывал уже в другом файле, перенесу сюда\n",
    "class Character():\n",
    "    MAX_SPEED = 100\n",
    "    def __init__(self, race, damage = 10):\n",
    "        self.__race = race\n",
    "        self.damage = damage\n",
    "        self._health = 100\n",
    "        self._current_speed = 20\n",
    "    def hit(self, damage):\n",
    "        self._health -= damage\n",
    "        \n",
    "    @property #на чтение, свойство выглядит как метод, только покрыто декоратором\n",
    "    def health(self):\n",
    "        return self._health\n",
    "    \n",
    "    @property \n",
    "    def current_speed(self):\n",
    "        return self._current_speed\n",
    "    #создание свойства с возможностью записи\n",
    "    @current_speed.setter\n",
    "    def current_speed(self, current_speed):\n",
    "        if current_speed < 0:\n",
    "            self._current_speed = 0\n",
    "        elif current_speed > 100:\n",
    "            self._current_speed = 100\n",
    "        else:\n",
    "            self._current_speed = current_speed"
   ]
  },
  {
   "cell_type": "code",
   "execution_count": null,
   "metadata": {},
   "outputs": [],
   "source": [
    "а есть без декораторов методы"
   ]
  },
  {
   "cell_type": "code",
   "execution_count": 20,
   "metadata": {},
   "outputs": [],
   "source": [
    "class Point():\n",
    "    def __init__(self, x = 0, y = 0):\n",
    "        self.__x = x\n",
    "        self.__y = y\n",
    "        \n",
    "    def setCoords(self, x, y): #обязательно начинается с сет (установить) и указываем что надо установить\n",
    "        if isinstance(x, (float, int)) and isinstance(y, (int, float)):\n",
    "            self.__x = x\n",
    "            self.__y = y\n",
    "        else:\n",
    "            print(\"координаты должны быть числами\")\n",
    "        \n",
    "    def getCoords(self): #тут будет возврат значений, в атрибутах только селф надо\n",
    "        return self.__x, self.__y\n",
    "        "
   ]
  },
  {
   "cell_type": "code",
   "execution_count": 21,
   "metadata": {},
   "outputs": [
    {
     "name": "stdout",
     "output_type": "stream",
     "text": [
      "(1, 2)\n",
      "(10, 20)\n"
     ]
    }
   ],
   "source": [
    "pt = Point(1, 2) #тут мы создает оэкземпляр класса с указанными атрибутами\n",
    "print(pt.getCoords()) #тут запрашиваем эти данные на просмотр\n",
    "pt.setCoords(10, 20) #тут через метод меняем эти данные\n",
    "print(pt.getCoords()) #и запрашиваем повторно"
   ]
  },
  {
   "cell_type": "code",
   "execution_count": 22,
   "metadata": {},
   "outputs": [
    {
     "name": "stdout",
     "output_type": "stream",
     "text": [
      "координаты должны быть числами\n"
     ]
    }
   ],
   "source": [
    "pt.setCoords('10', 20) #тут видно, что при попытке передачи строки, исполнение кода идет в блок Элс"
   ]
  },
  {
   "cell_type": "code",
   "execution_count": null,
   "metadata": {},
   "outputs": [],
   "source": [
    "есть так называемые приватные методы, в чем их суть: они доступны только внутри класса, обращение к ним идет через имя класса\n",
    "они начинаются с __, в них нет параметра селф\n",
    "в примере ниже будет выведен такой метод для проверки на принадлежность к инт"
   ]
  },
  {
   "cell_type": "code",
   "execution_count": 23,
   "metadata": {},
   "outputs": [],
   "source": [
    "class Point():\n",
    "    def __init__(self, x = 0, y = 0):\n",
    "        self.__x = x\n",
    "        self.__y = y\n",
    "        \n",
    "    def __checkValue(x):\n",
    "        if isinstance(x, (float, int)):\n",
    "            return True\n",
    "        return False\n",
    "    \n",
    "    def setCoords(self, x, y): \n",
    "        if Point.__checkValue(x) and Point.__checkValue(y):\n",
    "            self.__x = x\n",
    "            self.__y = y\n",
    "        else:\n",
    "            print(\"координаты должны быть числами\")\n",
    "        \n",
    "    def getCoords(self): #тут будет возврат значений, в атрибутах только селф надо\n",
    "        return self.__x, self.__y"
   ]
  },
  {
   "cell_type": "code",
   "execution_count": 26,
   "metadata": {},
   "outputs": [
    {
     "name": "stdout",
     "output_type": "stream",
     "text": [
      "координаты должны быть числами\n",
      "None\n",
      "(10, 20)\n"
     ]
    }
   ],
   "source": [
    "print(pt.setCoords('10', 20))\n",
    "pt.setCoords(10, 20)\n",
    "print(pt.getCoords())"
   ]
  },
  {
   "cell_type": "code",
   "execution_count": null,
   "metadata": {},
   "outputs": [],
   "source": [
    "можно иметь дополнительный контроль за переменными, используя перегрузку методов\n",
    "__setattr__(self, key, value) - автоматически вызывается при изменении свойства key класса\n",
    "__getattribute__(self, item) - автоматически вызывается при получении свойства класса с именем item\n",
    "__getattr__(self, item) - автоматически вызывается при получении несуществующего свойства item класса \n",
    "__delattr__(self, item) - автоматически вызывается при удалении свойства класса item, даже если его нет\n",
    " "
   ]
  },
  {
   "cell_type": "code",
   "execution_count": 36,
   "metadata": {},
   "outputs": [],
   "source": [
    "#__setattr__ будет использован для защиты от изменения\n",
    "class Point():\n",
    "    SPEED = 100\n",
    "    #__slots__ = ['__x', 'y'] -в этой коллекции указаны разрешенные свойства экземпляров классов(именно экземпляров, а не класса)\n",
    "    def __init__(self, x = 0, y = 0):\n",
    "        self.__x = x\n",
    "        self.__y = y\n",
    "        \n",
    "    def __checkValue(x):\n",
    "        if isinstance(x, (float, int)):\n",
    "            return True\n",
    "        return False\n",
    "    \n",
    "    def setCoords(self, x, y): \n",
    "        if Point.__checkValue(x) and Point.__checkValue(y):\n",
    "            self.__x = x\n",
    "            self.__y = y\n",
    "        else:\n",
    "            print(\"координаты должны быть числами\")\n",
    "        \n",
    "    def getCoords(self): #тут будет возврат значений, в атрибутах только селф надо\n",
    "        return self.__x, self.__y\n",
    "    \n",
    "    def __setattr__(self, key, value):\n",
    "        if key == 'SPEED':\n",
    "            raise AttributeError\n",
    "        else:\n",
    "            self.__dict__[key] = value\n",
    "            \n",
    "    def __getattr__(self, item):\n",
    "        print('__getattr__: ' + item)\n",
    "    def __delattr__(self, item):\n",
    "        print(f'__delattr__: {item}')"
   ]
  },
  {
   "cell_type": "code",
   "execution_count": 37,
   "metadata": {},
   "outputs": [],
   "source": [
    "pt = Point(1, 2)\n",
    "#pt.SPEED = 100"
   ]
  },
  {
   "cell_type": "code",
   "execution_count": 38,
   "metadata": {},
   "outputs": [
    {
     "name": "stdout",
     "output_type": "stream",
     "text": [
      "__getattr__: zz\n"
     ]
    }
   ],
   "source": [
    "pt.zz"
   ]
  },
  {
   "cell_type": "code",
   "execution_count": 39,
   "metadata": {},
   "outputs": [
    {
     "name": "stdout",
     "output_type": "stream",
     "text": [
      "__delattr__: zz\n"
     ]
    }
   ],
   "source": [
    "pt.zz = 231\n",
    "del pt.zz"
   ]
  },
  {
   "cell_type": "code",
   "execution_count": null,
   "metadata": {},
   "outputs": [],
   "source": []
  }
 ],
 "metadata": {
  "kernelspec": {
   "display_name": "Python 3",
   "language": "python",
   "name": "python3"
  },
  "language_info": {
   "codemirror_mode": {
    "name": "ipython",
    "version": 3
   },
   "file_extension": ".py",
   "mimetype": "text/x-python",
   "name": "python",
   "nbconvert_exporter": "python",
   "pygments_lexer": "ipython3",
   "version": "3.8.5"
  }
 },
 "nbformat": 4,
 "nbformat_minor": 4
}
