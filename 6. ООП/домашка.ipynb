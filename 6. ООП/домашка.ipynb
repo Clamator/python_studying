{
 "cells": [
  {
   "cell_type": "code",
   "execution_count": 5,
   "metadata": {},
   "outputs": [],
   "source": [
    "#1 задача\n",
    "class Name:\n",
    "    def __init__(self, first_name, last_name):\n",
    "        self.first_name = first_name.title()\n",
    "        self.last_name = last_name.title()\n",
    "        self.full_name = (f'{first_name} {last_name}'.title())\n",
    "        self.initials = (f'{first_name[0]}.{last_name[0]}'.title())"
   ]
  },
  {
   "cell_type": "code",
   "execution_count": null,
   "metadata": {},
   "outputs": [],
   "source": []
  },
  {
   "cell_type": "code",
   "execution_count": null,
   "metadata": {},
   "outputs": [],
   "source": [
    "#вторая задачка\n",
    "class Calculator:\n",
    "    def __init__(self):\n",
    "        self.a = 0\n",
    "        self.b = 0\n",
    "        \n",
    "    def add(self, a, b):\n",
    "        return a + b\n",
    "    def subtract(self, a, b):\n",
    "        return a - b\n",
    "    def multiply(self, a, b):\n",
    "        return a * b\n",
    "    def divide(self, a, b):\n",
    "        return a / b"
   ]
  },
  {
   "cell_type": "code",
   "execution_count": 32,
   "metadata": {},
   "outputs": [],
   "source": [
    "cal = Calculator()"
   ]
  },
  {
   "cell_type": "code",
   "execution_count": 33,
   "metadata": {},
   "outputs": [
    {
     "data": {
      "text/plain": [
       "15"
      ]
     },
     "execution_count": 33,
     "metadata": {},
     "output_type": "execute_result"
    }
   ],
   "source": [
    "cal.add(5,10)"
   ]
  },
  {
   "cell_type": "code",
   "execution_count": 127,
   "metadata": {},
   "outputs": [],
   "source": [
    "#ф-я должна принимать строку и считывать с нее инфу\n",
    "#третья задачка из курса\n",
    "class Employee:\n",
    "    def __init__(self, first_name, last_name, salary):\n",
    "        self.first_name = first_name\n",
    "        self.last_name = last_name\n",
    "        self.salary = salary\n",
    "    \n",
    "    @classmethod\n",
    "    def from_string(cls, string):\n",
    "        string1 = string.split('-')\n",
    "        first_name = string1[0]\n",
    "        last_name = string1[1]\n",
    "        salary = int(string1[2])\n",
    "        return cls(first_name, last_name, salary)\n",
    "        #first_name, last_name, salary = string.split('-')\n",
    "        #return cls(first_name, last_name, salary)"
   ]
  },
  {
   "cell_type": "code",
   "execution_count": 138,
   "metadata": {},
   "outputs": [],
   "source": [
    "emp = Employee('Mary', 'Jane', 10000)"
   ]
  },
  {
   "cell_type": "code",
   "execution_count": 140,
   "metadata": {},
   "outputs": [],
   "source": [
    "emp1 = Employee.from_string('Petit-Louis-15000')"
   ]
  },
  {
   "cell_type": "code",
   "execution_count": 141,
   "metadata": {},
   "outputs": [
    {
     "data": {
      "text/plain": [
       "15000"
      ]
     },
     "execution_count": 141,
     "metadata": {},
     "output_type": "execute_result"
    }
   ],
   "source": [
    "emp1.salary"
   ]
  },
  {
   "cell_type": "code",
   "execution_count": null,
   "metadata": {},
   "outputs": [],
   "source": [
    "https://techrocks.ru/2020/03/06/instance-class-and-static-methods-in-python/"
   ]
  },
  {
   "cell_type": "code",
   "execution_count": 108,
   "metadata": {},
   "outputs": [],
   "source": [
    "#задача про пиццы\n",
    "#остальные функции должны использовать order_number и изменят его\n",
    "#статический метод\n",
    "class Pizza():\n",
    "    order = 0 #надо как-то эту суку присобачить\n",
    "    def __init__(self, ingredients):\n",
    "        self.ingredients = ingredients\n",
    "        Pizza.order +=1\n",
    "        self.order_number = Pizza.order\n",
    "    @classmethod\n",
    "    def garden_feast(cls):\n",
    "        return cls(['spinach','olives','mushroom'])\n",
    "    @classmethod\n",
    "    def hawaiian(cls):\n",
    "        return cls(['ham', 'pineapple'])\n",
    "    @classmethod\n",
    "    def meat_festival(cls):\n",
    "        return cls(['beef','meatball','bacon'])"
   ]
  },
  {
   "cell_type": "code",
   "execution_count": 109,
   "metadata": {},
   "outputs": [
    {
     "data": {
      "text/plain": [
       "1"
      ]
     },
     "execution_count": 109,
     "metadata": {},
     "output_type": "execute_result"
    }
   ],
   "source": [
    "p1 = Pizza.garden_feast()\n",
    "p1.order_number"
   ]
  },
  {
   "cell_type": "code",
   "execution_count": 110,
   "metadata": {},
   "outputs": [
    {
     "data": {
      "text/plain": [
       "2"
      ]
     },
     "execution_count": 110,
     "metadata": {},
     "output_type": "execute_result"
    }
   ],
   "source": [
    "p2 = Pizza.hawaiian()\n",
    "p2.order_number"
   ]
  },
  {
   "cell_type": "code",
   "execution_count": 125,
   "metadata": {},
   "outputs": [
    {
     "data": {
      "text/plain": [
       "['ham', 'pineapple']"
      ]
     },
     "execution_count": 125,
     "metadata": {},
     "output_type": "execute_result"
    }
   ],
   "source": [
    "p2.ingredients"
   ]
  },
  {
   "cell_type": "code",
   "execution_count": 115,
   "metadata": {},
   "outputs": [],
   "source": [
    "#пятая задача, надо использовать статик метод\n",
    "import math\n",
    "class Circle:\n",
    "    def __init__(self, radius):\n",
    "        self.radius = radius\n",
    "        \n",
    "    def get_area(self):\n",
    "        return self.circle_area(self.radius)\n",
    "\n",
    "    @staticmethod\n",
    "    def circle_area(r):\n",
    "        return r ** 2 * math.pi\n",
    "    \n",
    "    def get_perimeter(self):\n",
    "        return self.circle_perimeter(self.radius)\n",
    "\n",
    "    @staticmethod\n",
    "    def circle_perimeter(r): #r - это просто левое имя\n",
    "        return 2 * math.pi * r\n",
    "    \n",
    "#есть стат метод с определенным названием, он принимает переменную, которая используется только в этом методе(или не только)\n",
    "#над стат методом есть метод экземпляра класса, который возвращает вызов статметода с использованием переменной из конструктора"
   ]
  },
  {
   "cell_type": "code",
   "execution_count": 116,
   "metadata": {},
   "outputs": [],
   "source": [
    "circle = Circle(10)"
   ]
  },
  {
   "cell_type": "code",
   "execution_count": 117,
   "metadata": {},
   "outputs": [],
   "source": [
    "area = circle.get_area()"
   ]
  },
  {
   "cell_type": "code",
   "execution_count": 118,
   "metadata": {},
   "outputs": [
    {
     "name": "stdout",
     "output_type": "stream",
     "text": [
      "314.1592653589793\n"
     ]
    }
   ],
   "source": [
    "print(area)"
   ]
  },
  {
   "cell_type": "code",
   "execution_count": 120,
   "metadata": {},
   "outputs": [],
   "source": [
    "perimeter = circle.get_perimeter() #обращение к методу экз класса через экз класса"
   ]
  },
  {
   "cell_type": "code",
   "execution_count": 121,
   "metadata": {},
   "outputs": [
    {
     "name": "stdout",
     "output_type": "stream",
     "text": [
      "62.83185307179586\n"
     ]
    }
   ],
   "source": [
    "print(perimeter)"
   ]
  },
  {
   "cell_type": "code",
   "execution_count": 123,
   "metadata": {},
   "outputs": [],
   "source": [
    "per2 = Circle.circle_perimeter(5) #обращение к статметоду через стат метод"
   ]
  },
  {
   "cell_type": "code",
   "execution_count": 5,
   "metadata": {},
   "outputs": [],
   "source": [
    "#а вообще эту задачу можно было решить без использования стат методов\n",
    "import math\n",
    "class Circle:\n",
    "    def __init__(self, radius):\n",
    "        self.radius = radius\n",
    "    def get_perimeter(self):\n",
    "        return 2 * math.pi * self.radius\n",
    "    def get_area(self):\n",
    "        return self.radius ** 2 * math.pi"
   ]
  },
  {
   "cell_type": "code",
   "execution_count": 6,
   "metadata": {},
   "outputs": [
    {
     "data": {
      "text/plain": [
       "25.132741228718345"
      ]
     },
     "execution_count": 6,
     "metadata": {},
     "output_type": "execute_result"
    }
   ],
   "source": [
    "c1 = Circle(4)\n",
    "c1.get_perimeter()\n"
   ]
  },
  {
   "cell_type": "code",
   "execution_count": null,
   "metadata": {},
   "outputs": [],
   "source": [
    "#6 задача, \n",
    "#атрибут ингредиенты\n",
    "#функции get_cost, get_price, get_name,\n",
    "s = 0\n",
    "for k, v in prices.items():\n",
    "    if k in lst:\n",
    "        s += v\n",
    "    else:\n",
    "        pass\n",
    "print(s)"
   ]
  },
  {
   "cell_type": "code",
   "execution_count": 523,
   "metadata": {},
   "outputs": [],
   "source": [
    "prices = {\"Strawberries\" : 1.5, \"Banana\" : 0.5, \"Mango\" : 2.5,\n",
    "\t\t\"Blueberries\" : 1, \"Raspberries\" : 1, \"Apple\" : 1.75,\n",
    "\t\t\"Pineapple\" : 3.5}\n",
    "\n",
    "class Beverage():\n",
    "    def __init__(self, ingredients):\n",
    "        self.ingredients = ingredients\n",
    "    \n",
    "    def get_cost(self):\n",
    "        s = 0\n",
    "        for k, v in prices.items():\n",
    "            if k in self.ingredients:\n",
    "                s += v\n",
    "        return f'${s:.{2}f}'\n",
    "    \n",
    "    def get_price(self):\n",
    "        s = 0\n",
    "        for k, v in prices.items():\n",
    "            if k in self.ingredients:\n",
    "                s += v\n",
    "            else:\n",
    "                pass\n",
    "        return (f'${(s * 2.50):.{2}f}')\n",
    "    \n",
    "    def get_name(self):\n",
    "        if len(self.ingredients) == 1:\n",
    "            myList = sorted(self.ingredients)\n",
    "            myString = ' '.join(myList)\n",
    "            myString = myString.replace('ries', 'ry')\n",
    "            return myString + ' Smoothie'\n",
    "        elif len(self.ingredients) >= 2:\n",
    "            myList = sorted(self.ingredients)\n",
    "            myString = ' '.join(myList)\n",
    "            myString = myString.replace('ries', 'ry')\n",
    "            return myString + ' Fusion'"
   ]
  },
  {
   "cell_type": "code",
   "execution_count": 524,
   "metadata": {},
   "outputs": [],
   "source": [
    "drink1 = Beverage(['Strawberries','Banana','Raspberries'])"
   ]
  },
  {
   "cell_type": "code",
   "execution_count": 525,
   "metadata": {},
   "outputs": [
    {
     "name": "stdout",
     "output_type": "stream",
     "text": [
      "$3.00\n",
      "$7.50\n"
     ]
    }
   ],
   "source": [
    "print(drink1.get_cost())\n",
    "print(drink1.get_price())"
   ]
  },
  {
   "cell_type": "code",
   "execution_count": 504,
   "metadata": {},
   "outputs": [
    {
     "name": "stdout",
     "output_type": "stream",
     "text": [
      "Banana Raspberry Strawberry Fusion\n"
     ]
    }
   ],
   "source": [
    "print(drink1.get_name())"
   ]
  },
  {
   "cell_type": "code",
   "execution_count": 7,
   "metadata": {},
   "outputs": [],
   "source": [
    "#а это решение задачи от учителя\n",
    "prices = {\"Strawberries\" : 1.5, \"Banana\" : 0.5, \"Mango\" : 2.5,\n",
    "\t\t\"Blueberries\" : 1, \"Raspberries\" : 1, \"Apple\" : 1.75,\n",
    "\t\t\"Pineapple\" : 3.5}\n",
    "\n",
    "class Beverage():\n",
    "    def __init__(self, ingredients):\n",
    "        self.ingredients = ingredients\n",
    "        self.cost = sum([prices[fruit] for fruit in self.ingredients])\n",
    "        self.price = self.cost * 2.5\n",
    "        \n",
    "    def get_cost(self):\n",
    "        return f'${self.cost:.2f}'\n",
    "    def get_price(self):\n",
    "        return f'${self.price:.2f}'\n",
    "    \n",
    "    def get_name(self):\n",
    "        lst = sorted([i.replace('ies', 'y') for i in self.ingredients])\n",
    "        return f'{\" \".join(lst)} {\"Fusion\" if len(lst) >1 else \"Smoothie\"}'"
   ]
  },
  {
   "cell_type": "code",
   "execution_count": 8,
   "metadata": {},
   "outputs": [],
   "source": [
    "drink1 = Beverage(['Strawberries','Banana','Mango'])"
   ]
  },
  {
   "cell_type": "code",
   "execution_count": 10,
   "metadata": {},
   "outputs": [
    {
     "name": "stdout",
     "output_type": "stream",
     "text": [
      "$4.50\n",
      "$11.25\n",
      "Banana Mango Strawberry Fusion\n"
     ]
    }
   ],
   "source": [
    "print(drink1.get_cost())\n",
    "print(drink1.get_price())\n",
    "print(drink1.get_name())"
   ]
  },
  {
   "cell_type": "code",
   "execution_count": null,
   "metadata": {},
   "outputs": [],
   "source": [
    "Чтобы корректно выводить на печать используй магические методы __repr__ и __str__, \n",
    "также почитай вот эту статью: habrahabr.ru/sandbox/82471"
   ]
  },
  {
   "cell_type": "code",
   "execution_count": null,
   "metadata": {},
   "outputs": [],
   "source": []
  }
 ],
 "metadata": {
  "kernelspec": {
   "display_name": "Python 3",
   "language": "python",
   "name": "python3"
  },
  "language_info": {
   "codemirror_mode": {
    "name": "ipython",
    "version": 3
   },
   "file_extension": ".py",
   "mimetype": "text/x-python",
   "name": "python",
   "nbconvert_exporter": "python",
   "pygments_lexer": "ipython3",
   "version": "3.8.5"
  }
 },
 "nbformat": 4,
 "nbformat_minor": 4
}
