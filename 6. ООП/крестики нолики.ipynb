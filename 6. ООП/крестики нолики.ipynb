{
 "cells": [
  {
   "cell_type": "code",
   "execution_count": 15,
   "metadata": {},
   "outputs": [],
   "source": [
    "board = [' ',' ',' ',' ',' ',' ',' ',' ',' ']\n",
    "def print_state(state): #функция, которая просто выводит доску на экран\n",
    "    for i, c in enumerate(state):\n",
    "        if (i+1)%3 == 0:\n",
    "            print(f'{c}')\n",
    "        else:\n",
    "            print(f'{c}|', end = '')"
   ]
  },
  {
   "cell_type": "code",
   "execution_count": 16,
   "metadata": {},
   "outputs": [
    {
     "name": "stdout",
     "output_type": "stream",
     "text": [
      " | | \n",
      " | | \n",
      " | | \n"
     ]
    }
   ],
   "source": [
    "print_state(board)"
   ]
  },
  {
   "cell_type": "code",
   "execution_count": 17,
   "metadata": {},
   "outputs": [],
   "source": [
    "winning_combs = [(0,1,2),(3,4,5),(6,7,8),(0,3,6),(1,4,7),(2,5,8),(0,4,8),(2,4,6)]  #победные комбинации"
   ]
  },
  {
   "cell_type": "code",
   "execution_count": 18,
   "metadata": {},
   "outputs": [],
   "source": [
    "def get_winner(state, combs): #функция, которая просто сравнивает наличие победных комбинация\n",
    "    for (x, y, z) in combs:\n",
    "        if state[x] == state[y] and state[y] == state[z] and (state[x] == 'X' or state[x] == 'O'):#если символы по индексам равны\n",
    "            return state[x] #возврат символа\n",
    "    return ''"
   ]
  },
  {
   "cell_type": "code",
   "execution_count": 19,
   "metadata": {},
   "outputs": [],
   "source": [
    "def play_game(board):\n",
    "    current_sing = 'X'\n",
    "    while(get_winner(board, winning_combs) == ''):\n",
    "        index = int(input(f'куда ставить {current_sing}? '))\n",
    "        board[index] = current_sing\n",
    "        print_state(board)\n",
    "        \n",
    "        winner_sing = get_winner(board, winning_combs)\n",
    "        if winner_sing != '':\n",
    "            print(f'победитель {winner_sing}')\n",
    "            \n",
    "        current_sing = 'X' if current_sing == 'O' else 'O'"
   ]
  },
  {
   "cell_type": "code",
   "execution_count": 20,
   "metadata": {},
   "outputs": [
    {
     "name": "stdout",
     "output_type": "stream",
     "text": [
      "куда ставить X?8\n",
      " | | \n",
      " | | \n",
      " | |X\n",
      "куда ставить O?5\n",
      " | | \n",
      " | |O\n",
      " | |X\n",
      "куда ставить X?7\n",
      " | | \n",
      " | |O\n",
      " |X|X\n",
      "куда ставить O?6\n",
      " | | \n",
      " | |O\n",
      "O|X|X\n",
      "куда ставить X?4\n",
      " | | \n",
      " |X|O\n",
      "O|X|X\n",
      "куда ставить O?0\n",
      "O| | \n",
      " |X|O\n",
      "O|X|X\n",
      "куда ставить X?1\n",
      "O|X| \n",
      " |X|O\n",
      "O|X|X\n",
      "победитель X\n"
     ]
    }
   ],
   "source": [
    "play_game(board)"
   ]
  },
  {
   "cell_type": "code",
   "execution_count": null,
   "metadata": {},
   "outputs": [],
   "source": []
  },
  {
   "cell_type": "code",
   "execution_count": 16,
   "metadata": {},
   "outputs": [
    {
     "name": "stdout",
     "output_type": "stream",
     "text": [
      " | | \n",
      " | | \n",
      " | | \n"
     ]
    }
   ],
   "source": [
    "board = [' ',' ',' ',' ',' ',' ',' ',' ',' ']\n",
    "def print_state(state): #функция, которая просто выводит доску на экран\n",
    "    for i, c in enumerate(state):\n",
    "        if (i+1)%3 == 0:\n",
    "            print(f'{c}')\n",
    "        else:\n",
    "            print(f'{c}|', end = '')\n",
    "            \n",
    "            \n",
    "print_state(board)"
   ]
  },
  {
   "cell_type": "code",
   "execution_count": null,
   "metadata": {},
   "outputs": [],
   "source": []
  },
  {
   "cell_type": "code",
   "execution_count": null,
   "metadata": {},
   "outputs": [],
   "source": []
  }
 ],
 "metadata": {
  "kernelspec": {
   "display_name": "Python 3",
   "language": "python",
   "name": "python3"
  },
  "language_info": {
   "codemirror_mode": {
    "name": "ipython",
    "version": 3
   },
   "file_extension": ".py",
   "mimetype": "text/x-python",
   "name": "python",
   "nbconvert_exporter": "python",
   "pygments_lexer": "ipython3",
   "version": "3.8.5"
  }
 },
 "nbformat": 4,
 "nbformat_minor": 4
}
