{
 "cells": [
  {
   "cell_type": "code",
   "execution_count": 4,
   "metadata": {},
   "outputs": [],
   "source": [
    "class Gastarbaiter():\n",
    "    work_hours = 12\n",
    "    \n",
    "    def __init__(self, nation, age, skills, rest, efforts = 10):\n",
    "        self.nation = nation\n",
    "        self.age = age\n",
    "        self.skills = skills\n",
    "        self.stamina = 100\n",
    "    def work(self, efforts):\n",
    "        self.stamina -= efforts\n",
    "    def relaxation(self, rest):\n",
    "        self.stamina += rest\n",
    "\n",
    "\n",
    "slave1 = Gastarbaiter('tochik', 25, 'plitka', 10)\n",
    "slave2 = Gastarbaiter('uzbek', 30, 'oblicovka', 10)\n",
    "slave3 = Gastarbaiter('kirgiz', 24, 'potolok', 10)"
   ]
  },
  {
   "cell_type": "code",
   "execution_count": 5,
   "metadata": {},
   "outputs": [
    {
     "name": "stdout",
     "output_type": "stream",
     "text": [
      "80\n"
     ]
    }
   ],
   "source": [
    "slave1.work(20)\n",
    "print(slave1.stamina)"
   ]
  },
  {
   "cell_type": "code",
   "execution_count": 6,
   "metadata": {},
   "outputs": [
    {
     "name": "stdout",
     "output_type": "stream",
     "text": [
      "60\n"
     ]
    }
   ],
   "source": [
    "slave1.work(20)\n",
    "print(slave1.stamina)"
   ]
  },
  {
   "cell_type": "code",
   "execution_count": 7,
   "metadata": {},
   "outputs": [
    {
     "name": "stdout",
     "output_type": "stream",
     "text": [
      "75\n"
     ]
    }
   ],
   "source": [
    "slave1.relaxation(15)\n",
    "print(slave1.stamina)"
   ]
  },
  {
   "cell_type": "code",
   "execution_count": null,
   "metadata": {},
   "outputs": [],
   "source": []
  },
  {
   "cell_type": "code",
   "execution_count": 12,
   "metadata": {},
   "outputs": [],
   "source": [
    "class TV():\n",
    "    def __init__(self, diagonal, resolution, model):\n",
    "        self.diagonal = diagonal\n",
    "        self.resolution = resolution\n",
    "        self.model = model\n",
    "        \n",
    "    def turn_on(self):\n",
    "        print(f\"телевизор {self.model} включен\")\n",
    "    \n",
    "    def turn_off(self):\n",
    "        print(f\"телевизор {self.model} выключен\")\n",
    "    \n",
    "    def show_film(self):\n",
    "        print(f\"телевизор {self.model} запустил фильм\")\n",
    "    \n",
    "    def play_music(self):\n",
    "        print(f\"телевизор {self.model} играет музыку\")\n",
    "tv1 = TV(50, 'UltraHD', 'Sony')\n",
    "tv2 = TV(30, 'FullHD', 'Sony')\n",
    "tv3 = TV(40, 'UltraHD', 'Samsung')"
   ]
  },
  {
   "cell_type": "code",
   "execution_count": 13,
   "metadata": {},
   "outputs": [
    {
     "name": "stdout",
     "output_type": "stream",
     "text": [
      "телевизор Sony включен\n",
      "None\n",
      "телевизор Sony играет музыку\n",
      "None\n",
      "телевизор Samsung запустил фильм\n",
      "None\n",
      "телевизор Sony выключен\n",
      "None\n"
     ]
    }
   ],
   "source": [
    "print(tv1.turn_on())\n",
    "print(tv2.play_music())\n",
    "print(tv3.show_film())\n",
    "print(tv1.turn_off())"
   ]
  },
  {
   "cell_type": "code",
   "execution_count": null,
   "metadata": {},
   "outputs": [],
   "source": []
  },
  {
   "cell_type": "code",
   "execution_count": 6,
   "metadata": {},
   "outputs": [],
   "source": [
    "class Tank():\n",
    "    def __init__(self, weight, caliber, machine_gun, turret):\n",
    "        self.weight = weight\n",
    "        self.caliber = caliber\n",
    "        self.machine_gun = machine_gun\n",
    "        self.turret = turret\n",
    "        print(f'создан танк')\n",
    "    \n",
    "    def shooting(self)"
   ]
  },
  {
   "cell_type": "code",
   "execution_count": 7,
   "metadata": {},
   "outputs": [
    {
     "name": "stdout",
     "output_type": "stream",
     "text": [
      "создан танк\n"
     ]
    }
   ],
   "source": [
    "t54 = Tank(35, 100, True, True)"
   ]
  },
  {
   "cell_type": "code",
   "execution_count": 5,
   "metadata": {},
   "outputs": [],
   "source": [
    "class Personage():\n",
    "    \n",
    "    def __init__(self, race, damage, armor, HP, speed):\n",
    "        self.race = race\n",
    "        self.damage = damage\n",
    "        self.armor = armor\n",
    "        self.HP = HP\n",
    "        self.health = 100\n",
    "        self._speed = 20\n",
    "    def hit(self, damage):\n",
    "        self.health -= damage\n",
    "        \n",
    "    def heal(self, HP):\n",
    "        self.health += HP\n",
    "        \n",
    "    @property\n",
    "    def speed(self):\n",
    "        return self._speed\n",
    "    @speed.setter\n",
    "    def speed(self, speed):\n",
    "        if speed <=0:\n",
    "            self._speed = 0\n",
    "        elif speed >=50:\n",
    "            self._speed = 50\n",
    "        else:\n",
    "            self._speed = speed"
   ]
  },
  {
   "cell_type": "code",
   "execution_count": 7,
   "metadata": {},
   "outputs": [],
   "source": [
    "elf = Personage('Elf', 15, 15, 15,15)"
   ]
  },
  {
   "cell_type": "code",
   "execution_count": 8,
   "metadata": {},
   "outputs": [
    {
     "name": "stdout",
     "output_type": "stream",
     "text": [
      "90\n"
     ]
    }
   ],
   "source": [
    "elf.hit(10)\n",
    "print(elf.health)"
   ]
  },
  {
   "cell_type": "code",
   "execution_count": 15,
   "metadata": {},
   "outputs": [
    {
     "name": "stdout",
     "output_type": "stream",
     "text": [
      "70\n"
     ]
    }
   ],
   "source": [
    "elf.hit(20)\n",
    "elf.heal(30)\n",
    "print(elf.health)"
   ]
  },
  {
   "cell_type": "code",
   "execution_count": 16,
   "metadata": {},
   "outputs": [],
   "source": [
    "elf.speed = 30"
   ]
  },
  {
   "cell_type": "code",
   "execution_count": null,
   "metadata": {},
   "outputs": [],
   "source": []
  }
 ],
 "metadata": {
  "kernelspec": {
   "display_name": "Python 3",
   "language": "python",
   "name": "python3"
  },
  "language_info": {
   "codemirror_mode": {
    "name": "ipython",
    "version": 3
   },
   "file_extension": ".py",
   "mimetype": "text/x-python",
   "name": "python",
   "nbconvert_exporter": "python",
   "pygments_lexer": "ipython3",
   "version": "3.8.5"
  }
 },
 "nbformat": 4,
 "nbformat_minor": 4
}
