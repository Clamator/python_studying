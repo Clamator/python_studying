{
 "cells": [
  {
   "cell_type": "code",
   "execution_count": 1,
   "metadata": {},
   "outputs": [],
   "source": [
    "class Car:\n",
    "    def init(self, model, style, doors, transmission):\n",
    "        self.model = model\n",
    "        self.style = style\n",
    "        self.doors = doors\n",
    "        self.transmission = transmission\n",
    "\n",
    "    def radio(self, station):\n",
    "        self.station = station\n",
    "        print(f'playing {self.station}')\n",
    "\n",
    "    def drive(self, destination):\n",
    "        self.destination = destination\n",
    "        print(f'driving to {self.destination}')\n",
    "    def stop(self):\n",
    "        print('car stopped')"
   ]
  },
  {
   "cell_type": "code",
   "execution_count": null,
   "metadata": {},
   "outputs": [],
   "source": []
  }
 ],
 "metadata": {
  "kernelspec": {
   "display_name": "Python 3",
   "language": "python",
   "name": "python3"
  },
  "language_info": {
   "codemirror_mode": {
    "name": "ipython",
    "version": 3
   },
   "file_extension": ".py",
   "mimetype": "text/x-python",
   "name": "python",
   "nbconvert_exporter": "python",
   "pygments_lexer": "ipython3",
   "version": "3.8.5"
  }
 },
 "nbformat": 4,
 "nbformat_minor": 4
}
