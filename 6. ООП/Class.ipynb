{
 "cells": [
  {
   "cell_type": "code",
   "execution_count": null,
   "metadata": {},
   "outputs": [],
   "source": [
    "ООП позволяет создавать свои собственные классы, которые имеют методы и атрибуты\n",
    "в мире есть множество разных классов объектов, например, самолет, у него множество атрибутов, ф-й, \n",
    "есть возможность переложить реальный объект на абстрактный, на класс\n",
    "создать класс \"машина\", отразить атрибуты, реализовать фунции. Атрибут - это типа характеристика объекта\n",
    "классы и методы соответствуют тому, что мы имеем в реальной жизни(почти)\n",
    "например, есть собака, создаем класс \"собака\", ее цвет - это атрибут, а гавкать - это ее функция\n",
    "\n",
    "используя этот класс, мы можем породить множество объектов данного типа\n",
    "собака1, собака2, и тд\n",
    "\n",
    "иногда разработчики используют понятие объект и класс взаимозаменяемо, но \n",
    "класс - это общее описание, программный конструкт в контексте ООП, с помощью которого мы описываем некоторую сущность\n",
    "объект(как правило) - инстанция класса, его экземпляр, и мы можем создать множество экземпляров(объектов) этого класса\n"
   ]
  },
  {
   "cell_type": "code",
   "execution_count": null,
   "metadata": {},
   "outputs": [],
   "source": [
    "имя классов всегда пишется с большой буквы, если два+ слов, то каждое пишется с большой\n",
    "экземпляр класса создается и использованием названия класса\n",
    "\n",
    "у каждого класса может быть 1 и более контрукторов\n",
    "конструкторы используются для того, чтобы никто не мог создать объект в некорректном состоянии,\n",
    "конструктор определяется с помощью def __init__\n",
    "__init__ - это спец имя метода, записанное специальным образом\n",
    "в скобках - это аргументы, а через селф с точкой - это атрибут\n",
    "self в скобках - это первый аргумент, self - это ссылка на экземпляр\n",
    "все атрибуты, присущие конкретному объекту, мы записываем через ccылку селф с точкой\n",
    "к атрибутам собственного класса мы обращаемся через селф с точкой\n",
    "в моем примере слова doors, colour стоят аж в трех местах, но это не проблема,\n",
    "что стоит справа и что стоит слева можно было назвать по разному, но интерпретатор понимает, что к чему относится,\n",
    "слева, где self. - это атрибут класса, а справа от равно - это то, что было передано в качестве аргумента\n",
    "поэтому нет необходимости заморачиваться, но имя атрибута в скобках и тот, что справа от =, должны совпадать \n",
    "если мы инициализируем атрибуты, то надо придерживаться такого правила:\n",
    "    сначала мы инициализируем те, которые без значения по умолчанию, потом те, которым мы присваиваем значения по умолчанию\n",
    "    иначе будет ошибка SyntaxError на строке Х: non-default argument follows default argument"
   ]
  },
  {
   "cell_type": "code",
   "execution_count": 25,
   "metadata": {},
   "outputs": [],
   "source": [
    "class Cars():\n",
    "    def __init__(self, colour, body_type, doors = 4): #это определение конструктора\n",
    "        self.colour = colour\n",
    "        self.doors = doors\n",
    "        self.body_type = body_type"
   ]
  },
  {
   "cell_type": "code",
   "execution_count": 26,
   "metadata": {},
   "outputs": [],
   "source": [
    "car1 = Cars(colour = 'white', doors = 5, body_type = 'hardtop')"
   ]
  },
  {
   "cell_type": "code",
   "execution_count": 27,
   "metadata": {},
   "outputs": [
    {
     "data": {
      "text/plain": [
       "<__main__.Cars at 0x141a10b14f0>"
      ]
     },
     "execution_count": 27,
     "metadata": {},
     "output_type": "execute_result"
    }
   ],
   "source": [
    "car1#тип соответствует классу"
   ]
  },
  {
   "cell_type": "code",
   "execution_count": 28,
   "metadata": {},
   "outputs": [
    {
     "name": "stdout",
     "output_type": "stream",
     "text": [
      "white\n",
      "5\n",
      "hardtop\n"
     ]
    }
   ],
   "source": [
    "print(car1.colour)\n",
    "print(car1.doors)\n",
    "print(car1.body_type)"
   ]
  },
  {
   "cell_type": "code",
   "execution_count": 33,
   "metadata": {},
   "outputs": [
    {
     "name": "stdout",
     "output_type": "stream",
     "text": [
      "First car's colour is white, it has 5 doors and its body type is hardtop.\n"
     ]
    }
   ],
   "source": [
    "print(f\"First car's colour is {car1.colour}, it has {car1.doors} doors and its body type is {car1.body_type}.\")\n",
    "\n",
    "#если хочется, чтобы имя или другой атрибут экземпляра класса выводится через форматирование красиво, надо \n",
    "#делать так: f\"телевизор {self.model} включен\" . Тут мы указываем селф.атрибут, чтобы как в примере выше не прописывать конкретный экземпляр класса"
   ]
  },
  {
   "cell_type": "code",
   "execution_count": null,
   "metadata": {},
   "outputs": [],
   "source": [
    "некоторые атрибуты можно создавать не в скобках\n",
    "также есть атрибуты уровня инстанции, которые идут после деф инит, ими можно пользоваться только после создания \n",
    "экземпляра типа Character, то есть эльфа или орка, например\n",
    "а можно создать общие атрибуты уровня класса"
   ]
  },
  {
   "cell_type": "code",
   "execution_count": 36,
   "metadata": {},
   "outputs": [],
   "source": [
    "class Character():\n",
    "    max_speed = 100\n",
    "    dead_health = 0\n",
    "    def __init__(self, race, damage = 15, armor = 15):\n",
    "        self.race = race\n",
    "        self.damage = damage\n",
    "        self.armor = armor\n",
    "        self.health = 100"
   ]
  },
  {
   "cell_type": "code",
   "execution_count": 37,
   "metadata": {},
   "outputs": [
    {
     "name": "stdout",
     "output_type": "stream",
     "text": [
      "100\n"
     ]
    }
   ],
   "source": [
    "#тут общий атрибут класса, он доступен по обращению к классу\n",
    "print(Character.max_speed)"
   ]
  },
  {
   "cell_type": "code",
   "execution_count": 38,
   "metadata": {},
   "outputs": [
    {
     "ename": "AttributeError",
     "evalue": "type object 'Character' has no attribute 'race'",
     "output_type": "error",
     "traceback": [
      "\u001b[1;31m---------------------------------------------------------------------------\u001b[0m",
      "\u001b[1;31mAttributeError\u001b[0m                            Traceback (most recent call last)",
      "\u001b[1;32m<ipython-input-38-f119bd51ee3c>\u001b[0m in \u001b[0;36m<module>\u001b[1;34m\u001b[0m\n\u001b[0;32m      1\u001b[0m \u001b[1;31m#вывести расу или другое без создания персонажа не получится\u001b[0m\u001b[1;33m\u001b[0m\u001b[1;33m\u001b[0m\u001b[1;33m\u001b[0m\u001b[0m\n\u001b[1;32m----> 2\u001b[1;33m \u001b[0mprint\u001b[0m\u001b[1;33m(\u001b[0m\u001b[0mCharacter\u001b[0m\u001b[1;33m.\u001b[0m\u001b[0mrace\u001b[0m\u001b[1;33m)\u001b[0m\u001b[1;33m\u001b[0m\u001b[1;33m\u001b[0m\u001b[0m\n\u001b[0m",
      "\u001b[1;31mAttributeError\u001b[0m: type object 'Character' has no attribute 'race'"
     ]
    }
   ],
   "source": [
    "#вывести расу или другое без создания персонажа(экземпляр класса) не получится \n",
    "print(Character.race)"
   ]
  },
  {
   "cell_type": "code",
   "execution_count": 39,
   "metadata": {},
   "outputs": [
    {
     "name": "stdout",
     "output_type": "stream",
     "text": [
      "Ork\n"
     ]
    }
   ],
   "source": [
    "#необходимо именно создать персонажа(объект), а затем выводить атрибуты\n",
    "unit1 = Character('Ork')\n",
    "print(unit1.race)"
   ]
  },
  {
   "cell_type": "code",
   "execution_count": 63,
   "metadata": {},
   "outputs": [],
   "source": [
    "#модифицируем ранее написанный код\n",
    "#можно делать методы(операции) через def\n",
    "class Character():\n",
    "    max_speed = 100\n",
    "    dead_health = 0\n",
    "    def __init__(self, race, damage = 15, armor = 15):\n",
    "        self.race = race\n",
    "        self.damage = damage\n",
    "        self.armor = armor\n",
    "        self.health = 100\n",
    "    \n",
    "    def hit(self, damage): #метод, согласно которому по персу можно нанести удар, тут позиционный аргумент damage\n",
    "        self.health -= damage\n",
    "    \n",
    "    def is_dead(self):#этот метод позволяет проверить, умер ли персонаж\n",
    "        return self.health == Character.dead_health #тут лучше использовать с названием класса, чтобы сразу было понятно, что это атрибут класса"
   ]
  },
  {
   "cell_type": "code",
   "execution_count": 64,
   "metadata": {},
   "outputs": [],
   "source": [
    "unit2 = Character('Elf')"
   ]
  },
  {
   "cell_type": "code",
   "execution_count": 65,
   "metadata": {},
   "outputs": [],
   "source": [
    "unit2.hit(20) #ударили персонажа"
   ]
  },
  {
   "cell_type": "code",
   "execution_count": 66,
   "metadata": {},
   "outputs": [
    {
     "name": "stdout",
     "output_type": "stream",
     "text": [
      "80\n"
     ]
    }
   ],
   "source": [
    "print(unit2.health) #тут проверили, сколько хп осталось у чувака"
   ]
  },
  {
   "cell_type": "code",
   "execution_count": 67,
   "metadata": {},
   "outputs": [
    {
     "data": {
      "text/plain": [
       "False"
      ]
     },
     "execution_count": 67,
     "metadata": {},
     "output_type": "execute_result"
    }
   ],
   "source": [
    "unit2.is_dead() #проверили, умер ли - нет"
   ]
  },
  {
   "cell_type": "code",
   "execution_count": null,
   "metadata": {},
   "outputs": [],
   "source": [
    "надо сделать еще лечение(сделал)"
   ]
  },
  {
   "cell_type": "code",
   "execution_count": 163,
   "metadata": {},
   "outputs": [],
   "source": [
    "class Character():\n",
    "    max_speed = 100\n",
    "    dead_health = 0\n",
    "    max_health = 100\n",
    "    def __init__(self, race, heal = 10, damage = 15, armor = 15):\n",
    "        self.race = race\n",
    "        self.heal = heal\n",
    "        self.damage = damage\n",
    "        self.armor = armor\n",
    "        self.health = 100\n",
    "        \n",
    "    \n",
    "    def hit(self, damage): #метод, согласно которому по персу можно нанести удар, тут позиционный аргумент damage\n",
    "        self.health -= damage\n",
    "\n",
    "    def healing(self, heal): #метод, согласно которому по персу можно нанести удар, тут позиционный аргумент damage\n",
    "        self.health += heal \n",
    "        \n",
    "    def is_dead(self):#этот метод позволяет проверить, умер ли персонаж\n",
    "        return self.health <= Character.dead_health\n",
    "    \n"
   ]
  },
  {
   "cell_type": "code",
   "execution_count": 164,
   "metadata": {},
   "outputs": [],
   "source": [
    "unit3 = Character('Tadzhik')"
   ]
  },
  {
   "cell_type": "code",
   "execution_count": 165,
   "metadata": {},
   "outputs": [
    {
     "name": "stdout",
     "output_type": "stream",
     "text": [
      "80\n"
     ]
    }
   ],
   "source": [
    "unit3.hit(20)\n",
    "print(unit3.health)"
   ]
  },
  {
   "cell_type": "code",
   "execution_count": 166,
   "metadata": {},
   "outputs": [
    {
     "name": "stdout",
     "output_type": "stream",
     "text": [
      "-10\n"
     ]
    }
   ],
   "source": [
    "unit3.hit(90)\n",
    "print(unit3.health)"
   ]
  },
  {
   "cell_type": "code",
   "execution_count": 167,
   "metadata": {},
   "outputs": [
    {
     "data": {
      "text/plain": [
       "True"
      ]
     },
     "execution_count": 167,
     "metadata": {},
     "output_type": "execute_result"
    }
   ],
   "source": [
    "unit3.is_dead()"
   ]
  },
  {
   "cell_type": "code",
   "execution_count": null,
   "metadata": {},
   "outputs": [],
   "source": [
    "#защищенные атрибуты - это те, доступ к которым есть только у классов наследников\n",
    "#приватный - это те, доступ к которым есть только у класса, который их создал"
   ]
  },
  {
   "cell_type": "code",
   "execution_count": null,
   "metadata": {},
   "outputs": [],
   "source": [
    "защищенные создаются с одним _ перед именем атрибута, а приватные с двумя __"
   ]
  },
  {
   "cell_type": "code",
   "execution_count": 12,
   "metadata": {},
   "outputs": [],
   "source": [
    "#атрибуты класса надо вводить заглавными буквами, чтобы другие люди понимали, что это константа, и что ее нельзя изменять\n",
    "class Character():\n",
    "    MAX_SPEED = 100\n",
    "    def __init__(self, race, damage = 10):\n",
    "        self.__race = race\n",
    "        self.damage = damage\n",
    "        self._health = 100\n",
    "    def hit(self, damage):\n",
    "        self._health -= damage"
   ]
  },
  {
   "cell_type": "code",
   "execution_count": 13,
   "metadata": {},
   "outputs": [],
   "source": [
    "elf = Character('Elf')"
   ]
  },
  {
   "cell_type": "code",
   "execution_count": 14,
   "metadata": {},
   "outputs": [],
   "source": [
    "#если попытаться обратиться к атрибуту расы через точку, то его не будет видно, т.к. он скрыт. (нейм мэнгелинг)\n",
    "#прямого доступа нет, но можно обратиться иначе"
   ]
  },
  {
   "cell_type": "code",
   "execution_count": 15,
   "metadata": {},
   "outputs": [],
   "source": [
    "elf._Character__race = 'Tadzhik'"
   ]
  },
  {
   "cell_type": "code",
   "execution_count": 16,
   "metadata": {},
   "outputs": [
    {
     "data": {
      "text/plain": [
       "'Tadzhik'"
      ]
     },
     "execution_count": 16,
     "metadata": {},
     "output_type": "execute_result"
    }
   ],
   "source": [
    "elf._Character__race"
   ]
  },
  {
   "cell_type": "code",
   "execution_count": null,
   "metadata": {},
   "outputs": [],
   "source": [
    "#для здоровья(защищенный атрибут) нейм менгелинга не происходит, тут все проще, можно обратиться напрямую\n",
    "#elf._health"
   ]
  },
  {
   "cell_type": "code",
   "execution_count": null,
   "metadata": {},
   "outputs": [],
   "source": [
    "при использовании декораторов можно делать некоторые вещи,\n",
    "например, сделать так, чтобы данные в атрибуте можно было прочитать, при этом их не меняя\n",
    "можно сделать еще разное\n",
    "когда используется декоратор, вся эта история называется свойством, \n",
    "в этом случае это свойство будет названо по имени атрибута\n",
    "!свойства лучше объявлять, если есть какая-то логика\n",
    "например, мы хотим дать возможность записывать в некоторый атрибут некоторое значение, которое не выходит за рамки\n",
    "всегда можно начать с обычного атрибута, а там если потребуется, то можно и защитить и создать свойство\n",
    "свойства (декораторы) лучше использовать в приоритете, чем геттеры и сеттеры"
   ]
  },
  {
   "cell_type": "code",
   "execution_count": 23,
   "metadata": {},
   "outputs": [],
   "source": [
    "class Character():\n",
    "    MAX_SPEED = 100\n",
    "    def __init__(self, race, damage = 10):\n",
    "        self.__race = race\n",
    "        self.damage = damage\n",
    "        self._health = 100\n",
    "        self._current_speed = 20\n",
    "    def hit(self, damage):\n",
    "        self._health -= damage\n",
    "        \n",
    "    @property #на чтение, свойство выглядит как метод, только покрыто декоратором\n",
    "    def health(self):\n",
    "        return self._health\n",
    "    \n",
    "    @property #это геттер, короче, его имя и есть имя свойства\n",
    "    def current_speed(self):\n",
    "        return self._current_speed\n",
    "    #создание свойства с возможностью записи\n",
    "    @current_speed.setter #это сеттер, имя декоратора такое же, как имя свойства\n",
    "    def current_speed(self, current_speed): #название метода совпадает\n",
    "        if current_speed < 0:\n",
    "            self._current_speed = 0\n",
    "        elif current_speed > 100:\n",
    "            self._current_speed = 100\n",
    "        else:\n",
    "            self._current_speed = current_speed\n",
    "    \n",
    "    @current_speed.deleter\n",
    "    def current_speed(self, current_speed):\n",
    "        print()\n",
    "        pass #ну тут типа такой же для удаления, просто создал, а так он не нужен сейчас\n",
    "    "
   ]
  },
  {
   "cell_type": "code",
   "execution_count": 24,
   "metadata": {},
   "outputs": [],
   "source": [
    "ork = Character('Ork')"
   ]
  },
  {
   "cell_type": "code",
   "execution_count": 25,
   "metadata": {},
   "outputs": [
    {
     "data": {
      "text/plain": [
       "100"
      ]
     },
     "execution_count": 25,
     "metadata": {},
     "output_type": "execute_result"
    }
   ],
   "source": [
    "ork.health"
   ]
  },
  {
   "cell_type": "code",
   "execution_count": 27,
   "metadata": {},
   "outputs": [],
   "source": [
    "ork.current_speed = 150"
   ]
  },
  {
   "cell_type": "code",
   "execution_count": 29,
   "metadata": {},
   "outputs": [
    {
     "data": {
      "text/plain": [
       "100"
      ]
     },
     "execution_count": 29,
     "metadata": {},
     "output_type": "execute_result"
    }
   ],
   "source": [
    "ork.current_speed #вот тут показано, что попытались поставить скорость 150, а поставилось 100"
   ]
  },
  {
   "cell_type": "code",
   "execution_count": 28,
   "metadata": {},
   "outputs": [
    {
     "ename": "AttributeError",
     "evalue": "can't set attribute",
     "output_type": "error",
     "traceback": [
      "\u001b[1;31m---------------------------------------------------------------------------\u001b[0m",
      "\u001b[1;31mAttributeError\u001b[0m                            Traceback (most recent call last)",
      "\u001b[1;32m<ipython-input-28-297c92e20286>\u001b[0m in \u001b[0;36m<module>\u001b[1;34m\u001b[0m\n\u001b[1;32m----> 1\u001b[1;33m \u001b[0mork\u001b[0m\u001b[1;33m.\u001b[0m\u001b[0mhealth\u001b[0m \u001b[1;33m=\u001b[0m \u001b[1;36m50\u001b[0m \u001b[1;31m#мы можем посмотреть, но прямого доступа нет, редактировать не получается\u001b[0m\u001b[1;33m\u001b[0m\u001b[1;33m\u001b[0m\u001b[0m\n\u001b[0m",
      "\u001b[1;31mAttributeError\u001b[0m: can't set attribute"
     ]
    }
   ],
   "source": [
    "ork.health = 50 #мы можем посмотреть, но прямого доступа нет, редактировать не получается"
   ]
  },
  {
   "cell_type": "code",
   "execution_count": 3,
   "metadata": {},
   "outputs": [],
   "source": [
    "class Point():\n",
    "    \"что-нибудь тут пишу\"\n",
    "    x = 1\n",
    "    y = 2\n",
    "\n",
    "pt = Point()"
   ]
  },
  {
   "cell_type": "code",
   "execution_count": 4,
   "metadata": {},
   "outputs": [
    {
     "data": {
      "text/plain": [
       "'что-нибудь тут пишу'"
      ]
     },
     "execution_count": 4,
     "metadata": {},
     "output_type": "execute_result"
    }
   ],
   "source": [
    "Point.__doc__ #эта переменная выводит описание класса, которое указывается в первой строке после определения класса\n",
    "#таких переменных много, через dir(Point) их можно все посмотреть"
   ]
  },
  {
   "cell_type": "code",
   "execution_count": null,
   "metadata": {},
   "outputs": [],
   "source": [
    "чтобы создать экземпляр класса, мы используем оператор равно, название экземпляра и название класса\n",
    "название класса - это типа пространство имен, в которую входят переменные, которые берутся непосредственно из класса"
   ]
  },
  {
   "cell_type": "code",
   "execution_count": 7,
   "metadata": {},
   "outputs": [
    {
     "name": "stdout",
     "output_type": "stream",
     "text": [
      "100 2\n"
     ]
    }
   ],
   "source": [
    "Point.x = 100\n",
    "print(pt.x, pt.y)\n",
    "#я уже в другом файле это записывал, однако надо записать еще раз, изменяя через имя класса экземпляр, мы не теряем связь между\n",
    "#экземпляром класса и классом, а вот когда мы меняем данные в экземпляре класса через обращение к экземпляру, то теряем"
   ]
  },
  {
   "cell_type": "code",
   "execution_count": 9,
   "metadata": {},
   "outputs": [
    {
     "name": "stdout",
     "output_type": "stream",
     "text": [
      "5 10\n"
     ]
    }
   ],
   "source": [
    "pt.x, pt.y = 5, 10 #после выполнения этой строки добаляются локальные переменные\n",
    "print(pt.x, pt.y)"
   ]
  },
  {
   "cell_type": "code",
   "execution_count": null,
   "metadata": {},
   "outputs": [],
   "source": [
    "есть несколько функций, которые позволяют работать с атрибутами класса\n",
    "функции дают большую гибкость при работе с атрибутами\n",
    "getattr(obj, name[,default]) - возвращает значение атрибута объекта\n",
    "hasattr(obj, name) - проверяет на наличие атрибута name в obj\n",
    "setattr(obj, name, value) - задает значение атрибута, если его нет, то он создается\n",
    "delattr(obj, name) - удаляет атрибут с конкретным именем"
   ]
  },
  {
   "cell_type": "code",
   "execution_count": 14,
   "metadata": {},
   "outputs": [
    {
     "name": "stdout",
     "output_type": "stream",
     "text": [
      "5\n",
      "88\n"
     ]
    }
   ],
   "source": [
    "print(getattr(pt, 'x')) #имя атрибута обязательно должно быть в кавычках\n",
    "print(getattr(pt, 'в', 88)) #если мы обращаемся к атрибуту, которого нет, то можно указать значение для возврата, \n",
    "#чтобы не было ошибки, тут мб и False, и числа"
   ]
  },
  {
   "cell_type": "code",
   "execution_count": 17,
   "metadata": {},
   "outputs": [
    {
     "data": {
      "text/plain": [
       "False"
      ]
     },
     "execution_count": 17,
     "metadata": {},
     "output_type": "execute_result"
    }
   ],
   "source": [
    "hasattr(pt, 'z') #проверяет на наличие конкретный атрибут"
   ]
  },
  {
   "cell_type": "code",
   "execution_count": 20,
   "metadata": {},
   "outputs": [
    {
     "data": {
      "text/plain": [
       "7"
      ]
     },
     "execution_count": 20,
     "metadata": {},
     "output_type": "execute_result"
    }
   ],
   "source": [
    "setattr(pt, 'z', 7) #ставит значение в атрибут, если его нет - добавляет\n",
    "pt.z"
   ]
  },
  {
   "cell_type": "code",
   "execution_count": null,
   "metadata": {},
   "outputs": [],
   "source": [
    "delattr(pt, z) #удаляет"
   ]
  },
  {
   "cell_type": "code",
   "execution_count": 21,
   "metadata": {},
   "outputs": [
    {
     "data": {
      "text/plain": [
       "True"
      ]
     },
     "execution_count": 21,
     "metadata": {},
     "output_type": "execute_result"
    }
   ],
   "source": [
    "#есть еще одна полезная функция, которая позволяет проверить, принадлежит ли экземпляр к конкретному классу\n",
    "isinstance(pt, Point)"
   ]
  },
  {
   "cell_type": "code",
   "execution_count": 22,
   "metadata": {},
   "outputs": [
    {
     "data": {
      "text/plain": [
       "True"
      ]
     },
     "execution_count": 22,
     "metadata": {},
     "output_type": "execute_result"
    }
   ],
   "source": [
    "a = [2,4,6,8,10,12,14]\n",
    "isinstance(a, list) #тут проверили, принадлежит ли переменная а к классу, типу список"
   ]
  },
  {
   "cell_type": "code",
   "execution_count": 25,
   "metadata": {},
   "outputs": [
    {
     "name": "stdout",
     "output_type": "stream",
     "text": [
      "False\n",
      "True\n"
     ]
    }
   ],
   "source": [
    "a = [2,4,6,8,10,12,14]\n",
    "print(isinstance(4, list)) #4, находясь в списке, не принадлежит классу списков, а к целочисленным\n",
    "print(isinstance(4, int))"
   ]
  },
  {
   "cell_type": "code",
   "execution_count": 15,
   "metadata": {},
   "outputs": [],
   "source": [
    "#еще немного по декораторам\n",
    "class Point:\n",
    "    def __init__(self, x, y):\n",
    "        self.__x = x\n",
    "        self.__y = y\n",
    "    \n",
    "    @property\n",
    "    def coordX(self):\n",
    "        return self.__x\n",
    "    @coordX.setter\n",
    "    def coordX(self, x):\n",
    "        self.__x = x\n",
    "    \n",
    "    @coordX.deleter\n",
    "    def coordX(self):\n",
    "        print('удаление')\n",
    "        del self.__x\n",
    "        "
   ]
  },
  {
   "cell_type": "code",
   "execution_count": 16,
   "metadata": {},
   "outputs": [],
   "source": [
    "pt = Point(1, 2)"
   ]
  },
  {
   "cell_type": "code",
   "execution_count": 17,
   "metadata": {},
   "outputs": [
    {
     "data": {
      "text/plain": [
       "1"
      ]
     },
     "execution_count": 17,
     "metadata": {},
     "output_type": "execute_result"
    }
   ],
   "source": [
    "pt.coordX"
   ]
  },
  {
   "cell_type": "code",
   "execution_count": 34,
   "metadata": {},
   "outputs": [
    {
     "name": "stdout",
     "output_type": "stream",
     "text": [
      "coordX\n",
      "coordY\n"
     ]
    }
   ],
   "source": [
    "#дескриптор - это специальный класс, в котором определены специальные методы - гет, сет, делит (хз, только они или еще другие)\n",
    "#имя класса может быть любым\n",
    "#геттер должен возвращать, а сеттер - присваивать\n",
    "class CoordValue:\n",
    "    def __set_name__(self, owner, name):\n",
    "        print(name)\n",
    "        self.__name = name\n",
    "    def __get__(self, instance, owner):\n",
    "        return instance.__dict__[self.__name] #из коллекции дикт мы по имени берем нужное свойство\n",
    "    def __set__(self, instance, value):\n",
    "        instance.__dict__[self.__name] = value #ссылается на тот экземпляр клаасса, для которого был вызван дескриптор, \n",
    "        #чтобы в разных переменных не было ссылки на одинаковые значения\n",
    "\n",
    "        \n",
    "class Point:\n",
    "    coordX = CoordValue() #это и есть дескрипторы, хотя не совсем верная их реализация(хз, почему)\n",
    "    coordY = CoordValue() #при вызове обращаемся именно к этому объекту, а не к CoordValue\n",
    "    def __init__(self, x=0, y=0):\n",
    "        self.coordX = x  \n",
    "        self.coordY = y\n"
   ]
  },
  {
   "cell_type": "code",
   "execution_count": 35,
   "metadata": {},
   "outputs": [],
   "source": [
    "#эти дескрипторы можно использовать как обычные свойства, присвоить значение и вывести их через консоль\n",
    "pt = Point(10, 20)\n",
    "pt2 = Point(1, 2)"
   ]
  },
  {
   "cell_type": "code",
   "execution_count": 36,
   "metadata": {},
   "outputs": [
    {
     "name": "stdout",
     "output_type": "stream",
     "text": [
      "7 3\n",
      "1 2\n"
     ]
    }
   ],
   "source": [
    "pt.coordX = 7\n",
    "pt.coordY = 3\n",
    "print(pt.coordX, pt.coordY)\n",
    "print(pt2.coordX, pt2.coordY)\n"
   ]
  },
  {
   "cell_type": "code",
   "execution_count": 38,
   "metadata": {},
   "outputs": [],
   "source": [
    "#класс CoordValue - это дескриптор, благодаря этому классу мы уже в другом классе Point можем создавать экземпляры класса Point\n",
    "#вот в таком виде coordX = CoordValue(), коордХ и У - это переменные, которые ссылаются на экземпляры класса \n",
    "#причем используются данные из класса Point\n",
    "#если в классе или базовом классе есть дескриптор с тем же именем, что и локальное свойство, то приоритет \n",
    "#вызова отдается дескриптору"
   ]
  },
  {
   "cell_type": "code",
   "execution_count": null,
   "metadata": {},
   "outputs": [],
   "source": []
  },
  {
   "cell_type": "code",
   "execution_count": null,
   "metadata": {},
   "outputs": [],
   "source": []
  }
 ],
 "metadata": {
  "kernelspec": {
   "display_name": "Python 3",
   "language": "python",
   "name": "python3"
  },
  "language_info": {
   "codemirror_mode": {
    "name": "ipython",
    "version": 3
   },
   "file_extension": ".py",
   "mimetype": "text/x-python",
   "name": "python",
   "nbconvert_exporter": "python",
   "pygments_lexer": "ipython3",
   "version": "3.8.5"
  }
 },
 "nbformat": 4,
 "nbformat_minor": 4
}
