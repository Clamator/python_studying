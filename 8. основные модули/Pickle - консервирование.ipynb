{
 "cells": [
  {
   "cell_type": "code",
   "execution_count": null,
   "metadata": {},
   "outputs": [],
   "source": [
    "сериализация - процесс перевода структуры данных в последовательность битов,обратно - десериализция\n",
    "сериализация нужна для сохранения объектов в файл, а потом уже иметь возможность восстановить объекты в памяти,\n",
    "даже если там есть экземпляр класса, который имеет ссылку на другой ЭК, и тд, всё это спокойно переведется, тут \n",
    "можно выбирать какое угодно расширение\n",
    "\n",
    "называется этот процесс пиклинг - маринование, консервирование"
   ]
  },
  {
   "cell_type": "code",
   "execution_count": 34,
   "metadata": {},
   "outputs": [],
   "source": [
    "class Character:\n",
    "    def __init__(self, race, damage = 10):\n",
    "        self.race = race\n",
    "        self.damage = damage\n",
    "        self.health = 100\n",
    "        \n",
    "    def hit(self, damage):\n",
    "        self.health -= damage\n",
    "    \n",
    "    def is_dead(self):\n",
    "        return self.health == 0"
   ]
  },
  {
   "cell_type": "code",
   "execution_count": 35,
   "metadata": {},
   "outputs": [
    {
     "data": {
      "text/plain": [
       "80"
      ]
     },
     "execution_count": 35,
     "metadata": {},
     "output_type": "execute_result"
    }
   ],
   "source": [
    "elf = Character('Elf')\n",
    "elf.hit(20)\n",
    "elf.health"
   ]
  },
  {
   "cell_type": "code",
   "execution_count": 36,
   "metadata": {},
   "outputs": [],
   "source": [
    "#вот это для сохранения файла, дамп - это именно сохранение, указываем расширение, и тд\n",
    "import pickle\n",
    "with open(r\"F:\\01Обучение\\game_state.bin\", \"w+b\") as file:\n",
    "    pickle.dump(elf, file)"
   ]
  },
  {
   "cell_type": "code",
   "execution_count": 37,
   "metadata": {},
   "outputs": [
    {
     "name": "stdout",
     "output_type": "stream",
     "text": [
      "None\n"
     ]
    }
   ],
   "source": [
    "#тут сейчас мы очищаем файл\n",
    "elf = None\n",
    "print(elf)"
   ]
  },
  {
   "cell_type": "code",
   "execution_count": 38,
   "metadata": {},
   "outputs": [
    {
     "name": "stdout",
     "output_type": "stream",
     "text": [
      "80\n"
     ]
    }
   ],
   "source": [
    "#а тут щя будем восстанавливать\n",
    "with open(r\"F:\\01Обучение\\game_state.bin\", \"rb\") as file:\n",
    "    elf = pickle.load(file)\n",
    "\n",
    "print(elf.health)\n",
    "#видно, что он у нас загрузился с той же инфой, все ок"
   ]
  },
  {
   "cell_type": "code",
   "execution_count": null,
   "metadata": {},
   "outputs": [],
   "source": []
  },
  {
   "cell_type": "code",
   "execution_count": null,
   "metadata": {},
   "outputs": [],
   "source": [
    "!однако что следует знать и помнить!\n",
    "при процессе восстановления данных инициализация объекта не происходит(init не вызывается, но вызывается new), чем это чревато:\n",
    "    если в классе были изменения, которые, например, затронули имена атрибутов объекта или их количество, добавив к \n",
    "    расе и урону еще и броню, то эти изменения не отражаются в распакованном объекте\n",
    "\n",
    "в уроке здесь использовали __dict__, чтобы проверить пространство имен, и там при добавлении брони в инит\n",
    "при восстановлении броня не появлялась\n",
    "\n",
    "тут на помощь приходят дандер методы, getstate - определяет, что будет консервироваться, а setstate - процесс расконсервирования"
   ]
  },
  {
   "cell_type": "code",
   "execution_count": 39,
   "metadata": {},
   "outputs": [],
   "source": [
    "#сюда добавил армор\n",
    "class Character:\n",
    "    def __init__(self, race, armor, damage = 10):\n",
    "        self.race = race\n",
    "        self.damage = damage\n",
    "        self.armor = armor\n",
    "        self.health = 100\n",
    "        \n",
    "    def hit(self, damage):\n",
    "        self.health -= damage\n",
    "    \n",
    "    def is_dead(self):\n",
    "        return self.health == 0\n",
    "    \n",
    "    def __setstate__(self, state):\n",
    "        self.race = state.get(\"race\", 'Elf') #раса - если ее нет, по умолчанию ставить Эльфа и тд с другим\n",
    "        self.damage = state.get(\"damage\", 10)\n",
    "        self.armor = state.get(\"armor\", 20)\n",
    "        self.health = state.get(\"health\", 100)"
   ]
  },
  {
   "cell_type": "code",
   "execution_count": 40,
   "metadata": {},
   "outputs": [
    {
     "name": "stdout",
     "output_type": "stream",
     "text": [
      "80\n",
      "{'race': 'Elf', 'damage': 10, 'armor': 20, 'health': 80}\n"
     ]
    }
   ],
   "source": [
    "#вот, появился армор\n",
    "with open(r\"F:\\01Обучение\\game_state.bin\", \"rb\") as file:\n",
    "    elf = pickle.load(file)\n",
    "\n",
    "print(elf.health)\n",
    "\n",
    "print(elf.__dict__)"
   ]
  },
  {
   "cell_type": "code",
   "execution_count": null,
   "metadata": {},
   "outputs": [],
   "source": [
    "закодировать можно во что угодно, тема большая очень"
   ]
  }
 ],
 "metadata": {
  "kernelspec": {
   "display_name": "Python 3",
   "language": "python",
   "name": "python3"
  },
  "language_info": {
   "codemirror_mode": {
    "name": "ipython",
    "version": 3
   },
   "file_extension": ".py",
   "mimetype": "text/x-python",
   "name": "python",
   "nbconvert_exporter": "python",
   "pygments_lexer": "ipython3",
   "version": "3.8.5"
  }
 },
 "nbformat": 4,
 "nbformat_minor": 4
}
