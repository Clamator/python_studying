{
 "cells": [
  {
   "cell_type": "raw",
   "metadata": {},
   "source": [
    "небольшая подводка будет\n",
    "допустим, мы хотим создать функцию, которая будет выводить энное количество рандомных цифр"
   ]
  },
  {
   "cell_type": "code",
   "execution_count": 1,
   "metadata": {},
   "outputs": [],
   "source": [
    "import random\n",
    "def random_nums(min, max, n):\n",
    "    return [random.randint(min, max) for el in range(n)]"
   ]
  },
  {
   "cell_type": "code",
   "execution_count": 2,
   "metadata": {},
   "outputs": [
    {
     "data": {
      "text/plain": [
       "[39, 65, 62, 83, 72, 82, 25]"
      ]
     },
     "execution_count": 2,
     "metadata": {},
     "output_type": "execute_result"
    }
   ],
   "source": [
    "random_nums(0, 100, 7)"
   ]
  },
  {
   "cell_type": "code",
   "execution_count": 3,
   "metadata": {},
   "outputs": [
    {
     "name": "stdout",
     "output_type": "stream",
     "text": [
      "87 10 41 38 9 "
     ]
    }
   ],
   "source": [
    "for i in random_nums(0, 100, 5):\n",
    "    print(i, end = ' ')"
   ]
  },
  {
   "cell_type": "raw",
   "metadata": {},
   "source": [
    "однако в данном выводе есть определенная проблема, она заключается в том, что цифры выводятся сразу,\n",
    "сразу занимают место в памяти, если объемы будут большие, то и занимать оперативки они будут много\n",
    "можно выводить поэтапно по мере необходимости благодаря лейзи эвалюэйшн"
   ]
  },
  {
   "cell_type": "code",
   "execution_count": 4,
   "metadata": {},
   "outputs": [
    {
     "name": "stdout",
     "output_type": "stream",
     "text": [
      "18\n",
      "18\n",
      "16\n"
     ]
    }
   ],
   "source": [
    "def randoms(min, max, n):\n",
    "    for i in range(n):\n",
    "        yield random.randint(min, max)\n",
    "\n",
    "for i in randoms(10,20,3):\n",
    "    print(i)"
   ]
  },
  {
   "cell_type": "raw",
   "metadata": {},
   "source": [
    "на первый взгляд ничего не меняется, но если посмотреть внутрь, то будет видно, что это объект типа генератор"
   ]
  },
  {
   "cell_type": "code",
   "execution_count": 5,
   "metadata": {},
   "outputs": [
    {
     "data": {
      "text/plain": [
       "<generator object randoms at 0x000001B85C8E04A0>"
      ]
     },
     "execution_count": 5,
     "metadata": {},
     "output_type": "execute_result"
    }
   ],
   "source": [
    "show = randoms(10,20,3)\n",
    "show"
   ]
  },
  {
   "cell_type": "raw",
   "metadata": {},
   "source": [
    "однако нужно иметь в вижу, что по генератору можно пройтись только лишь один раз, перемотать обратно нельзя\n",
    "тут нужно либо создать объект генератора заново, либо обращать в список вызов функции"
   ]
  },
  {
   "cell_type": "code",
   "execution_count": 6,
   "metadata": {},
   "outputs": [
    {
     "name": "stdout",
     "output_type": "stream",
     "text": [
      "19\n",
      "12\n",
      "16\n"
     ]
    }
   ],
   "source": [
    "for el in show:\n",
    "    print(el)"
   ]
  },
  {
   "cell_type": "code",
   "execution_count": 7,
   "metadata": {},
   "outputs": [],
   "source": [
    "for el in show:\n",
    "    print(el)\n",
    "    \n",
    "#тут уже пусто, хотя запрос на вывод был"
   ]
  },
  {
   "cell_type": "code",
   "execution_count": 8,
   "metadata": {},
   "outputs": [
    {
     "name": "stdout",
     "output_type": "stream",
     "text": [
      "[15, 20, 20]\n"
     ]
    }
   ],
   "source": [
    "#если новый объект не создавать, то можно обернуть все это в лист, тогда будет нормально при повторном вызове\n",
    "show2 = list(randoms(10,20,3))\n",
    "print(show2)"
   ]
  },
  {
   "cell_type": "raw",
   "metadata": {},
   "source": [
    "для того, чтобы из энного числа запрашиваемых элементов взять меньшую часть, например, 5, можно использовать специальный модуль\n",
    "итертулс"
   ]
  },
  {
   "cell_type": "code",
   "execution_count": 9,
   "metadata": {},
   "outputs": [],
   "source": [
    "import itertools\n",
    "def randoms(min, max, n):\n",
    "    for i in range(n):\n",
    "        yield random.randint(min, max)\n",
    "        \n",
    "rand_nums = randoms(0, 20, 9)\n",
    "five_nums = list(itertools.islice(rand_nums, 5))"
   ]
  },
  {
   "cell_type": "code",
   "execution_count": 10,
   "metadata": {},
   "outputs": [
    {
     "data": {
      "text/plain": [
       "[5, 2, 6, 1, 2]"
      ]
     },
     "execution_count": 10,
     "metadata": {},
     "output_type": "execute_result"
    }
   ],
   "source": [
    "five_nums"
   ]
  },
  {
   "cell_type": "raw",
   "metadata": {},
   "source": [
    "в примере выше в функции рандомс мы указали, что надо в диапазоне от 0 до 20 сгенерировать 9 чисел, но потом мы взяли только пять, а если мы не знаем, сколько было сгенерировано чисел? вдруг, мы захотим взять 10, а можем взять только 5\n",
    "для этого надо немного поправить код"
   ]
  },
  {
   "cell_type": "code",
   "execution_count": 11,
   "metadata": {},
   "outputs": [],
   "source": [
    "def randomik(min, max):\n",
    "    while True:\n",
    "        yield random.randint(min, max)"
   ]
  },
  {
   "cell_type": "code",
   "execution_count": 12,
   "metadata": {},
   "outputs": [],
   "source": [
    "#вот тут надо обязательно указывать количество выводимых символов, иначе будет бесконечный цикл\n",
    "generate_nums = randomik(0, 500)\n",
    "take_five = list(itertools.islice(generate_nums, 5))"
   ]
  },
  {
   "cell_type": "code",
   "execution_count": 13,
   "metadata": {},
   "outputs": [
    {
     "name": "stdout",
     "output_type": "stream",
     "text": [
      "40 148 186 319 61 "
     ]
    }
   ],
   "source": [
    "for i in take_five:\n",
    "    print(i, end = ' ')"
   ]
  },
  {
   "cell_type": "code",
   "execution_count": 15,
   "metadata": {},
   "outputs": [],
   "source": []
  },
  {
   "cell_type": "code",
   "execution_count": null,
   "metadata": {},
   "outputs": [],
   "source": []
  },
  {
   "cell_type": "code",
   "execution_count": 22,
   "metadata": {},
   "outputs": [],
   "source": [
    "def randomchik(min, max):\n",
    "    i = 0\n",
    "    while i < 5:\n",
    "        i += 1\n",
    "        yield random.randint(min, max)"
   ]
  },
  {
   "cell_type": "code",
   "execution_count": 36,
   "metadata": {},
   "outputs": [],
   "source": [
    "gen_nums = randomchik(0, 100)"
   ]
  },
  {
   "cell_type": "code",
   "execution_count": 37,
   "metadata": {},
   "outputs": [
    {
     "name": "stdout",
     "output_type": "stream",
     "text": [
      "37 20 61 12 54 "
     ]
    }
   ],
   "source": [
    "for el in gen_nums:\n",
    "    print(el, end = ' ')"
   ]
  },
  {
   "cell_type": "raw",
   "metadata": {},
   "source": [
    "можно также считывать файлы построчно"
   ]
  },
  {
   "cell_type": "code",
   "execution_count": 20,
   "metadata": {},
   "outputs": [
    {
     "name": "stdout",
     "output_type": "stream",
     "text": [
      "line 1\n",
      "line 2\n",
      "line 3\n",
      "line 5\n",
      "line 6\n",
      "nothing happens now\n"
     ]
    }
   ],
   "source": [
    "def read_line_by_line(file):\n",
    "    while True:\n",
    "        line = file.readline()\n",
    "        if not line:\n",
    "            break\n",
    "        yield line\n",
    "\n",
    "file = open(f'C:\\\\readline.txt')\n",
    "for line in read_line_by_line(file):\n",
    "    print(line.rstrip())"
   ]
  },
  {
   "cell_type": "code",
   "execution_count": 41,
   "metadata": {},
   "outputs": [],
   "source": [
    "def read_line_by_line():\n",
    "\n",
    "    while True:\n",
    "        line = file.readline()\n",
    "        if not line:\n",
    "            break\n",
    "        yield line\n",
    "\n",
    "file = open(f'C:\\\\readline.txt')"
   ]
  },
  {
   "cell_type": "code",
   "execution_count": 43,
   "metadata": {},
   "outputs": [
    {
     "name": "stdout",
     "output_type": "stream",
     "text": [
      "line 2\n",
      "\n"
     ]
    }
   ],
   "source": [
    "print(next(read_line_by_line()))"
   ]
  },
  {
   "cell_type": "raw",
   "metadata": {},
   "source": [
    "с помощью функции next мы можем насильно генерировать следующее значение"
   ]
  },
  {
   "cell_type": "code",
   "execution_count": 41,
   "metadata": {},
   "outputs": [
    {
     "name": "stdout",
     "output_type": "stream",
     "text": [
      "30\n",
      "78\n",
      "49\n"
     ]
    }
   ],
   "source": [
    "gen_nums = randomchik(0, 100)\n",
    "print(next(gen_nums))\n",
    "print(next(gen_nums))\n",
    "print(next(gen_nums))"
   ]
  },
  {
   "cell_type": "raw",
   "metadata": {},
   "source": [
    "есть л-к, он делает список элементов, а можн сделать также объект в памяти, из которого можно выводить элементы"
   ]
  },
  {
   "cell_type": "code",
   "execution_count": 42,
   "metadata": {},
   "outputs": [
    {
     "name": "stdout",
     "output_type": "stream",
     "text": [
      "[1, 4, 9, 16, 25]\n"
     ]
    }
   ],
   "source": [
    "#л-к\n",
    "my_lst = [1,2,3,4,5]\n",
    "squares = [i**2 for i in my_lst]\n",
    "print(squares)"
   ]
  },
  {
   "cell_type": "code",
   "execution_count": 53,
   "metadata": {},
   "outputs": [
    {
     "name": "stdout",
     "output_type": "stream",
     "text": [
      "<generator object <genexpr> at 0x000001B85F5B4B30>\n"
     ]
    }
   ],
   "source": [
    "my_lst = [1,2,3,4,5]\n",
    "squares = (i**2 for i in my_lst)\n",
    "print(squares)"
   ]
  },
  {
   "cell_type": "code",
   "execution_count": 54,
   "metadata": {},
   "outputs": [
    {
     "name": "stdout",
     "output_type": "stream",
     "text": [
      "1 4 9 16 25 "
     ]
    }
   ],
   "source": [
    "for i in squares:\n",
    "    print(i, end = ' ')"
   ]
  },
  {
   "cell_type": "code",
   "execution_count": 5,
   "metadata": {},
   "outputs": [],
   "source": [
    "import itertools\n",
    "def generate_quest(self):\n",
    "    filename = \"C:\\Questions.csv\"  # это сам файл непосредственно\n",
    "    lines = []\n",
    "    lst = []\n",
    "    with open(filename,\n",
    "              encoding='utf-8') as file:  # тут мы просто открываем файл, считываем построчно и доюавляем в список\n",
    "        for line in file:\n",
    "            lines.append(line.strip('\\n'))\n",
    "\n",
    "        for el in lines:\n",
    "            lst.append(el.split(';'))\n",
    "    lst2 = [tuple(i) for i in lst]\n",
    "    yield lst2"
   ]
  },
  {
   "cell_type": "code",
   "execution_count": 6,
   "metadata": {},
   "outputs": [
    {
     "ename": "TypeError",
     "evalue": "generate_quest() missing 1 required positional argument: 'self'",
     "output_type": "error",
     "traceback": [
      "\u001b[1;31m---------------------------------------------------------------------------\u001b[0m",
      "\u001b[1;31mTypeError\u001b[0m                                 Traceback (most recent call last)",
      "\u001b[1;32m<ipython-input-6-5c7b2194d45c>\u001b[0m in \u001b[0;36m<module>\u001b[1;34m\u001b[0m\n\u001b[1;32m----> 1\u001b[1;33m \u001b[1;32mfor\u001b[0m \u001b[0mquest\u001b[0m \u001b[1;32min\u001b[0m \u001b[0mgenerate_quest\u001b[0m\u001b[1;33m(\u001b[0m\u001b[1;33m)\u001b[0m\u001b[1;33m:\u001b[0m\u001b[1;33m\u001b[0m\u001b[1;33m\u001b[0m\u001b[0m\n\u001b[0m\u001b[0;32m      2\u001b[0m     \u001b[0mprint\u001b[0m\u001b[1;33m(\u001b[0m\u001b[0mquest\u001b[0m\u001b[1;33m.\u001b[0m\u001b[0mrstrip\u001b[0m\u001b[1;33m(\u001b[0m\u001b[1;33m)\u001b[0m\u001b[1;33m)\u001b[0m\u001b[1;33m\u001b[0m\u001b[1;33m\u001b[0m\u001b[0m\n",
      "\u001b[1;31mTypeError\u001b[0m: generate_quest() missing 1 required positional argument: 'self'"
     ]
    }
   ],
   "source": [
    "for quest in generate_quest():\n",
    "    print(quest.rstrip())"
   ]
  },
  {
   "cell_type": "code",
   "execution_count": 12,
   "metadata": {},
   "outputs": [],
   "source": [
    " # тоже может пригодиться\n",
    "def generate_quest(lst):\n",
    "    for que, ans, desc in lst:\n",
    "        yield que, ans, desc\n",
    "\n",
    "filename = \"C:\\Questions.csv\"  # это сам файл непосредственно\n",
    "lines = []\n",
    "lst = []\n",
    "with open(filename,\n",
    "          encoding='utf-8') as file:  # тут мы просто открываем файл, считываем построчно и доюавляем в список\n",
    "    for line in file:\n",
    "        lines.append(line.strip('\\n'))\n",
    "\n",
    "    for el in lines:\n",
    "        lst.append(el.split(';'))\n",
    "lst2 = [tuple(i) for i in lst]"
   ]
  },
  {
   "cell_type": "code",
   "execution_count": 14,
   "metadata": {},
   "outputs": [
    {
     "name": "stdout",
     "output_type": "stream",
     "text": [
      "Did sumerman always fly?\n",
      "The First Computer Was Invented in the 1940s\n",
      "Space Smells Like Seared Steak\n",
      "The Loch Ness is the national animal of Scotland\n",
      "Do bees sometimes sting other bees?\n"
     ]
    }
   ],
   "source": [
    "for que, ans, desc in generate_quest(lst2):\n",
    "    print(que)"
   ]
  },
  {
   "cell_type": "code",
   "execution_count": 17,
   "metadata": {},
   "outputs": [
    {
     "name": "stdout",
     "output_type": "stream",
     "text": [
      "('Did sumerman always fly?', 'No', 'The original comic book Superman could only leap tall buildings in a single bound.')\n"
     ]
    }
   ],
   "source": [
    "print(next(generate_quest(lst2)))"
   ]
  },
  {
   "cell_type": "code",
   "execution_count": null,
   "metadata": {},
   "outputs": [],
   "source": []
  }
 ],
 "metadata": {
  "kernelspec": {
   "display_name": "Python 3",
   "language": "python",
   "name": "python3"
  },
  "language_info": {
   "codemirror_mode": {
    "name": "ipython",
    "version": 3
   },
   "file_extension": ".py",
   "mimetype": "text/x-python",
   "name": "python",
   "nbconvert_exporter": "python",
   "pygments_lexer": "ipython3",
   "version": "3.8.5"
  }
 },
 "nbformat": 4,
 "nbformat_minor": 4
}
