{
 "cells": [
  {
   "cell_type": "code",
   "execution_count": 1,
   "metadata": {},
   "outputs": [],
   "source": [
    "import json"
   ]
  },
  {
   "cell_type": "code",
   "execution_count": 2,
   "metadata": {},
   "outputs": [],
   "source": [
    "class Tournament:\n",
    "    def __init__(self, name, year):\n",
    "        self.name = name\n",
    "        self.year = year"
   ]
  },
  {
   "cell_type": "code",
   "execution_count": 3,
   "metadata": {},
   "outputs": [],
   "source": [
    "tournaments = {'WOA': 2007, 'Tuska OA' : 2008, 'New names': 2009}"
   ]
  },
  {
   "cell_type": "code",
   "execution_count": 4,
   "metadata": {},
   "outputs": [],
   "source": [
    "#при использовании этого jsonа тоже есть тема, типа консервирование - пикл, сохранение и загрузка из файла\n",
    "#только тут есть два момента\n",
    "#dumps - возвращает строчку в виде джейсона, а dump - сохраняет на диск\n",
    "#loads - чтобы преобразовать объект джейсона в объект питона, и есть load из файла\n",
    "\n",
    "#лоадс и дампс работает со строкой, а лоад и дамп - с файлом"
   ]
  },
  {
   "cell_type": "code",
   "execution_count": 5,
   "metadata": {},
   "outputs": [
    {
     "name": "stdout",
     "output_type": "stream",
     "text": [
      "{\n",
      "  \"WOA\": 2007,\n",
      "  \"Tuska OA\": 2008,\n",
      "  \"New names\": 2009\n",
      "}\n",
      "{'WOA': 2007, 'Tuska OA': 2008, 'New names': 2009}\n"
     ]
    }
   ],
   "source": [
    "json_data = json.dumps(tournaments, indent = 2) #сериализация, консервирования\n",
    "print(json_data)\n",
    "\n",
    "loaded = json.loads(json_data)\n",
    "print(loaded)"
   ]
  },
  {
   "cell_type": "code",
   "execution_count": 6,
   "metadata": {},
   "outputs": [],
   "source": [
    "#следует знать, что сложные объекты не могут быть автоматически переведены в джейсон, к ним относятся\n",
    "#dict = object\n",
    "#list, tuple = array\n",
    "#str = string\n",
    "#int, float, long = number\n",
    "#True/False = true/false\n",
    "#None = null\n",
    "\n",
    "\n",
    "#если делать наоборот, то\n",
    "#Таблица конвертации JSON в данные Python:\n",
    "#\n",
    "#JSON\tPython\n",
    "#object\tdict\n",
    "#array\tlist\n",
    "#string\tstr\n",
    "#number (int)\tint\n",
    "#number (real)\tfloat\n",
    "#true\tTrue\n",
    "#false\tFalse\n",
    "#null\tNone\n",
    "#при попытке заджейсонить класс, мы получим ошибку, что класс не мб сериализован"
   ]
  },
  {
   "cell_type": "code",
   "execution_count": 7,
   "metadata": {},
   "outputs": [],
   "source": [
    "t1 = Tournament('Tuska', 2009)"
   ]
  },
  {
   "cell_type": "code",
   "execution_count": 8,
   "metadata": {},
   "outputs": [
    {
     "ename": "TypeError",
     "evalue": "Object of type Tournament is not JSON serializable",
     "output_type": "error",
     "traceback": [
      "\u001b[1;31m---------------------------------------------------------------------------\u001b[0m",
      "\u001b[1;31mTypeError\u001b[0m                                 Traceback (most recent call last)",
      "\u001b[1;32m<ipython-input-8-c1015ba55b09>\u001b[0m in \u001b[0;36m<module>\u001b[1;34m\u001b[0m\n\u001b[1;32m----> 1\u001b[1;33m \u001b[0mt1j\u001b[0m \u001b[1;33m=\u001b[0m \u001b[0mjson\u001b[0m\u001b[1;33m.\u001b[0m\u001b[0mdumps\u001b[0m\u001b[1;33m(\u001b[0m\u001b[0mt1\u001b[0m\u001b[1;33m,\u001b[0m \u001b[0mindent\u001b[0m \u001b[1;33m=\u001b[0m \u001b[1;36m2\u001b[0m\u001b[1;33m)\u001b[0m\u001b[1;33m\u001b[0m\u001b[1;33m\u001b[0m\u001b[0m\n\u001b[0m",
      "\u001b[1;32mC:\\Program Files\\Anaconda\\lib\\json\\__init__.py\u001b[0m in \u001b[0;36mdumps\u001b[1;34m(obj, skipkeys, ensure_ascii, check_circular, allow_nan, cls, indent, separators, default, sort_keys, **kw)\u001b[0m\n\u001b[0;32m    232\u001b[0m     \u001b[1;32mif\u001b[0m \u001b[0mcls\u001b[0m \u001b[1;32mis\u001b[0m \u001b[1;32mNone\u001b[0m\u001b[1;33m:\u001b[0m\u001b[1;33m\u001b[0m\u001b[1;33m\u001b[0m\u001b[0m\n\u001b[0;32m    233\u001b[0m         \u001b[0mcls\u001b[0m \u001b[1;33m=\u001b[0m \u001b[0mJSONEncoder\u001b[0m\u001b[1;33m\u001b[0m\u001b[1;33m\u001b[0m\u001b[0m\n\u001b[1;32m--> 234\u001b[1;33m     return cls(\n\u001b[0m\u001b[0;32m    235\u001b[0m         \u001b[0mskipkeys\u001b[0m\u001b[1;33m=\u001b[0m\u001b[0mskipkeys\u001b[0m\u001b[1;33m,\u001b[0m \u001b[0mensure_ascii\u001b[0m\u001b[1;33m=\u001b[0m\u001b[0mensure_ascii\u001b[0m\u001b[1;33m,\u001b[0m\u001b[1;33m\u001b[0m\u001b[1;33m\u001b[0m\u001b[0m\n\u001b[0;32m    236\u001b[0m         \u001b[0mcheck_circular\u001b[0m\u001b[1;33m=\u001b[0m\u001b[0mcheck_circular\u001b[0m\u001b[1;33m,\u001b[0m \u001b[0mallow_nan\u001b[0m\u001b[1;33m=\u001b[0m\u001b[0mallow_nan\u001b[0m\u001b[1;33m,\u001b[0m \u001b[0mindent\u001b[0m\u001b[1;33m=\u001b[0m\u001b[0mindent\u001b[0m\u001b[1;33m,\u001b[0m\u001b[1;33m\u001b[0m\u001b[1;33m\u001b[0m\u001b[0m\n",
      "\u001b[1;32mC:\\Program Files\\Anaconda\\lib\\json\\encoder.py\u001b[0m in \u001b[0;36mencode\u001b[1;34m(self, o)\u001b[0m\n\u001b[0;32m    199\u001b[0m         \u001b[0mchunks\u001b[0m \u001b[1;33m=\u001b[0m \u001b[0mself\u001b[0m\u001b[1;33m.\u001b[0m\u001b[0miterencode\u001b[0m\u001b[1;33m(\u001b[0m\u001b[0mo\u001b[0m\u001b[1;33m,\u001b[0m \u001b[0m_one_shot\u001b[0m\u001b[1;33m=\u001b[0m\u001b[1;32mTrue\u001b[0m\u001b[1;33m)\u001b[0m\u001b[1;33m\u001b[0m\u001b[1;33m\u001b[0m\u001b[0m\n\u001b[0;32m    200\u001b[0m         \u001b[1;32mif\u001b[0m \u001b[1;32mnot\u001b[0m \u001b[0misinstance\u001b[0m\u001b[1;33m(\u001b[0m\u001b[0mchunks\u001b[0m\u001b[1;33m,\u001b[0m \u001b[1;33m(\u001b[0m\u001b[0mlist\u001b[0m\u001b[1;33m,\u001b[0m \u001b[0mtuple\u001b[0m\u001b[1;33m)\u001b[0m\u001b[1;33m)\u001b[0m\u001b[1;33m:\u001b[0m\u001b[1;33m\u001b[0m\u001b[1;33m\u001b[0m\u001b[0m\n\u001b[1;32m--> 201\u001b[1;33m             \u001b[0mchunks\u001b[0m \u001b[1;33m=\u001b[0m \u001b[0mlist\u001b[0m\u001b[1;33m(\u001b[0m\u001b[0mchunks\u001b[0m\u001b[1;33m)\u001b[0m\u001b[1;33m\u001b[0m\u001b[1;33m\u001b[0m\u001b[0m\n\u001b[0m\u001b[0;32m    202\u001b[0m         \u001b[1;32mreturn\u001b[0m \u001b[1;34m''\u001b[0m\u001b[1;33m.\u001b[0m\u001b[0mjoin\u001b[0m\u001b[1;33m(\u001b[0m\u001b[0mchunks\u001b[0m\u001b[1;33m)\u001b[0m\u001b[1;33m\u001b[0m\u001b[1;33m\u001b[0m\u001b[0m\n\u001b[0;32m    203\u001b[0m \u001b[1;33m\u001b[0m\u001b[0m\n",
      "\u001b[1;32mC:\\Program Files\\Anaconda\\lib\\json\\encoder.py\u001b[0m in \u001b[0;36m_iterencode\u001b[1;34m(o, _current_indent_level)\u001b[0m\n\u001b[0;32m    436\u001b[0m                     \u001b[1;32mraise\u001b[0m \u001b[0mValueError\u001b[0m\u001b[1;33m(\u001b[0m\u001b[1;34m\"Circular reference detected\"\u001b[0m\u001b[1;33m)\u001b[0m\u001b[1;33m\u001b[0m\u001b[1;33m\u001b[0m\u001b[0m\n\u001b[0;32m    437\u001b[0m                 \u001b[0mmarkers\u001b[0m\u001b[1;33m[\u001b[0m\u001b[0mmarkerid\u001b[0m\u001b[1;33m]\u001b[0m \u001b[1;33m=\u001b[0m \u001b[0mo\u001b[0m\u001b[1;33m\u001b[0m\u001b[1;33m\u001b[0m\u001b[0m\n\u001b[1;32m--> 438\u001b[1;33m             \u001b[0mo\u001b[0m \u001b[1;33m=\u001b[0m \u001b[0m_default\u001b[0m\u001b[1;33m(\u001b[0m\u001b[0mo\u001b[0m\u001b[1;33m)\u001b[0m\u001b[1;33m\u001b[0m\u001b[1;33m\u001b[0m\u001b[0m\n\u001b[0m\u001b[0;32m    439\u001b[0m             \u001b[1;32myield\u001b[0m \u001b[1;32mfrom\u001b[0m \u001b[0m_iterencode\u001b[0m\u001b[1;33m(\u001b[0m\u001b[0mo\u001b[0m\u001b[1;33m,\u001b[0m \u001b[0m_current_indent_level\u001b[0m\u001b[1;33m)\u001b[0m\u001b[1;33m\u001b[0m\u001b[1;33m\u001b[0m\u001b[0m\n\u001b[0;32m    440\u001b[0m             \u001b[1;32mif\u001b[0m \u001b[0mmarkers\u001b[0m \u001b[1;32mis\u001b[0m \u001b[1;32mnot\u001b[0m \u001b[1;32mNone\u001b[0m\u001b[1;33m:\u001b[0m\u001b[1;33m\u001b[0m\u001b[1;33m\u001b[0m\u001b[0m\n",
      "\u001b[1;32mC:\\Program Files\\Anaconda\\lib\\json\\encoder.py\u001b[0m in \u001b[0;36mdefault\u001b[1;34m(self, o)\u001b[0m\n\u001b[0;32m    177\u001b[0m \u001b[1;33m\u001b[0m\u001b[0m\n\u001b[0;32m    178\u001b[0m         \"\"\"\n\u001b[1;32m--> 179\u001b[1;33m         raise TypeError(f'Object of type {o.__class__.__name__} '\n\u001b[0m\u001b[0;32m    180\u001b[0m                         f'is not JSON serializable')\n\u001b[0;32m    181\u001b[0m \u001b[1;33m\u001b[0m\u001b[0m\n",
      "\u001b[1;31mTypeError\u001b[0m: Object of type Tournament is not JSON serializable"
     ]
    }
   ],
   "source": [
    "t1j = json.dumps(t1, indent = 2)"
   ]
  },
  {
   "cell_type": "code",
   "execution_count": 9,
   "metadata": {},
   "outputs": [
    {
     "name": "stdout",
     "output_type": "stream",
     "text": [
      "{\n",
      "  \"name\": \"Tuska\",\n",
      "  \"year\": 2009\n",
      "}\n",
      "name = Tuska, year = 2009\n"
     ]
    }
   ],
   "source": [
    "#чтобы засериализовать класс, его надо сделать сериализуемым\n",
    "#есть дандер метод __dict__, который возвращает атрибуты и их значения\n",
    "#надо в дампс передавать словарь инстанции (в нашем случае класса торнамент)\n",
    "\n",
    "t1j = json.dumps(t1.__dict__, indent = 2) #дикт - это и есть словарь атрибутов и значений\n",
    "print(t1j)\n",
    "\n",
    "t2 = Tournament(**json.loads(t1j)) #тут, как я понял, мы выгружаем данные и формируем экземпрял класса\n",
    "print(f'name = {t2.name}, year = {t2.year}') #тут видим, что экз был создан, у него есть атрибуты со значениями"
   ]
  },
  {
   "cell_type": "raw",
   "metadata": {},
   "source": [
    "если задачу немного усложнить, и, например, передавать не один экземпляр класса с определенными атрибутами для сериализации, \n",
    "а экземпляр, который принимает, например, список тех же самых экз классов, там будет другая система\n",
    "при вызове ф-и дампс есть такой параметр как default, он принимает функцию, которая может позволить программе понять, \n",
    "что делать с принимаемой инфой, если непонятно сразу\n"
   ]
  },
  {
   "cell_type": "code",
   "execution_count": 11,
   "metadata": {},
   "outputs": [],
   "source": [
    "class Festival:\n",
    "    def __init__(self, name, year):\n",
    "        self.name = name\n",
    "        self.year = year\n",
    "        \n",
    "class MetalHead:\n",
    "    def __init__(self, festivals):\n",
    "        self.festivals = festivals"
   ]
  },
  {
   "cell_type": "code",
   "execution_count": 12,
   "metadata": {},
   "outputs": [],
   "source": [
    "#создаем фестивали, создаем персонажа, который принимает список фестов\n",
    "#далее мы начинаем джейсонить, передаем туда нашего персонажа и тот самый атрибут дефолт, в него передается функция,\n",
    "#которая говорит, что каждый объект надо раскрывать по словарю\n",
    "#есно, что может быть еще сложнее, но пока хватит\n",
    "f1 = Festival('Tuska', 2007)\n",
    "f2 = Festival('Wacken', 2007)\n",
    "f3 = Festival('MHM', 2007)\n",
    "\n",
    "metalhead = MetalHead([f1, f2, f3])\n",
    "mh_json = json.dumps(metalhead, default = lambda obj: obj.__dict__)"
   ]
  },
  {
   "cell_type": "code",
   "execution_count": 13,
   "metadata": {},
   "outputs": [
    {
     "name": "stdout",
     "output_type": "stream",
     "text": [
      "{\"festivals\": [{\"name\": \"Tuska\", \"year\": 2007}, {\"name\": \"Wacken\", \"year\": 2007}, {\"name\": \"MHM\", \"year\": 2007}]}\n"
     ]
    }
   ],
   "source": [
    "print(mh_json)"
   ]
  },
  {
   "cell_type": "code",
   "execution_count": 14,
   "metadata": {},
   "outputs": [
    {
     "name": "stdout",
     "output_type": "stream",
     "text": [
      "{'name': 'Tuska', 'year': 2007}\n"
     ]
    }
   ],
   "source": [
    "#запаковать - запаковали, а вот с распаковкой уже будут некоторый проблемы\n",
    "#если с отднльным экз класса все ок, у него есть атрибуты и прочее, а в текущей ситуации - уже будет \n",
    "#распаковываться как словарь\n",
    "\n",
    "all_festivals = MetalHead(**json.loads(mh_json))\n",
    "\n",
    "first_fest = all_festivals.festivals[0]\n",
    "print(first_fest)\n"
   ]
  },
  {
   "cell_type": "code",
   "execution_count": null,
   "metadata": {},
   "outputs": [],
   "source": [
    "#но эта тема тоже поправима\n",
    "#нужно создать класс метод в классе фестиваль, из которого будет парситься джейсон и воссоздаваться именно фестиваль"
   ]
  },
  {
   "cell_type": "code",
   "execution_count": 16,
   "metadata": {},
   "outputs": [],
   "source": [
    "class Festival:\n",
    "    def __init__(self, name, year):\n",
    "        self.name = name\n",
    "        self.year = year\n",
    "        \n",
    "    @classmethod\n",
    "    def from_json(cls, mh_json): #в mh_json приходит дикт, а мы возвращаем объект класса\n",
    "        return cls(**mh_json)\n",
    "    \n",
    "class MetalHead:\n",
    "    def __init__(self, festivals):\n",
    "        self.festivals = festivals\n",
    "    #чтобы создать металхеда, надо создать предварительно список турниров, \n",
    "    #фестивали - применяем метод фром_дж из фестиваля через функцию мап для каждого элемента из списка mh_json по ключу фести-и\n",
    "    @classmethod\n",
    "    def from_json(cls, mh_json):\n",
    "        festivals = list(map(Festival.from_json, mh_json['festivals']))\n",
    "        return cls(festivals)"
   ]
  },
  {
   "cell_type": "code",
   "execution_count": 17,
   "metadata": {},
   "outputs": [
    {
     "name": "stdout",
     "output_type": "stream",
     "text": [
      "{\"festivals\": [{\"name\": \"Tuska\", \"year\": 2007}, {\"name\": \"Wacken\", \"year\": 2007}, {\"name\": \"MHM\", \"year\": 2007}]}\n"
     ]
    }
   ],
   "source": [
    "f1 = Festival('Tuska', 2007)\n",
    "f2 = Festival('Wacken', 2007)\n",
    "f3 = Festival('MHM', 2007)\n",
    "\n",
    "metalhead = MetalHead([f1, f2, f3])\n",
    "mh_json = json.dumps(metalhead, default = lambda obj: obj.__dict__)\n",
    "print(mh_json)\n",
    "all_festivals = MetalHead.from_json(json.loads(mh_json))"
   ]
  },
  {
   "cell_type": "code",
   "execution_count": 18,
   "metadata": {},
   "outputs": [
    {
     "name": "stdout",
     "output_type": "stream",
     "text": [
      "<__main__.MetalHead object at 0x000001EA4037BD30>\n",
      "[<__main__.Festival object at 0x000001EA4037B100>, <__main__.Festival object at 0x000001EA4037BC70>, <__main__.Festival object at 0x000001EA4037BEE0>]\n"
     ]
    }
   ],
   "source": [
    "print(all_festivals)\n",
    "print(all_festivals.festivals)\n"
   ]
  },
  {
   "cell_type": "code",
   "execution_count": null,
   "metadata": {},
   "outputs": [],
   "source": []
  },
  {
   "cell_type": "code",
   "execution_count": 26,
   "metadata": {},
   "outputs": [
    {
     "name": "stdout",
     "output_type": "stream",
     "text": [
      "{'festivals': [{'name': 'Tuska', 'year': 2007}, {'name': 'Wacken', 'year': 2007}, {'name': 'MHM', 'year': 2007}]}\n"
     ]
    }
   ],
   "source": [
    "#если брать загрузку в файл, то примерно как и с пиклингом\n",
    "with open ('metalhead', 'w') as file:\n",
    "    json.dump(metalhead, file, default = lambda obj : obj.__dict__)\n",
    "    \n",
    "with open ('metalhead', 'r') as read_file:\n",
    "    data = json.load(read_file)\n",
    "    \n",
    "print(data)"
   ]
  },
  {
   "cell_type": "code",
   "execution_count": null,
   "metadata": {},
   "outputs": [],
   "source": [
    "#Кроме того, в JSON ключами словаря могут быть только строки. Но, если в словаре Python использовались числа, ошибки не будет.\n",
    "#Вместо этого выполнится конвертация чисел в строки:\n",
    "\n",
    "In [28]: d = {1: 100, 2: 200}\n",
    "\n",
    "In [29]: json.dumps(d)\n",
    "Out[29]: '{\"1\": 100, \"2\": 200}'"
   ]
  },
  {
   "cell_type": "code",
   "execution_count": 8,
   "metadata": {},
   "outputs": [],
   "source": [
    "import json\n",
    "lst = ('koshka', 'kot', 'kotik', 'koteika')\n",
    "lst_dumps = json.dumps(lst, sort_keys = False, indent = 2)"
   ]
  },
  {
   "cell_type": "code",
   "execution_count": 9,
   "metadata": {},
   "outputs": [
    {
     "name": "stdout",
     "output_type": "stream",
     "text": [
      "[\n",
      "  \"koshka\",\n",
      "  \"kot\",\n",
      "  \"kotik\",\n",
      "  \"koteika\"\n",
      "]\n"
     ]
    }
   ],
   "source": [
    "print(lst_dumps)"
   ]
  },
  {
   "cell_type": "code",
   "execution_count": 10,
   "metadata": {},
   "outputs": [
    {
     "name": "stdout",
     "output_type": "stream",
     "text": [
      "['koshka', 'kot', 'kotik', 'koteika']\n"
     ]
    }
   ],
   "source": [
    "extracted_cats = json.loads(lst_dumps)\n",
    "print(extracted_cats)"
   ]
  },
  {
   "cell_type": "code",
   "execution_count": 2,
   "metadata": {},
   "outputs": [
    {
     "name": "stdout",
     "output_type": "stream",
     "text": [
      "<class 'dict'>\n",
      "first_name - Александръ\n",
      "id - 209886677\n",
      "last_name - Хайбуллинъ\n",
      "can_access_closed - True\n",
      "is_closed - False\n",
      "photo_50 - https://sun1-15.u...c65/iLGOw_7ZC9A.jpg\n",
      "first_name - Оксана\n",
      "id - 14510834\n",
      "last_name - Козлова\n",
      "can_access_closed - True\n",
      "is_closed - False\n",
      "photo_50 - https://sun1-56.u...1382,1382&ava=1\n",
      "first_name - Ольга\n",
      "id - 65127354\n",
      "last_name - Чернова\n",
      "can_access_closed - True\n",
      "is_closed - False\n",
      "photo_50 - https://sun1-21.u...5,789,789&ava=1\n"
     ]
    }
   ],
   "source": [
    "import json\n",
    "string = \"\"\"\n",
    "{\n",
    "\"response\": {\n",
    "\"count\": 277,\n",
    "\"items\": [{\n",
    "\"first_name\": \"Александръ\",\n",
    "\"id\": 209886677,\n",
    "\"last_name\": \"Хайбуллинъ\",\n",
    "\"can_access_closed\": true,\n",
    "\"is_closed\": false,\n",
    "\"photo_50\": \"https://sun1-15.u...c65/iLGOw_7ZC9A.jpg\"\n",
    "}, {\n",
    "\"first_name\": \"Оксана\",\n",
    "\"id\": 14510834,\n",
    "\"last_name\": \"Козлова\",\n",
    "\"can_access_closed\": true,\n",
    "\"is_closed\": false,\n",
    "\"photo_50\": \"https://sun1-56.u...1382,1382&ava=1\"\n",
    "}, {\n",
    "\"first_name\": \"Ольга\",\n",
    "\"id\": 65127354,\n",
    "\"last_name\": \"Чернова\",\n",
    "\"can_access_closed\": true,\n",
    "\"is_closed\": false,\n",
    "\"photo_50\": \"https://sun1-21.u...5,789,789&ava=1\"\n",
    "}]\n",
    "}\n",
    "}\n",
    "\"\"\"\n",
    "\n",
    "json_data = json.loads(string)\n",
    "print(type(json_data))\n",
    "\n",
    "with open('json1', 'w') as file:\n",
    "    json.dump(json_data, file, indent=4)\n",
    "\n",
    "for el in json_data['response']['items']:\n",
    "    for k, v in el.items():\n",
    "        print(f'{k} - {v}')\n",
    "        \n",
    "        #if k == 'first_name':\n",
    "        #print(v)\n",
    "        #if k == 'last_name':\n",
    "        #    print(v)"
   ]
  },
  {
   "cell_type": "code",
   "execution_count": 2,
   "metadata": {},
   "outputs": [
    {
     "name": "stdout",
     "output_type": "stream",
     "text": [
      "userId = 1\n",
      "id = 1\n",
      "title = sunt aut facere repellat provident occaecati excepturi optio reprehenderit\n",
      "body = quia et suscipit\n",
      "suscipit recusandae consequuntur expedita et cum\n",
      "reprehenderit molestiae ut ut quas totam\n",
      "nostrum rerum est autem sunt rem eveniet architecto\n"
     ]
    }
   ],
   "source": [
    "import requests\n",
    "\n",
    "request = requests.get('https://jsonplaceholder.typicode.com/posts/1')\n",
    "\n",
    "for k,v  in request.json().items():\n",
    "    print(f'{k} = {v}')"
   ]
  },
  {
   "cell_type": "code",
   "execution_count": null,
   "metadata": {},
   "outputs": [],
   "source": []
  }
 ],
 "metadata": {
  "kernelspec": {
   "display_name": "Python 3",
   "language": "python",
   "name": "python3"
  },
  "language_info": {
   "codemirror_mode": {
    "name": "ipython",
    "version": 3
   },
   "file_extension": ".py",
   "mimetype": "text/x-python",
   "name": "python",
   "nbconvert_exporter": "python",
   "pygments_lexer": "ipython3",
   "version": "3.8.5"
  }
 },
 "nbformat": 4,
 "nbformat_minor": 4
}
