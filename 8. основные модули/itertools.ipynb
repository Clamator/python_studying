{
 "cells": [
  {
   "cell_type": "markdown",
   "metadata": {},
   "source": [
    "все генераторами являются итераторами, но не наоброт\n",
    "следует различать понятия объекта-итератора и итерируемого объекта. Итератор - это объект, который используется для итерации по итерируемому объекту, используея дандер метод __next()\n",
    "\n",
    "любой объект-итератор итерируем, но не любой итерируемый объект является объектом итератором. Например, список итерируем, но сам по себе не является итератором. Чтобы получить итератор из итерируемого объекта, надо воспользоваться методом iter(), который и возвращает объект-итератор"
   ]
  },
  {
   "cell_type": "code",
   "execution_count": null,
   "metadata": {},
   "outputs": [],
   "source": [
    "iterable = [1,2,3]\n",
    "\n",
    "iterator = iter(iterable) #тут будет вызван метод __iter__(), реализованный списком\n",
    "\n",
    "print(type(iterator))\n",
    "\n",
    "print(next(iterator)) #тут будет вызван метод __next__(), реализованный внутри объекта итератор"
   ]
  },
  {
   "cell_type": "raw",
   "metadata": {},
   "source": [
    "итертулс есть три типа функций: бесконечные итераторы, итераторы завершающие исполнение по наикратчайшей входной входной последовательности и комбинаторные итераторы"
   ]
  },
  {
   "cell_type": "code",
   "execution_count": null,
   "metadata": {},
   "outputs": [],
   "source": [
    "import itertools as it"
   ]
  },
  {
   "cell_type": "markdown",
   "metadata": {},
   "source": [
    "!1 \n",
    "по поводу бесконечных итераторов\n",
    "например,нам нужна некоторая последовательность четных элементов, если делать это через л-к, то все элементы сразу будут загружены в память, что не очень хорошо при большом объеме инфы, поэтому можно воспользоваться ленивым вычислением"
   ]
  },
  {
   "cell_type": "code",
   "execution_count": 3,
   "metadata": {},
   "outputs": [
    {
     "name": "stdout",
     "output_type": "stream",
     "text": [
      "5\n",
      "[0, 2, 4]\n"
     ]
    }
   ],
   "source": [
    "ppp = [i for i in range(int(input())) if i%2 == 0]\n",
    "print(ppp)"
   ]
  },
  {
   "cell_type": "code",
   "execution_count": 4,
   "metadata": {},
   "outputs": [
    {
     "name": "stdout",
     "output_type": "stream",
     "text": [
      "6\n"
     ]
    },
    {
     "data": {
      "text/plain": [
       "[0, 2, 4, 6, 8, 10]"
      ]
     },
     "execution_count": 4,
     "metadata": {},
     "output_type": "execute_result"
    }
   ],
   "source": [
    "#в примере выше я взял 5 - и он сделал до 5 всего три числа, а в текущем примере я взял 5, и он сделал 5 чисел, что упрощает\n",
    "#т.к. ты не высчитываешь, какое число надо указать, чтобы все вывелось как надо\n",
    "#count берет числа в возрастающей последовательности, 1.2.3.4.5.6 и тд, начало и шаг указывается отдельно\n",
    "even_nums = it.count(0, 2) #с чего начинаем и с каким шагом идем\n",
    "\n",
    "list(next(even_nums) for _ in range(int(input())))\n",
    "#тут элементы будут выведены, но только потому, что был вызван лист"
   ]
  },
  {
   "cell_type": "code",
   "execution_count": 5,
   "metadata": {},
   "outputs": [
    {
     "data": {
      "text/plain": [
       "[(0, 'a'), (1, 'b'), (2, 'c')]"
      ]
     },
     "execution_count": 5,
     "metadata": {},
     "output_type": "execute_result"
    }
   ],
   "source": [
    "#через функцию энумерейт можно сделать то, что снизу\n",
    "\n",
    "list(zip(it.count(), ['a', 'b', 'c'])) #создаем список тюплов"
   ]
  },
  {
   "cell_type": "code",
   "execution_count": null,
   "metadata": {},
   "outputs": [],
   "source": []
  },
  {
   "cell_type": "code",
   "execution_count": 7,
   "metadata": {},
   "outputs": [
    {
     "name": "stdout",
     "output_type": "stream",
     "text": [
      "5\n",
      "1\n",
      "5\n",
      "4\n",
      "9\n",
      "1\n",
      "1\n"
     ]
    },
    {
     "data": {
      "text/plain": [
       "[0, 9, 1889568, 531441, 101559956668416, 45, 54]"
      ]
     },
     "execution_count": 7,
     "metadata": {},
     "output_type": "execute_result"
    }
   ],
   "source": [
    "#указываю величину степени для каждого числа\n",
    "eq = it.count(0,9)\n",
    "list(next(eq)**int(input()) for _ in range(7)) "
   ]
  },
  {
   "cell_type": "markdown",
   "metadata": {},
   "source": [
    "иногда нам нужно сгенерировать последовательность из повторяющихся элементов, для этого используем ф-и репит\n",
    "зачастую репит используется для генерации потока, состоящего из одной константы, для использования в функции map и zip"
   ]
  },
  {
   "cell_type": "code",
   "execution_count": 8,
   "metadata": {},
   "outputs": [],
   "source": [
    "def print_iterable(iterable, end = None):\n",
    "    for x in iterable:\n",
    "        if end:\n",
    "            print(x, end = end)\n",
    "        else:\n",
    "            print(x)"
   ]
  },
  {
   "cell_type": "code",
   "execution_count": 9,
   "metadata": {},
   "outputs": [
    {
     "name": "stdout",
     "output_type": "stream",
     "text": [
      "1 1 1 1 1 "
     ]
    }
   ],
   "source": [
    "ones = it.repeat(1, 5)\n",
    "print_iterable(ones, end = ' ')"
   ]
  },
  {
   "cell_type": "code",
   "execution_count": 10,
   "metadata": {},
   "outputs": [
    {
     "data": {
      "text/plain": [
       "[0, 1, 4, 9, 16, 25, 36, 49, 64, 81]"
      ]
     },
     "execution_count": 10,
     "metadata": {},
     "output_type": "execute_result"
    }
   ],
   "source": [
    "list(map(pow, range(10), it.repeat(2)))"
   ]
  },
  {
   "cell_type": "markdown",
   "metadata": {},
   "source": [
    "если мы хотим бесконечный итератор по анбору значений, используем сайкл\n",
    "он будет бесконечно идти от начала и до конца и обратно в указанном диапазоне\n",
    "но видно, что он не достраивает последовательность, а посторяет только то, что указано в списке, \n",
    "он не делает 2,1,0,-1,-2,-1,0"
   ]
  },
  {
   "cell_type": "code",
   "execution_count": 11,
   "metadata": {},
   "outputs": [
    {
     "name": "stdout",
     "output_type": "stream",
     "text": [
      "['A', 'Y', 'E', 'A', 'Y', 'E', 'A', 'Y', 'E', 'A', 'Y']\n",
      "[2, -2, 2, -2, 2, -2, 2, -2, 2, -2, 2]\n"
     ]
    }
   ],
   "source": [
    "endless_letters = it.cycle(['A', 'Y', 'E'])\n",
    "print(list(next(endless_letters) for _ in range(11)))\n",
    "endless_nums = it.cycle([2, -2])\n",
    "print(list(next(endless_nums) for _ in range(11)))"
   ]
  },
  {
   "cell_type": "code",
   "execution_count": null,
   "metadata": {},
   "outputs": [],
   "source": [
    "2!\n",
    "итераторы завершающие исполнение по наикратчайшей входной входной последовательности\n",
    "они уже не являются бесконечными\n",
    "и надо запомнить, что некоторые принимают список, а некоторые нет"
   ]
  },
  {
   "cell_type": "code",
   "execution_count": 12,
   "metadata": {},
   "outputs": [
    {
     "data": {
      "text/plain": [
       "[1, 3, 8, 11, 11, 11, 11, 15, 23]"
      ]
     },
     "execution_count": 12,
     "metadata": {},
     "output_type": "execute_result"
    }
   ],
   "source": [
    "#функция с нарастающим итогом - по умолчанию складывает числа с суммой предыдущих чисел\n",
    "list(it.accumulate([1,2,5,3,0,0,0,4,8]))"
   ]
  },
  {
   "cell_type": "code",
   "execution_count": 13,
   "metadata": {},
   "outputs": [
    {
     "name": "stdout",
     "output_type": "stream",
     "text": [
      "['a', 'ab', 'abp', 'abpr']\n"
     ]
    }
   ],
   "source": [
    "print(list(it.accumulate(['a', 'b', 'p', 'r'])))"
   ]
  },
  {
   "cell_type": "markdown",
   "metadata": {},
   "source": [
    "с пом этой ф-и мы можем накладывать любую ф-ю, которая принимает два аргумента и продуцирует результат по какому-либо принципу\n",
    "пример ниже - ищем максимум\n",
    "первым элементом выходной последовательной является первый элемент входной"
   ]
  },
  {
   "cell_type": "code",
   "execution_count": 14,
   "metadata": {},
   "outputs": [
    {
     "data": {
      "text/plain": [
       "[1, 5, 5, 7, 7, 9, 9, 9, 10, 11, 11]"
      ]
     },
     "execution_count": 14,
     "metadata": {},
     "output_type": "execute_result"
    }
   ],
   "source": [
    "list(it.accumulate([1,5,4,7,0,9,5,3,10,11,0], max))"
   ]
  },
  {
   "cell_type": "raw",
   "metadata": {},
   "source": [
    "в аккум-т можно передать свою функцию, лямбду тоже"
   ]
  },
  {
   "cell_type": "code",
   "execution_count": 15,
   "metadata": {},
   "outputs": [
    {
     "data": {
      "text/plain": [
       "['a', 'b', 'c', 'd', 'e', 'f']"
      ]
     },
     "execution_count": 15,
     "metadata": {},
     "output_type": "execute_result"
    }
   ],
   "source": [
    "list(it.chain('abc', 'def')) #это если мы раскладываем в список просто строку"
   ]
  },
  {
   "cell_type": "code",
   "execution_count": 16,
   "metadata": {},
   "outputs": [
    {
     "data": {
      "text/plain": [
       "[1, 2, 3, 4, 5, 6, 7, 8, 9]"
      ]
     },
     "execution_count": 16,
     "metadata": {},
     "output_type": "execute_result"
    }
   ],
   "source": [
    "list(it.chain([1,2,3], [4,5,6], [7,8,9])) #тут просто chain, но передаем список, хм..."
   ]
  },
  {
   "cell_type": "code",
   "execution_count": 17,
   "metadata": {},
   "outputs": [
    {
     "data": {
      "text/plain": [
       "[[1, 2, 3], [4, 5, 6], [7, 8, 9], 0]"
      ]
     },
     "execution_count": 17,
     "metadata": {},
     "output_type": "execute_result"
    }
   ],
   "source": [
    "list(it.chain([[1,2,3], [4,5,6], [7,8,9], 0])) #список со вложенными списками"
   ]
  },
  {
   "cell_type": "code",
   "execution_count": 18,
   "metadata": {},
   "outputs": [
    {
     "data": {
      "text/plain": [
       "['a', 'b', 'c', 'd', 'e', 'f']"
      ]
     },
     "execution_count": 18,
     "metadata": {},
     "output_type": "execute_result"
    }
   ],
   "source": [
    "list(it.chain.from_iterable(['abc', 'def'])) #тут мы расскладываем список, "
   ]
  },
  {
   "cell_type": "markdown",
   "metadata": {},
   "source": [
    "ф-я dropwhile - убирает значения, пока выражение является истинным\n",
    "\n",
    "пока лямбда выражение тру - это происходит"
   ]
  },
  {
   "cell_type": "code",
   "execution_count": 19,
   "metadata": {},
   "outputs": [
    {
     "data": {
      "text/plain": [
       "[3, 4, 5, 6]"
      ]
     },
     "execution_count": 19,
     "metadata": {},
     "output_type": "execute_result"
    }
   ],
   "source": [
    "list(it.dropwhile(lambda x: x<3, [0, 1,2,3,4,5,6])) #выкинь все, что меньше...."
   ]
  },
  {
   "cell_type": "code",
   "execution_count": 20,
   "metadata": {},
   "outputs": [
    {
     "data": {
      "text/plain": [
       "[0, 1, 2]"
      ]
     },
     "execution_count": 20,
     "metadata": {},
     "output_type": "execute_result"
    }
   ],
   "source": [
    "list(it.takewhile(lambda x: x<3, [0,1,2,3,4,5,6])) #забери только те, кто меньше..."
   ]
  },
  {
   "cell_type": "code",
   "execution_count": 21,
   "metadata": {},
   "outputs": [
    {
     "data": {
      "text/plain": [
       "[0, 2, 4, 6, 8]"
      ]
     },
     "execution_count": 21,
     "metadata": {},
     "output_type": "execute_result"
    }
   ],
   "source": [
    "list(it.filterfalse(lambda x: x%2!=0, range(10)))"
   ]
  },
  {
   "cell_type": "code",
   "execution_count": 22,
   "metadata": {},
   "outputs": [
    {
     "name": "stdout",
     "output_type": "stream",
     "text": [
      "1 2 3 \n",
      "все, пиздец вам с пацаном\n"
     ]
    }
   ],
   "source": [
    "#по итератору и генератору(который также является итератором) мы можем пройти только один раз\n",
    "iterable = iter([1,2,3])\n",
    "print_iterable(iterable, ' ')\n",
    "print('\\nвсе, пиздец вам с пацаном')\n",
    "print_iterable(iterable, ' ')\n"
   ]
  },
  {
   "cell_type": "code",
   "execution_count": 23,
   "metadata": {},
   "outputs": [
    {
     "name": "stdout",
     "output_type": "stream",
     "text": [
      "1 2 3 \n",
      "все, пиздец вам с пацаном\n",
      "1 2 3 "
     ]
    }
   ],
   "source": [
    "#поэтому если мы хотим более одного раза получить итератор, мы можем использовать ф-ю тее\n",
    "#но получаются какбы разные итераторы\n",
    "#но такой хуйней лучше не заниматься, не генерировать каждый раз новый, \n",
    "#проще завернуть все в лист и потом уже по материализованной коллекции проходиться, чтобы не запускать генерацию опять\n",
    "#а если у нас будет несколько генераций, то каждый раз будет проделываться лишняя работа\n",
    "iterable1, iterable2 = it.tee([1,2,3], 2)\n",
    "iterable = iter([1,2,3])\n",
    "print_iterable(iterable1, ' ')\n",
    "print('\\nвсе, пиздец вам с пацаном')\n",
    "print_iterable(iterable2, ' ')"
   ]
  },
  {
   "cell_type": "code",
   "execution_count": 24,
   "metadata": {},
   "outputs": [
    {
     "name": "stdout",
     "output_type": "stream",
     "text": [
      "Sasha : 28\n",
      "Kesha : 29\n",
      "Alena : 27\n",
      "Helga : 23\n"
     ]
    }
   ],
   "source": [
    "#есть функция зип, которая склеивает между собой элементы списков, например, но если длина последовательностей разная, то \n",
    "#лишние элементы будут попросту отсечены\n",
    "#в итертулс есть другая схожая, но без этой проблемы\n",
    "#\n",
    "names = ['Sasha', 'Kesha', 'Alena', 'Helga', 'Tochik']\n",
    "ages = [28, 29, 27, 23]\n",
    "for name, age in zip(names, ages):\n",
    "    print(f'{name} : {age}')"
   ]
  },
  {
   "cell_type": "code",
   "execution_count": 25,
   "metadata": {},
   "outputs": [
    {
     "data": {
      "text/plain": [
       "[('Sasha', 28), ('Kesha', 29), ('Alena', 27), ('Helga', 23)]"
      ]
     },
     "execution_count": 25,
     "metadata": {},
     "output_type": "execute_result"
    }
   ],
   "source": [
    "list(zip(names, ages)) #список кортежей"
   ]
  },
  {
   "cell_type": "code",
   "execution_count": 26,
   "metadata": {},
   "outputs": [
    {
     "name": "stdout",
     "output_type": "stream",
     "text": [
      "[('Sasha', 28), ('Kesha', 29), ('Alena', 27), ('Helga', 23), ('Tochik', 0)]\n"
     ]
    }
   ],
   "source": [
    "#а вот как работает zip_longest\n",
    "players = (list(it.zip_longest(names, ages, fillvalue = 0)))\n",
    "print(players)"
   ]
  },
  {
   "cell_type": "code",
   "execution_count": 27,
   "metadata": {},
   "outputs": [
    {
     "name": "stdout",
     "output_type": "stream",
     "text": [
      "[('Sasha', 28), ('Kesha', 29), ('Alena', 27), ('Helga', 23), ('Tochik', 32)]\n"
     ]
    }
   ],
   "source": [
    "players[4] = ('Tochik', 32)\n",
    "print(players)"
   ]
  },
  {
   "cell_type": "markdown",
   "metadata": {},
   "source": [
    "следующая функция - ф-я группировки, она возвращает итератор по кортежам, первым элементом которых являются ключи кортежей, а вторымии - итератор по сгруппированным данным\n",
    "\n",
    "если мы не передаем ключ для группировки, то группировка будет по элементам коллекции"
   ]
  },
  {
   "cell_type": "code",
   "execution_count": 28,
   "metadata": {},
   "outputs": [
    {
     "name": "stdout",
     "output_type": "stream",
     "text": [
      "1:[1, 1, 1, 1]\n",
      "2:[2, 2, 2]\n",
      "3:[3, 3]\n",
      "4:[4]\n"
     ]
    }
   ],
   "source": [
    "for key, grp in it.groupby([1,1,1,1,2,2,2,3,3,4]):\n",
    "    print('{}:{}'.format(key, list(grp)))"
   ]
  },
  {
   "cell_type": "code",
   "execution_count": 29,
   "metadata": {},
   "outputs": [
    {
     "name": "stdout",
     "output_type": "stream",
     "text": [
      "[1, 1, 1, 1]\n",
      "[2, 2, 2]\n",
      "[3, 3]\n",
      "[4]\n"
     ]
    }
   ],
   "source": [
    "#тут то же самое, просто собрал одинаковые\n",
    "for key, grp in it.groupby([1,1,1,1,2,2,2,3,3,4]):\n",
    "    print('{}'.format(list(grp)))"
   ]
  },
  {
   "cell_type": "markdown",
   "metadata": {},
   "source": [
    "следует помнить, что групбай учитывает порядок следования элементов, а не проверяет все, а группирует после, это хорошо показано на примере внизу\n",
    "группирует только последовательно стоящие идентичные ключи"
   ]
  },
  {
   "cell_type": "code",
   "execution_count": 30,
   "metadata": {},
   "outputs": [
    {
     "name": "stdout",
     "output_type": "stream",
     "text": [
      "1:[1]\n",
      "2:[2]\n",
      "1:[1]\n",
      "4:[4]\n",
      "2:[2]\n",
      "3:[3]\n",
      "2:[2]\n",
      "4:[4]\n",
      "3:[3]\n",
      "4:[4]\n"
     ]
    }
   ],
   "source": [
    "for key, grp in it.groupby([1,2,1,4,2,3,2,4,3,4]):\n",
    "    print('{}:{}'.format(key, list(grp)))"
   ]
  },
  {
   "cell_type": "markdown",
   "metadata": {},
   "source": [
    "чтобы этого избежать, надо заранее провести сортировку в той группе, которую собираемся сгруппировать"
   ]
  },
  {
   "cell_type": "code",
   "execution_count": 31,
   "metadata": {},
   "outputs": [
    {
     "name": "stdout",
     "output_type": "stream",
     "text": [
      "1:[1, 1]\n",
      "2:[2, 2, 2]\n",
      "3:[3, 3]\n",
      "4:[4, 4, 4]\n"
     ]
    }
   ],
   "source": [
    "for key, grp in it.groupby(sorted([1,2,1,4,2,3,2,4,3,4])):\n",
    "    print('{}:{}'.format(key, list(grp)))"
   ]
  },
  {
   "cell_type": "markdown",
   "metadata": {},
   "source": [
    "можно сортировать список словерей по определенным ключам"
   ]
  },
  {
   "cell_type": "code",
   "execution_count": 32,
   "metadata": {},
   "outputs": [],
   "source": [
    "forecast =[ { 'smth': 50, 'temp': 23, 'wind': 5},\n",
    "            { 'smth': 60, 'temp': 25, 'wind': 4},\n",
    "            { 'smth': 40, 'temp': 26, 'wind': 6},\n",
    "            { 'smth': 50, 'temp': 22, 'wind': 3},\n",
    "            { 'smth': 20, 'temp': 21, 'wind': 4},\n",
    "            { 'smth': 10, 'temp': 23, 'wind': 3}\n",
    "          ]"
   ]
  },
  {
   "cell_type": "code",
   "execution_count": 35,
   "metadata": {},
   "outputs": [],
   "source": [
    "#тут мы указываем ключ обязательно, это с цифрами его можно было не прописывать\n",
    "def group_sorted(iterable, key = None):\n",
    "    return it.groupby(sorted(iterable, key = key), key = key)"
   ]
  },
  {
   "cell_type": "code",
   "execution_count": 36,
   "metadata": {},
   "outputs": [
    {
     "name": "stdout",
     "output_type": "stream",
     "text": [
      "10:[{'smth': 10, 'temp': 23, 'wind': 3}]\n",
      "20:[{'smth': 20, 'temp': 21, 'wind': 4}]\n",
      "40:[{'smth': 40, 'temp': 26, 'wind': 6}]\n",
      "50:[{'smth': 50, 'temp': 23, 'wind': 5}, {'smth': 50, 'temp': 22, 'wind': 3}]\n",
      "60:[{'smth': 60, 'temp': 25, 'wind': 4}]\n"
     ]
    }
   ],
   "source": [
    "grouped_data = group_sorted(forecast, key = lambda x: x['smth'])\n",
    "for key, grp in grouped_data:\n",
    "    print('{}:{}'.format(key, list(grp)))"
   ]
  },
  {
   "cell_type": "markdown",
   "metadata": {},
   "source": [
    "уже знакомая ф-я islice делает срезы, но кое что еще есть интересное"
   ]
  },
  {
   "cell_type": "code",
   "execution_count": 71,
   "metadata": {},
   "outputs": [
    {
     "name": "stdout",
     "output_type": "stream",
     "text": [
      "[0, 2, 4, 6, 8, 10, 12, 14, 16, 18]\n",
      "[4, 8, 12, 16, 20]\n"
     ]
    }
   ],
   "source": [
    "even_nums = it.count(0, 2) #начало и с каким шагом идем\n",
    "\n",
    "print([x for x in range(20) if x%2 == 0]) #тут просто генератор списков \n",
    "\n",
    "print(list(it.islice(even_nums, 2,12, 2))) #хуй пойми, как работает \n",
    "#походу, это связано с (0, 2), если в 2, 12, 2 втоорая двойка - это шаг с учетом того, что каунт уже шагает на два шага\n",
    "#итого получается 4 шага(так и есть)\n",
    "#та же тема и с первой двойков в 2, 12, 2 - если ставлю вместо нее 1, то начинается с двойки, если ставлю двойку,\n",
    "#то шаг умножается на шаг из каунта, и получается уже 4 и т.д."
   ]
  },
  {
   "cell_type": "code",
   "execution_count": 52,
   "metadata": {},
   "outputs": [
    {
     "name": "stdout",
     "output_type": "stream",
     "text": [
      "[0, 2, 4, 6]\n"
     ]
    }
   ],
   "source": [
    "even_nums = it.count(0, 2)\n",
    "print(list(it.islice(even_nums, 4))) #тут понятно - берет энное количество, если передан только один аргумент"
   ]
  },
  {
   "cell_type": "code",
   "execution_count": 85,
   "metadata": {},
   "outputs": [
    {
     "name": "stdout",
     "output_type": "stream",
     "text": [
      "[4, 6]\n"
     ]
    }
   ],
   "source": [
    "even_nums = it.count(0, 2)\n",
    "print(list(it.islice(even_nums, 2, 4))) \n",
    "#почему такой результат, мы сначала срезали по 0, 2 и начали забирать числа в выходную последовательность начиная с индекса 2"
   ]
  },
  {
   "cell_type": "code",
   "execution_count": null,
   "metadata": {},
   "outputs": [],
   "source": []
  },
  {
   "cell_type": "raw",
   "metadata": {},
   "source": [
    "комбинаторные итераторы, тут речь идет больше о статистике, например, мы помним, что у нас пинкод состоит из 7, 5 и 2\n",
    "и нам надо вывести все возможные варианты"
   ]
  },
  {
   "cell_type": "code",
   "execution_count": 87,
   "metadata": {},
   "outputs": [
    {
     "data": {
      "text/plain": [
       "[(7, 5, 2), (7, 2, 5), (5, 7, 2), (5, 2, 7), (2, 7, 5), (2, 5, 7)]"
      ]
     },
     "execution_count": 87,
     "metadata": {},
     "output_type": "execute_result"
    }
   ],
   "source": [
    "pin = [7, 5, 2]\n",
    "list(it.permutations(pin))\n",
    "#все варианты пинкода"
   ]
  },
  {
   "cell_type": "raw",
   "metadata": {},
   "source": [
    "можно сгенерировать колоду карт, функция просто перемножает масти и значения"
   ]
  },
  {
   "cell_type": "code",
   "execution_count": 94,
   "metadata": {},
   "outputs": [
    {
     "name": "stdout",
     "output_type": "stream",
     "text": [
      "[('6', 'H'), ('6', 'D'), ('6', 'C'), ('6', 'S'), ('7', 'H'), ('7', 'D'), ('7', 'C'), ('7', 'S'), ('8', 'H'), ('8', 'D'), ('8', 'C'), ('8', 'S'), ('9', 'H'), ('9', 'D'), ('9', 'C'), ('9', 'S'), ('10', 'H'), ('10', 'D'), ('10', 'C'), ('10', 'S'), ('J', 'H'), ('J', 'D'), ('J', 'C'), ('J', 'S'), ('Q', 'H'), ('Q', 'D'), ('Q', 'C'), ('Q', 'S'), ('K', 'H'), ('K', 'D'), ('K', 'C'), ('K', 'S'), ('A', 'H'), ('A', 'D'), ('A', 'C'), ('A', 'S')]\n"
     ]
    }
   ],
   "source": [
    "ranks = ['6','7','8','9','10','J','Q','K','A'] #сами карты\n",
    "suits = ['H','D','C','S']\n",
    "\n",
    "cards = list(it.product(ranks, suits))\n",
    "print(cards)\n"
   ]
  },
  {
   "cell_type": "markdown",
   "metadata": {},
   "source": [
    "если мы хотим вычислить все комбинации, где будет по эн элементов, можно воспользоваться ф-ей combinations"
   ]
  },
  {
   "cell_type": "code",
   "execution_count": 95,
   "metadata": {},
   "outputs": [
    {
     "name": "stdout",
     "output_type": "stream",
     "text": [
      "[('A', 'B'), ('A', 'C'), ('A', 'D'), ('B', 'C'), ('B', 'D'), ('C', 'D')]\n"
     ]
    }
   ],
   "source": [
    "print(list(it.combinations('ABCD', 2))) #он не меняет буквы местами, чтобы считать это за новый элемент, а просто пропускает "
   ]
  },
  {
   "cell_type": "code",
   "execution_count": 96,
   "metadata": {},
   "outputs": [
    {
     "name": "stdout",
     "output_type": "stream",
     "text": [
      "[('A', 'A'), ('A', 'B'), ('A', 'C'), ('A', 'D'), ('B', 'B'), ('B', 'C'), ('B', 'D'), ('C', 'C'), ('C', 'D'), ('D', 'D')]\n"
     ]
    }
   ],
   "source": [
    "print(list(it.combinations_with_replacement('ABCD', 2))) #а этот уже считает за разные"
   ]
  },
  {
   "cell_type": "code",
   "execution_count": null,
   "metadata": {},
   "outputs": [],
   "source": []
  }
 ],
 "metadata": {
  "kernelspec": {
   "display_name": "Python 3",
   "language": "python",
   "name": "python3"
  },
  "language_info": {
   "codemirror_mode": {
    "name": "ipython",
    "version": 3
   },
   "file_extension": ".py",
   "mimetype": "text/x-python",
   "name": "python",
   "nbconvert_exporter": "python",
   "pygments_lexer": "ipython3",
   "version": "3.8.5"
  }
 },
 "nbformat": 4,
 "nbformat_minor": 4
}
