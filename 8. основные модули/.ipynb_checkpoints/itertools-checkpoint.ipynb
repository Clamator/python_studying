{
 "cells": [
  {
   "cell_type": "markdown",
   "metadata": {},
   "source": [
    "все генераторами являются итераторами, но не наоброт\n",
    "следует различать понятия объекта-итератора и итерируемого объекта. Итератор - это объект, который используется для итерации по итерируемому объекту, используея дандер метод __next()\n",
    "\n",
    "любой объект-итератор итерируем, но не любой итерируемый объект является объектом итератором. Например, список итерируем, но сам по себе не является итератором. Чтобы получить итератор из итерируемого объекта, надо воспользоваться методом iter(), который и возвращает объект-итератор"
   ]
  },
  {
   "cell_type": "code",
   "execution_count": 1,
   "metadata": {},
   "outputs": [
    {
     "name": "stdout",
     "output_type": "stream",
     "text": [
      "<class 'list_iterator'>\n",
      "1\n"
     ]
    }
   ],
   "source": [
    "iterable = [1,2,3]\n",
    "\n",
    "iterator = iter(iterable) #тут будет вызван метод __iter__(), реализованный списком\n",
    "\n",
    "print(type(iterator))\n",
    "\n",
    "print(next(iterator)) #тут будет вызван метод __next__(), реализованный внутри объекта итератор"
   ]
  },
  {
   "cell_type": "raw",
   "metadata": {},
   "source": [
    "итертулс есть три типа функций: бесконечные итераторы, итераторы завершабщие исполнение по наикратчайшей входной входной последовательности и комбинаторные итераторы"
   ]
  },
  {
   "cell_type": "code",
   "execution_count": 2,
   "metadata": {},
   "outputs": [],
   "source": [
    "import itertools as it"
   ]
  },
  {
   "cell_type": "raw",
   "metadata": {},
   "source": [
    "по поводу бесконечных итераторов\n",
    "например,нам нужна некоторая последовательность четных элементов, если делать это через л-к, то все элементы сразу будут загружены в память, что не очень хорошо при большом объеме инфы, поэтому можно воспользоваться ленивым вычислением"
   ]
  },
  {
   "cell_type": "code",
   "execution_count": 3,
   "metadata": {},
   "outputs": [
    {
     "name": "stdout",
     "output_type": "stream",
     "text": [
      "10\n"
     ]
    },
    {
     "data": {
      "text/plain": [
       "[0, 2, 4, 6, 8, 10, 12, 14, 16, 18]"
      ]
     },
     "execution_count": 3,
     "metadata": {},
     "output_type": "execute_result"
    }
   ],
   "source": [
    "even_nums = it.count(0, 2) #с чего начинаем и с каким шагом идем\n",
    "\n",
    "list(next(even_nums) for _ in range(int(input())))\n",
    "#тут элементы будут выведены, но только потому, что был вызван лист"
   ]
  },
  {
   "cell_type": "code",
   "execution_count": 4,
   "metadata": {},
   "outputs": [
    {
     "data": {
      "text/plain": [
       "[(0, 'a'), (1, 'b'), (2, 'c')]"
      ]
     },
     "execution_count": 4,
     "metadata": {},
     "output_type": "execute_result"
    }
   ],
   "source": [
    "#через функцию энумерейт можно сделать то, что снизу\n",
    "\n",
    "list(zip(it.count(), ['a', 'b', 'c'])) #создаем список тюплов"
   ]
  },
  {
   "cell_type": "code",
   "execution_count": null,
   "metadata": {},
   "outputs": [],
   "source": []
  },
  {
   "cell_type": "code",
   "execution_count": 8,
   "metadata": {},
   "outputs": [
    {
     "data": {
      "text/plain": [
       "[0, 9, 18, 27, 36, 45, 54]"
      ]
     },
     "execution_count": 8,
     "metadata": {},
     "output_type": "execute_result"
    }
   ],
   "source": [
    "eq = it.count(0,9)\n",
    "list(next(eq) for _ in range(7))"
   ]
  },
  {
   "cell_type": "code",
   "execution_count": null,
   "metadata": {},
   "outputs": [],
   "source": []
  }
 ],
 "metadata": {
  "kernelspec": {
   "display_name": "Python 3",
   "language": "python",
   "name": "python3"
  },
  "language_info": {
   "codemirror_mode": {
    "name": "ipython",
    "version": 3
   },
   "file_extension": ".py",
   "mimetype": "text/x-python",
   "name": "python",
   "nbconvert_exporter": "python",
   "pygments_lexer": "ipython3",
   "version": "3.8.5"
  }
 },
 "nbformat": 4,
 "nbformat_minor": 4
}
