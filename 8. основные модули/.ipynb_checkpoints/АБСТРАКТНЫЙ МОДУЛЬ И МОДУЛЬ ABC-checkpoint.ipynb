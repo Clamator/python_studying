{
 "cells": [
  {
   "cell_type": "code",
   "execution_count": 1,
   "metadata": {},
   "outputs": [],
   "source": [
    "#в видео наследование и полиморфизм было рассказано, что есть возможность создать так называемый абстрактный класс\n",
    "#его суть в том, что в нем можно было прописать в методах raise ошибку, чтобы классы наследники, когда пытались использовать эти\n",
    "#методы, обязаны были переопределить их внутри себя, а не использовать методы, определенные в классе родителе\n",
    "#например\n",
    "class Pidersia():\n",
    "    \n",
    "    def __init__(self, hueta):\n",
    "        self.hueta = hueta\n",
    "    def prised(self):\n",
    "        raise NotImplementedError(\"Вам необходимо переопределить метод\")"
   ]
  },
  {
   "cell_type": "code",
   "execution_count": 4,
   "metadata": {},
   "outputs": [
    {
     "ename": "NotImplementedError",
     "evalue": "Вам необходимо переопределить метод",
     "output_type": "error",
     "traceback": [
      "\u001b[1;31m---------------------------------------------------------------------------\u001b[0m",
      "\u001b[1;31mNotImplementedError\u001b[0m                       Traceback (most recent call last)",
      "\u001b[1;32m<ipython-input-4-2d4debecc97d>\u001b[0m in \u001b[0;36m<module>\u001b[1;34m\u001b[0m\n\u001b[0;32m      1\u001b[0m \u001b[0mpepka\u001b[0m \u001b[1;33m=\u001b[0m \u001b[0mPidersia\u001b[0m\u001b[1;33m(\u001b[0m\u001b[1;34m'Hueta'\u001b[0m\u001b[1;33m)\u001b[0m\u001b[1;33m\u001b[0m\u001b[1;33m\u001b[0m\u001b[0m\n\u001b[1;32m----> 2\u001b[1;33m \u001b[0mpepka\u001b[0m\u001b[1;33m.\u001b[0m\u001b[0mprised\u001b[0m\u001b[1;33m(\u001b[0m\u001b[1;33m)\u001b[0m\u001b[1;33m\u001b[0m\u001b[1;33m\u001b[0m\u001b[0m\n\u001b[0m",
      "\u001b[1;32m<ipython-input-1-eb963ec2104f>\u001b[0m in \u001b[0;36mprised\u001b[1;34m(self)\u001b[0m\n\u001b[0;32m      8\u001b[0m         \u001b[0mself\u001b[0m\u001b[1;33m.\u001b[0m\u001b[0mhueta\u001b[0m \u001b[1;33m=\u001b[0m \u001b[0mhueta\u001b[0m\u001b[1;33m\u001b[0m\u001b[1;33m\u001b[0m\u001b[0m\n\u001b[0;32m      9\u001b[0m     \u001b[1;32mdef\u001b[0m \u001b[0mprised\u001b[0m\u001b[1;33m(\u001b[0m\u001b[0mself\u001b[0m\u001b[1;33m)\u001b[0m\u001b[1;33m:\u001b[0m\u001b[1;33m\u001b[0m\u001b[1;33m\u001b[0m\u001b[0m\n\u001b[1;32m---> 10\u001b[1;33m         \u001b[1;32mraise\u001b[0m \u001b[0mNotImplementedError\u001b[0m\u001b[1;33m(\u001b[0m\u001b[1;34m\"Вам необходимо переопределить метод\"\u001b[0m\u001b[1;33m)\u001b[0m\u001b[1;33m\u001b[0m\u001b[1;33m\u001b[0m\u001b[0m\n\u001b[0m",
      "\u001b[1;31mNotImplementedError\u001b[0m: Вам необходимо переопределить метод"
     ]
    }
   ],
   "source": [
    "pepka = Pidersia('Hueta')\n",
    "pepka.prised()"
   ]
  },
  {
   "cell_type": "code",
   "execution_count": 6,
   "metadata": {},
   "outputs": [],
   "source": [
    "#а есть более лаконичный и красивый способ для этого\n",
    "#этот модуль называется ABC, что называется как Abstract Base Class\n",
    "#его, конечно же, надо импортировать"
   ]
  },
  {
   "cell_type": "code",
   "execution_count": 8,
   "metadata": {},
   "outputs": [],
   "source": [
    "from abc import ABC\n",
    "from abc import abstractmethod"
   ]
  },
  {
   "cell_type": "code",
   "execution_count": 9,
   "metadata": {},
   "outputs": [],
   "source": [
    "class Shape(ABC):\n",
    "    def __init__(self):\n",
    "        super().__init__() #обращаемся к родителю, базовому классу\n",
    "    \n",
    "    @abstractmethod #чтобы определить метод абстрактным, надо навесить декоратор\n",
    "    def draw(self):\n",
    "        pass \n",
    "    \n",
    "    @abstractmethod\n",
    "    def area(self):\n",
    "        pass\n",
    "    \n",
    "    @abstractmethod #сам абстрактный метод может иметь некоторую реализацию, не обязательно писать pass\n",
    "    def perimeter(self):\n",
    "        print('Calc perimeter')\n",
    "        #pass\n",
    "#наследник может использовать эти методы\n",
    "    def drag(self):\n",
    "        print('trololo')"
   ]
  },
  {
   "cell_type": "code",
   "execution_count": null,
   "metadata": {},
   "outputs": [],
   "source": [
    "#абстрактный класс, который наследуется от АВС, не обязан делать все методы абстрактными, т.е. такими, которые\n",
    "#наследние обязан переопределить"
   ]
  },
  {
   "cell_type": "code",
   "execution_count": 10,
   "metadata": {},
   "outputs": [
    {
     "ename": "TypeError",
     "evalue": "Can't instantiate abstract class Shape with abstract methods area, draw, perimeter",
     "output_type": "error",
     "traceback": [
      "\u001b[1;31m---------------------------------------------------------------------------\u001b[0m",
      "\u001b[1;31mTypeError\u001b[0m                                 Traceback (most recent call last)",
      "\u001b[1;32m<ipython-input-10-add4c52145cc>\u001b[0m in \u001b[0;36m<module>\u001b[1;34m\u001b[0m\n\u001b[1;32m----> 1\u001b[1;33m \u001b[0ms\u001b[0m \u001b[1;33m=\u001b[0m \u001b[0mShape\u001b[0m\u001b[1;33m(\u001b[0m\u001b[1;33m)\u001b[0m\u001b[1;33m\u001b[0m\u001b[1;33m\u001b[0m\u001b[0m\n\u001b[0m",
      "\u001b[1;31mTypeError\u001b[0m: Can't instantiate abstract class Shape with abstract methods area, draw, perimeter"
     ]
    }
   ],
   "source": [
    "s = Shape() #невозможно создать экземпляр класса"
   ]
  },
  {
   "cell_type": "code",
   "execution_count": 14,
   "metadata": {},
   "outputs": [],
   "source": [
    "#надо попробовать создать класс\n",
    "#при наследовании абс класса надо переопределить все абс методы\n",
    "class Triangle(Shape):\n",
    "    def __init__(self, a,b,c):\n",
    "        self.a = a\n",
    "        self.b = b\n",
    "        self.c = c\n",
    "    def draw(self):\n",
    "        print('DRAW')\n",
    "    def area(self):\n",
    "        print('AREA')\n",
    "    def perimeter(self):\n",
    "        print('PERIMETER')\n",
    "        \n",
    "    def drag(self):\n",
    "        super().drag()\n",
    "        print('DRAG')"
   ]
  },
  {
   "cell_type": "code",
   "execution_count": 15,
   "metadata": {},
   "outputs": [],
   "source": [
    "t = Triangle(10,10,10) #создан, без переопределения методов была бы ошибка"
   ]
  },
  {
   "cell_type": "code",
   "execution_count": 16,
   "metadata": {},
   "outputs": [
    {
     "name": "stdout",
     "output_type": "stream",
     "text": [
      "AREA\n"
     ]
    }
   ],
   "source": [
    "t.area()"
   ]
  },
  {
   "cell_type": "code",
   "execution_count": 17,
   "metadata": {},
   "outputs": [
    {
     "name": "stdout",
     "output_type": "stream",
     "text": [
      "trololo\n",
      "DRAG\n"
     ]
    }
   ],
   "source": [
    "t.drag()"
   ]
  },
  {
   "cell_type": "code",
   "execution_count": 18,
   "metadata": {},
   "outputs": [],
   "source": [
    "#есть магические (дандер (двойное подчеркивание)) методы \n",
    "#с их помощью можно переопределять поведение кое-что"
   ]
  },
  {
   "cell_type": "code",
   "execution_count": 20,
   "metadata": {},
   "outputs": [],
   "source": [
    "class Point():\n",
    "    def __init__(self, x, y): #init - это тоже дандер метод, он предназначен для констурирования классов\n",
    "        self.x = x\n",
    "        self.y = y\n",
    "    def __str__(self): #определяет строковое представление\n",
    "        return f'Point x = {self.x}, y = {self.y}'"
   ]
  },
  {
   "cell_type": "code",
   "execution_count": 22,
   "metadata": {},
   "outputs": [
    {
     "name": "stdout",
     "output_type": "stream",
     "text": [
      "Point x = 1, y = 2\n"
     ]
    }
   ],
   "source": [
    "point1 = Point(1, 2)\n",
    "print(point1) #принт выводит то,что возвращает __str__"
   ]
  },
  {
   "cell_type": "code",
   "execution_count": 34,
   "metadata": {},
   "outputs": [],
   "source": [
    "class Road():\n",
    "    def __init__(self, length):\n",
    "        self.length = length\n",
    "    def __len__(self):\n",
    "        return self.length\n",
    "    def __str__(self):\n",
    "        return f\"road's length is {self.length}\"\n",
    "    def __del__(self):\n",
    "        print('road has been desrtoyed')"
   ]
  },
  {
   "cell_type": "code",
   "execution_count": 35,
   "metadata": {},
   "outputs": [
    {
     "name": "stdout",
     "output_type": "stream",
     "text": [
      "road has been desrtoyed\n"
     ]
    }
   ],
   "source": [
    "road1 = Road(100)"
   ]
  },
  {
   "cell_type": "code",
   "execution_count": 36,
   "metadata": {},
   "outputs": [
    {
     "data": {
      "text/plain": [
       "100"
      ]
     },
     "execution_count": 36,
     "metadata": {},
     "output_type": "execute_result"
    }
   ],
   "source": [
    "len(road1)#при отсутствии метода лен такой вызов возвращал бы ошибку"
   ]
  },
  {
   "cell_type": "code",
   "execution_count": 37,
   "metadata": {},
   "outputs": [
    {
     "name": "stdout",
     "output_type": "stream",
     "text": [
      "road's length is 100\n"
     ]
    }
   ],
   "source": [
    "print(road1)"
   ]
  },
  {
   "cell_type": "code",
   "execution_count": 38,
   "metadata": {},
   "outputs": [
    {
     "name": "stdout",
     "output_type": "stream",
     "text": [
      "road has been desrtoyed\n"
     ]
    }
   ],
   "source": [
    "del road1"
   ]
  },
  {
   "cell_type": "code",
   "execution_count": 1,
   "metadata": {},
   "outputs": [],
   "source": [
    "class Road():\n",
    "    def __init__(self, length):\n",
    "        self.length = length\n",
    "    def __len__(self):\n",
    "        return self.length\n",
    "    def __str__(self):\n",
    "        return f\"road's length is {self.length}\"\n",
    "    def __del__(self):\n",
    "        print('road has been desrtoyed')"
   ]
  },
  {
   "cell_type": "code",
   "execution_count": 3,
   "metadata": {},
   "outputs": [
    {
     "name": "stdout",
     "output_type": "stream",
     "text": [
      "road's length is 100\n"
     ]
    }
   ],
   "source": [
    "road1 = Road(100)\n",
    "print(road1)"
   ]
  },
  {
   "cell_type": "code",
   "execution_count": 4,
   "metadata": {},
   "outputs": [],
   "source": [
    "from abc import ABC, abstractmethod\n",
    "import math\n",
    "\n",
    "\n",
    "class RandomShit(ABC):\n",
    "    def __init__(self):\n",
    "        super().__init__()\n",
    "\n",
    "    @abstractmethod\n",
    "    def radius(self, r):\n",
    "        pass\n",
    "\n",
    "\n",
    "class Rand2(RandomShit):\n",
    "    def __init__(self, r):\n",
    "        super().__init__()\n",
    "        self.r = r\n",
    "\n",
    "    def radius(self, r):\n",
    "        return 2 * math.pi * r ** 2\n",
    "\n",
    "    def __str__(self):\n",
    "        return f'olololo {self.r=}'\n"
   ]
  },
  {
   "cell_type": "code",
   "execution_count": null,
   "metadata": {},
   "outputs": [],
   "source": [
    "    proba = Rand2\n",
    "    print(proba)\n"
   ]
  }
 ],
 "metadata": {
  "kernelspec": {
   "display_name": "Python 3",
   "language": "python",
   "name": "python3"
  },
  "language_info": {
   "codemirror_mode": {
    "name": "ipython",
    "version": 3
   },
   "file_extension": ".py",
   "mimetype": "text/x-python",
   "name": "python",
   "nbconvert_exporter": "python",
   "pygments_lexer": "ipython3",
   "version": "3.8.5"
  }
 },
 "nbformat": 4,
 "nbformat_minor": 4
}
