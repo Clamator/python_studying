{
 "cells": [
  {
   "cell_type": "code",
   "execution_count": 1,
   "metadata": {},
   "outputs": [],
   "source": [
    "from datetime import datetime \n",
    "from datetime import date #принимает год, месяц, день\n",
    "from datetime import time #принимает час, миниту, секунду\n",
    "from datetime import timedelta\n",
    "# подробнее https://all-python.ru/osnovy/modul-datetime.html#datetime\n",
    "#вообще проблем со временем много, например, часовые пояса"
   ]
  },
  {
   "cell_type": "code",
   "execution_count": 2,
   "metadata": {},
   "outputs": [],
   "source": [
    "d1 = date(1993, 7, 10)"
   ]
  },
  {
   "cell_type": "code",
   "execution_count": 7,
   "metadata": {},
   "outputs": [
    {
     "name": "stdout",
     "output_type": "stream",
     "text": [
      "1993-07-10\n",
      "1993\n",
      "7\n",
      "10\n",
      "2021-04-27\n"
     ]
    }
   ],
   "source": [
    "print(d1)\n",
    "print(d1.year)\n",
    "print(d1.month)\n",
    "print(d1.day)\n",
    "print(date.today())"
   ]
  },
  {
   "cell_type": "code",
   "execution_count": 8,
   "metadata": {},
   "outputs": [
    {
     "name": "stdout",
     "output_type": "stream",
     "text": [
      "21:19:33\n",
      "21\n",
      "19\n",
      "33\n"
     ]
    }
   ],
   "source": [
    "t1 = time(21, 19, 33)\n",
    "print(t1)\n",
    "print(t1.hour)\n",
    "print(t1.minute)\n",
    "print(t1.second)"
   ]
  },
  {
   "cell_type": "code",
   "execution_count": 9,
   "metadata": {},
   "outputs": [
    {
     "name": "stdout",
     "output_type": "stream",
     "text": [
      "9999-12-31\n",
      "0001-01-01\n",
      "23:59:59.999999\n",
      "00:00:00\n"
     ]
    }
   ],
   "source": [
    "print(date.max)\n",
    "print(date.min)\n",
    "print(time.max)\n",
    "print(time.min)"
   ]
  },
  {
   "cell_type": "code",
   "execution_count": 12,
   "metadata": {},
   "outputs": [
    {
     "name": "stdout",
     "output_type": "stream",
     "text": [
      "1993-07-10 12:10:00\n",
      "1993\n",
      "12\n"
     ]
    }
   ],
   "source": [
    "dt = datetime(1993,7,10,12,10)\n",
    "print(dt)\n",
    "print(dt.date().year)\n",
    "print(dt.time().hour)\n",
    "#минимальное и максимальное значение в общем-то аналогично верхнему выводу"
   ]
  },
  {
   "cell_type": "code",
   "execution_count": 17,
   "metadata": {},
   "outputs": [
    {
     "name": "stdout",
     "output_type": "stream",
     "text": [
      "2021-04-27 20:23:41.106149\n",
      "2021-04-27 20:23:43.108345\n",
      "2021-04-27 20:23:45.120849\n",
      "2021-04-27 20:23:47.127726\n",
      "2021-04-27 20:23:49.133602\n"
     ]
    }
   ],
   "source": [
    "#можно выводить текущее время/ год и прочее можно выводить также по обращению now.year\n",
    "import time\n",
    "x = 5\n",
    "for i in range(x):\n",
    "    print(datetime.now())\n",
    "    time.sleep(2)"
   ]
  },
  {
   "cell_type": "code",
   "execution_count": 18,
   "metadata": {},
   "outputs": [
    {
     "name": "stdout",
     "output_type": "stream",
     "text": [
      "2022-04-27 20:26:37.257792\n"
     ]
    }
   ],
   "source": [
    "#через функцию replace можно вернуть новый объект, при этом now (в текущем примере, мб и другое) не поменяется\n",
    "now = datetime.now()\n",
    "new_now = now.replace(year = 2022)\n",
    "print(new_now)\n",
    "#я это делал 27.04.2021 в 20.26"
   ]
  },
  {
   "cell_type": "code",
   "execution_count": 19,
   "metadata": {},
   "outputs": [],
   "source": [
    "#иногда данные на входе - дата и время - могут приходить в виде строки, их этой строки надо получить инфу\n",
    "#для того, чтобы получить данные, надо использовать ф-ю strptime и передать формат строки, которую мы хотим отпарсить\n",
    "#т.е надо знать заранее формать строки\n"
   ]
  },
  {
   "cell_type": "code",
   "execution_count": 21,
   "metadata": {},
   "outputs": [
    {
     "name": "stdout",
     "output_type": "stream",
     "text": [
      "1993-07-10 00:00:00\n",
      "1990-12-23 10:40:00\n"
     ]
    }
   ],
   "source": [
    "dt2 = datetime.strptime('10/07/1993', '%d/%m/%Y')\n",
    "print(dt2)\n",
    "#дни указаны маленькими, т.к. их всего две цифры отображает, год и часы с минутами большие,\n",
    "#год - ибо 4 цифры, а время - хз\n",
    "dt3 = datetime.strptime('12-23-1990 10:40', '%m-%d-%Y %H:%M') \n",
    "print(dt3)"
   ]
  },
  {
   "cell_type": "code",
   "execution_count": 26,
   "metadata": {},
   "outputs": [
    {
     "name": "stdout",
     "output_type": "stream",
     "text": [
      "2021-27-04 (Вт)\n",
      "2021 Апрель 04 число (вторник)\n"
     ]
    }
   ],
   "source": [
    "#а можно выводить дату так, как хочется\n",
    "\n",
    "now2 = datetime.now()\n",
    "print(now.strftime('%Y-%d-%m (%a)'))\n",
    "print(now.strftime('%Y %B %m число (%A)')) #%B - месяц полностью, %b - сокр имя месяца, А и а - день недели\n",
    "\n",
    "#эта тема называется плейсхолдерами"
   ]
  },
  {
   "cell_type": "code",
   "execution_count": 27,
   "metadata": {},
   "outputs": [
    {
     "name": "stdout",
     "output_type": "stream",
     "text": [
      "3 days, 10:20:00\n",
      "-4 days, 13:40:00\n"
     ]
    }
   ],
   "source": [
    "delta1 = timedelta(days = 5, hours = 20, minutes = 50)\n",
    "delta2 = timedelta(days = 2, hours = 10, minutes = 30)\n",
    "print(delta1 - delta2)\n",
    "print(delta2 - delta1)"
   ]
  },
  {
   "cell_type": "code",
   "execution_count": 29,
   "metadata": {},
   "outputs": [
    {
     "name": "stdout",
     "output_type": "stream",
     "text": [
      "27\n"
     ]
    }
   ],
   "source": [
    "my_bd = date(1993, 7, 10)\n",
    "delta = date.today() - my_bd\n",
    "\n",
    "my_age = int(delta.days/365) #тут выводится в днях\n",
    "print(my_age)"
   ]
  },
  {
   "cell_type": "code",
   "execution_count": 33,
   "metadata": {},
   "outputs": [
    {
     "name": "stdout",
     "output_type": "stream",
     "text": [
      "True\n"
     ]
    }
   ],
   "source": [
    "wife_bd = date(1994,5,19)\n",
    "am_i_older = my_bd < wife_bd\n",
    "print(am_i_older)"
   ]
  },
  {
   "cell_type": "code",
   "execution_count": null,
   "metadata": {},
   "outputs": [],
   "source": [
    "import locale\n",
    "locale.setlocale(locale.LC_ALL, '')"
   ]
  }
 ],
 "metadata": {
  "kernelspec": {
   "display_name": "Python 3",
   "language": "python",
   "name": "python3"
  },
  "language_info": {
   "codemirror_mode": {
    "name": "ipython",
    "version": 3
   },
   "file_extension": ".py",
   "mimetype": "text/x-python",
   "name": "python",
   "nbconvert_exporter": "python",
   "pygments_lexer": "ipython3",
   "version": "3.8.5"
  }
 },
 "nbformat": 4,
 "nbformat_minor": 4
}
