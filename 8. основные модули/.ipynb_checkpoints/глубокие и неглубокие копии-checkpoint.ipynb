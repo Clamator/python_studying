{
 "cells": [
  {
   "cell_type": "code",
   "execution_count": 1,
   "metadata": {},
   "outputs": [
    {
     "name": "stdout",
     "output_type": "stream",
     "text": [
      "[1, 2, 3, [4, 5, 6, 7]]\n",
      "[1, 2, 3, [4, 5, 6, 7]]\n"
     ]
    }
   ],
   "source": [
    "list1 = [1,2,3,[4,5,6]] \n",
    "cop_lst = list1.copy()\n",
    "cop_lst[3].append(7)\n",
    "\n",
    "print(list1)\n",
    "print(cop_lst)\n",
    "#как видим, добавляли мы во второй список семёрку, а добавилась она и в оригинальный список"
   ]
  },
  {
   "cell_type": "code",
   "execution_count": 2,
   "metadata": {},
   "outputs": [
    {
     "name": "stdout",
     "output_type": "stream",
     "text": [
      "[1, 2, 3, [4, 5, 6, 7], 8]\n",
      "[1, 2, 3, [4, 5, 6, 7]]\n"
     ]
    }
   ],
   "source": [
    "#метод copy - это неглубокое копирование, то есть копируется не объект, а ссылка на него\n",
    "#если мы работаем с копией, это отражается на оригинале, но если мы работаем с оригиналом, то это не влияет на копию\n",
    "list1.append(8)\n",
    "print(list1)\n",
    "print(cop_lst)"
   ]
  },
  {
   "cell_type": "code",
   "execution_count": 3,
   "metadata": {},
   "outputs": [
    {
     "name": "stdout",
     "output_type": "stream",
     "text": [
      "[1, 2, 3, [4, 5, 6]]\n",
      "[1, 2, 3, [4, 5, 6, 7]]\n"
     ]
    }
   ],
   "source": [
    "import copy\n",
    "list2 = [1,2,3,[4,5,6]]\n",
    "shallow_copy = copy.copy(list2) #этот вызов равнозначен list1.copy(), поэтому проблема не решается\n",
    "deep_copy = copy.deepcopy(list2)\n",
    "deep_copy[3].append(7)\n",
    "print(list2)\n",
    "print(deep_copy)\n",
    "#вуаля"
   ]
  },
  {
   "cell_type": "code",
   "execution_count": null,
   "metadata": {},
   "outputs": [],
   "source": [
    "однако объеты могут сами определять поведение для глубокой и обычной копий посредством определения дандерметодов копи и дипкопи"
   ]
  },
  {
   "cell_type": "code",
   "execution_count": 4,
   "metadata": {},
   "outputs": [],
   "source": [
    "class Point:\n",
    "    def __init__(self, x, y):\n",
    "        self.x = x\n",
    "        self.y = y\n",
    "    \n",
    "    def __repr__(self):\n",
    "        return f'Point ({self.x}, {self.y})'"
   ]
  },
  {
   "cell_type": "code",
   "execution_count": 5,
   "metadata": {},
   "outputs": [
    {
     "name": "stdout",
     "output_type": "stream",
     "text": [
      "Point (3, 2)\n",
      "Point (1, 2)\n"
     ]
    }
   ],
   "source": [
    "a = Point(1, 2)\n",
    "b = copy.copy(a)\n",
    "a.x = 3\n",
    "print(a)\n",
    "print(b)\n",
    "#х модифицировался только для а, типа ок, но если создавать класс линию, то начнется опять"
   ]
  },
  {
   "cell_type": "code",
   "execution_count": 6,
   "metadata": {},
   "outputs": [],
   "source": [
    "class Line():\n",
    "    def __init__(self, p1, p2):\n",
    "        self.p1 = p1\n",
    "        self.p2 = p2"
   ]
  },
  {
   "cell_type": "code",
   "execution_count": 7,
   "metadata": {},
   "outputs": [
    {
     "name": "stdout",
     "output_type": "stream",
     "text": [
      "Point (3, 2)\n",
      "Point (3, 2)\n"
     ]
    }
   ],
   "source": [
    "line1 = Line(a, b)\n",
    "line2 = copy.copy(line1)\n",
    "print(line1.p1)\n",
    "print(line2.p1)"
   ]
  },
  {
   "cell_type": "code",
   "execution_count": 8,
   "metadata": {},
   "outputs": [
    {
     "name": "stdout",
     "output_type": "stream",
     "text": [
      "Point (4, 2)\n",
      "Point (4, 2)\n"
     ]
    }
   ],
   "source": [
    "line1.p1.x = 4\n",
    "print(line1.p1)\n",
    "print(line2.p1)\n",
    "#видим, что здесь опять барахлит, надо глубокую копию"
   ]
  },
  {
   "cell_type": "code",
   "execution_count": 10,
   "metadata": {},
   "outputs": [
    {
     "name": "stdout",
     "output_type": "stream",
     "text": [
      "Point (7, 2)\n",
      "Point (7, 2)\n",
      "\n",
      "Point (7, 2)\n",
      "Point (7, 2)\n"
     ]
    }
   ],
   "source": [
    "line1 = Line(a, b)\n",
    "line2 = copy.deepcopy(line1)\n",
    "print(line1.p1)\n",
    "print(line2.p1)\n",
    "print()\n",
    "line1.p1.x = 7\n",
    "print(line1.p1)\n",
    "print(line2.p1)\n",
    "#а тут видим, что все ок"
   ]
  },
  {
   "cell_type": "code",
   "execution_count": null,
   "metadata": {},
   "outputs": [],
   "source": [
    "#делаем именно методы для копирования\n",
    "class Line():\n",
    "    def __init__(self, p1, p2):\n",
    "        self.p1 = p1\n",
    "        self.p2 = p2\n",
    "        \n",
    "    def __copy__(self):\n",
    "        cls = self.__class__ #получаем инфу о текущем классе через селф\n",
    "        result = cls.__new__(cls)\n",
    "        result.__dict__.update(self.__dict__)\n",
    "        return result"
   ]
  }
 ],
 "metadata": {
  "kernelspec": {
   "display_name": "Python 3",
   "language": "python",
   "name": "python3"
  },
  "language_info": {
   "codemirror_mode": {
    "name": "ipython",
    "version": 3
   },
   "file_extension": ".py",
   "mimetype": "text/x-python",
   "name": "python",
   "nbconvert_exporter": "python",
   "pygments_lexer": "ipython3",
   "version": "3.8.5"
  }
 },
 "nbformat": 4,
 "nbformat_minor": 4
}
