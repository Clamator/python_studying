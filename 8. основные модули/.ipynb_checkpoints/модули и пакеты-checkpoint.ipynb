{
 "cells": [
  {
   "cell_type": "code",
   "execution_count": null,
   "metadata": {},
   "outputs": [],
   "source": [
    "модуль - это .py скрипт, используемый другими .py скриптами\n",
    "пакет - это объединенный набор модулей, структура в виде каталога, в которой есть модули в упоряд виде с определенной логикой\n",
    "у них есть корневой каталог, где они все находятся"
   ]
  },
  {
   "cell_type": "code",
   "execution_count": null,
   "metadata": {},
   "outputs": [],
   "source": [
    "но нежелательно импортировать конкретную функцию, потому что ее имя может совпадать с именем другой в текущем файле, во вторых\n",
    "будет непонятно, что это за ф-я, и откуда она взялась"
   ]
  },
  {
   "cell_type": "code",
   "execution_count": null,
   "metadata": {},
   "outputs": [],
   "source": [
    "#в основной папке есть папке main_package, там находится основной скрипт и папка, которая содержит сабскрипт\n",
    "#чтобы пакеты воспринимались питоном как пакеты, нужно создать файлы, которые называются __init__.py в каждом подкаталоге\n",
    "#файл package_test лежал в одной папке с папкой main_package, а не внутри нее, \n",
    "#вызов делали через командную строку\n",
    "from MainPackage import main_script\n",
    "from MainPackage.SubPackage import subscript\n",
    "\n",
    "main_script.hello_main()\n",
    "subscript.hello_subscript()\n"
   ]
  },
  {
   "cell_type": "code",
   "execution_count": null,
   "metadata": {},
   "outputs": [],
   "source": [
    "# для того, чтобы вызывать конкретную фунцию можно сделать так:\n",
    "#во второй строчке - из ИМЯпапки.Имя_второй_папки.имя_файла импорт имя_функции\n",
    "from MainPackage import main_script\n",
    "from MainPackage.SubPackage.subscript import hello_subscript\n",
    "\n",
    "main_script.hello_main()\n",
    "subscript.hello_subscript()"
   ]
  },
  {
   "cell_type": "code",
   "execution_count": null,
   "metadata": {},
   "outputs": [],
   "source": [
    "#есть возможность обращаться к файлам и тд по псевдонимам через as\n",
    "#и можно еще испортировать всё сразу, используя *"
   ]
  },
  {
   "cell_type": "code",
   "execution_count": null,
   "metadata": {},
   "outputs": [],
   "source": [
    "from MainPackage import main_script as main #вот тут псевдоними есть\n",
    "from MainPackage.SubPackage.subscript import * #вот тут импорт всего\n",
    "\n",
    "main.hello_main() #а тут поменяли \n",
    "hello_subscript() #тцт идет без имени файла, а сразу название ф-и, это потому, что во второй строке из нее заимпортили всё\n",
    "#но так лучше делать не надо, "
   ]
  },
  {
   "cell_type": "code",
   "execution_count": null,
   "metadata": {},
   "outputs": [],
   "source": []
  },
  {
   "cell_type": "code",
   "execution_count": null,
   "metadata": {},
   "outputs": [],
   "source": [
    "def to_inches(cm):\n",
    "\treturn cm * 0.393701\n",
    "    \n",
    "def to_miles(km):\n",
    "    return km*0.621371\n",
    "    \n",
    "def to_fahrenheit(celsius):\n",
    "    return (celsius*9/5) + 32\n",
    "    \n",
    "if __name__ == 'main':\n",
    "    print('call a converting funс')\n",
    "else:\n",
    "    print('was imported(not executed directly)')"
   ]
  },
  {
   "cell_type": "code",
   "execution_count": null,
   "metadata": {},
   "outputs": [],
   "source": [
    "если вышеуказанный код будет выведен через питон напрямую, например, командная строка, то будет исполнена часть кода\n",
    "if __name__ == 'main':\n",
    "а если он будет импортирован, то будет исполнен else"
   ]
  },
  {
   "cell_type": "code",
   "execution_count": null,
   "metadata": {},
   "outputs": [],
   "source": [
    "если __name__ совпадает с названием модуля, то это значение получается во время импорта\n",
    "короче, как я понял, если мы испортируем модуль, то выводиться будет имя модуля, а если обращаемся внутри модуля,\n",
    "то будет просто __name__"
   ]
  }
 ],
 "metadata": {
  "kernelspec": {
   "display_name": "Python 3",
   "language": "python",
   "name": "python3"
  },
  "language_info": {
   "codemirror_mode": {
    "name": "ipython",
    "version": 3
   },
   "file_extension": ".py",
   "mimetype": "text/x-python",
   "name": "python",
   "nbconvert_exporter": "python",
   "pygments_lexer": "ipython3",
   "version": "3.8.5"
  }
 },
 "nbformat": 4,
 "nbformat_minor": 4
}
