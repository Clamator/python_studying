{
 "cells": [
  {
   "cell_type": "code",
   "execution_count": 2,
   "metadata": {},
   "outputs": [],
   "source": [
    "#о том, каким образом конструируются объекты в пайтон\n",
    "за этап непосредственного  аллоцирования (типа распределение, нахождение) объекта в оперативной памяти отвечает метод __new__\n",
    "а за этап инициализации уже аллоц объекта отвечает __init__\n",
    "это два разных дела"
   ]
  },
  {
   "cell_type": "code",
   "execution_count": 3,
   "metadata": {},
   "outputs": [],
   "source": [
    "class Character:\n",
    "    #если удалить __new__ и что после него до инит - ничего не изменится\n",
    "    def __new__(cls): #здесь cls - это не ссылка на экземпляр класса, как в классметоде, но объект, несущий инфу о классе\n",
    "        obj = super().__new__(cls) #здесь создается объект типа Character, через super мы обращаемся к базовому классу object\n",
    "        #вызываем new на нем и передаем инфу о типе Character\n",
    "        return obj #получаем объект нашего типа и возвращаем\n",
    "    \n",
    "    def __init__(self):\n",
    "        self.race = 'Elf'"
   ]
  },
  {
   "cell_type": "code",
   "execution_count": 4,
   "metadata": {},
   "outputs": [
    {
     "data": {
      "text/plain": [
       "'Elf'"
      ]
     },
     "execution_count": 4,
     "metadata": {},
     "output_type": "execute_result"
    }
   ],
   "source": [
    "c = Character()\n",
    "c.race"
   ]
  },
  {
   "cell_type": "code",
   "execution_count": null,
   "metadata": {},
   "outputs": [],
   "source": [
    "короче, у них есть разница, без нью сейчас можно обойтись, но вообще есть практическое применение у него\n",
    "например, есть шаблоны - это универсальные подходы, которые помогают в решении повторяющихся и типичных задач\n",
    "есть такой паттерн как синглтон, это такой шаблон, который не дает создавать больше одной инстанции класса"
   ]
  },
  {
   "cell_type": "code",
   "execution_count": 5,
   "metadata": {},
   "outputs": [],
   "source": [
    "class Character:\n",
    "    _instance = None\n",
    "    def __new__(cls):\n",
    "        if not cls._instance: #обращаемся через cls \n",
    "            cls._instance = super().__new__(cls) #создается инстанция класса, но только одна, последующий попытки будут возвращать уже созданный объект\n",
    "        return cls._instance \n",
    "    \n",
    "    def __init__(self):\n",
    "        self.race = 'Elf'"
   ]
  },
  {
   "cell_type": "code",
   "execution_count": 6,
   "metadata": {},
   "outputs": [
    {
     "data": {
      "text/plain": [
       "'Elf'"
      ]
     },
     "execution_count": 6,
     "metadata": {},
     "output_type": "execute_result"
    }
   ],
   "source": [
    "c = Character()\n",
    "c.race"
   ]
  },
  {
   "cell_type": "code",
   "execution_count": 7,
   "metadata": {},
   "outputs": [
    {
     "name": "stdout",
     "output_type": "stream",
     "text": [
      "Ork\n",
      "Ork\n"
     ]
    }
   ],
   "source": [
    "d = Character()\n",
    "d.race = 'Ork'\n",
    "print(c.race)\n",
    "print(d.race) #он взял и заменил у первого объекта его расу, а я думал, что при создании орка вернется Эльф, хз"
   ]
  },
  {
   "cell_type": "code",
   "execution_count": null,
   "metadata": {},
   "outputs": [],
   "source": []
  }
 ],
 "metadata": {
  "kernelspec": {
   "display_name": "Python 3",
   "language": "python",
   "name": "python3"
  },
  "language_info": {
   "codemirror_mode": {
    "name": "ipython",
    "version": 3
   },
   "file_extension": ".py",
   "mimetype": "text/x-python",
   "name": "python",
   "nbconvert_exporter": "python",
   "pygments_lexer": "ipython3",
   "version": "3.8.5"
  }
 },
 "nbformat": 4,
 "nbformat_minor": 4
}
