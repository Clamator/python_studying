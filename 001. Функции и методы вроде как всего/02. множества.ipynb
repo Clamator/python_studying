{
 "cells": [
  {
   "cell_type": "code",
   "execution_count": null,
   "metadata": {},
   "outputs": [],
   "source": [
    "len(s) - число элементов в множестве (размер множества).\n",
    "\n",
    "x in s - принадлежит ли x множеству s.\n",
    "\n",
    "set.isdisjoint(other) - истина, если set и other не имеют общих элементов.\n",
    "\n",
    "set == other - все элементы set принадлежат other, все элементы other принадлежат set.\n",
    "\n",
    "set.issubset(other) или set <= other - все элементы set принадлежат other.\n",
    "\n",
    "set.issuperset(other) или set >= other - аналогично.\n",
    "\n",
    "set.union(other, ...) или set | other | ... - объединение нескольких множеств.\n",
    "\n",
    "set.intersection(other, ...) или set & other & ... - пересечение.\n",
    "\n",
    "set.difference(other, ...) или set - other - ... - множество из всех элементов set, не принадлежащие ни одному из other.\n",
    "\n",
    "set.symmetric_difference(other); set ^ other - множество из элементов, встречающихся в одном множестве, но не встречающиеся в обоих.\n",
    "\n",
    "set.copy() - копия множества.\n",
    "\n",
    "И операции, непосредственно изменяющие множество:\n",
    "\n",
    "set.update(other, ...); set |= other | ... - объединение.\n",
    "\n",
    "set.intersection_update(other, ...); set &= other & ... - пересечение.\n",
    "\n",
    "set.difference_update(other, ...); set -= other | ... - вычитание.\n",
    "\n",
    "set.symmetric_difference_update(other); set ^= other - множество из элементов, встречающихся в одном множестве, но не встречающиеся в обоих.\n",
    "\n",
    "set.add(elem) - добавляет элемент в множество.\n",
    "\n",
    "set.remove(elem) - удаляет элемент из множества. KeyError, если такого элемента не существует.\n",
    "\n",
    "set.discard(elem) - удаляет элемент, если он находится в множестве.\n",
    "\n",
    "set.pop() - удаляет первый элемент из множества. Так как множества не упорядочены, нельзя точно сказать, какой элемент будет первым.\n",
    "\n",
    "set.clear() - очистка множества."
   ]
  }
 ],
 "metadata": {
  "kernelspec": {
   "display_name": "Python 3",
   "language": "python",
   "name": "python3"
  },
  "language_info": {
   "codemirror_mode": {
    "name": "ipython",
    "version": 3
   },
   "file_extension": ".py",
   "mimetype": "text/x-python",
   "name": "python",
   "nbconvert_exporter": "python",
   "pygments_lexer": "ipython3",
   "version": "3.8.5"
  }
 },
 "nbformat": 4,
 "nbformat_minor": 4
}
