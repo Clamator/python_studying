{
 "cells": [
  {
   "cell_type": "code",
   "execution_count": null,
   "metadata": {},
   "outputs": [],
   "source": [
    "list.append(x)\tДобавляет элемент в конец списка\n",
    "\n",
    "list.extend(L)\tРасширяет список list, добавляя в конец все элементы списка L\n",
    "\n",
    "list.insert(i, x)\tВставляет на i-ый элемент значение x\n",
    "\n",
    "list.remove(x)\tУдаляет первый элемент в списке, имеющий значение x. ValueError, если такого элемента не существует\n",
    "\n",
    "list.pop([i])\tУдаляет i-ый элемент и возвращает его. Если индекс не указан, удаляется последний элемент\n",
    "\n",
    "list.index(x, [start [, end]])\tВозвращает положение первого элемента со значением x (при этом поиск ведется от start до end)\n",
    "\n",
    "list.count(x)\tВозвращает количество элементов со значением x\n",
    "\n",
    "list.sort([key=функция])\tСортирует список на основе функции\n",
    "\n",
    "list.reverse()\tРазворачивает список\n",
    "\n",
    "list.copy()\tПоверхностная копия списка\n",
    "\n",
    "list.clear()\tОчищает список"
   ]
  },
  {
   "cell_type": "code",
   "execution_count": null,
   "metadata": {},
   "outputs": [],
   "source": [
    "Операции с кортежами:\n",
    "Все операции над списками, не изменяющие список (сложение, умножение на число, методы index() и count()\n",
    "и некоторые другие операции). \n",
    "\n",
    "Можно также по-разному менять элементы местами и так далее.\n",
    "\n",
    "Например, гордость программистов на python - поменять местами значения двух переменных:\n",
    "\n",
    "a, b = b, a"
   ]
  },
  {
   "cell_type": "code",
   "execution_count": null,
   "metadata": {},
   "outputs": [],
   "source": []
  },
  {
   "cell_type": "code",
   "execution_count": null,
   "metadata": {},
   "outputs": [],
   "source": []
  }
 ],
 "metadata": {
  "kernelspec": {
   "display_name": "Python 3",
   "language": "python",
   "name": "python3"
  },
  "language_info": {
   "codemirror_mode": {
    "name": "ipython",
    "version": 3
   },
   "file_extension": ".py",
   "mimetype": "text/x-python",
   "name": "python",
   "nbconvert_exporter": "python",
   "pygments_lexer": "ipython3",
   "version": "3.8.5"
  }
 },
 "nbformat": 4,
 "nbformat_minor": 4
}
